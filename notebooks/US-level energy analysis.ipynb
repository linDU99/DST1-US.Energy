{
 "cells": [
  {
   "cell_type": "markdown",
   "id": "c083e875",
   "metadata": {},
   "source": [
    "### Analysis of U.S. Total Energy Consumptions Over Time\n",
    "The annual total energy data from the U.S. Energy Information Administration (EIA)\n",
    "- Time period: 1949 - 2024\n",
    "  - Note: Data on 3 features regarding energy xpenditures are available from 1970 to 2023.\n",
    "- Purposes:\n",
    "  - Exploratory Data Analysis (EDA) with visualization: \n",
    "    + Visualize patterns of U.S. energy consumptions over time: total end-use energy and electricity\n",
    "    + Display energy consumptions by end-use sector: Residential, Commercial, Industrial, and Transportation \n",
    "    + Display relationship between energy & electricity consumptions and GDP & population; changes in the energy intensity indicators (per GDP and per capita), energy expenditures, and average energy prices\n",
    "    + Display relationship between energy & electricity consumptions and total degree days (= Heating Degree Days (HDD) + Cooling Degree Days (CDD)). \n",
    "  \n",
    "  - Predictive regression analysis: \n",
    "    Predict the consumptions in total end-use energy and electricity (DVs) with the predictors of GDP, population, and total degree days (IVs)\n",
    "    + Year 1949-2024: Explore the regression relationships between DVs and IVs, using OLS\n",
    "    + Year 2025-2030: Forcate the consumptions in total end-use energy and electricity (DVs) with GPD and population (* Note: Duo to the very high correlation between GDP and popution (r=0.985, multicollinear issue), the final predict model can include population as the only IV.) "
   ]
  },
  {
   "cell_type": "markdown",
   "id": "524319df",
   "metadata": {},
   "source": []
  },
  {
   "cell_type": "code",
   "execution_count": 1,
   "id": "e3ae80ef",
   "metadata": {},
   "outputs": [],
   "source": [
    "# import sys\n",
    "# import requests\n",
    "import pandas as pd\n",
    "import numpy as np\n",
    "import matplotlib.pyplot as plt\n",
    "import plotly.express as px     # for interactive plots\n",
    "import plotly.graph_objects as go \n",
    "from plotly.subplots import make_subplots\n",
    "import statsmodels.api as sm\n",
    "from sklearn.linear_model import LinearRegression"
   ]
  },
  {
   "cell_type": "code",
   "execution_count": 2,
   "id": "2b1130cb",
   "metadata": {},
   "outputs": [
    {
     "name": "stdout",
     "output_type": "stream",
     "text": [
      "<class 'pandas.core.frame.DataFrame'>\n",
      "RangeIndex: 76 entries, 0 to 75\n",
      "Data columns (total 25 columns):\n",
      " #   Column                          Non-Null Count  Dtype  \n",
      "---  ------                          --------------  -----  \n",
      " 0   Year                            76 non-null     int64  \n",
      " 1   TotPrimEnergy_1Production       76 non-null     float64\n",
      " 2   TotPrimEnergy_2Consumed         76 non-null     float64\n",
      " 3   TotEnergy_2EndUse               76 non-null     float64\n",
      " 4   EnergyUse1_Residential          76 non-null     float64\n",
      " 5   EnergyUse2_Commercial           76 non-null     float64\n",
      " 6   EnergyUse3_Industrial           76 non-null     float64\n",
      " 7   EnergyUse4_Transportation       76 non-null     float64\n",
      " 8   TotElectricity_2Used            76 non-null     float64\n",
      " 9   ElectricityUse1_Residential     76 non-null     float64\n",
      " 10  ElectricityUse2_Commercial      76 non-null     float64\n",
      " 11  ElectricityUse3_Industrial      76 non-null     float64\n",
      " 12  ElectricityUse4_Transportation  76 non-null     float64\n",
      " 13  PrimEnergyUse5_ElectricPower    76 non-null     float64\n",
      " 14  GDP_Deflator2017                76 non-null     float64\n",
      " 15  GDP_Nominal                     76 non-null     float64\n",
      " 16  GDP_Real                        76 non-null     float64\n",
      " 17  POP_US                          76 non-null     float64\n",
      " 18  Energy_Expenditure              54 non-null     float64\n",
      " 19  pct_EnergyExpend_w_GDP          54 non-null     float64\n",
      " 20  EnergyExpend_per_capita         54 non-null     float64\n",
      " 21  PrimEnergyUse_per_GDP           76 non-null     float64\n",
      " 22  PrimEnergyUse_per_capita        76 non-null     int64  \n",
      " 23  days_cooling                    76 non-null     int64  \n",
      " 24  days_heating                    76 non-null     int64  \n",
      "dtypes: float64(21), int64(4)\n",
      "memory usage: 15.0 KB\n"
     ]
    },
    {
     "data": {
      "text/plain": [
       "None"
      ]
     },
     "metadata": {},
     "output_type": "display_data"
    },
    {
     "name": "stdout",
     "output_type": "stream",
     "text": [
      "   Year  TotPrimEnergy_1Production  TotPrimEnergy_2Consumed  TotEnergy_2EndUse  EnergyUse1_Residential  EnergyUse2_Commercial  EnergyUse3_Industrial  EnergyUse4_Transportation  TotElectricity_2Used  ElectricityUse1_Residential  ...  GDP_Nominal  GDP_Real  POP_US  Energy_Expenditure  pct_EnergyExpend_w_GDP  EnergyExpend_per_capita  PrimEnergyUse_per_GDP  PrimEnergyUse_per_capita  days_cooling  days_heating\n",
      "0  1949                  30613.106                30866.419          28438.470                4688.482               2869.013              12979.350                   7901.625               868.393                      227.894  ...        272.5    2261.9   149.2                 NaN                     NaN                      NaN                  13.65                       207          1103          4933\n",
      "1  1950                  34459.730                33527.374          30861.148                5075.876               3059.238              14319.447                   8406.588               994.405                      246.348  ...        299.8    2458.5   152.3                 NaN                     NaN                      NaN                  13.64                       220           873          5362\n",
      "\n",
      "[2 rows x 25 columns] \n",
      "\n"
     ]
    }
   ],
   "source": [
    "# Load the dataset - US-level energy data\n",
    "df1_energy = pd.read_csv('USdata4_all_2ForAnalysis_1949-2024.csv')\n",
    "\n",
    "# Set display width for better readability  \n",
    "pd.set_option('display.width', 600)  \n",
    "\n",
    "# Data information\n",
    "display(df1_energy.info())\n",
    "print(df1_energy.head(2), \"\\n\")\n",
    "\n",
    "# # Check for missing values\n",
    "# missing_values = df1_energy.isnull().sum()\n",
    "# print(\"Missing values in each column:\\n\", missing_values)"
   ]
  },
  {
   "cell_type": "markdown",
   "id": "dffeda2c",
   "metadata": {},
   "source": [
    "#### Exploratory Data Analysis (EDA)"
   ]
  },
  {
   "cell_type": "code",
   "execution_count": 25,
   "id": "56941cd7",
   "metadata": {},
   "outputs": [
    {
     "data": {
      "application/vnd.plotly.v1+json": {
       "config": {
        "plotlyServerURL": "https://plot.ly"
       },
       "data": [
        {
         "mode": "lines",
         "name": "Primary Energy Production",
         "type": "scatter",
         "x": {
          "bdata": "nQeeB58HoAehB6IHowekB6UHpgenB6gHqQeqB6sHrAetB64HrwewB7EHsgezB7QHtQe2B7cHuAe5B7oHuwe8B70Hvge/B8AHwQfCB8MHxAfFB8YHxwfIB8kHygfLB8wHzQfOB88H0AfRB9IH0wfUB9UH1gfXB9gH2QfaB9sH3AfdB94H3wfgB+EH4gfjB+QH5QfmB+cH6Ac=",
          "dtype": "i2"
         },
         "y": {
          "bdata": "WDm0yEbl3UDD9Shcd9PgQCGwcmgdZeJArBxaZKv54UAdWmQ7XyHiQKRwPQrvWOFAvp8aL/Ef40B1kxgEhk/kQM3MzMxkduRA3SQGgYUN40BaZDvfl/TjQMP1KFxXW+RAmG4Sg8SS5EBOYhBY+UzlQCUGgZUrcOZAokW283VR50AX2c73/wzoQIPAyqH1culAeekmMbS96kArhxbZ7qPrQClcj8Ihq+xAYhBYORAe7kAbL90kLq3tQKrx0k0qPu5AObTIdh4T7kC0yHa+D1/tQDVeukmc4OxAYhBYOWwN7UCLbOf71XrtQCuHFtm20e1AhetRuFYu70B56SYxdNHvQMuhRbZ3vu9AmG4Sg5xk70A1XrpJ/BjuQGiR7XwdOvBAZDvfT7cD8EArhxbZMq/vQKrx0k2wB/BAMQisHHhr8EB1kxgEgGvwQLgeheujuPBArBxaZKuj8ECPwvUompvwQPCnxkthKfBAGy/dJAbJ8EA9CtejJtDwQKjGSzcFEfFAIbByaNUO8UBxPQrXvTbxQDm0yHbK7/BA8KfGS9/o8ECamZmZtRjxQPCnxktRxfBAwcqhRQaR8EDXo3A9hKbwQB+F61EEc/BA4XoUro+68EACK4cWHfLwQCPb+X7eV/FAPQrXoz4o8UC28/3UhLXxQEoMAisjXPJA9ihcjyiw8kCHFtnOi0jzQAaBlUMXsvRAcT0K1zHW9EDsUbgee8nzQKrx0k0sm/RAYhBYOTh09kBI4XoUFtT3QNNNYhBCbfZAtMh2vmXu9kAOLbKdHxP4QB1aZDvzE/lATmIQWIc4+UA=",
          "dtype": "f8"
         }
        },
        {
         "mode": "lines",
         "name": "Primary Energy Consumption",
         "type": "scatter",
         "x": {
          "bdata": "nQeeB58HoAehB6IHowekB6UHpgenB6gHqQeqB6sHrAetB64HrwewB7EHsgezB7QHtQe2B7cHuAe5B7oHuwe8B70Hvge/B8AHwQfCB8MHxAfFB8YHxwfIB8kHygfLB8wHzQfOB88H0AfRB9IH0wfUB9UH1gfXB9gH2QfaB9sH3AfdB94H3wfgB+EH4gfjB+QH5QfmB+cH6Ac=",
          "dtype": "i2"
         },
         "y": {
          "bdata": "QmDl0Jok3kAX2c73617gQESLbOe/heFAmpmZmVFm4UC8dJMYON/hQOXQIttVZuFAqMZLN+El40Dwp8ZLS+HjQHWTGASq3uNAUI2XbmrH40CHFtnOg67kQLbz/dTMdOVADAIrh4rC5UDD9ShcI7rmQLgehesVoedADi2ynVum6EDHSzeJnarpQNejcD02IetAhetRuC7860BSuB6Fj7LtQOxRuB4ZKO9AHVpkOz0f8EBMN4lBfnHwQDVeukl4RPFABFYOLU7/8UDHSzeJ14XxQHNoke3ACfFAMzMzM8kL8kCLbOf7R6LyQKwcWmTDBfNAlkOLbD8+80Dy0k1iYpDyQIXrUbj2GvJAO99PjcVJ8UBg5dAijzXxQAaBlUPPH/JAJzEIrMQh8kDHSzeJoy3yQCGwcmiN1vJAO99PjRHI80A730+NdzH0QIXrUbj4FPRA1XjpJl8S9EAdWmQ7wXf0QD0K16N0zPRAoBov3chA9UBt5/upv6X1QOXQItu5UPZA6SYxCERz9kDdJAaBmZv2QFTjpZt4AfdACtejcFmb90AhsHJo+wz3QIlBYOV2VfdAz/dT4+dj90CcxCCwEu/3QFg5tMhO8/dAd76fGi+990ASg8DKUSn4QPhT46VrmPdAoBov3aZe9kCgGi/dXDr3QE5iEFjn8PZA1XjpJtVh9kC+nxov0wL3QA4tsp0/RvdA6SYxCNwQ90CBlUOLLPj2QDEIrBzg6/ZAmpmZmUXH90CYbhKDNJX3QOxRuB5vsvVASgwCKz/L9kApXI/CZSf3QHE9Ctc32/ZA16NwPQAB90A=",
          "dtype": "f8"
         }
        },
        {
         "mode": "lines",
         "name": "End-Use Energy Consumption",
         "type": "scatter",
         "x": {
          "bdata": "nQeeB58HoAehB6IHowekB6UHpgenB6gHqQeqB6sHrAetB64HrwewB7EHsgezB7QHtQe2B7cHuAe5B7oHuwe8B70Hvge/B8AHwQfCB8MHxAfFB8YHxwfIB8kHygfLB8wHzQfOB88H0AfRB9IH0wfUB9UH1gfXB9gH2QfaB9sH3AfdB94H3wfgB+EH4gfjB+QH5QfmB+cH6Ac=",
          "dtype": "i2"
         },
         "y": {
          "bdata": "SOF6FJ7F20D0/dR4SSPeQB+F61FIGOBAJQaBlUvL30DpJjEIlDjgQOF6FK43fN9AexSuRxVH4UAOLbKdN+HhQLpJDALbzeFAzczMzOzE4UAK16NwTXbiQHnpJjGAJONAxSCwcshf40BEi2znCzTkQOF6FK6z4+RAL90kBpm35UAfhetRpIvmQB1aZDuLq+dAokW2891g6EBQjZdu/q7pQBBYObQgzepA9P3UeF1860Bg5dAiw+XrQJZDi2y3He1AXI/C9ewk7kB/arx05zTtQH9qvHTvH+xArBxaZMur7UCiRbbzeUTuQGZmZmb+3e5A+n5qvOA070C+nxovsbntQIGVQ4u4xuxAIbByaPFr60CkcD0K9yfrQC/dJAbVquxARrbz/cxs7EBqvHSTrIfsQMP1KFxDfO1ANV66SYzc7kAdWmQ7OzLvQFYOLbKt1+5AcT0K1/O57kCwcmiRQXPvQArXo3B50O9AZmZmZhpA8EACK4cW2YbwQARWDi0SFvFAnMQgsEoq8UB7FK5HdwrxQLbz/dTwSvFACtejcL2l8UCDwMqh1TDxQM/3U+PzaPFAWDm0yCKB8UDTTWIQsurxQLx0kxj4zvFA+n5qvKSx8UAbL90kiujxQDvfT40XdfFA5/up8bah8EAUrkfh/EDxQCcxCKxwK/FAvHSTGBbM8EApXI/CH2/xQMdLN4mNrvFAUrgehfWi8UBeukkM7qrxQCPb+X6Yz/FA8KfGS5OR8kAtsp3vp53yQA4tsp1dDPFAbef7qe8D8kBg5dAiQVvyQO58PzVoPfJAzczMzEJN8kA=",
          "dtype": "f8"
         }
        },
        {
         "mode": "lines",
         "name": "Electricity End-Use",
         "type": "scatter",
         "x": {
          "bdata": "nQeeB58HoAehB6IHowekB6UHpgenB6gHqQeqB6sHrAetB64HrwewB7EHsgezB7QHtQe2B7cHuAe5B7oHuwe8B70Hvge/B8AHwQfCB8MHxAfFB8YHxwfIB8kHygfLB8wHzQfOB88H0AfRB9IH0wfUB9UH1gfXB9gH2QfaB9sH3AfdB94H3wfgB+EH4gfjB+QH5QfmB+cH6Ac=",
          "dtype": "i2"
         },
         "y": {
          "bdata": "oBov3SQji0AK16NwPROPQE5iEFi5m5FAgZVDi+z8kkAhsHJokR+VQHNoke38nJZAVg4tsp17mkBCYOXQoh+dQG8Sg8DKsp5ALbKd7ydXn0AnMQisXD6hQOkmMQhsV6JADAIrh5Y+o0CkcD0KV7qkQJhuEoPAMaZA+n5qvLTip0DFILByqGypQH9qvHTTl6tAK4cW2Q5NrUAEVg4tMgiwQIGVQ4vMgrFA/tR46YaOskAEVg4tEpazQKabxCCwQrVAuB6F63HUtkAnMQisnLy2QJzEILASSbdAmpmZmRm6uEArhxbZzve5QGZmZmYm5bpApHA9Cpeau0D2KFyPQuq7QNejcD3qnbxAppvEIPDOu0DfT42XDqu8QI2XbhIjd75AGy/dJGb5vkDD9ShcL5K/QAaBlUMbYMBAJzEIrCwuwUCgGi/ddKPBQJMYBFaeE8JAMQisHPpnwkC+nxovTWrCQOF6FK6nEcNAvp8aL12Ow0BvEoPAqhTEQClcj8KFqsRATmIQWGn2xECkcD0Kx8DFQPhT46VrEsZAhetRuO7MxkBeukkM8p7GQClcj8IVGMdADi2ynU9Ix0AAAAAAAKTHQM3MzMycZchAbef7qeF0yEBKDAIrVxbJQPp+arwk4shAuB6F6yH4x0BQjZduwgXJQM3MzMw8/chA9ihcjxKfyEBaZDvfn9LIQLx0kxiUFslA8KfGS9cMyUBQjZduwhLJQPhT46UL0MhA7FG4HsW3yUD2KFyP0mXJQNejcD1axshAqvHSTdJcyUCmm8QgwCvKQOXQItt50clARIts5/tmykA=",
          "dtype": "f8"
         }
        }
       ],
       "layout": {
        "annotations": [
         {
          "font": {
           "color": "darkred",
           "family": "Arial",
           "size": 12
          },
          "showarrow": false,
          "text": " Year 1958: Consumption > Production",
          "x": 1958,
          "xanchor": "left",
          "y": 34434.81966666667
         },
         {
          "font": {
           "color": "darkred",
           "family": "Arial",
           "size": 12
          },
          "showarrow": false,
          "text": "Year 2019: Production > Consumption ",
          "x": 2019,
          "xanchor": "right",
          "xref": "x",
          "y": 1,
          "yanchor": "top",
          "yref": "y domain"
         }
        ],
        "height": 500,
        "hovermode": "x unified",
        "shapes": [
         {
          "line": {
           "color": "darkred",
           "dash": "dash",
           "width": 2
          },
          "type": "line",
          "x0": 1958,
          "x1": 1958,
          "xref": "x",
          "y0": 0,
          "y1": 1,
          "yref": "y domain"
         },
         {
          "line": {
           "color": "darkred",
           "dash": "dash",
           "width": 2
          },
          "type": "line",
          "x0": 2019,
          "x1": 2019,
          "xref": "x",
          "y0": 0,
          "y1": 1,
          "yref": "y domain"
         }
        ],
        "template": {
         "data": {
          "bar": [
           {
            "error_x": {
             "color": "#2a3f5f"
            },
            "error_y": {
             "color": "#2a3f5f"
            },
            "marker": {
             "line": {
              "color": "white",
              "width": 0.5
             },
             "pattern": {
              "fillmode": "overlay",
              "size": 10,
              "solidity": 0.2
             }
            },
            "type": "bar"
           }
          ],
          "barpolar": [
           {
            "marker": {
             "line": {
              "color": "white",
              "width": 0.5
             },
             "pattern": {
              "fillmode": "overlay",
              "size": 10,
              "solidity": 0.2
             }
            },
            "type": "barpolar"
           }
          ],
          "carpet": [
           {
            "aaxis": {
             "endlinecolor": "#2a3f5f",
             "gridcolor": "#C8D4E3",
             "linecolor": "#C8D4E3",
             "minorgridcolor": "#C8D4E3",
             "startlinecolor": "#2a3f5f"
            },
            "baxis": {
             "endlinecolor": "#2a3f5f",
             "gridcolor": "#C8D4E3",
             "linecolor": "#C8D4E3",
             "minorgridcolor": "#C8D4E3",
             "startlinecolor": "#2a3f5f"
            },
            "type": "carpet"
           }
          ],
          "choropleth": [
           {
            "colorbar": {
             "outlinewidth": 0,
             "ticks": ""
            },
            "type": "choropleth"
           }
          ],
          "contour": [
           {
            "colorbar": {
             "outlinewidth": 0,
             "ticks": ""
            },
            "colorscale": [
             [
              0,
              "#0d0887"
             ],
             [
              0.1111111111111111,
              "#46039f"
             ],
             [
              0.2222222222222222,
              "#7201a8"
             ],
             [
              0.3333333333333333,
              "#9c179e"
             ],
             [
              0.4444444444444444,
              "#bd3786"
             ],
             [
              0.5555555555555556,
              "#d8576b"
             ],
             [
              0.6666666666666666,
              "#ed7953"
             ],
             [
              0.7777777777777778,
              "#fb9f3a"
             ],
             [
              0.8888888888888888,
              "#fdca26"
             ],
             [
              1,
              "#f0f921"
             ]
            ],
            "type": "contour"
           }
          ],
          "contourcarpet": [
           {
            "colorbar": {
             "outlinewidth": 0,
             "ticks": ""
            },
            "type": "contourcarpet"
           }
          ],
          "heatmap": [
           {
            "colorbar": {
             "outlinewidth": 0,
             "ticks": ""
            },
            "colorscale": [
             [
              0,
              "#0d0887"
             ],
             [
              0.1111111111111111,
              "#46039f"
             ],
             [
              0.2222222222222222,
              "#7201a8"
             ],
             [
              0.3333333333333333,
              "#9c179e"
             ],
             [
              0.4444444444444444,
              "#bd3786"
             ],
             [
              0.5555555555555556,
              "#d8576b"
             ],
             [
              0.6666666666666666,
              "#ed7953"
             ],
             [
              0.7777777777777778,
              "#fb9f3a"
             ],
             [
              0.8888888888888888,
              "#fdca26"
             ],
             [
              1,
              "#f0f921"
             ]
            ],
            "type": "heatmap"
           }
          ],
          "histogram": [
           {
            "marker": {
             "pattern": {
              "fillmode": "overlay",
              "size": 10,
              "solidity": 0.2
             }
            },
            "type": "histogram"
           }
          ],
          "histogram2d": [
           {
            "colorbar": {
             "outlinewidth": 0,
             "ticks": ""
            },
            "colorscale": [
             [
              0,
              "#0d0887"
             ],
             [
              0.1111111111111111,
              "#46039f"
             ],
             [
              0.2222222222222222,
              "#7201a8"
             ],
             [
              0.3333333333333333,
              "#9c179e"
             ],
             [
              0.4444444444444444,
              "#bd3786"
             ],
             [
              0.5555555555555556,
              "#d8576b"
             ],
             [
              0.6666666666666666,
              "#ed7953"
             ],
             [
              0.7777777777777778,
              "#fb9f3a"
             ],
             [
              0.8888888888888888,
              "#fdca26"
             ],
             [
              1,
              "#f0f921"
             ]
            ],
            "type": "histogram2d"
           }
          ],
          "histogram2dcontour": [
           {
            "colorbar": {
             "outlinewidth": 0,
             "ticks": ""
            },
            "colorscale": [
             [
              0,
              "#0d0887"
             ],
             [
              0.1111111111111111,
              "#46039f"
             ],
             [
              0.2222222222222222,
              "#7201a8"
             ],
             [
              0.3333333333333333,
              "#9c179e"
             ],
             [
              0.4444444444444444,
              "#bd3786"
             ],
             [
              0.5555555555555556,
              "#d8576b"
             ],
             [
              0.6666666666666666,
              "#ed7953"
             ],
             [
              0.7777777777777778,
              "#fb9f3a"
             ],
             [
              0.8888888888888888,
              "#fdca26"
             ],
             [
              1,
              "#f0f921"
             ]
            ],
            "type": "histogram2dcontour"
           }
          ],
          "mesh3d": [
           {
            "colorbar": {
             "outlinewidth": 0,
             "ticks": ""
            },
            "type": "mesh3d"
           }
          ],
          "parcoords": [
           {
            "line": {
             "colorbar": {
              "outlinewidth": 0,
              "ticks": ""
             }
            },
            "type": "parcoords"
           }
          ],
          "pie": [
           {
            "automargin": true,
            "type": "pie"
           }
          ],
          "scatter": [
           {
            "fillpattern": {
             "fillmode": "overlay",
             "size": 10,
             "solidity": 0.2
            },
            "type": "scatter"
           }
          ],
          "scatter3d": [
           {
            "line": {
             "colorbar": {
              "outlinewidth": 0,
              "ticks": ""
             }
            },
            "marker": {
             "colorbar": {
              "outlinewidth": 0,
              "ticks": ""
             }
            },
            "type": "scatter3d"
           }
          ],
          "scattercarpet": [
           {
            "marker": {
             "colorbar": {
              "outlinewidth": 0,
              "ticks": ""
             }
            },
            "type": "scattercarpet"
           }
          ],
          "scattergeo": [
           {
            "marker": {
             "colorbar": {
              "outlinewidth": 0,
              "ticks": ""
             }
            },
            "type": "scattergeo"
           }
          ],
          "scattergl": [
           {
            "marker": {
             "colorbar": {
              "outlinewidth": 0,
              "ticks": ""
             }
            },
            "type": "scattergl"
           }
          ],
          "scattermap": [
           {
            "marker": {
             "colorbar": {
              "outlinewidth": 0,
              "ticks": ""
             }
            },
            "type": "scattermap"
           }
          ],
          "scattermapbox": [
           {
            "marker": {
             "colorbar": {
              "outlinewidth": 0,
              "ticks": ""
             }
            },
            "type": "scattermapbox"
           }
          ],
          "scatterpolar": [
           {
            "marker": {
             "colorbar": {
              "outlinewidth": 0,
              "ticks": ""
             }
            },
            "type": "scatterpolar"
           }
          ],
          "scatterpolargl": [
           {
            "marker": {
             "colorbar": {
              "outlinewidth": 0,
              "ticks": ""
             }
            },
            "type": "scatterpolargl"
           }
          ],
          "scatterternary": [
           {
            "marker": {
             "colorbar": {
              "outlinewidth": 0,
              "ticks": ""
             }
            },
            "type": "scatterternary"
           }
          ],
          "surface": [
           {
            "colorbar": {
             "outlinewidth": 0,
             "ticks": ""
            },
            "colorscale": [
             [
              0,
              "#0d0887"
             ],
             [
              0.1111111111111111,
              "#46039f"
             ],
             [
              0.2222222222222222,
              "#7201a8"
             ],
             [
              0.3333333333333333,
              "#9c179e"
             ],
             [
              0.4444444444444444,
              "#bd3786"
             ],
             [
              0.5555555555555556,
              "#d8576b"
             ],
             [
              0.6666666666666666,
              "#ed7953"
             ],
             [
              0.7777777777777778,
              "#fb9f3a"
             ],
             [
              0.8888888888888888,
              "#fdca26"
             ],
             [
              1,
              "#f0f921"
             ]
            ],
            "type": "surface"
           }
          ],
          "table": [
           {
            "cells": {
             "fill": {
              "color": "#EBF0F8"
             },
             "line": {
              "color": "white"
             }
            },
            "header": {
             "fill": {
              "color": "#C8D4E3"
             },
             "line": {
              "color": "white"
             }
            },
            "type": "table"
           }
          ]
         },
         "layout": {
          "annotationdefaults": {
           "arrowcolor": "#2a3f5f",
           "arrowhead": 0,
           "arrowwidth": 1
          },
          "autotypenumbers": "strict",
          "coloraxis": {
           "colorbar": {
            "outlinewidth": 0,
            "ticks": ""
           }
          },
          "colorscale": {
           "diverging": [
            [
             0,
             "#8e0152"
            ],
            [
             0.1,
             "#c51b7d"
            ],
            [
             0.2,
             "#de77ae"
            ],
            [
             0.3,
             "#f1b6da"
            ],
            [
             0.4,
             "#fde0ef"
            ],
            [
             0.5,
             "#f7f7f7"
            ],
            [
             0.6,
             "#e6f5d0"
            ],
            [
             0.7,
             "#b8e186"
            ],
            [
             0.8,
             "#7fbc41"
            ],
            [
             0.9,
             "#4d9221"
            ],
            [
             1,
             "#276419"
            ]
           ],
           "sequential": [
            [
             0,
             "#0d0887"
            ],
            [
             0.1111111111111111,
             "#46039f"
            ],
            [
             0.2222222222222222,
             "#7201a8"
            ],
            [
             0.3333333333333333,
             "#9c179e"
            ],
            [
             0.4444444444444444,
             "#bd3786"
            ],
            [
             0.5555555555555556,
             "#d8576b"
            ],
            [
             0.6666666666666666,
             "#ed7953"
            ],
            [
             0.7777777777777778,
             "#fb9f3a"
            ],
            [
             0.8888888888888888,
             "#fdca26"
            ],
            [
             1,
             "#f0f921"
            ]
           ],
           "sequentialminus": [
            [
             0,
             "#0d0887"
            ],
            [
             0.1111111111111111,
             "#46039f"
            ],
            [
             0.2222222222222222,
             "#7201a8"
            ],
            [
             0.3333333333333333,
             "#9c179e"
            ],
            [
             0.4444444444444444,
             "#bd3786"
            ],
            [
             0.5555555555555556,
             "#d8576b"
            ],
            [
             0.6666666666666666,
             "#ed7953"
            ],
            [
             0.7777777777777778,
             "#fb9f3a"
            ],
            [
             0.8888888888888888,
             "#fdca26"
            ],
            [
             1,
             "#f0f921"
            ]
           ]
          },
          "colorway": [
           "#636efa",
           "#EF553B",
           "#00cc96",
           "#ab63fa",
           "#FFA15A",
           "#19d3f3",
           "#FF6692",
           "#B6E880",
           "#FF97FF",
           "#FECB52"
          ],
          "font": {
           "color": "#2a3f5f"
          },
          "geo": {
           "bgcolor": "white",
           "lakecolor": "white",
           "landcolor": "white",
           "showlakes": true,
           "showland": true,
           "subunitcolor": "#C8D4E3"
          },
          "hoverlabel": {
           "align": "left"
          },
          "hovermode": "closest",
          "mapbox": {
           "style": "light"
          },
          "paper_bgcolor": "white",
          "plot_bgcolor": "white",
          "polar": {
           "angularaxis": {
            "gridcolor": "#EBF0F8",
            "linecolor": "#EBF0F8",
            "ticks": ""
           },
           "bgcolor": "white",
           "radialaxis": {
            "gridcolor": "#EBF0F8",
            "linecolor": "#EBF0F8",
            "ticks": ""
           }
          },
          "scene": {
           "xaxis": {
            "backgroundcolor": "white",
            "gridcolor": "#DFE8F3",
            "gridwidth": 2,
            "linecolor": "#EBF0F8",
            "showbackground": true,
            "ticks": "",
            "zerolinecolor": "#EBF0F8"
           },
           "yaxis": {
            "backgroundcolor": "white",
            "gridcolor": "#DFE8F3",
            "gridwidth": 2,
            "linecolor": "#EBF0F8",
            "showbackground": true,
            "ticks": "",
            "zerolinecolor": "#EBF0F8"
           },
           "zaxis": {
            "backgroundcolor": "white",
            "gridcolor": "#DFE8F3",
            "gridwidth": 2,
            "linecolor": "#EBF0F8",
            "showbackground": true,
            "ticks": "",
            "zerolinecolor": "#EBF0F8"
           }
          },
          "shapedefaults": {
           "line": {
            "color": "#2a3f5f"
           }
          },
          "ternary": {
           "aaxis": {
            "gridcolor": "#DFE8F3",
            "linecolor": "#A2B1C6",
            "ticks": ""
           },
           "baxis": {
            "gridcolor": "#DFE8F3",
            "linecolor": "#A2B1C6",
            "ticks": ""
           },
           "bgcolor": "white",
           "caxis": {
            "gridcolor": "#DFE8F3",
            "linecolor": "#A2B1C6",
            "ticks": ""
           }
          },
          "title": {
           "x": 0.05
          },
          "xaxis": {
           "automargin": true,
           "gridcolor": "#EBF0F8",
           "linecolor": "#EBF0F8",
           "ticks": "",
           "title": {
            "standoff": 15
           },
           "zerolinecolor": "#EBF0F8",
           "zerolinewidth": 2
          },
          "yaxis": {
           "automargin": true,
           "gridcolor": "#EBF0F8",
           "linecolor": "#EBF0F8",
           "ticks": "",
           "title": {
            "standoff": 15
           },
           "zerolinecolor": "#EBF0F8",
           "zerolinewidth": 2
          }
         }
        },
        "title": {
         "text": "Total Primary Energy Production and Energy Consumptions 1949–2024"
        },
        "width": 900,
        "xaxis": {
         "gridcolor": "lightgray",
         "gridwidth": 1,
         "showgrid": true,
         "title": {
          "text": "Year"
         }
        },
        "yaxis": {
         "gridcolor": "lightgray",
         "gridwidth": 1,
         "showgrid": true,
         "title": {
          "text": "Energy (Trillion Btu)"
         }
        }
       }
      }
     },
     "metadata": {},
     "output_type": "display_data"
    }
   ],
   "source": [
    "# Total Primary Energy Production and Energy Consumptions: 1949-2024\n",
    "# - Total primary energy production \n",
    "# - Total primary energy consumption\n",
    "# - End-use energy consumption\n",
    "# - Electricity consumption (end-use)\n",
    "# The energy units are in Trillion Btu (British thermal units).\n",
    "\n",
    "# Create interactive line chart \n",
    "fig1 = go.Figure()\n",
    "\n",
    "fig1.add_trace(go.Scatter(\n",
    "    x=df1_energy[\"Year\"], y=df1_energy[\"TotPrimEnergy_1Production\"],\n",
    "    mode=\"lines\", name=\"Primary Energy Production\"\n",
    "))\n",
    "fig1.add_trace(go.Scatter(\n",
    "    x=df1_energy[\"Year\"], y=df1_energy[\"TotPrimEnergy_2Consumed\"],\n",
    "    mode=\"lines\", name=\"Primary Energy Consumption\"\n",
    "))\n",
    "fig1.add_trace(go.Scatter(\n",
    "    x=df1_energy[\"Year\"], y=df1_energy[\"TotEnergy_2EndUse\"],\n",
    "    mode=\"lines\", name=\"End-Use Energy Consumption\"\n",
    "))\n",
    "fig1.add_trace(go.Scatter(\n",
    "    x=df1_energy[\"Year\"], y=df1_energy[\"TotElectricity_2Used\"],\n",
    "    mode=\"lines\", name=\"Electricity End-Use\"\n",
    "))\n",
    "\n",
    "# Add a vertical line at Year = 1958, when Consumption > Production\n",
    "fig1.add_vline(\n",
    "    x=1958,\n",
    "    line_width=2,\n",
    "    line_dash=\"dash\",\n",
    "    line_color=\"darkred\",\n",
    "    # annotation_text=\"Year 1958: Consumption > Production\",\n",
    "    # annotation_position=\"top right\"\n",
    ")\n",
    "# Add annotation manually\n",
    "fig1.add_annotation(\n",
    "    x=1958, y=df1_energy[\"TotPrimEnergy_1Production\"].max() / 3,  # 1/3 of y-axis\n",
    "    text=\" Year 1958: Consumption > Production\",\n",
    "    showarrow=False,\n",
    "    xanchor=\"left\",    # text appears to the right of the line\n",
    "    font=dict(color=\"darkred\", size=12, family=\"Arial\")  # customize color, size, font\n",
    ")\n",
    "\n",
    "# Add a vertical line at Year = 2019, when Production > Consumption\n",
    "fig1.add_vline(\n",
    "    x=2019,\n",
    "    line_width=2,\n",
    "    line_dash=\"dash\",\n",
    "    line_color=\"darkred\",\n",
    "    annotation_text=\"Year 2019: Production > Consumption \",\n",
    "    annotation_position=\"top left\",\n",
    "    annotation_font=dict(color=\"darkred\", size=12, family=\"Arial\")  # customize color, size, font\n",
    ")\n",
    "\n",
    "# Layout with custom size\n",
    "fig1.update_layout(\n",
    "    title=\"Total Primary Energy Production and Energy Consumptions 1949–2024\",\n",
    "    xaxis_title=\"Year\",\n",
    "    yaxis_title=\"Energy (Trillion Btu)\",\n",
    "    template=\"plotly_white\",\n",
    "    hovermode=\"x unified\",\n",
    "    width=900,   # adjust width\n",
    "    height=500,   # adjust height\n",
    "    xaxis=dict(showgrid=True,\n",
    "        gridcolor=\"lightgray\",  # darker than default\n",
    "        gridwidth=1),\n",
    "    yaxis=dict(showgrid=True,\n",
    "        gridcolor=\"lightgray\",  # darker than default\n",
    "        gridwidth=1)\n",
    ")\n",
    "\n",
    "fig1.show()\n",
    "# Export interactive HTML\n",
    "fig1.write_html(\"US_Energy_Production_Consumption.html\")"
   ]
  },
  {
   "cell_type": "code",
   "execution_count": null,
   "id": "dc314f7b",
   "metadata": {},
   "outputs": [
    {
     "data": {
      "application/vnd.plotly.v1+json": {
       "config": {
        "plotlyServerURL": "https://plot.ly"
       },
       "data": [
        {
         "hovertemplate": "End-Use Sector=EnergyUse1_Residential<br>Year=%{x}<br>Energy Consumption (Trillion Btu)=%{y}<extra></extra>",
         "legendgroup": "EnergyUse1_Residential",
         "marker": {
          "color": "#636efa",
          "pattern": {
           "shape": ""
          }
         },
         "name": "EnergyUse1_Residential",
         "orientation": "v",
         "showlegend": true,
         "textposition": "auto",
         "type": "bar",
         "x": {
          "bdata": "nQeeB58HoAehB6IHowekB6UHpgenB6gHqQeqB6sHrAetB64HrwewB7EHsgezB7QHtQe2B7cHuAe5B7oHuwe8B70Hvge/B8AHwQfCB8MHxAfFB8YHxwfIB8kHygfLB8wHzQfOB88H0AfRB9IH0wfUB9UH1gfXB9gH2QfaB9sH3AfdB94H3wfgB+EH4gfjB+QH5QfmB+cH6Ac=",
          "dtype": "i2"
         },
         "xaxis": "x",
         "y": {
          "bdata": "rBxaZHtQskBMN4lB4NOzQCGwcmgxDLVA+n5qvJRltUBqvHSTGCC1QEw3iUEgG7ZAGQRWDi2et0D6fmq8NLm4QPyp8dLthrhAvp8aL/0vukDTTWIQWKK6QEw3iUGgqrxAF9nO97NTvUDl0CLbecK+QKwcWmTbCb9A9ihcj8Jnv0BI4XoUbijAQPYoXI8Sw8BAdZMYBDZUwUDByqFFpgnCQM/3U+PF8cJAvp8aLw1dw0AxCKwcSsrDQEJg5dDycMRAbef7qTHtw0CiRbbzrUzDQBfZzveDhsNA3SQGgYVuxEAZBFYO7U3EQPLSTWLwoMRA46WbxJAExEDLoUW280/DQDeJQWAFk8JAFK5H4QrSwkDjpZvEQFnCQC2yne93SMNAF9nO98NAw0Bcj8L1qPLCQClcj8K1MMNAeekmMdhRxEC0yHa+f9LEQFyPwvWY9MJALbKd7weLw0AbL90kds/DQFpkO99Pk8RAwcqhRcZYxEDTTWIQuH3EQFYOLbL9ysVA4XoUrsfmxEAj2/l+Wg3EQJ7vp8Zb28RAwcqhRVbsxUAv3SQGAWrFQLgehevx68VACtejcN2gxkDl0CLbeUHGQDVeukkcicZAukkMApsGxUCNl24SEyXGQARWDi3SpsZA5/up8UINxkAEVg4t0pfGQGQ730+NG8ZACKwcWsQ8xEBKDAIrF1LGQF66SQzCAMdAtvP91AjnxUC28/3UmA/FQH9qvHQz8cRAIbByaGE9x0A/NV66OTnHQK5H4XoUDsZA+FPjpatWxkDhehSut2DHQOXQItsp8MVA7FG4HrXkxUA=",
          "dtype": "f8"
         },
         "yaxis": "y"
        },
        {
         "hovertemplate": "End-Use Sector=EnergyUse2_Commercial<br>Year=%{x}<br>Energy Consumption (Trillion Btu)=%{y}<extra></extra>",
         "legendgroup": "EnergyUse2_Commercial",
         "marker": {
          "color": "#EF553B",
          "pattern": {
           "shape": ""
          }
         },
         "name": "EnergyUse2_Commercial",
         "orientation": "v",
         "showlegend": true,
         "textposition": "auto",
         "type": "bar",
         "x": {
          "bdata": "nQeeB58HoAehB6IHowekB6UHpgenB6gHqQeqB6sHrAetB64HrwewB7EHsgezB7QHtQe2B7cHuAe5B7oHuwe8B70Hvge/B8AHwQfCB8MHxAfFB8YHxwfIB8kHygfLB8wHzQfOB88H0AfRB9IH0wfUB9UH1gfXB9gH2QfaB9sH3AfdB94H3wfgB+EH4gfjB+QH5QfmB+cH6Ac=",
          "dtype": "i2"
         },
         "xaxis": "x",
         "y": {
          "bdata": "sp3vpwZqpkDl0CLbeeanQARWDi0yXKdA9ihcj4IEp0CsHFpku/KlQOXQItv5saVASOF6FG6+pkBYObTINlanQDvfT40XWKZA3SQGgRVhp0AzMzMzs4KoQHWTGARWg6lAg8DKoUUSqkD6fmq8tLGrQESLbOe7MaxAx0s3iUEGrUBeukkMQvuuQNV46SZRrLBAg8DKoQVVskD6fmq8lDGzQH9qvHQzSbRA2c73UwM+tUDn+6nx8uu1QDEIrBy6u7ZAjZduEqMzt0CHFtnOl4C2QCuHFtkuGbZAWDm0yJaht0Bt5/upMXy3QBKDwMph6rdAWDm0yBZMuECmm8QgMHu3QJhuEoNg7rZAbxKDwCo1t0AUrkfh2kS3QHNoke1cebhAWmQ734/Dt0Db+X5qfPO3QEw3iUEAqbhA9ihcjyINukC6SQwCC5y6QC/dJAahYLpABFYOLbLOukCTGARWLuq6QEw3iUEATLtA6SYxCAzbu0AIrBxahLe8QN0kBoFVwL1AukkMAkt1vkAxCKwcugG+QAisHFqkir5AVg4tsm0UwECsHFpku9G/QBkEVg6tGMBATDeJQbBhwEAxCKwcinbAQNNNYhCYaMBAexSuR+Hzv0DNzMzMjI/AQPhT46VL58BAukkMAouewEAAAAAAkLTAQOOlm8RAw8BAkxgEVh4TwECLbOf7OfzAQNnO91Mzg8FA5dAi2zmowUCyne+npnPBQP7UeOlGbsFAHVpkO49lwkBiEFg5pErCQMHKoUXWBsFAAAAAAPC2wUCsHFpku8LCQCcxCKycXsJASgwCK8eDwkA=",
          "dtype": "f8"
         },
         "yaxis": "y"
        },
        {
         "hovertemplate": "End-Use Sector=EnergyUse3_Industrial<br>Year=%{x}<br>Energy Consumption (Trillion Btu)=%{y}<extra></extra>",
         "legendgroup": "EnergyUse3_Industrial",
         "marker": {
          "color": "#00cc96",
          "pattern": {
           "shape": ""
          }
         },
         "name": "EnergyUse3_Industrial",
         "orientation": "v",
         "showlegend": true,
         "textposition": "auto",
         "type": "bar",
         "x": {
          "bdata": "nQeeB58HoAehB6IHowekB6UHpgenB6gHqQeqB6sHrAetB64HrwewB7EHsgezB7QHtQe2B7cHuAe5B7oHuwe8B70Hvge/B8AHwQfCB8MHxAfFB8YHxwfIB8kHygfLB8wHzQfOB88H0AfRB9IH0wfUB9UH1gfXB9gH2QfaB9sH3AfdB94H3wfgB+EH4gfjB+QH5QfmB+cH6Ac=",
          "dtype": "i2"
         },
         "xaxis": "x",
         "y": {
          "bdata": "zczMzKxZyUCoxks3uffLQNV46SYxhc5AaJHtfE+yzUBGtvP9lCfPQARWDi0SOc1ARrbz/TyJ0EC6SQwCIxXRQPyp8dK9D9FA+n5qvBRW0EAUrkfhqiHRQPLSTWJom9FAkxgEVlaq0UCR7Xw/fVLSQC2yne83I9NA/tR46SZD1ECNl24SewXVQKwcWmQrBdZAHVpkO08a1kD6fmq8ZA7XQOf7qfGi8NdAhetRuI5I2EDsUbgeLRvYQARWDi3iDNlAcT0K12Nf2kCgGi/dFHfZQIGVQ4skK9dArBxaZLuW2EAlBoGVwy3ZQOxRuB61VNlA5dAi25lc2kAfhetRELfYQFCNl24qgNdAc2iR7cQD1UA/NV66YZ/UQI2XbhJbadZAqvHSTWqy1UCuR+F6ZFTVQGIQWDlUR9ZAtMh2vj9K10AQWDm08GnXQBfZzvdzwddAIbByaHFq10DRItv5hmnYQJMYBFbOadhAKVyPwh0h2UDy0k1iQHfZQJMYBFZeM9pANV66STx92kCamZmZKQraQDMzMzNb1tlAN4lBYBW82UCkcD0KL4TYQEJg5dD6fdhArkfherxP2EBSuB6Fsy/ZQH0/NV7CN9hA/Knx0pVN2EBGtvP9BDPYQOOlm8ToU9dA46WbxNhG1UCuR+F6tBPXQIXrUbgGUddAoBov3fSP10BzaJHtpCPYQP7UeOkuRdhAKVyPwk0y2EBkO99PbUzYQKJFtvNVtdhAsp3vp36p2UAhsHJoeb/ZQAaBlUMzzthAMQisHJqg2UAbL90kdlzZQMl2vp/KbtlACKwcWpyL2UA=",
          "dtype": "f8"
         },
         "yaxis": "y"
        },
        {
         "hovertemplate": "End-Use Sector=EnergyUse4_Transportation<br>Year=%{x}<br>Energy Consumption (Trillion Btu)=%{y}<extra></extra>",
         "legendgroup": "EnergyUse4_Transportation",
         "marker": {
          "color": "#ab63fa",
          "pattern": {
           "shape": ""
          }
         },
         "name": "EnergyUse4_Transportation",
         "orientation": "v",
         "showlegend": true,
         "textposition": "auto",
         "type": "bar",
         "x": {
          "bdata": "nQeeB58HoAehB6IHowekB6UHpgenB6gHqQeqB6sHrAetB64HrwewB7EHsgezB7QHtQe2B7cHuAe5B7oHuwe8B70Hvge/B8AHwQfCB8MHxAfFB8YHxwfIB8kHygfLB8wHzQfOB88H0AfRB9IH0wfUB9UH1gfXB9gH2QfaB9sH3AfdB94H3wfgB+EH4gfjB+QH5QfmB+cH6Ac=",
          "dtype": "i2"
         },
         "xaxis": "x",
         "y": {
          "bdata": "AAAAAKDdvkAGgZVDS2vAQBSuR+HKfsFAJzEIrFxwwUAAAAAAAK7BQDm0yHZORcFAAiuHFimLwkDy0k1icCjDQH9qvHRzPsNAg8DKoUV3w0BKDAIrByTEQH0/NV4KpcRAmpmZmQn8xEC6SQwCi93FQF66SQwCt8ZAVOOlm6Rix0Db+X5qXDzIQLpJDAKbislAPQrXoyDQykAOLbKdv/zMQL6fGi/dPM5AmpmZmUlkz0Dwp8ZLN1DQQM3MzMwkR9FAgZVDi/Qm0kDsUbgePazRQCcxCKwsy9FA5/up8TKh0kBkO99PLVXTQNEi2/k2HNRA9P3UeNn300CPwvUojDXTQHE9CtcrCNNAKVyPws2d0kCR7Xw/tbLSQHE9Cte7KdNAEoPAyumV00ACK4cWwUTUQDvfT42X7tRA6SYxCKTC1UBg5dAiQ+rVQMl2vp9y29VA/Knx0kWQ1UDdJAaBtdrVQIGVQ4t8GtZAKVyPwiW81kArhxbZZjfXQO58PzVWz9dAWmQ73zcb2EDhehSul5jYQAIrhxYRRdlAZmZmZn7a2UB56SYxuJXZQJHtfD+FI9pAtMh2vocz2kCcxCCwEh/bQJ7vp8ZDi9tAw/UoXLf420DLoUW20xTcQN9PjZdmudpAvHSTGBzq2UCiRbbzDUraQHNoke1U7dlABFYOLXJ42UD0/dR4sfHZQIGVQ4sMM9pA0SLb+eaR2kCNl24Sqx3bQP7UeOlOWdtA7nw/NVbL20DD9ShcN/XbQPyp8dLN2NdAhetRuFZo2kBzaJHt1P7aQLpJDAJzX9tAEFg5tDB120A=",
          "dtype": "f8"
         },
         "yaxis": "y"
        }
       ],
       "layout": {
        "barmode": "stack",
        "height": 500,
        "legend": {
         "title": {
          "text": "End-Use Sector"
         },
         "tracegroupgap": 0
        },
        "template": {
         "data": {
          "bar": [
           {
            "error_x": {
             "color": "#2a3f5f"
            },
            "error_y": {
             "color": "#2a3f5f"
            },
            "marker": {
             "line": {
              "color": "white",
              "width": 0.5
             },
             "pattern": {
              "fillmode": "overlay",
              "size": 10,
              "solidity": 0.2
             }
            },
            "type": "bar"
           }
          ],
          "barpolar": [
           {
            "marker": {
             "line": {
              "color": "white",
              "width": 0.5
             },
             "pattern": {
              "fillmode": "overlay",
              "size": 10,
              "solidity": 0.2
             }
            },
            "type": "barpolar"
           }
          ],
          "carpet": [
           {
            "aaxis": {
             "endlinecolor": "#2a3f5f",
             "gridcolor": "#C8D4E3",
             "linecolor": "#C8D4E3",
             "minorgridcolor": "#C8D4E3",
             "startlinecolor": "#2a3f5f"
            },
            "baxis": {
             "endlinecolor": "#2a3f5f",
             "gridcolor": "#C8D4E3",
             "linecolor": "#C8D4E3",
             "minorgridcolor": "#C8D4E3",
             "startlinecolor": "#2a3f5f"
            },
            "type": "carpet"
           }
          ],
          "choropleth": [
           {
            "colorbar": {
             "outlinewidth": 0,
             "ticks": ""
            },
            "type": "choropleth"
           }
          ],
          "contour": [
           {
            "colorbar": {
             "outlinewidth": 0,
             "ticks": ""
            },
            "colorscale": [
             [
              0,
              "#0d0887"
             ],
             [
              0.1111111111111111,
              "#46039f"
             ],
             [
              0.2222222222222222,
              "#7201a8"
             ],
             [
              0.3333333333333333,
              "#9c179e"
             ],
             [
              0.4444444444444444,
              "#bd3786"
             ],
             [
              0.5555555555555556,
              "#d8576b"
             ],
             [
              0.6666666666666666,
              "#ed7953"
             ],
             [
              0.7777777777777778,
              "#fb9f3a"
             ],
             [
              0.8888888888888888,
              "#fdca26"
             ],
             [
              1,
              "#f0f921"
             ]
            ],
            "type": "contour"
           }
          ],
          "contourcarpet": [
           {
            "colorbar": {
             "outlinewidth": 0,
             "ticks": ""
            },
            "type": "contourcarpet"
           }
          ],
          "heatmap": [
           {
            "colorbar": {
             "outlinewidth": 0,
             "ticks": ""
            },
            "colorscale": [
             [
              0,
              "#0d0887"
             ],
             [
              0.1111111111111111,
              "#46039f"
             ],
             [
              0.2222222222222222,
              "#7201a8"
             ],
             [
              0.3333333333333333,
              "#9c179e"
             ],
             [
              0.4444444444444444,
              "#bd3786"
             ],
             [
              0.5555555555555556,
              "#d8576b"
             ],
             [
              0.6666666666666666,
              "#ed7953"
             ],
             [
              0.7777777777777778,
              "#fb9f3a"
             ],
             [
              0.8888888888888888,
              "#fdca26"
             ],
             [
              1,
              "#f0f921"
             ]
            ],
            "type": "heatmap"
           }
          ],
          "histogram": [
           {
            "marker": {
             "pattern": {
              "fillmode": "overlay",
              "size": 10,
              "solidity": 0.2
             }
            },
            "type": "histogram"
           }
          ],
          "histogram2d": [
           {
            "colorbar": {
             "outlinewidth": 0,
             "ticks": ""
            },
            "colorscale": [
             [
              0,
              "#0d0887"
             ],
             [
              0.1111111111111111,
              "#46039f"
             ],
             [
              0.2222222222222222,
              "#7201a8"
             ],
             [
              0.3333333333333333,
              "#9c179e"
             ],
             [
              0.4444444444444444,
              "#bd3786"
             ],
             [
              0.5555555555555556,
              "#d8576b"
             ],
             [
              0.6666666666666666,
              "#ed7953"
             ],
             [
              0.7777777777777778,
              "#fb9f3a"
             ],
             [
              0.8888888888888888,
              "#fdca26"
             ],
             [
              1,
              "#f0f921"
             ]
            ],
            "type": "histogram2d"
           }
          ],
          "histogram2dcontour": [
           {
            "colorbar": {
             "outlinewidth": 0,
             "ticks": ""
            },
            "colorscale": [
             [
              0,
              "#0d0887"
             ],
             [
              0.1111111111111111,
              "#46039f"
             ],
             [
              0.2222222222222222,
              "#7201a8"
             ],
             [
              0.3333333333333333,
              "#9c179e"
             ],
             [
              0.4444444444444444,
              "#bd3786"
             ],
             [
              0.5555555555555556,
              "#d8576b"
             ],
             [
              0.6666666666666666,
              "#ed7953"
             ],
             [
              0.7777777777777778,
              "#fb9f3a"
             ],
             [
              0.8888888888888888,
              "#fdca26"
             ],
             [
              1,
              "#f0f921"
             ]
            ],
            "type": "histogram2dcontour"
           }
          ],
          "mesh3d": [
           {
            "colorbar": {
             "outlinewidth": 0,
             "ticks": ""
            },
            "type": "mesh3d"
           }
          ],
          "parcoords": [
           {
            "line": {
             "colorbar": {
              "outlinewidth": 0,
              "ticks": ""
             }
            },
            "type": "parcoords"
           }
          ],
          "pie": [
           {
            "automargin": true,
            "type": "pie"
           }
          ],
          "scatter": [
           {
            "fillpattern": {
             "fillmode": "overlay",
             "size": 10,
             "solidity": 0.2
            },
            "type": "scatter"
           }
          ],
          "scatter3d": [
           {
            "line": {
             "colorbar": {
              "outlinewidth": 0,
              "ticks": ""
             }
            },
            "marker": {
             "colorbar": {
              "outlinewidth": 0,
              "ticks": ""
             }
            },
            "type": "scatter3d"
           }
          ],
          "scattercarpet": [
           {
            "marker": {
             "colorbar": {
              "outlinewidth": 0,
              "ticks": ""
             }
            },
            "type": "scattercarpet"
           }
          ],
          "scattergeo": [
           {
            "marker": {
             "colorbar": {
              "outlinewidth": 0,
              "ticks": ""
             }
            },
            "type": "scattergeo"
           }
          ],
          "scattergl": [
           {
            "marker": {
             "colorbar": {
              "outlinewidth": 0,
              "ticks": ""
             }
            },
            "type": "scattergl"
           }
          ],
          "scattermap": [
           {
            "marker": {
             "colorbar": {
              "outlinewidth": 0,
              "ticks": ""
             }
            },
            "type": "scattermap"
           }
          ],
          "scattermapbox": [
           {
            "marker": {
             "colorbar": {
              "outlinewidth": 0,
              "ticks": ""
             }
            },
            "type": "scattermapbox"
           }
          ],
          "scatterpolar": [
           {
            "marker": {
             "colorbar": {
              "outlinewidth": 0,
              "ticks": ""
             }
            },
            "type": "scatterpolar"
           }
          ],
          "scatterpolargl": [
           {
            "marker": {
             "colorbar": {
              "outlinewidth": 0,
              "ticks": ""
             }
            },
            "type": "scatterpolargl"
           }
          ],
          "scatterternary": [
           {
            "marker": {
             "colorbar": {
              "outlinewidth": 0,
              "ticks": ""
             }
            },
            "type": "scatterternary"
           }
          ],
          "surface": [
           {
            "colorbar": {
             "outlinewidth": 0,
             "ticks": ""
            },
            "colorscale": [
             [
              0,
              "#0d0887"
             ],
             [
              0.1111111111111111,
              "#46039f"
             ],
             [
              0.2222222222222222,
              "#7201a8"
             ],
             [
              0.3333333333333333,
              "#9c179e"
             ],
             [
              0.4444444444444444,
              "#bd3786"
             ],
             [
              0.5555555555555556,
              "#d8576b"
             ],
             [
              0.6666666666666666,
              "#ed7953"
             ],
             [
              0.7777777777777778,
              "#fb9f3a"
             ],
             [
              0.8888888888888888,
              "#fdca26"
             ],
             [
              1,
              "#f0f921"
             ]
            ],
            "type": "surface"
           }
          ],
          "table": [
           {
            "cells": {
             "fill": {
              "color": "#EBF0F8"
             },
             "line": {
              "color": "white"
             }
            },
            "header": {
             "fill": {
              "color": "#C8D4E3"
             },
             "line": {
              "color": "white"
             }
            },
            "type": "table"
           }
          ]
         },
         "layout": {
          "annotationdefaults": {
           "arrowcolor": "#2a3f5f",
           "arrowhead": 0,
           "arrowwidth": 1
          },
          "autotypenumbers": "strict",
          "coloraxis": {
           "colorbar": {
            "outlinewidth": 0,
            "ticks": ""
           }
          },
          "colorscale": {
           "diverging": [
            [
             0,
             "#8e0152"
            ],
            [
             0.1,
             "#c51b7d"
            ],
            [
             0.2,
             "#de77ae"
            ],
            [
             0.3,
             "#f1b6da"
            ],
            [
             0.4,
             "#fde0ef"
            ],
            [
             0.5,
             "#f7f7f7"
            ],
            [
             0.6,
             "#e6f5d0"
            ],
            [
             0.7,
             "#b8e186"
            ],
            [
             0.8,
             "#7fbc41"
            ],
            [
             0.9,
             "#4d9221"
            ],
            [
             1,
             "#276419"
            ]
           ],
           "sequential": [
            [
             0,
             "#0d0887"
            ],
            [
             0.1111111111111111,
             "#46039f"
            ],
            [
             0.2222222222222222,
             "#7201a8"
            ],
            [
             0.3333333333333333,
             "#9c179e"
            ],
            [
             0.4444444444444444,
             "#bd3786"
            ],
            [
             0.5555555555555556,
             "#d8576b"
            ],
            [
             0.6666666666666666,
             "#ed7953"
            ],
            [
             0.7777777777777778,
             "#fb9f3a"
            ],
            [
             0.8888888888888888,
             "#fdca26"
            ],
            [
             1,
             "#f0f921"
            ]
           ],
           "sequentialminus": [
            [
             0,
             "#0d0887"
            ],
            [
             0.1111111111111111,
             "#46039f"
            ],
            [
             0.2222222222222222,
             "#7201a8"
            ],
            [
             0.3333333333333333,
             "#9c179e"
            ],
            [
             0.4444444444444444,
             "#bd3786"
            ],
            [
             0.5555555555555556,
             "#d8576b"
            ],
            [
             0.6666666666666666,
             "#ed7953"
            ],
            [
             0.7777777777777778,
             "#fb9f3a"
            ],
            [
             0.8888888888888888,
             "#fdca26"
            ],
            [
             1,
             "#f0f921"
            ]
           ]
          },
          "colorway": [
           "#636efa",
           "#EF553B",
           "#00cc96",
           "#ab63fa",
           "#FFA15A",
           "#19d3f3",
           "#FF6692",
           "#B6E880",
           "#FF97FF",
           "#FECB52"
          ],
          "font": {
           "color": "#2a3f5f"
          },
          "geo": {
           "bgcolor": "white",
           "lakecolor": "white",
           "landcolor": "white",
           "showlakes": true,
           "showland": true,
           "subunitcolor": "#C8D4E3"
          },
          "hoverlabel": {
           "align": "left"
          },
          "hovermode": "closest",
          "mapbox": {
           "style": "light"
          },
          "paper_bgcolor": "white",
          "plot_bgcolor": "white",
          "polar": {
           "angularaxis": {
            "gridcolor": "#EBF0F8",
            "linecolor": "#EBF0F8",
            "ticks": ""
           },
           "bgcolor": "white",
           "radialaxis": {
            "gridcolor": "#EBF0F8",
            "linecolor": "#EBF0F8",
            "ticks": ""
           }
          },
          "scene": {
           "xaxis": {
            "backgroundcolor": "white",
            "gridcolor": "#DFE8F3",
            "gridwidth": 2,
            "linecolor": "#EBF0F8",
            "showbackground": true,
            "ticks": "",
            "zerolinecolor": "#EBF0F8"
           },
           "yaxis": {
            "backgroundcolor": "white",
            "gridcolor": "#DFE8F3",
            "gridwidth": 2,
            "linecolor": "#EBF0F8",
            "showbackground": true,
            "ticks": "",
            "zerolinecolor": "#EBF0F8"
           },
           "zaxis": {
            "backgroundcolor": "white",
            "gridcolor": "#DFE8F3",
            "gridwidth": 2,
            "linecolor": "#EBF0F8",
            "showbackground": true,
            "ticks": "",
            "zerolinecolor": "#EBF0F8"
           }
          },
          "shapedefaults": {
           "line": {
            "color": "#2a3f5f"
           }
          },
          "ternary": {
           "aaxis": {
            "gridcolor": "#DFE8F3",
            "linecolor": "#A2B1C6",
            "ticks": ""
           },
           "baxis": {
            "gridcolor": "#DFE8F3",
            "linecolor": "#A2B1C6",
            "ticks": ""
           },
           "bgcolor": "white",
           "caxis": {
            "gridcolor": "#DFE8F3",
            "linecolor": "#A2B1C6",
            "ticks": ""
           }
          },
          "title": {
           "x": 0.05
          },
          "xaxis": {
           "automargin": true,
           "gridcolor": "#EBF0F8",
           "linecolor": "#EBF0F8",
           "ticks": "",
           "title": {
            "standoff": 15
           },
           "zerolinecolor": "#EBF0F8",
           "zerolinewidth": 2
          },
          "yaxis": {
           "automargin": true,
           "gridcolor": "#EBF0F8",
           "linecolor": "#EBF0F8",
           "ticks": "",
           "title": {
            "standoff": 15
           },
           "zerolinecolor": "#EBF0F8",
           "zerolinewidth": 2
          }
         }
        },
        "title": {
         "text": "U.S. End-Use Energy Consumption by Sector 1949–2024"
        },
        "width": 900,
        "xaxis": {
         "anchor": "y",
         "domain": [
          0,
          1
         ],
         "title": {
          "text": "Year"
         }
        },
        "yaxis": {
         "anchor": "x",
         "domain": [
          0,
          1
         ],
         "title": {
          "text": "Energy Consumption (Trillion Btu)"
         }
        }
       }
      }
     },
     "metadata": {},
     "output_type": "display_data"
    }
   ],
   "source": [
    "# Total end-use energy consumption by sector 1949-2024\n",
    "\n",
    "df_sectors = df1_energy[[\n",
    "    \"Year\",\n",
    "    \"EnergyUse1_Residential\",\n",
    "    \"EnergyUse2_Commercial\",\n",
    "    \"EnergyUse3_Industrial\",\n",
    "    \"EnergyUse4_Transportation\"\n",
    "]]\n",
    "\n",
    "# Melt for plotting\n",
    "df_sectors_melt = df_sectors.melt(id_vars=\"Year\", \n",
    "                                  var_name=\"End-Use Sector\", \n",
    "                                  value_name=\"Energy Consumption (Trillion Btu)\")\n",
    "fig2 = px.bar(\n",
    "    df_sectors_melt,\n",
    "    x=\"Year\",\n",
    "    y=\"Energy Consumption (Trillion Btu)\",\n",
    "    color=\"End-Use Sector\",\n",
    "    title=\"U.S. End-Use Energy Consumption by Sector 1949–2024\",\n",
    "    barmode=\"stack\"\n",
    ")\n",
    "\n",
    "fig2.update_layout(\n",
    "    template=\"plotly_white\",\n",
    "    width=900,\n",
    "    height=500\n",
    ")\n",
    "\n",
    "fig2.show()"
   ]
  },
  {
   "cell_type": "code",
   "execution_count": null,
   "id": "26f6fe67",
   "metadata": {},
   "outputs": [
    {
     "data": {
      "application/vnd.plotly.v1+json": {
       "config": {
        "plotlyServerURL": "https://plot.ly"
       },
       "data": [
        {
         "line": {
          "color": "black",
          "width": 3
         },
         "mode": "lines",
         "name": "Total End-Use",
         "type": "scatter",
         "x": {
          "bdata": "nQeeB58HoAehB6IHowekB6UHpgenB6gHqQeqB6sHrAetB64HrwewB7EHsgezB7QHtQe2B7cHuAe5B7oHuwe8B70Hvge/B8AHwQfCB8MHxAfFB8YHxwfIB8kHygfLB8wHzQfOB88H0AfRB9IH0wfUB9UH1gfXB9gH2QfaB9sH3AfdB94H3wfgB+EH4gfjB+QH5QfmB+cH6Ac=",
          "dtype": "i2"
         },
         "y": {
          "bdata": "SOF6FJ7F20D0/dR4SSPeQB+F61FIGOBAJQaBlUvL30DpJjEIlDjgQOF6FK43fN9AexSuRxVH4UAOLbKdN+HhQLpJDALbzeFAzczMzOzE4UAK16NwTXbiQHnpJjGAJONAxSCwcshf40BEi2znCzTkQOF6FK6z4+RAL90kBpm35UAfhetRpIvmQB1aZDuLq+dAokW2891g6EBQjZdu/q7pQBBYObQgzepA9P3UeF1860Bg5dAiw+XrQJZDi2y3He1AXI/C9ewk7kB/arx05zTtQH9qvHTvH+xArBxaZMur7UCiRbbzeUTuQGZmZmb+3e5A+n5qvOA070C+nxovsbntQIGVQ4u4xuxAIbByaPFr60CkcD0K9yfrQC/dJAbVquxARrbz/cxs7EBqvHSTrIfsQMP1KFxDfO1ANV66SYzc7kAdWmQ7OzLvQFYOLbKt1+5AcT0K1/O57kCwcmiRQXPvQArXo3B50O9AZmZmZhpA8EACK4cW2YbwQARWDi0SFvFAnMQgsEoq8UB7FK5HdwrxQLbz/dTwSvFACtejcL2l8UCDwMqh1TDxQM/3U+PzaPFAWDm0yCKB8UDTTWIQsurxQLx0kxj4zvFA+n5qvKSx8UAbL90kiujxQDvfT40XdfFA5/up8bah8EAUrkfh/EDxQCcxCKxwK/FAvHSTGBbM8EApXI/CH2/xQMdLN4mNrvFAUrgehfWi8UBeukkM7qrxQCPb+X6Yz/FA8KfGS5OR8kAtsp3vp53yQA4tsp1dDPFAbef7qe8D8kBg5dAiQVvyQO58PzVoPfJAzczMzEJN8kA=",
          "dtype": "f8"
         }
        },
        {
         "line": {
          "color": "blue",
          "width": 2
         },
         "mode": "lines",
         "name": "EnergyUse1_Residential",
         "type": "scatter",
         "x": {
          "bdata": "nQeeB58HoAehB6IHowekB6UHpgenB6gHqQeqB6sHrAetB64HrwewB7EHsgezB7QHtQe2B7cHuAe5B7oHuwe8B70Hvge/B8AHwQfCB8MHxAfFB8YHxwfIB8kHygfLB8wHzQfOB88H0AfRB9IH0wfUB9UH1gfXB9gH2QfaB9sH3AfdB94H3wfgB+EH4gfjB+QH5QfmB+cH6Ac=",
          "dtype": "i2"
         },
         "y": {
          "bdata": "rBxaZHtQskBMN4lB4NOzQCGwcmgxDLVA+n5qvJRltUBqvHSTGCC1QEw3iUEgG7ZAGQRWDi2et0D6fmq8NLm4QPyp8dLthrhAvp8aL/0vukDTTWIQWKK6QEw3iUGgqrxAF9nO97NTvUDl0CLbecK+QKwcWmTbCb9A9ihcj8Jnv0BI4XoUbijAQPYoXI8Sw8BAdZMYBDZUwUDByqFFpgnCQM/3U+PF8cJAvp8aLw1dw0AxCKwcSsrDQEJg5dDycMRAbef7qTHtw0CiRbbzrUzDQBfZzveDhsNA3SQGgYVuxEAZBFYO7U3EQPLSTWLwoMRA46WbxJAExEDLoUW280/DQDeJQWAFk8JAFK5H4QrSwkDjpZvEQFnCQC2yne93SMNAF9nO98NAw0Bcj8L1qPLCQClcj8K1MMNAeekmMdhRxEC0yHa+f9LEQFyPwvWY9MJALbKd7weLw0AbL90kds/DQFpkO99Pk8RAwcqhRcZYxEDTTWIQuH3EQFYOLbL9ysVA4XoUrsfmxEAj2/l+Wg3EQJ7vp8Zb28RAwcqhRVbsxUAv3SQGAWrFQLgehevx68VACtejcN2gxkDl0CLbeUHGQDVeukkcicZAukkMApsGxUCNl24SEyXGQARWDi3SpsZA5/up8UINxkAEVg4t0pfGQGQ730+NG8ZACKwcWsQ8xEBKDAIrF1LGQF66SQzCAMdAtvP91AjnxUC28/3UmA/FQH9qvHQz8cRAIbByaGE9x0A/NV66OTnHQK5H4XoUDsZA+FPjpatWxkDhehSut2DHQOXQItsp8MVA7FG4HrXkxUA=",
          "dtype": "f8"
         }
        },
        {
         "line": {
          "color": "red",
          "width": 2
         },
         "mode": "lines",
         "name": "EnergyUse2_Commercial",
         "type": "scatter",
         "x": {
          "bdata": "nQeeB58HoAehB6IHowekB6UHpgenB6gHqQeqB6sHrAetB64HrwewB7EHsgezB7QHtQe2B7cHuAe5B7oHuwe8B70Hvge/B8AHwQfCB8MHxAfFB8YHxwfIB8kHygfLB8wHzQfOB88H0AfRB9IH0wfUB9UH1gfXB9gH2QfaB9sH3AfdB94H3wfgB+EH4gfjB+QH5QfmB+cH6Ac=",
          "dtype": "i2"
         },
         "y": {
          "bdata": "sp3vpwZqpkDl0CLbeeanQARWDi0yXKdA9ihcj4IEp0CsHFpku/KlQOXQItv5saVASOF6FG6+pkBYObTINlanQDvfT40XWKZA3SQGgRVhp0AzMzMzs4KoQHWTGARWg6lAg8DKoUUSqkD6fmq8tLGrQESLbOe7MaxAx0s3iUEGrUBeukkMQvuuQNV46SZRrLBAg8DKoQVVskD6fmq8lDGzQH9qvHQzSbRA2c73UwM+tUDn+6nx8uu1QDEIrBy6u7ZAjZduEqMzt0CHFtnOl4C2QCuHFtkuGbZAWDm0yJaht0Bt5/upMXy3QBKDwMph6rdAWDm0yBZMuECmm8QgMHu3QJhuEoNg7rZAbxKDwCo1t0AUrkfh2kS3QHNoke1cebhAWmQ734/Dt0Db+X5qfPO3QEw3iUEAqbhA9ihcjyINukC6SQwCC5y6QC/dJAahYLpABFYOLbLOukCTGARWLuq6QEw3iUEATLtA6SYxCAzbu0AIrBxahLe8QN0kBoFVwL1AukkMAkt1vkAxCKwcugG+QAisHFqkir5AVg4tsm0UwECsHFpku9G/QBkEVg6tGMBATDeJQbBhwEAxCKwcinbAQNNNYhCYaMBAexSuR+Hzv0DNzMzMjI/AQPhT46VL58BAukkMAouewEAAAAAAkLTAQOOlm8RAw8BAkxgEVh4TwECLbOf7OfzAQNnO91Mzg8FA5dAi2zmowUCyne+npnPBQP7UeOlGbsFAHVpkO49lwkBiEFg5pErCQMHKoUXWBsFAAAAAAPC2wUCsHFpku8LCQCcxCKycXsJASgwCK8eDwkA=",
          "dtype": "f8"
         }
        },
        {
         "line": {
          "color": "green",
          "width": 2
         },
         "mode": "lines",
         "name": "EnergyUse3_Industrial",
         "type": "scatter",
         "x": {
          "bdata": "nQeeB58HoAehB6IHowekB6UHpgenB6gHqQeqB6sHrAetB64HrwewB7EHsgezB7QHtQe2B7cHuAe5B7oHuwe8B70Hvge/B8AHwQfCB8MHxAfFB8YHxwfIB8kHygfLB8wHzQfOB88H0AfRB9IH0wfUB9UH1gfXB9gH2QfaB9sH3AfdB94H3wfgB+EH4gfjB+QH5QfmB+cH6Ac=",
          "dtype": "i2"
         },
         "y": {
          "bdata": "zczMzKxZyUCoxks3uffLQNV46SYxhc5AaJHtfE+yzUBGtvP9lCfPQARWDi0SOc1ARrbz/TyJ0EC6SQwCIxXRQPyp8dK9D9FA+n5qvBRW0EAUrkfhqiHRQPLSTWJom9FAkxgEVlaq0UCR7Xw/fVLSQC2yne83I9NA/tR46SZD1ECNl24SewXVQKwcWmQrBdZAHVpkO08a1kD6fmq8ZA7XQOf7qfGi8NdAhetRuI5I2EDsUbgeLRvYQARWDi3iDNlAcT0K12Nf2kCgGi/dFHfZQIGVQ4skK9dArBxaZLuW2EAlBoGVwy3ZQOxRuB61VNlA5dAi25lc2kAfhetRELfYQFCNl24qgNdAc2iR7cQD1UA/NV66YZ/UQI2XbhJbadZAqvHSTWqy1UCuR+F6ZFTVQGIQWDlUR9ZAtMh2vj9K10AQWDm08GnXQBfZzvdzwddAIbByaHFq10DRItv5hmnYQJMYBFbOadhAKVyPwh0h2UDy0k1iQHfZQJMYBFZeM9pANV66STx92kCamZmZKQraQDMzMzNb1tlAN4lBYBW82UCkcD0KL4TYQEJg5dD6fdhArkfherxP2EBSuB6Fsy/ZQH0/NV7CN9hA/Knx0pVN2EBGtvP9BDPYQOOlm8ToU9dA46WbxNhG1UCuR+F6tBPXQIXrUbgGUddAoBov3fSP10BzaJHtpCPYQP7UeOkuRdhAKVyPwk0y2EBkO99PbUzYQKJFtvNVtdhAsp3vp36p2UAhsHJoeb/ZQAaBlUMzzthAMQisHJqg2UAbL90kdlzZQMl2vp/KbtlACKwcWpyL2UA=",
          "dtype": "f8"
         }
        },
        {
         "line": {
          "color": "purple",
          "width": 2
         },
         "mode": "lines",
         "name": "EnergyUse4_Transportation",
         "type": "scatter",
         "x": {
          "bdata": "nQeeB58HoAehB6IHowekB6UHpgenB6gHqQeqB6sHrAetB64HrwewB7EHsgezB7QHtQe2B7cHuAe5B7oHuwe8B70Hvge/B8AHwQfCB8MHxAfFB8YHxwfIB8kHygfLB8wHzQfOB88H0AfRB9IH0wfUB9UH1gfXB9gH2QfaB9sH3AfdB94H3wfgB+EH4gfjB+QH5QfmB+cH6Ac=",
          "dtype": "i2"
         },
         "y": {
          "bdata": "AAAAAKDdvkAGgZVDS2vAQBSuR+HKfsFAJzEIrFxwwUAAAAAAAK7BQDm0yHZORcFAAiuHFimLwkDy0k1icCjDQH9qvHRzPsNAg8DKoUV3w0BKDAIrByTEQH0/NV4KpcRAmpmZmQn8xEC6SQwCi93FQF66SQwCt8ZAVOOlm6Rix0Db+X5qXDzIQLpJDAKbislAPQrXoyDQykAOLbKdv/zMQL6fGi/dPM5AmpmZmUlkz0Dwp8ZLN1DQQM3MzMwkR9FAgZVDi/Qm0kDsUbgePazRQCcxCKwsy9FA5/up8TKh0kBkO99PLVXTQNEi2/k2HNRA9P3UeNn300CPwvUojDXTQHE9CtcrCNNAKVyPws2d0kCR7Xw/tbLSQHE9Cte7KdNAEoPAyumV00ACK4cWwUTUQDvfT42X7tRA6SYxCKTC1UBg5dAiQ+rVQMl2vp9y29VA/Knx0kWQ1UDdJAaBtdrVQIGVQ4t8GtZAKVyPwiW81kArhxbZZjfXQO58PzVWz9dAWmQ73zcb2EDhehSul5jYQAIrhxYRRdlAZmZmZn7a2UB56SYxuJXZQJHtfD+FI9pAtMh2vocz2kCcxCCwEh/bQJ7vp8ZDi9tAw/UoXLf420DLoUW20xTcQN9PjZdmudpAvHSTGBzq2UCiRbbzDUraQHNoke1U7dlABFYOLXJ42UD0/dR4sfHZQIGVQ4sMM9pA0SLb+eaR2kCNl24Sqx3bQP7UeOlOWdtA7nw/NVbL20DD9ShcN/XbQPyp8dLN2NdAhetRuFZo2kBzaJHt1P7aQLpJDAJzX9tAEFg5tDB120A=",
          "dtype": "f8"
         }
        }
       ],
       "layout": {
        "annotations": [
         {
          "font": {
           "color": "darkred",
           "family": "Arial",
           "size": 12
          },
          "showarrow": false,
          "text": "Y1982-1983: Global Debt Crisis ",
          "x": 1983,
          "xanchor": "right",
          "xref": "x",
          "y": 1,
          "yanchor": "top",
          "yref": "y domain"
         },
         {
          "font": {
           "color": "darkred",
           "family": "Arial",
           "size": 12
          },
          "showarrow": false,
          "text": "Y2008: Financial Crisis ",
          "x": 2009,
          "xanchor": "right",
          "y": 50833.664
         },
         {
          "font": {
           "color": "darkred",
           "family": "Arial",
           "size": 12
          },
          "showarrow": false,
          "text": "Y2020: COVID Pandemic Impact  ",
          "x": 2020,
          "xanchor": "right",
          "xref": "x",
          "y": 1,
          "yanchor": "top",
          "yref": "y domain"
         }
        ],
        "height": 500,
        "hovermode": "x unified",
        "shapes": [
         {
          "line": {
           "color": "darkred",
           "dash": "dash",
           "width": 2
          },
          "type": "line",
          "x0": 1983,
          "x1": 1983,
          "xref": "x",
          "y0": 0,
          "y1": 1,
          "yref": "y domain"
         },
         {
          "line": {
           "color": "darkred",
           "dash": "dash",
           "width": 2
          },
          "type": "line",
          "x0": 2009,
          "x1": 2009,
          "xref": "x",
          "y0": 0,
          "y1": 1,
          "yref": "y domain"
         },
         {
          "line": {
           "color": "darkred",
           "dash": "dash",
           "width": 2
          },
          "type": "line",
          "x0": 2020,
          "x1": 2020,
          "xref": "x",
          "y0": 0,
          "y1": 1,
          "yref": "y domain"
         }
        ],
        "template": {
         "data": {
          "bar": [
           {
            "error_x": {
             "color": "#2a3f5f"
            },
            "error_y": {
             "color": "#2a3f5f"
            },
            "marker": {
             "line": {
              "color": "white",
              "width": 0.5
             },
             "pattern": {
              "fillmode": "overlay",
              "size": 10,
              "solidity": 0.2
             }
            },
            "type": "bar"
           }
          ],
          "barpolar": [
           {
            "marker": {
             "line": {
              "color": "white",
              "width": 0.5
             },
             "pattern": {
              "fillmode": "overlay",
              "size": 10,
              "solidity": 0.2
             }
            },
            "type": "barpolar"
           }
          ],
          "carpet": [
           {
            "aaxis": {
             "endlinecolor": "#2a3f5f",
             "gridcolor": "#C8D4E3",
             "linecolor": "#C8D4E3",
             "minorgridcolor": "#C8D4E3",
             "startlinecolor": "#2a3f5f"
            },
            "baxis": {
             "endlinecolor": "#2a3f5f",
             "gridcolor": "#C8D4E3",
             "linecolor": "#C8D4E3",
             "minorgridcolor": "#C8D4E3",
             "startlinecolor": "#2a3f5f"
            },
            "type": "carpet"
           }
          ],
          "choropleth": [
           {
            "colorbar": {
             "outlinewidth": 0,
             "ticks": ""
            },
            "type": "choropleth"
           }
          ],
          "contour": [
           {
            "colorbar": {
             "outlinewidth": 0,
             "ticks": ""
            },
            "colorscale": [
             [
              0,
              "#0d0887"
             ],
             [
              0.1111111111111111,
              "#46039f"
             ],
             [
              0.2222222222222222,
              "#7201a8"
             ],
             [
              0.3333333333333333,
              "#9c179e"
             ],
             [
              0.4444444444444444,
              "#bd3786"
             ],
             [
              0.5555555555555556,
              "#d8576b"
             ],
             [
              0.6666666666666666,
              "#ed7953"
             ],
             [
              0.7777777777777778,
              "#fb9f3a"
             ],
             [
              0.8888888888888888,
              "#fdca26"
             ],
             [
              1,
              "#f0f921"
             ]
            ],
            "type": "contour"
           }
          ],
          "contourcarpet": [
           {
            "colorbar": {
             "outlinewidth": 0,
             "ticks": ""
            },
            "type": "contourcarpet"
           }
          ],
          "heatmap": [
           {
            "colorbar": {
             "outlinewidth": 0,
             "ticks": ""
            },
            "colorscale": [
             [
              0,
              "#0d0887"
             ],
             [
              0.1111111111111111,
              "#46039f"
             ],
             [
              0.2222222222222222,
              "#7201a8"
             ],
             [
              0.3333333333333333,
              "#9c179e"
             ],
             [
              0.4444444444444444,
              "#bd3786"
             ],
             [
              0.5555555555555556,
              "#d8576b"
             ],
             [
              0.6666666666666666,
              "#ed7953"
             ],
             [
              0.7777777777777778,
              "#fb9f3a"
             ],
             [
              0.8888888888888888,
              "#fdca26"
             ],
             [
              1,
              "#f0f921"
             ]
            ],
            "type": "heatmap"
           }
          ],
          "histogram": [
           {
            "marker": {
             "pattern": {
              "fillmode": "overlay",
              "size": 10,
              "solidity": 0.2
             }
            },
            "type": "histogram"
           }
          ],
          "histogram2d": [
           {
            "colorbar": {
             "outlinewidth": 0,
             "ticks": ""
            },
            "colorscale": [
             [
              0,
              "#0d0887"
             ],
             [
              0.1111111111111111,
              "#46039f"
             ],
             [
              0.2222222222222222,
              "#7201a8"
             ],
             [
              0.3333333333333333,
              "#9c179e"
             ],
             [
              0.4444444444444444,
              "#bd3786"
             ],
             [
              0.5555555555555556,
              "#d8576b"
             ],
             [
              0.6666666666666666,
              "#ed7953"
             ],
             [
              0.7777777777777778,
              "#fb9f3a"
             ],
             [
              0.8888888888888888,
              "#fdca26"
             ],
             [
              1,
              "#f0f921"
             ]
            ],
            "type": "histogram2d"
           }
          ],
          "histogram2dcontour": [
           {
            "colorbar": {
             "outlinewidth": 0,
             "ticks": ""
            },
            "colorscale": [
             [
              0,
              "#0d0887"
             ],
             [
              0.1111111111111111,
              "#46039f"
             ],
             [
              0.2222222222222222,
              "#7201a8"
             ],
             [
              0.3333333333333333,
              "#9c179e"
             ],
             [
              0.4444444444444444,
              "#bd3786"
             ],
             [
              0.5555555555555556,
              "#d8576b"
             ],
             [
              0.6666666666666666,
              "#ed7953"
             ],
             [
              0.7777777777777778,
              "#fb9f3a"
             ],
             [
              0.8888888888888888,
              "#fdca26"
             ],
             [
              1,
              "#f0f921"
             ]
            ],
            "type": "histogram2dcontour"
           }
          ],
          "mesh3d": [
           {
            "colorbar": {
             "outlinewidth": 0,
             "ticks": ""
            },
            "type": "mesh3d"
           }
          ],
          "parcoords": [
           {
            "line": {
             "colorbar": {
              "outlinewidth": 0,
              "ticks": ""
             }
            },
            "type": "parcoords"
           }
          ],
          "pie": [
           {
            "automargin": true,
            "type": "pie"
           }
          ],
          "scatter": [
           {
            "fillpattern": {
             "fillmode": "overlay",
             "size": 10,
             "solidity": 0.2
            },
            "type": "scatter"
           }
          ],
          "scatter3d": [
           {
            "line": {
             "colorbar": {
              "outlinewidth": 0,
              "ticks": ""
             }
            },
            "marker": {
             "colorbar": {
              "outlinewidth": 0,
              "ticks": ""
             }
            },
            "type": "scatter3d"
           }
          ],
          "scattercarpet": [
           {
            "marker": {
             "colorbar": {
              "outlinewidth": 0,
              "ticks": ""
             }
            },
            "type": "scattercarpet"
           }
          ],
          "scattergeo": [
           {
            "marker": {
             "colorbar": {
              "outlinewidth": 0,
              "ticks": ""
             }
            },
            "type": "scattergeo"
           }
          ],
          "scattergl": [
           {
            "marker": {
             "colorbar": {
              "outlinewidth": 0,
              "ticks": ""
             }
            },
            "type": "scattergl"
           }
          ],
          "scattermap": [
           {
            "marker": {
             "colorbar": {
              "outlinewidth": 0,
              "ticks": ""
             }
            },
            "type": "scattermap"
           }
          ],
          "scattermapbox": [
           {
            "marker": {
             "colorbar": {
              "outlinewidth": 0,
              "ticks": ""
             }
            },
            "type": "scattermapbox"
           }
          ],
          "scatterpolar": [
           {
            "marker": {
             "colorbar": {
              "outlinewidth": 0,
              "ticks": ""
             }
            },
            "type": "scatterpolar"
           }
          ],
          "scatterpolargl": [
           {
            "marker": {
             "colorbar": {
              "outlinewidth": 0,
              "ticks": ""
             }
            },
            "type": "scatterpolargl"
           }
          ],
          "scatterternary": [
           {
            "marker": {
             "colorbar": {
              "outlinewidth": 0,
              "ticks": ""
             }
            },
            "type": "scatterternary"
           }
          ],
          "surface": [
           {
            "colorbar": {
             "outlinewidth": 0,
             "ticks": ""
            },
            "colorscale": [
             [
              0,
              "#0d0887"
             ],
             [
              0.1111111111111111,
              "#46039f"
             ],
             [
              0.2222222222222222,
              "#7201a8"
             ],
             [
              0.3333333333333333,
              "#9c179e"
             ],
             [
              0.4444444444444444,
              "#bd3786"
             ],
             [
              0.5555555555555556,
              "#d8576b"
             ],
             [
              0.6666666666666666,
              "#ed7953"
             ],
             [
              0.7777777777777778,
              "#fb9f3a"
             ],
             [
              0.8888888888888888,
              "#fdca26"
             ],
             [
              1,
              "#f0f921"
             ]
            ],
            "type": "surface"
           }
          ],
          "table": [
           {
            "cells": {
             "fill": {
              "color": "#EBF0F8"
             },
             "line": {
              "color": "white"
             }
            },
            "header": {
             "fill": {
              "color": "#C8D4E3"
             },
             "line": {
              "color": "white"
             }
            },
            "type": "table"
           }
          ]
         },
         "layout": {
          "annotationdefaults": {
           "arrowcolor": "#2a3f5f",
           "arrowhead": 0,
           "arrowwidth": 1
          },
          "autotypenumbers": "strict",
          "coloraxis": {
           "colorbar": {
            "outlinewidth": 0,
            "ticks": ""
           }
          },
          "colorscale": {
           "diverging": [
            [
             0,
             "#8e0152"
            ],
            [
             0.1,
             "#c51b7d"
            ],
            [
             0.2,
             "#de77ae"
            ],
            [
             0.3,
             "#f1b6da"
            ],
            [
             0.4,
             "#fde0ef"
            ],
            [
             0.5,
             "#f7f7f7"
            ],
            [
             0.6,
             "#e6f5d0"
            ],
            [
             0.7,
             "#b8e186"
            ],
            [
             0.8,
             "#7fbc41"
            ],
            [
             0.9,
             "#4d9221"
            ],
            [
             1,
             "#276419"
            ]
           ],
           "sequential": [
            [
             0,
             "#0d0887"
            ],
            [
             0.1111111111111111,
             "#46039f"
            ],
            [
             0.2222222222222222,
             "#7201a8"
            ],
            [
             0.3333333333333333,
             "#9c179e"
            ],
            [
             0.4444444444444444,
             "#bd3786"
            ],
            [
             0.5555555555555556,
             "#d8576b"
            ],
            [
             0.6666666666666666,
             "#ed7953"
            ],
            [
             0.7777777777777778,
             "#fb9f3a"
            ],
            [
             0.8888888888888888,
             "#fdca26"
            ],
            [
             1,
             "#f0f921"
            ]
           ],
           "sequentialminus": [
            [
             0,
             "#0d0887"
            ],
            [
             0.1111111111111111,
             "#46039f"
            ],
            [
             0.2222222222222222,
             "#7201a8"
            ],
            [
             0.3333333333333333,
             "#9c179e"
            ],
            [
             0.4444444444444444,
             "#bd3786"
            ],
            [
             0.5555555555555556,
             "#d8576b"
            ],
            [
             0.6666666666666666,
             "#ed7953"
            ],
            [
             0.7777777777777778,
             "#fb9f3a"
            ],
            [
             0.8888888888888888,
             "#fdca26"
            ],
            [
             1,
             "#f0f921"
            ]
           ]
          },
          "colorway": [
           "#636efa",
           "#EF553B",
           "#00cc96",
           "#ab63fa",
           "#FFA15A",
           "#19d3f3",
           "#FF6692",
           "#B6E880",
           "#FF97FF",
           "#FECB52"
          ],
          "font": {
           "color": "#2a3f5f"
          },
          "geo": {
           "bgcolor": "white",
           "lakecolor": "white",
           "landcolor": "white",
           "showlakes": true,
           "showland": true,
           "subunitcolor": "#C8D4E3"
          },
          "hoverlabel": {
           "align": "left"
          },
          "hovermode": "closest",
          "mapbox": {
           "style": "light"
          },
          "paper_bgcolor": "white",
          "plot_bgcolor": "white",
          "polar": {
           "angularaxis": {
            "gridcolor": "#EBF0F8",
            "linecolor": "#EBF0F8",
            "ticks": ""
           },
           "bgcolor": "white",
           "radialaxis": {
            "gridcolor": "#EBF0F8",
            "linecolor": "#EBF0F8",
            "ticks": ""
           }
          },
          "scene": {
           "xaxis": {
            "backgroundcolor": "white",
            "gridcolor": "#DFE8F3",
            "gridwidth": 2,
            "linecolor": "#EBF0F8",
            "showbackground": true,
            "ticks": "",
            "zerolinecolor": "#EBF0F8"
           },
           "yaxis": {
            "backgroundcolor": "white",
            "gridcolor": "#DFE8F3",
            "gridwidth": 2,
            "linecolor": "#EBF0F8",
            "showbackground": true,
            "ticks": "",
            "zerolinecolor": "#EBF0F8"
           },
           "zaxis": {
            "backgroundcolor": "white",
            "gridcolor": "#DFE8F3",
            "gridwidth": 2,
            "linecolor": "#EBF0F8",
            "showbackground": true,
            "ticks": "",
            "zerolinecolor": "#EBF0F8"
           }
          },
          "shapedefaults": {
           "line": {
            "color": "#2a3f5f"
           }
          },
          "ternary": {
           "aaxis": {
            "gridcolor": "#DFE8F3",
            "linecolor": "#A2B1C6",
            "ticks": ""
           },
           "baxis": {
            "gridcolor": "#DFE8F3",
            "linecolor": "#A2B1C6",
            "ticks": ""
           },
           "bgcolor": "white",
           "caxis": {
            "gridcolor": "#DFE8F3",
            "linecolor": "#A2B1C6",
            "ticks": ""
           }
          },
          "title": {
           "x": 0.05
          },
          "xaxis": {
           "automargin": true,
           "gridcolor": "#EBF0F8",
           "linecolor": "#EBF0F8",
           "ticks": "",
           "title": {
            "standoff": 15
           },
           "zerolinecolor": "#EBF0F8",
           "zerolinewidth": 2
          },
          "yaxis": {
           "automargin": true,
           "gridcolor": "#EBF0F8",
           "linecolor": "#EBF0F8",
           "ticks": "",
           "title": {
            "standoff": 15
           },
           "zerolinecolor": "#EBF0F8",
           "zerolinewidth": 2
          }
         }
        },
        "title": {
         "text": "U.S. End-Use Energy Consumption by Sector 1949–2024"
        },
        "width": 900,
        "xaxis": {
         "title": {
          "text": "Year"
         }
        },
        "yaxis": {
         "title": {
          "text": "Energy Consumption (Trillion Btu)"
         }
        }
       }
      }
     },
     "metadata": {},
     "output_type": "display_data"
    }
   ],
   "source": [
    "# Total end-use energy consumption by sector 1949-2024\n",
    "# Notes: Notable impacts on energy consumption\n",
    "# -- 1982-1983: Global Debt Crisis\n",
    "# -- 2008-2009: Financial Crisis\n",
    "# -- 2020: COVID-19 Pandemic\n",
    "\n",
    "fig2_b = go.Figure()\n",
    "# Add total\n",
    "fig2_b.add_trace(go.Scatter(x=df1_energy[\"Year\"], y=df1_energy[\"TotEnergy_2EndUse\"],\n",
    "                            mode=\"lines\", name=\"Total End-Use\", line=dict(width=3, color=\"black\")))\n",
    "\n",
    "# Add each sector\n",
    "for col, color in zip(\n",
    "    [\"EnergyUse1_Residential\", \"EnergyUse2_Commercial\", \"EnergyUse3_Industrial\", \"EnergyUse4_Transportation\"],\n",
    "    [\"blue\", \"red\", \"green\", \"purple\"]\n",
    "):\n",
    "    fig2_b.add_trace(go.Scatter(x=df1_energy[\"Year\"], y=df1_energy[col],\n",
    "                             mode=\"lines\", name=col, line=dict(width=2, color=color)))\n",
    "\n",
    "# Add a vertical line at Year=1983, Global Debt Crisis\n",
    "fig2_b.add_vline(\n",
    "    x=1983,\n",
    "    line_width=2,\n",
    "    line_dash=\"dash\",\n",
    "    line_color=\"darkred\",\n",
    "    annotation_text=\"Y1982-1983: Global Debt Crisis \",\n",
    "    annotation_position=\"top left\",\n",
    "    annotation_font=dict(color=\"darkred\", size=12, family=\"Arial\")  # customize color, size, font\n",
    ")\n",
    "\n",
    "# Add a vertical line at Year=2009, 2008 Financial Crisis\n",
    "fig2_b.add_vline(\n",
    "    x=2009,\n",
    "    line_width=2,\n",
    "    line_dash=\"dash\",\n",
    "    line_color=\"darkred\",\n",
    "    # annotation_text=\"Y2008: Financial Crisis  \",\n",
    "    # annotation_position=\"top left\",\n",
    "    # annotation_font=dict(color=\"darkred\", size=12, family=\"Arial\")  # customize color, size, font\n",
    ")\n",
    "# Add annotation manually\n",
    "fig2_b.add_annotation(\n",
    "    x=2009, y=df1_energy[\"TotEnergy_2EndUse\"].max() * 2/3,  # 2/3 of y-axis\n",
    "    text=\"Y2008: Financial Crisis \",\n",
    "    showarrow=False,\n",
    "    xanchor=\"right\",    # text appears to the left of the line\n",
    "    font=dict(color=\"darkred\", size=12, family=\"Arial\")  # customize color, size, font\n",
    ")\n",
    "\n",
    "# Add a vertical line at Year=2020, COVID pandemic impact\n",
    "fig2_b.add_vline(\n",
    "    x=2020,\n",
    "    line_width=2,\n",
    "    line_dash=\"dash\",\n",
    "    line_color=\"darkred\",\n",
    "    annotation_text=\"Y2020: COVID Pandemic Impact  \",\n",
    "    annotation_position=\"top left\",\n",
    "    annotation_font=dict(color=\"darkred\", size=12, family=\"Arial\")  # customize color, size, font\n",
    ")\n",
    "\n",
    "# Layout update\n",
    "fig2_b.update_layout(\n",
    "    title=\"U.S. End-Use Energy Consumption by Sector 1949–2024\", \n",
    "    xaxis_title=\"Year\",\n",
    "    yaxis_title=\"Energy Consumption (Trillion Btu)\",\n",
    "    template=\"plotly_white\",\n",
    "    width=900,\n",
    "    height=500,\n",
    "    hovermode=\"x unified\" \n",
    ")\n",
    "\n",
    "fig2_b.show()"
   ]
  },
  {
   "cell_type": "code",
   "execution_count": null,
   "id": "6f1ec6ba",
   "metadata": {},
   "outputs": [
    {
     "data": {
      "application/vnd.plotly.v1+json": {
       "config": {
        "plotlyServerURL": "https://plot.ly"
       },
       "data": [
        {
         "hovertemplate": "End-Use Sector=ElectricityUse1_Residential<br>Year=%{x}<br>Electricity (Trillion Btu)=%{y}<extra></extra>",
         "legendgroup": "ElectricityUse1_Residential",
         "marker": {
          "color": "#636efa",
          "pattern": {
           "shape": ""
          }
         },
         "name": "ElectricityUse1_Residential",
         "orientation": "v",
         "showlegend": true,
         "textposition": "auto",
         "type": "bar",
         "x": {
          "bdata": "nQeeB58HoAehB6IHowekB6UHpgenB6gHqQeqB6sHrAetB64HrwewB7EHsgezB7QHtQe2B7cHuAe5B7oHuwe8B70Hvge/B8AHwQfCB8MHxAfFB8YHxwfIB8kHygfLB8wHzQfOB88H0AfRB9IH0wfUB9UH1gfXB9gH2QfaB9sH3AfdB94H3wfgB+EH4gfjB+QH5QfmB+cH6Ac=",
          "dtype": "i2"
         },
         "xaxis": "x",
         "y": {
          "bdata": "+FPjpZt8bEBCYOXQIstuQJHtfD81uHFAzczMzMzyc0BkO99PjTV2QEJg5dAiyXhAz/dT46Vhe0DpJjEIrJh+QFK4HoXrtYBAWDm0yHYSgkBaZDvfT62DQKAaL90ke4VAc2iR7XzdhkDD9Shcj9KIQAaBlUOLvIpAMzMzMzP8jEAUrkfhegePQAisHFrk5JBATDeJQeAhkkCLbOf7qVeUQGq8dJMYwJZA30+Nl+7bmEAnMQisnKGaQD0K16PwtpxAAiuHFlnhnkBkO99PDdOeQD0K16PwWp9ASOF6FG4qoECPwvUoHDOhQJMYBFaO+qFAkxgEVo4zokAOLbKdLyCjQNv5fmq8QKNAokW28z1yo0AfhetReASkQGq8dJNYy6RA/Knx0s0ppUCR7Xw/ddWlQDMzMzMzq6ZAukkMAuvMp0DNzMzMTCOoQC/dJAaBoahAVOOlm8R3qUBqvHST2PKoQKrx0k1ihKpA46WbxODhqkDhehSuB8qrQMP1KFwP26xAkxgEVs6trEC+nxov3R+uQPp+arz0hK5AL90kBkHJr0ASg8DK4QOwQAaBlUPL3LBA2/l+ahwBsUBWDi2yPTixQCuHFtmuHbJAQmDl0GIDskB/arx0U46yQCGwcmjRZrJASOF6FI4wskASg8DKwUSzQLbz/dSY9rJA001iENhRskBOYhBYGZeyQOxRuB5lwbJA/tR46ca2skDhehSuh86yQARWDi3yX7JAnu+nxouUs0C8dJMYRDKzQKwcWmQ7hbNAGQRWDk2Zs0Av3SQGgR20QNv5fmp8U7NAi2zn+4nas0A=",
          "dtype": "f8"
         },
         "yaxis": "y"
        },
        {
         "hovertemplate": "End-Use Sector=ElectricityUse2_Commercial<br>Year=%{x}<br>Electricity (Trillion Btu)=%{y}<extra></extra>",
         "legendgroup": "ElectricityUse2_Commercial",
         "marker": {
          "color": "#EF553B",
          "pattern": {
           "shape": ""
          }
         },
         "name": "ElectricityUse2_Commercial",
         "orientation": "v",
         "showlegend": true,
         "textposition": "auto",
         "type": "bar",
         "x": {
          "bdata": "nQeeB58HoAehB6IHowekB6UHpgenB6gHqQeqB6sHrAetB64HrwewB7EHsgezB7QHtQe2B7cHuAe5B7oHuwe8B70Hvge/B8AHwQfCB8MHxAfFB8YHxwfIB8kHygfLB8wHzQfOB88H0AfRB9IH0wfUB9UH1gfXB9gH2QfaB9sH3AfdB94H3wfgB+EH4gfjB+QH5QfmB+cH6Ac=",
          "dtype": "i2"
         },
         "xaxis": "x",
         "y": {
          "bdata": "F9nO91MDaUBeukkMAiNsQOxRuB6Fi29AO99PjZcUcUACK4cW2Y5yQKjGSzeJ9XNAx0s3iUHedUBGtvP91MJ3QL6fGi/dqnlAarx0kxg0e0D2KFyPwn1+QKJFtvP994BAdZMYBFbggUCWQ4ts52aDQC/dJAaBfIVAuB6F61EOh0Dn+6nx0qSIQL6fGi/d2YpAgZVDi2zpjEDpJjEIrK+PQN9PjZfuTpFA/tR46abEkkCoxks3CSCUQCUGgZVD/pVAJzEIrJyyl0B1kxgEVnWXQPyp8dJN95hAg8DKocU3mkBYObTIdmebQK5H4XoUVZxARIts53v4nEBg5dAiW8idQPp+arz0xJ9Aarx0kxg6oEC0yHa+34igQDMzMzPzsKFA8tJNYpBeokBeukkMQg2jQI2XbhKD1aNA8KfGSzfmpEDhehSuR52lQCuHFtlOWKZAd76fGi/MpkCcxCCwcqimQPYoXI+CladAEFg5tAhXqEBQjZduEmipQKabxCDwH6pABFYOLbJdq0B9PzVe+rusQOXQItt5bK1AEoPAymHnrkDTTWIQGLyvQNv5fmrcDbBA7nw/NR70r0DdJAaBNWawQLgeheuR/rBAmpmZmblSsUASg8DKgc+xQI2XbhLjzrFAYOXQIvtqsUBxPQrXo7qxQEa28/1Us7FAbef7qRGwsUBzaJHtHNKxQPLSTWKQBbJAqvHSTeIiskCsHFpk2ziyQLByaJENCLJANV66SYxqskAOLbKdTyOyQDm0yHa+KLFAQmDl0KK0sUDFILByqImyQDvfT413xLJA+n5qvNQcs0A=",
          "dtype": "f8"
         },
         "yaxis": "y"
        },
        {
         "hovertemplate": "End-Use Sector=ElectricityUse3_Industrial<br>Year=%{x}<br>Electricity (Trillion Btu)=%{y}<extra></extra>",
         "legendgroup": "ElectricityUse3_Industrial",
         "marker": {
          "color": "#00cc96",
          "pattern": {
           "shape": ""
          }
         },
         "name": "ElectricityUse3_Industrial",
         "orientation": "v",
         "showlegend": true,
         "textposition": "auto",
         "type": "bar",
         "x": {
          "bdata": "nQeeB58HoAehB6IHowekB6UHpgenB6gHqQeqB6sHrAetB64HrwewB7EHsgezB7QHtQe2B7cHuAe5B7oHuwe8B70Hvge/B8AHwQfCB8MHxAfFB8YHxwfIB8kHygfLB8wHzQfOB88H0AfRB9IH0wfUB9UH1gfXB9gH2QfaB9sH3AfdB94H3wfgB+EH4gfjB+QH5QfmB+cH6Ac=",
          "dtype": "i2"
         },
         "xaxis": "x",
         "y": {
          "bdata": "FK5H4XokekDD9Shcjzx/QB+F61G4t4FAf2q8dJPHgkAUrkfhei2FQMdLN4lBOoZAJQaBlUO4i0BOYhBYOX2OQDm0yHa+WI9Ai2zn+6mNjkD6fmq89MyQQA4tsp1vS5FAAAAAAAD1kUAQWDm0SC+TQFyPwvUoH5RA+FPjpRuYlUBU46WbRNuWQPYoXI9Ct5hAc2iR7XzbmUBSuB6Fa8ibQKJFtvN90p1A7FG4HgVvnkA/NV66yWyfQBBYObQIFqFAarx0k9hJokAMAiuHlkGiQOXQItu5VKJAvHSTGMQZpEC6SQwC6/OkQM/3U+MlkaVAN4lBYCVxpkBU46WbBLqlQLTIdr7fAqZAeekmMYjbo0BSuB6Fa6+kQKAaL91kVaZAEoPAyiFOpkDXo3A9iiOmQEa28/2U4KZAYhBYObTlp0Bt5/upsayoQArXo3A9NKlA2/l+anw7qUDNzMzMzO2pQLpJDAIrDKpAWDm0yHbeqkCF61G4nv6qQAAAAACAjatALbKd76esq0Bcj8L1aAWsQOxRuB5FNaxAhetRuF5erEAnMQis3JCqQBKDwMphZapADi2ynW/8qkCTGARWziGrQB+F61G4KqtA001iEBj1qkAZBFYO7WWrQKabxCDw6KpAMzMzM3N0qEC+nxovneOpQHNoke28bKpAjZduEoNGqkBvEoPACkSqQClcj8J1l6pAsHJoke1LqkDJdr6fGgmqQJqZmZnZPKpApHA9CpesqkCTGARWDriqQLKd76fGkKlADi2ynS+sqkA3iUFgpTOrQFyPwvUo56pAVOOlm0R9q0A=",
          "dtype": "f8"
         },
         "yaxis": "y"
        },
        {
         "hovertemplate": "End-Use Sector=ElectricityUse4_Transportation<br>Year=%{x}<br>Electricity (Trillion Btu)=%{y}<extra></extra>",
         "legendgroup": "ElectricityUse4_Transportation",
         "marker": {
          "color": "#ab63fa",
          "pattern": {
           "shape": ""
          }
         },
         "name": "ElectricityUse4_Transportation",
         "orientation": "v",
         "showlegend": true,
         "textposition": "auto",
         "type": "bar",
         "x": {
          "bdata": "nQeeB58HoAehB6IHowekB6UHpgenB6gHqQeqB6sHrAetB64HrwewB7EHsgezB7QHtQe2B7cHuAe5B7oHuwe8B70Hvge/B8AHwQfCB8MHxAfFB8YHxwfIB8kHygfLB8wHzQfOB88H0AfRB9IH0wfUB9UH1gfXB9gH2QfaB9sH3AfdB94H3wfgB+EH4gfjB+QH5QfmB+cH6Ac=",
          "dtype": "i2"
         },
         "xaxis": "x",
         "y": {
          "bdata": "d76fGi8dNkAhsHJokS03QCuHFtnOFzhAppvEILDSNUA730+Nl+41QD81XrpJDDRAjZduEoPgM0C28/3UeIkyQB1aZDvfLzBAYhBYObQILUC8dJMYBNYsQOxRuB6F6yRAbxKDwMqhJEAv3SQGgVUkQClcj8L16CNAEoPAyqEFJECmm8QgsPIjQGIQWDm0SCNAhetRuB4FJECuR+F6FG4kQNejcD0K1yRAGy/dJAZBJUAGgZVDi+wkQMuhRbbzvSRAqvHSTWIQJUD+1HjpJnEjQD81XrpJTCRAke18PzUeJEDP91PjpdskQOf7qfHSDSRAlkOLbOc7JEAX2c73UyMmQMuhRbbzvSVAGy/dJAYBJkCamZmZmVkpQLx0kxgElixAsp3vp8ZLLEB3vp8aLx0uQPyp8dJNIi9AXI/C9SjcL0Atsp3vp0YwQLx0kxgENjBAI9v5fmo8MEB1kxgEVg4wQLpJDAIrRzBACtejcD0KMUAMAiuHFvkwQHnpJjEIzDBAWDm0yHa+MEDn+6nx0u0wQARWDi2yfTFAsHJoke1cMkAOLbKd74czQDMzMzMz0zJAXI/C9Sg8N0ASg8DKoaU4QOkmMQisnDlAtMh2vp8aOUDD9Shcj+I7QLByaJHtHDpAGy/dJAaBOkBxPQrXo1A6QFpkO99PLTpAYOXQItv5OEAxCKwcWgQ6QPLSTWIQeDpAdZMYBFYOOkBOYhBYOZQ5QJhuEoPAqjlA9P3UeOkmOkDRItv5fgo6QJ7vp8ZLVzZAsHJoke2cNUBqvHSTGIQ2QCUGgZVDazdA16NwPQr3N0A=",
          "dtype": "f8"
         },
         "yaxis": "y"
        }
       ],
       "layout": {
        "barmode": "stack",
        "height": 500,
        "legend": {
         "title": {
          "text": "End-Use Sector"
         },
         "tracegroupgap": 0
        },
        "template": {
         "data": {
          "bar": [
           {
            "error_x": {
             "color": "#2a3f5f"
            },
            "error_y": {
             "color": "#2a3f5f"
            },
            "marker": {
             "line": {
              "color": "white",
              "width": 0.5
             },
             "pattern": {
              "fillmode": "overlay",
              "size": 10,
              "solidity": 0.2
             }
            },
            "type": "bar"
           }
          ],
          "barpolar": [
           {
            "marker": {
             "line": {
              "color": "white",
              "width": 0.5
             },
             "pattern": {
              "fillmode": "overlay",
              "size": 10,
              "solidity": 0.2
             }
            },
            "type": "barpolar"
           }
          ],
          "carpet": [
           {
            "aaxis": {
             "endlinecolor": "#2a3f5f",
             "gridcolor": "#C8D4E3",
             "linecolor": "#C8D4E3",
             "minorgridcolor": "#C8D4E3",
             "startlinecolor": "#2a3f5f"
            },
            "baxis": {
             "endlinecolor": "#2a3f5f",
             "gridcolor": "#C8D4E3",
             "linecolor": "#C8D4E3",
             "minorgridcolor": "#C8D4E3",
             "startlinecolor": "#2a3f5f"
            },
            "type": "carpet"
           }
          ],
          "choropleth": [
           {
            "colorbar": {
             "outlinewidth": 0,
             "ticks": ""
            },
            "type": "choropleth"
           }
          ],
          "contour": [
           {
            "colorbar": {
             "outlinewidth": 0,
             "ticks": ""
            },
            "colorscale": [
             [
              0,
              "#0d0887"
             ],
             [
              0.1111111111111111,
              "#46039f"
             ],
             [
              0.2222222222222222,
              "#7201a8"
             ],
             [
              0.3333333333333333,
              "#9c179e"
             ],
             [
              0.4444444444444444,
              "#bd3786"
             ],
             [
              0.5555555555555556,
              "#d8576b"
             ],
             [
              0.6666666666666666,
              "#ed7953"
             ],
             [
              0.7777777777777778,
              "#fb9f3a"
             ],
             [
              0.8888888888888888,
              "#fdca26"
             ],
             [
              1,
              "#f0f921"
             ]
            ],
            "type": "contour"
           }
          ],
          "contourcarpet": [
           {
            "colorbar": {
             "outlinewidth": 0,
             "ticks": ""
            },
            "type": "contourcarpet"
           }
          ],
          "heatmap": [
           {
            "colorbar": {
             "outlinewidth": 0,
             "ticks": ""
            },
            "colorscale": [
             [
              0,
              "#0d0887"
             ],
             [
              0.1111111111111111,
              "#46039f"
             ],
             [
              0.2222222222222222,
              "#7201a8"
             ],
             [
              0.3333333333333333,
              "#9c179e"
             ],
             [
              0.4444444444444444,
              "#bd3786"
             ],
             [
              0.5555555555555556,
              "#d8576b"
             ],
             [
              0.6666666666666666,
              "#ed7953"
             ],
             [
              0.7777777777777778,
              "#fb9f3a"
             ],
             [
              0.8888888888888888,
              "#fdca26"
             ],
             [
              1,
              "#f0f921"
             ]
            ],
            "type": "heatmap"
           }
          ],
          "histogram": [
           {
            "marker": {
             "pattern": {
              "fillmode": "overlay",
              "size": 10,
              "solidity": 0.2
             }
            },
            "type": "histogram"
           }
          ],
          "histogram2d": [
           {
            "colorbar": {
             "outlinewidth": 0,
             "ticks": ""
            },
            "colorscale": [
             [
              0,
              "#0d0887"
             ],
             [
              0.1111111111111111,
              "#46039f"
             ],
             [
              0.2222222222222222,
              "#7201a8"
             ],
             [
              0.3333333333333333,
              "#9c179e"
             ],
             [
              0.4444444444444444,
              "#bd3786"
             ],
             [
              0.5555555555555556,
              "#d8576b"
             ],
             [
              0.6666666666666666,
              "#ed7953"
             ],
             [
              0.7777777777777778,
              "#fb9f3a"
             ],
             [
              0.8888888888888888,
              "#fdca26"
             ],
             [
              1,
              "#f0f921"
             ]
            ],
            "type": "histogram2d"
           }
          ],
          "histogram2dcontour": [
           {
            "colorbar": {
             "outlinewidth": 0,
             "ticks": ""
            },
            "colorscale": [
             [
              0,
              "#0d0887"
             ],
             [
              0.1111111111111111,
              "#46039f"
             ],
             [
              0.2222222222222222,
              "#7201a8"
             ],
             [
              0.3333333333333333,
              "#9c179e"
             ],
             [
              0.4444444444444444,
              "#bd3786"
             ],
             [
              0.5555555555555556,
              "#d8576b"
             ],
             [
              0.6666666666666666,
              "#ed7953"
             ],
             [
              0.7777777777777778,
              "#fb9f3a"
             ],
             [
              0.8888888888888888,
              "#fdca26"
             ],
             [
              1,
              "#f0f921"
             ]
            ],
            "type": "histogram2dcontour"
           }
          ],
          "mesh3d": [
           {
            "colorbar": {
             "outlinewidth": 0,
             "ticks": ""
            },
            "type": "mesh3d"
           }
          ],
          "parcoords": [
           {
            "line": {
             "colorbar": {
              "outlinewidth": 0,
              "ticks": ""
             }
            },
            "type": "parcoords"
           }
          ],
          "pie": [
           {
            "automargin": true,
            "type": "pie"
           }
          ],
          "scatter": [
           {
            "fillpattern": {
             "fillmode": "overlay",
             "size": 10,
             "solidity": 0.2
            },
            "type": "scatter"
           }
          ],
          "scatter3d": [
           {
            "line": {
             "colorbar": {
              "outlinewidth": 0,
              "ticks": ""
             }
            },
            "marker": {
             "colorbar": {
              "outlinewidth": 0,
              "ticks": ""
             }
            },
            "type": "scatter3d"
           }
          ],
          "scattercarpet": [
           {
            "marker": {
             "colorbar": {
              "outlinewidth": 0,
              "ticks": ""
             }
            },
            "type": "scattercarpet"
           }
          ],
          "scattergeo": [
           {
            "marker": {
             "colorbar": {
              "outlinewidth": 0,
              "ticks": ""
             }
            },
            "type": "scattergeo"
           }
          ],
          "scattergl": [
           {
            "marker": {
             "colorbar": {
              "outlinewidth": 0,
              "ticks": ""
             }
            },
            "type": "scattergl"
           }
          ],
          "scattermap": [
           {
            "marker": {
             "colorbar": {
              "outlinewidth": 0,
              "ticks": ""
             }
            },
            "type": "scattermap"
           }
          ],
          "scattermapbox": [
           {
            "marker": {
             "colorbar": {
              "outlinewidth": 0,
              "ticks": ""
             }
            },
            "type": "scattermapbox"
           }
          ],
          "scatterpolar": [
           {
            "marker": {
             "colorbar": {
              "outlinewidth": 0,
              "ticks": ""
             }
            },
            "type": "scatterpolar"
           }
          ],
          "scatterpolargl": [
           {
            "marker": {
             "colorbar": {
              "outlinewidth": 0,
              "ticks": ""
             }
            },
            "type": "scatterpolargl"
           }
          ],
          "scatterternary": [
           {
            "marker": {
             "colorbar": {
              "outlinewidth": 0,
              "ticks": ""
             }
            },
            "type": "scatterternary"
           }
          ],
          "surface": [
           {
            "colorbar": {
             "outlinewidth": 0,
             "ticks": ""
            },
            "colorscale": [
             [
              0,
              "#0d0887"
             ],
             [
              0.1111111111111111,
              "#46039f"
             ],
             [
              0.2222222222222222,
              "#7201a8"
             ],
             [
              0.3333333333333333,
              "#9c179e"
             ],
             [
              0.4444444444444444,
              "#bd3786"
             ],
             [
              0.5555555555555556,
              "#d8576b"
             ],
             [
              0.6666666666666666,
              "#ed7953"
             ],
             [
              0.7777777777777778,
              "#fb9f3a"
             ],
             [
              0.8888888888888888,
              "#fdca26"
             ],
             [
              1,
              "#f0f921"
             ]
            ],
            "type": "surface"
           }
          ],
          "table": [
           {
            "cells": {
             "fill": {
              "color": "#EBF0F8"
             },
             "line": {
              "color": "white"
             }
            },
            "header": {
             "fill": {
              "color": "#C8D4E3"
             },
             "line": {
              "color": "white"
             }
            },
            "type": "table"
           }
          ]
         },
         "layout": {
          "annotationdefaults": {
           "arrowcolor": "#2a3f5f",
           "arrowhead": 0,
           "arrowwidth": 1
          },
          "autotypenumbers": "strict",
          "coloraxis": {
           "colorbar": {
            "outlinewidth": 0,
            "ticks": ""
           }
          },
          "colorscale": {
           "diverging": [
            [
             0,
             "#8e0152"
            ],
            [
             0.1,
             "#c51b7d"
            ],
            [
             0.2,
             "#de77ae"
            ],
            [
             0.3,
             "#f1b6da"
            ],
            [
             0.4,
             "#fde0ef"
            ],
            [
             0.5,
             "#f7f7f7"
            ],
            [
             0.6,
             "#e6f5d0"
            ],
            [
             0.7,
             "#b8e186"
            ],
            [
             0.8,
             "#7fbc41"
            ],
            [
             0.9,
             "#4d9221"
            ],
            [
             1,
             "#276419"
            ]
           ],
           "sequential": [
            [
             0,
             "#0d0887"
            ],
            [
             0.1111111111111111,
             "#46039f"
            ],
            [
             0.2222222222222222,
             "#7201a8"
            ],
            [
             0.3333333333333333,
             "#9c179e"
            ],
            [
             0.4444444444444444,
             "#bd3786"
            ],
            [
             0.5555555555555556,
             "#d8576b"
            ],
            [
             0.6666666666666666,
             "#ed7953"
            ],
            [
             0.7777777777777778,
             "#fb9f3a"
            ],
            [
             0.8888888888888888,
             "#fdca26"
            ],
            [
             1,
             "#f0f921"
            ]
           ],
           "sequentialminus": [
            [
             0,
             "#0d0887"
            ],
            [
             0.1111111111111111,
             "#46039f"
            ],
            [
             0.2222222222222222,
             "#7201a8"
            ],
            [
             0.3333333333333333,
             "#9c179e"
            ],
            [
             0.4444444444444444,
             "#bd3786"
            ],
            [
             0.5555555555555556,
             "#d8576b"
            ],
            [
             0.6666666666666666,
             "#ed7953"
            ],
            [
             0.7777777777777778,
             "#fb9f3a"
            ],
            [
             0.8888888888888888,
             "#fdca26"
            ],
            [
             1,
             "#f0f921"
            ]
           ]
          },
          "colorway": [
           "#636efa",
           "#EF553B",
           "#00cc96",
           "#ab63fa",
           "#FFA15A",
           "#19d3f3",
           "#FF6692",
           "#B6E880",
           "#FF97FF",
           "#FECB52"
          ],
          "font": {
           "color": "#2a3f5f"
          },
          "geo": {
           "bgcolor": "white",
           "lakecolor": "white",
           "landcolor": "white",
           "showlakes": true,
           "showland": true,
           "subunitcolor": "#C8D4E3"
          },
          "hoverlabel": {
           "align": "left"
          },
          "hovermode": "closest",
          "mapbox": {
           "style": "light"
          },
          "paper_bgcolor": "white",
          "plot_bgcolor": "white",
          "polar": {
           "angularaxis": {
            "gridcolor": "#EBF0F8",
            "linecolor": "#EBF0F8",
            "ticks": ""
           },
           "bgcolor": "white",
           "radialaxis": {
            "gridcolor": "#EBF0F8",
            "linecolor": "#EBF0F8",
            "ticks": ""
           }
          },
          "scene": {
           "xaxis": {
            "backgroundcolor": "white",
            "gridcolor": "#DFE8F3",
            "gridwidth": 2,
            "linecolor": "#EBF0F8",
            "showbackground": true,
            "ticks": "",
            "zerolinecolor": "#EBF0F8"
           },
           "yaxis": {
            "backgroundcolor": "white",
            "gridcolor": "#DFE8F3",
            "gridwidth": 2,
            "linecolor": "#EBF0F8",
            "showbackground": true,
            "ticks": "",
            "zerolinecolor": "#EBF0F8"
           },
           "zaxis": {
            "backgroundcolor": "white",
            "gridcolor": "#DFE8F3",
            "gridwidth": 2,
            "linecolor": "#EBF0F8",
            "showbackground": true,
            "ticks": "",
            "zerolinecolor": "#EBF0F8"
           }
          },
          "shapedefaults": {
           "line": {
            "color": "#2a3f5f"
           }
          },
          "ternary": {
           "aaxis": {
            "gridcolor": "#DFE8F3",
            "linecolor": "#A2B1C6",
            "ticks": ""
           },
           "baxis": {
            "gridcolor": "#DFE8F3",
            "linecolor": "#A2B1C6",
            "ticks": ""
           },
           "bgcolor": "white",
           "caxis": {
            "gridcolor": "#DFE8F3",
            "linecolor": "#A2B1C6",
            "ticks": ""
           }
          },
          "title": {
           "x": 0.05
          },
          "xaxis": {
           "automargin": true,
           "gridcolor": "#EBF0F8",
           "linecolor": "#EBF0F8",
           "ticks": "",
           "title": {
            "standoff": 15
           },
           "zerolinecolor": "#EBF0F8",
           "zerolinewidth": 2
          },
          "yaxis": {
           "automargin": true,
           "gridcolor": "#EBF0F8",
           "linecolor": "#EBF0F8",
           "ticks": "",
           "title": {
            "standoff": 15
           },
           "zerolinecolor": "#EBF0F8",
           "zerolinewidth": 2
          }
         }
        },
        "title": {
         "text": "U.S. Electricity Consumption by Sector (End-Use) 1949–2024"
        },
        "width": 900,
        "xaxis": {
         "anchor": "y",
         "domain": [
          0,
          1
         ],
         "title": {
          "text": "Year"
         }
        },
        "yaxis": {
         "anchor": "x",
         "domain": [
          0,
          1
         ],
         "title": {
          "text": "Electricity (Trillion Btu)"
         }
        }
       }
      }
     },
     "metadata": {},
     "output_type": "display_data"
    }
   ],
   "source": [
    "# Total electricity consumption by sector (end-use) 1949-2024\n",
    "df_sectors_elec = df1_energy[[\n",
    "    \"Year\",\n",
    "    \"ElectricityUse1_Residential\",\n",
    "    \"ElectricityUse2_Commercial\",\n",
    "    \"ElectricityUse3_Industrial\",\n",
    "    \"ElectricityUse4_Transportation\"\n",
    "]]\n",
    "\n",
    "# Melt for plotting\n",
    "df_sectors_melt = df_sectors_elec.melt(id_vars=\"Year\", \n",
    "                                  var_name=\"End-Use Sector\", \n",
    "                                  value_name=\"Electricity (Trillion Btu)\")\n",
    "fig3 = px.bar(\n",
    "    df_sectors_melt,\n",
    "    x=\"Year\",\n",
    "    y=\"Electricity (Trillion Btu)\",\n",
    "    color=\"End-Use Sector\",\n",
    "    title=\"U.S. Electricity Consumption by Sector (End-Use) 1949–2024\",\n",
    "    barmode=\"stack\"\n",
    ")\n",
    "\n",
    "fig3.update_layout(\n",
    "    template=\"plotly_white\",\n",
    "    width=900,\n",
    "    height=500\n",
    ")\n",
    "\n",
    "fig3.show()\n"
   ]
  },
  {
   "cell_type": "code",
   "execution_count": 99,
   "id": "ec4490be",
   "metadata": {},
   "outputs": [
    {
     "data": {
      "application/vnd.plotly.v1+json": {
       "config": {
        "plotlyServerURL": "https://plot.ly"
       },
       "data": [
        {
         "line": {
          "color": "black",
          "width": 3
         },
         "mode": "lines",
         "name": "Total Electricity End-Use",
         "type": "scatter",
         "x": {
          "bdata": "nQeeB58HoAehB6IHowekB6UHpgenB6gHqQeqB6sHrAetB64HrwewB7EHsgezB7QHtQe2B7cHuAe5B7oHuwe8B70Hvge/B8AHwQfCB8MHxAfFB8YHxwfIB8kHygfLB8wHzQfOB88H0AfRB9IH0wfUB9UH1gfXB9gH2QfaB9sH3AfdB94H3wfgB+EH4gfjB+QH5QfmB+cH6Ac=",
          "dtype": "i2"
         },
         "y": {
          "bdata": "oBov3SQji0AK16NwPROPQE5iEFi5m5FAgZVDi+z8kkAhsHJokR+VQHNoke38nJZAVg4tsp17mkBCYOXQoh+dQG8Sg8DKsp5ALbKd7ydXn0AnMQisXD6hQOkmMQhsV6JADAIrh5Y+o0CkcD0KV7qkQJhuEoPAMaZA+n5qvLTip0DFILByqGypQH9qvHTTl6tAK4cW2Q5NrUAEVg4tMgiwQIGVQ4vMgrFA/tR46YaOskAEVg4tEpazQKabxCCwQrVAuB6F63HUtkAnMQisnLy2QJzEILASSbdAmpmZmRm6uEArhxbZzve5QGZmZmYm5bpApHA9Cpeau0D2KFyPQuq7QNejcD3qnbxAppvEIPDOu0DfT42XDqu8QI2XbhIjd75AGy/dJGb5vkDD9ShcL5K/QAaBlUMbYMBAJzEIrCwuwUCgGi/ddKPBQJMYBFaeE8JAMQisHPpnwkC+nxovTWrCQOF6FK6nEcNAvp8aL12Ow0BvEoPAqhTEQClcj8KFqsRATmIQWGn2xECkcD0Kx8DFQPhT46VrEsZAhetRuO7MxkBeukkM8p7GQClcj8IVGMdADi2ynU9Ix0AAAAAAAKTHQM3MzMycZchAbef7qeF0yEBKDAIrVxbJQPp+arwk4shAuB6F6yH4x0BQjZduwgXJQM3MzMw8/chA9ihcjxKfyEBaZDvfn9LIQLx0kxiUFslA8KfGS9cMyUBQjZduwhLJQPhT46UL0MhA7FG4HsW3yUD2KFyP0mXJQNejcD1axshAqvHSTdJcyUCmm8QgwCvKQOXQItt50clARIts5/tmykA=",
          "dtype": "f8"
         }
        },
        {
         "line": {
          "color": "blue",
          "width": 2
         },
         "mode": "lines",
         "name": "ElectricityUse1_Residential",
         "type": "scatter",
         "x": {
          "bdata": "nQeeB58HoAehB6IHowekB6UHpgenB6gHqQeqB6sHrAetB64HrwewB7EHsgezB7QHtQe2B7cHuAe5B7oHuwe8B70Hvge/B8AHwQfCB8MHxAfFB8YHxwfIB8kHygfLB8wHzQfOB88H0AfRB9IH0wfUB9UH1gfXB9gH2QfaB9sH3AfdB94H3wfgB+EH4gfjB+QH5QfmB+cH6Ac=",
          "dtype": "i2"
         },
         "y": {
          "bdata": "+FPjpZt8bEBCYOXQIstuQJHtfD81uHFAzczMzMzyc0BkO99PjTV2QEJg5dAiyXhAz/dT46Vhe0DpJjEIrJh+QFK4HoXrtYBAWDm0yHYSgkBaZDvfT62DQKAaL90ke4VAc2iR7XzdhkDD9Shcj9KIQAaBlUOLvIpAMzMzMzP8jEAUrkfhegePQAisHFrk5JBATDeJQeAhkkCLbOf7qVeUQGq8dJMYwJZA30+Nl+7bmEAnMQisnKGaQD0K16PwtpxAAiuHFlnhnkBkO99PDdOeQD0K16PwWp9ASOF6FG4qoECPwvUoHDOhQJMYBFaO+qFAkxgEVo4zokAOLbKdLyCjQNv5fmq8QKNAokW28z1yo0AfhetReASkQGq8dJNYy6RA/Knx0s0ppUCR7Xw/ddWlQDMzMzMzq6ZAukkMAuvMp0DNzMzMTCOoQC/dJAaBoahAVOOlm8R3qUBqvHST2PKoQKrx0k1ihKpA46WbxODhqkDhehSuB8qrQMP1KFwP26xAkxgEVs6trEC+nxov3R+uQPp+arz0hK5AL90kBkHJr0ASg8DK4QOwQAaBlUPL3LBA2/l+ahwBsUBWDi2yPTixQCuHFtmuHbJAQmDl0GIDskB/arx0U46yQCGwcmjRZrJASOF6FI4wskASg8DKwUSzQLbz/dSY9rJA001iENhRskBOYhBYGZeyQOxRuB5lwbJA/tR46ca2skDhehSuh86yQARWDi3yX7JAnu+nxouUs0C8dJMYRDKzQKwcWmQ7hbNAGQRWDk2Zs0Av3SQGgR20QNv5fmp8U7NAi2zn+4nas0A=",
          "dtype": "f8"
         }
        },
        {
         "line": {
          "color": "red",
          "width": 2
         },
         "mode": "lines",
         "name": "ElectricityUse2_Commercial",
         "type": "scatter",
         "x": {
          "bdata": "nQeeB58HoAehB6IHowekB6UHpgenB6gHqQeqB6sHrAetB64HrwewB7EHsgezB7QHtQe2B7cHuAe5B7oHuwe8B70Hvge/B8AHwQfCB8MHxAfFB8YHxwfIB8kHygfLB8wHzQfOB88H0AfRB9IH0wfUB9UH1gfXB9gH2QfaB9sH3AfdB94H3wfgB+EH4gfjB+QH5QfmB+cH6Ac=",
          "dtype": "i2"
         },
         "y": {
          "bdata": "F9nO91MDaUBeukkMAiNsQOxRuB6Fi29AO99PjZcUcUACK4cW2Y5yQKjGSzeJ9XNAx0s3iUHedUBGtvP91MJ3QL6fGi/dqnlAarx0kxg0e0D2KFyPwn1+QKJFtvP994BAdZMYBFbggUCWQ4ts52aDQC/dJAaBfIVAuB6F61EOh0Dn+6nx0qSIQL6fGi/d2YpAgZVDi2zpjEDpJjEIrK+PQN9PjZfuTpFA/tR46abEkkCoxks3CSCUQCUGgZVD/pVAJzEIrJyyl0B1kxgEVnWXQPyp8dJN95hAg8DKocU3mkBYObTIdmebQK5H4XoUVZxARIts53v4nEBg5dAiW8idQPp+arz0xJ9Aarx0kxg6oEC0yHa+34igQDMzMzPzsKFA8tJNYpBeokBeukkMQg2jQI2XbhKD1aNA8KfGSzfmpEDhehSuR52lQCuHFtlOWKZAd76fGi/MpkCcxCCwcqimQPYoXI+CladAEFg5tAhXqEBQjZduEmipQKabxCDwH6pABFYOLbJdq0B9PzVe+rusQOXQItt5bK1AEoPAymHnrkDTTWIQGLyvQNv5fmrcDbBA7nw/NR70r0DdJAaBNWawQLgeheuR/rBAmpmZmblSsUASg8DKgc+xQI2XbhLjzrFAYOXQIvtqsUBxPQrXo7qxQEa28/1Us7FAbef7qRGwsUBzaJHtHNKxQPLSTWKQBbJAqvHSTeIiskCsHFpk2ziyQLByaJENCLJANV66SYxqskAOLbKdTyOyQDm0yHa+KLFAQmDl0KK0sUDFILByqImyQDvfT413xLJA+n5qvNQcs0A=",
          "dtype": "f8"
         }
        },
        {
         "line": {
          "color": "green",
          "width": 2
         },
         "mode": "lines",
         "name": "ElectricityUse3_Industrial",
         "type": "scatter",
         "x": {
          "bdata": "nQeeB58HoAehB6IHowekB6UHpgenB6gHqQeqB6sHrAetB64HrwewB7EHsgezB7QHtQe2B7cHuAe5B7oHuwe8B70Hvge/B8AHwQfCB8MHxAfFB8YHxwfIB8kHygfLB8wHzQfOB88H0AfRB9IH0wfUB9UH1gfXB9gH2QfaB9sH3AfdB94H3wfgB+EH4gfjB+QH5QfmB+cH6Ac=",
          "dtype": "i2"
         },
         "y": {
          "bdata": "FK5H4XokekDD9Shcjzx/QB+F61G4t4FAf2q8dJPHgkAUrkfhei2FQMdLN4lBOoZAJQaBlUO4i0BOYhBYOX2OQDm0yHa+WI9Ai2zn+6mNjkD6fmq89MyQQA4tsp1vS5FAAAAAAAD1kUAQWDm0SC+TQFyPwvUoH5RA+FPjpRuYlUBU46WbRNuWQPYoXI9Ct5hAc2iR7XzbmUBSuB6Fa8ibQKJFtvN90p1A7FG4HgVvnkA/NV66yWyfQBBYObQIFqFAarx0k9hJokAMAiuHlkGiQOXQItu5VKJAvHSTGMQZpEC6SQwC6/OkQM/3U+MlkaVAN4lBYCVxpkBU46WbBLqlQLTIdr7fAqZAeekmMYjbo0BSuB6Fa6+kQKAaL91kVaZAEoPAyiFOpkDXo3A9iiOmQEa28/2U4KZAYhBYObTlp0Bt5/upsayoQArXo3A9NKlA2/l+anw7qUDNzMzMzO2pQLpJDAIrDKpAWDm0yHbeqkCF61G4nv6qQAAAAACAjatALbKd76esq0Bcj8L1aAWsQOxRuB5FNaxAhetRuF5erEAnMQis3JCqQBKDwMphZapADi2ynW/8qkCTGARWziGrQB+F61G4KqtA001iEBj1qkAZBFYO7WWrQKabxCDw6KpAMzMzM3N0qEC+nxovneOpQHNoke28bKpAjZduEoNGqkBvEoPACkSqQClcj8J1l6pAsHJoke1LqkDJdr6fGgmqQJqZmZnZPKpApHA9CpesqkCTGARWDriqQLKd76fGkKlADi2ynS+sqkA3iUFgpTOrQFyPwvUo56pAVOOlm0R9q0A=",
          "dtype": "f8"
         }
        },
        {
         "line": {
          "color": "purple",
          "width": 2
         },
         "mode": "lines",
         "name": "ElectricityUse4_Transportation",
         "type": "scatter",
         "x": {
          "bdata": "nQeeB58HoAehB6IHowekB6UHpgenB6gHqQeqB6sHrAetB64HrwewB7EHsgezB7QHtQe2B7cHuAe5B7oHuwe8B70Hvge/B8AHwQfCB8MHxAfFB8YHxwfIB8kHygfLB8wHzQfOB88H0AfRB9IH0wfUB9UH1gfXB9gH2QfaB9sH3AfdB94H3wfgB+EH4gfjB+QH5QfmB+cH6Ac=",
          "dtype": "i2"
         },
         "y": {
          "bdata": "d76fGi8dNkAhsHJokS03QCuHFtnOFzhAppvEILDSNUA730+Nl+41QD81XrpJDDRAjZduEoPgM0C28/3UeIkyQB1aZDvfLzBAYhBYObQILUC8dJMYBNYsQOxRuB6F6yRAbxKDwMqhJEAv3SQGgVUkQClcj8L16CNAEoPAyqEFJECmm8QgsPIjQGIQWDm0SCNAhetRuB4FJECuR+F6FG4kQNejcD0K1yRAGy/dJAZBJUAGgZVDi+wkQMuhRbbzvSRAqvHSTWIQJUD+1HjpJnEjQD81XrpJTCRAke18PzUeJEDP91PjpdskQOf7qfHSDSRAlkOLbOc7JEAX2c73UyMmQMuhRbbzvSVAGy/dJAYBJkCamZmZmVkpQLx0kxgElixAsp3vp8ZLLEB3vp8aLx0uQPyp8dJNIi9AXI/C9SjcL0Atsp3vp0YwQLx0kxgENjBAI9v5fmo8MEB1kxgEVg4wQLpJDAIrRzBACtejcD0KMUAMAiuHFvkwQHnpJjEIzDBAWDm0yHa+MEDn+6nx0u0wQARWDi2yfTFAsHJoke1cMkAOLbKd74czQDMzMzMz0zJAXI/C9Sg8N0ASg8DKoaU4QOkmMQisnDlAtMh2vp8aOUDD9Shcj+I7QLByaJHtHDpAGy/dJAaBOkBxPQrXo1A6QFpkO99PLTpAYOXQItv5OEAxCKwcWgQ6QPLSTWIQeDpAdZMYBFYOOkBOYhBYOZQ5QJhuEoPAqjlA9P3UeOkmOkDRItv5fgo6QJ7vp8ZLVzZAsHJoke2cNUBqvHSTGIQ2QCUGgZVDazdA16NwPQr3N0A=",
          "dtype": "f8"
         }
        }
       ],
       "layout": {
        "annotations": [
         {
          "font": {
           "color": "darkred",
           "family": "Arial",
           "size": 12
          },
          "showarrow": false,
          "text": "Y1982-1983: Global Debt Crisis ",
          "x": 1983,
          "xanchor": "right",
          "xref": "x",
          "y": 1,
          "yanchor": "top",
          "yref": "y domain"
         },
         {
          "font": {
           "color": "darkred",
           "family": "Arial",
           "size": 12
          },
          "showarrow": false,
          "text": "Y2008: Financial Crisis ",
          "x": 2009,
          "xanchor": "right",
          "y": 9011.978666666668
         },
         {
          "font": {
           "color": "darkred",
           "family": "Arial",
           "size": 12
          },
          "showarrow": false,
          "text": "Y2020: COVID Pandemic Impact  ",
          "x": 2020,
          "xanchor": "right",
          "xref": "x",
          "y": 1,
          "yanchor": "top",
          "yref": "y domain"
         }
        ],
        "height": 500,
        "hovermode": "x unified",
        "shapes": [
         {
          "line": {
           "color": "darkred",
           "dash": "dash",
           "width": 2
          },
          "type": "line",
          "x0": 1983,
          "x1": 1983,
          "xref": "x",
          "y0": 0,
          "y1": 1,
          "yref": "y domain"
         },
         {
          "line": {
           "color": "darkred",
           "dash": "dash",
           "width": 2
          },
          "type": "line",
          "x0": 2009,
          "x1": 2009,
          "xref": "x",
          "y0": 0,
          "y1": 1,
          "yref": "y domain"
         },
         {
          "line": {
           "color": "darkred",
           "dash": "dash",
           "width": 2
          },
          "type": "line",
          "x0": 2020,
          "x1": 2020,
          "xref": "x",
          "y0": 0,
          "y1": 1,
          "yref": "y domain"
         }
        ],
        "template": {
         "data": {
          "bar": [
           {
            "error_x": {
             "color": "#2a3f5f"
            },
            "error_y": {
             "color": "#2a3f5f"
            },
            "marker": {
             "line": {
              "color": "white",
              "width": 0.5
             },
             "pattern": {
              "fillmode": "overlay",
              "size": 10,
              "solidity": 0.2
             }
            },
            "type": "bar"
           }
          ],
          "barpolar": [
           {
            "marker": {
             "line": {
              "color": "white",
              "width": 0.5
             },
             "pattern": {
              "fillmode": "overlay",
              "size": 10,
              "solidity": 0.2
             }
            },
            "type": "barpolar"
           }
          ],
          "carpet": [
           {
            "aaxis": {
             "endlinecolor": "#2a3f5f",
             "gridcolor": "#C8D4E3",
             "linecolor": "#C8D4E3",
             "minorgridcolor": "#C8D4E3",
             "startlinecolor": "#2a3f5f"
            },
            "baxis": {
             "endlinecolor": "#2a3f5f",
             "gridcolor": "#C8D4E3",
             "linecolor": "#C8D4E3",
             "minorgridcolor": "#C8D4E3",
             "startlinecolor": "#2a3f5f"
            },
            "type": "carpet"
           }
          ],
          "choropleth": [
           {
            "colorbar": {
             "outlinewidth": 0,
             "ticks": ""
            },
            "type": "choropleth"
           }
          ],
          "contour": [
           {
            "colorbar": {
             "outlinewidth": 0,
             "ticks": ""
            },
            "colorscale": [
             [
              0,
              "#0d0887"
             ],
             [
              0.1111111111111111,
              "#46039f"
             ],
             [
              0.2222222222222222,
              "#7201a8"
             ],
             [
              0.3333333333333333,
              "#9c179e"
             ],
             [
              0.4444444444444444,
              "#bd3786"
             ],
             [
              0.5555555555555556,
              "#d8576b"
             ],
             [
              0.6666666666666666,
              "#ed7953"
             ],
             [
              0.7777777777777778,
              "#fb9f3a"
             ],
             [
              0.8888888888888888,
              "#fdca26"
             ],
             [
              1,
              "#f0f921"
             ]
            ],
            "type": "contour"
           }
          ],
          "contourcarpet": [
           {
            "colorbar": {
             "outlinewidth": 0,
             "ticks": ""
            },
            "type": "contourcarpet"
           }
          ],
          "heatmap": [
           {
            "colorbar": {
             "outlinewidth": 0,
             "ticks": ""
            },
            "colorscale": [
             [
              0,
              "#0d0887"
             ],
             [
              0.1111111111111111,
              "#46039f"
             ],
             [
              0.2222222222222222,
              "#7201a8"
             ],
             [
              0.3333333333333333,
              "#9c179e"
             ],
             [
              0.4444444444444444,
              "#bd3786"
             ],
             [
              0.5555555555555556,
              "#d8576b"
             ],
             [
              0.6666666666666666,
              "#ed7953"
             ],
             [
              0.7777777777777778,
              "#fb9f3a"
             ],
             [
              0.8888888888888888,
              "#fdca26"
             ],
             [
              1,
              "#f0f921"
             ]
            ],
            "type": "heatmap"
           }
          ],
          "histogram": [
           {
            "marker": {
             "pattern": {
              "fillmode": "overlay",
              "size": 10,
              "solidity": 0.2
             }
            },
            "type": "histogram"
           }
          ],
          "histogram2d": [
           {
            "colorbar": {
             "outlinewidth": 0,
             "ticks": ""
            },
            "colorscale": [
             [
              0,
              "#0d0887"
             ],
             [
              0.1111111111111111,
              "#46039f"
             ],
             [
              0.2222222222222222,
              "#7201a8"
             ],
             [
              0.3333333333333333,
              "#9c179e"
             ],
             [
              0.4444444444444444,
              "#bd3786"
             ],
             [
              0.5555555555555556,
              "#d8576b"
             ],
             [
              0.6666666666666666,
              "#ed7953"
             ],
             [
              0.7777777777777778,
              "#fb9f3a"
             ],
             [
              0.8888888888888888,
              "#fdca26"
             ],
             [
              1,
              "#f0f921"
             ]
            ],
            "type": "histogram2d"
           }
          ],
          "histogram2dcontour": [
           {
            "colorbar": {
             "outlinewidth": 0,
             "ticks": ""
            },
            "colorscale": [
             [
              0,
              "#0d0887"
             ],
             [
              0.1111111111111111,
              "#46039f"
             ],
             [
              0.2222222222222222,
              "#7201a8"
             ],
             [
              0.3333333333333333,
              "#9c179e"
             ],
             [
              0.4444444444444444,
              "#bd3786"
             ],
             [
              0.5555555555555556,
              "#d8576b"
             ],
             [
              0.6666666666666666,
              "#ed7953"
             ],
             [
              0.7777777777777778,
              "#fb9f3a"
             ],
             [
              0.8888888888888888,
              "#fdca26"
             ],
             [
              1,
              "#f0f921"
             ]
            ],
            "type": "histogram2dcontour"
           }
          ],
          "mesh3d": [
           {
            "colorbar": {
             "outlinewidth": 0,
             "ticks": ""
            },
            "type": "mesh3d"
           }
          ],
          "parcoords": [
           {
            "line": {
             "colorbar": {
              "outlinewidth": 0,
              "ticks": ""
             }
            },
            "type": "parcoords"
           }
          ],
          "pie": [
           {
            "automargin": true,
            "type": "pie"
           }
          ],
          "scatter": [
           {
            "fillpattern": {
             "fillmode": "overlay",
             "size": 10,
             "solidity": 0.2
            },
            "type": "scatter"
           }
          ],
          "scatter3d": [
           {
            "line": {
             "colorbar": {
              "outlinewidth": 0,
              "ticks": ""
             }
            },
            "marker": {
             "colorbar": {
              "outlinewidth": 0,
              "ticks": ""
             }
            },
            "type": "scatter3d"
           }
          ],
          "scattercarpet": [
           {
            "marker": {
             "colorbar": {
              "outlinewidth": 0,
              "ticks": ""
             }
            },
            "type": "scattercarpet"
           }
          ],
          "scattergeo": [
           {
            "marker": {
             "colorbar": {
              "outlinewidth": 0,
              "ticks": ""
             }
            },
            "type": "scattergeo"
           }
          ],
          "scattergl": [
           {
            "marker": {
             "colorbar": {
              "outlinewidth": 0,
              "ticks": ""
             }
            },
            "type": "scattergl"
           }
          ],
          "scattermap": [
           {
            "marker": {
             "colorbar": {
              "outlinewidth": 0,
              "ticks": ""
             }
            },
            "type": "scattermap"
           }
          ],
          "scattermapbox": [
           {
            "marker": {
             "colorbar": {
              "outlinewidth": 0,
              "ticks": ""
             }
            },
            "type": "scattermapbox"
           }
          ],
          "scatterpolar": [
           {
            "marker": {
             "colorbar": {
              "outlinewidth": 0,
              "ticks": ""
             }
            },
            "type": "scatterpolar"
           }
          ],
          "scatterpolargl": [
           {
            "marker": {
             "colorbar": {
              "outlinewidth": 0,
              "ticks": ""
             }
            },
            "type": "scatterpolargl"
           }
          ],
          "scatterternary": [
           {
            "marker": {
             "colorbar": {
              "outlinewidth": 0,
              "ticks": ""
             }
            },
            "type": "scatterternary"
           }
          ],
          "surface": [
           {
            "colorbar": {
             "outlinewidth": 0,
             "ticks": ""
            },
            "colorscale": [
             [
              0,
              "#0d0887"
             ],
             [
              0.1111111111111111,
              "#46039f"
             ],
             [
              0.2222222222222222,
              "#7201a8"
             ],
             [
              0.3333333333333333,
              "#9c179e"
             ],
             [
              0.4444444444444444,
              "#bd3786"
             ],
             [
              0.5555555555555556,
              "#d8576b"
             ],
             [
              0.6666666666666666,
              "#ed7953"
             ],
             [
              0.7777777777777778,
              "#fb9f3a"
             ],
             [
              0.8888888888888888,
              "#fdca26"
             ],
             [
              1,
              "#f0f921"
             ]
            ],
            "type": "surface"
           }
          ],
          "table": [
           {
            "cells": {
             "fill": {
              "color": "#EBF0F8"
             },
             "line": {
              "color": "white"
             }
            },
            "header": {
             "fill": {
              "color": "#C8D4E3"
             },
             "line": {
              "color": "white"
             }
            },
            "type": "table"
           }
          ]
         },
         "layout": {
          "annotationdefaults": {
           "arrowcolor": "#2a3f5f",
           "arrowhead": 0,
           "arrowwidth": 1
          },
          "autotypenumbers": "strict",
          "coloraxis": {
           "colorbar": {
            "outlinewidth": 0,
            "ticks": ""
           }
          },
          "colorscale": {
           "diverging": [
            [
             0,
             "#8e0152"
            ],
            [
             0.1,
             "#c51b7d"
            ],
            [
             0.2,
             "#de77ae"
            ],
            [
             0.3,
             "#f1b6da"
            ],
            [
             0.4,
             "#fde0ef"
            ],
            [
             0.5,
             "#f7f7f7"
            ],
            [
             0.6,
             "#e6f5d0"
            ],
            [
             0.7,
             "#b8e186"
            ],
            [
             0.8,
             "#7fbc41"
            ],
            [
             0.9,
             "#4d9221"
            ],
            [
             1,
             "#276419"
            ]
           ],
           "sequential": [
            [
             0,
             "#0d0887"
            ],
            [
             0.1111111111111111,
             "#46039f"
            ],
            [
             0.2222222222222222,
             "#7201a8"
            ],
            [
             0.3333333333333333,
             "#9c179e"
            ],
            [
             0.4444444444444444,
             "#bd3786"
            ],
            [
             0.5555555555555556,
             "#d8576b"
            ],
            [
             0.6666666666666666,
             "#ed7953"
            ],
            [
             0.7777777777777778,
             "#fb9f3a"
            ],
            [
             0.8888888888888888,
             "#fdca26"
            ],
            [
             1,
             "#f0f921"
            ]
           ],
           "sequentialminus": [
            [
             0,
             "#0d0887"
            ],
            [
             0.1111111111111111,
             "#46039f"
            ],
            [
             0.2222222222222222,
             "#7201a8"
            ],
            [
             0.3333333333333333,
             "#9c179e"
            ],
            [
             0.4444444444444444,
             "#bd3786"
            ],
            [
             0.5555555555555556,
             "#d8576b"
            ],
            [
             0.6666666666666666,
             "#ed7953"
            ],
            [
             0.7777777777777778,
             "#fb9f3a"
            ],
            [
             0.8888888888888888,
             "#fdca26"
            ],
            [
             1,
             "#f0f921"
            ]
           ]
          },
          "colorway": [
           "#636efa",
           "#EF553B",
           "#00cc96",
           "#ab63fa",
           "#FFA15A",
           "#19d3f3",
           "#FF6692",
           "#B6E880",
           "#FF97FF",
           "#FECB52"
          ],
          "font": {
           "color": "#2a3f5f"
          },
          "geo": {
           "bgcolor": "white",
           "lakecolor": "white",
           "landcolor": "white",
           "showlakes": true,
           "showland": true,
           "subunitcolor": "#C8D4E3"
          },
          "hoverlabel": {
           "align": "left"
          },
          "hovermode": "closest",
          "mapbox": {
           "style": "light"
          },
          "paper_bgcolor": "white",
          "plot_bgcolor": "white",
          "polar": {
           "angularaxis": {
            "gridcolor": "#EBF0F8",
            "linecolor": "#EBF0F8",
            "ticks": ""
           },
           "bgcolor": "white",
           "radialaxis": {
            "gridcolor": "#EBF0F8",
            "linecolor": "#EBF0F8",
            "ticks": ""
           }
          },
          "scene": {
           "xaxis": {
            "backgroundcolor": "white",
            "gridcolor": "#DFE8F3",
            "gridwidth": 2,
            "linecolor": "#EBF0F8",
            "showbackground": true,
            "ticks": "",
            "zerolinecolor": "#EBF0F8"
           },
           "yaxis": {
            "backgroundcolor": "white",
            "gridcolor": "#DFE8F3",
            "gridwidth": 2,
            "linecolor": "#EBF0F8",
            "showbackground": true,
            "ticks": "",
            "zerolinecolor": "#EBF0F8"
           },
           "zaxis": {
            "backgroundcolor": "white",
            "gridcolor": "#DFE8F3",
            "gridwidth": 2,
            "linecolor": "#EBF0F8",
            "showbackground": true,
            "ticks": "",
            "zerolinecolor": "#EBF0F8"
           }
          },
          "shapedefaults": {
           "line": {
            "color": "#2a3f5f"
           }
          },
          "ternary": {
           "aaxis": {
            "gridcolor": "#DFE8F3",
            "linecolor": "#A2B1C6",
            "ticks": ""
           },
           "baxis": {
            "gridcolor": "#DFE8F3",
            "linecolor": "#A2B1C6",
            "ticks": ""
           },
           "bgcolor": "white",
           "caxis": {
            "gridcolor": "#DFE8F3",
            "linecolor": "#A2B1C6",
            "ticks": ""
           }
          },
          "title": {
           "x": 0.05
          },
          "xaxis": {
           "automargin": true,
           "gridcolor": "#EBF0F8",
           "linecolor": "#EBF0F8",
           "ticks": "",
           "title": {
            "standoff": 15
           },
           "zerolinecolor": "#EBF0F8",
           "zerolinewidth": 2
          },
          "yaxis": {
           "automargin": true,
           "gridcolor": "#EBF0F8",
           "linecolor": "#EBF0F8",
           "ticks": "",
           "title": {
            "standoff": 15
           },
           "zerolinecolor": "#EBF0F8",
           "zerolinewidth": 2
          }
         }
        },
        "title": {
         "text": "U.S. Electricity Consumption by Sector (End-Use) 1949–2024"
        },
        "width": 900,
        "xaxis": {
         "title": {
          "text": "Year"
         }
        },
        "yaxis": {
         "title": {
          "text": "Electricity (Trillion Btu)"
         }
        }
       }
      }
     },
     "metadata": {},
     "output_type": "display_data"
    }
   ],
   "source": [
    "# Total electricity consumption by sector (end-use) 1949-2024\n",
    "fig3_b = go.Figure()\n",
    "# Add total\n",
    "fig3_b.add_trace(go.Scatter(x=df1_energy[\"Year\"], y=df1_energy[\"TotElectricity_2Used\"],\n",
    "                            mode=\"lines\", name=\"Total Electricity End-Use\", line=dict(width=3, color=\"black\")))\n",
    "\n",
    "# Add each sector\n",
    "for col, color in zip(\n",
    "    [\"ElectricityUse1_Residential\", \"ElectricityUse2_Commercial\", \"ElectricityUse3_Industrial\", \"ElectricityUse4_Transportation\"],\n",
    "    [\"blue\", \"red\", \"green\", \"purple\"]\n",
    "):\n",
    "    fig3_b.add_trace(go.Scatter(x=df1_energy[\"Year\"], y=df1_energy[col],\n",
    "                             mode=\"lines\", name=col, line=dict(width=2, color=color)))\n",
    "\n",
    "# Add a vertical line at Year=1983, Global Debt Crisis\n",
    "fig3_b.add_vline(\n",
    "    x=1983,\n",
    "    line_width=2,\n",
    "    line_dash=\"dash\",\n",
    "    line_color=\"darkred\",\n",
    "    annotation_text=\"Y1982-1983: Global Debt Crisis \",\n",
    "    annotation_position=\"top left\",\n",
    "    annotation_font=dict(color=\"darkred\", size=12, family=\"Arial\")  # customize color, size, font\n",
    ")\n",
    "\n",
    "# Add a vertical line at Year=2009, 2008 Financial Crisis\n",
    "fig3_b.add_vline(\n",
    "    x=2009,\n",
    "    line_width=2,\n",
    "    line_dash=\"dash\",\n",
    "    line_color=\"darkred\",\n",
    "    # annotation_text=\"Y2008: Financial Crisis  \",\n",
    "    # annotation_position=\"top left\",\n",
    "    # annotation_font=dict(color=\"darkred\", size=12, family=\"Arial\")  # customize color, size, font\n",
    ")\n",
    "# Add annotation manually\n",
    "fig3_b.add_annotation(\n",
    "    x=2009, y=df1_energy[\"TotElectricity_2Used\"].max() * 2/3,  # 2/3 of y-axis\n",
    "    text=\"Y2008: Financial Crisis \",\n",
    "    showarrow=False,\n",
    "    xanchor=\"right\",    # text appears to the left of the line\n",
    "    font=dict(color=\"darkred\", size=12, family=\"Arial\")  # customize color, size, font\n",
    ")\n",
    "\n",
    "# Add a vertical line at Year=2020, COVID pandemic impact\n",
    "fig3_b.add_vline(\n",
    "    x=2020,\n",
    "    line_width=2,\n",
    "    line_dash=\"dash\",\n",
    "    line_color=\"darkred\",\n",
    "    annotation_text=\"Y2020: COVID Pandemic Impact  \",\n",
    "    annotation_position=\"top left\",\n",
    "    annotation_font=dict(color=\"darkred\", size=12, family=\"Arial\")  # customize color, size, font\n",
    ")\n",
    "\n",
    "# Layout update\n",
    "fig3_b.update_layout(\n",
    "    title=\"U.S. Electricity Consumption by Sector (End-Use) 1949–2024\", \n",
    "    xaxis_title=\"Year\",\n",
    "    yaxis_title=\"Electricity (Trillion Btu)\",\n",
    "    template=\"plotly_white\",\n",
    "    width=900,\n",
    "    height=500,\n",
    "    hovermode=\"x unified\" \n",
    ")\n",
    "\n",
    "fig3_b.show()"
   ]
  },
  {
   "cell_type": "code",
   "execution_count": null,
   "id": "bcc2b151",
   "metadata": {},
   "outputs": [
    {
     "data": {
      "application/vnd.plotly.v1+json": {
       "config": {
        "plotlyServerURL": "https://plot.ly"
       },
       "data": [
        {
         "customdata": {
          "bdata": "AAAAAAB0nkBmZmZmZqZiQAAAAAAAeJ5AmpmZmZkJY0AAAAAAAHyeQM3MzMzMXGNAAAAAAACAnkAzMzMzM7NjQAAAAAAAhJ5AZmZmZmYGZEAAAAAAAIieQAAAAAAAYGRAAAAAAACMnkDNzMzMzLxkQAAAAAAAkJ5AzczMzMwcZUAAAAAAAJSeQAAAAAAAgGVAAAAAAACYnkDNzMzMzNxlQAAAAAAAnJ5AmpmZmZk5ZkAAAAAAAKCeQGZmZmZmlmZAAAAAAACknkBmZmZmZvZmQAAAAAAAqJ5AAAAAAABQZ0AAAAAAAKyeQGZmZmZmpmdAAAAAAACwnkDNzMzMzPxnQAAAAAAAtJ5AmpmZmZlJaEAAAAAAALieQDMzMzMzk2hAAAAAAAC8nkBmZmZmZtZoQAAAAAAAwJ5AZmZmZmYWaUAAAAAAAMSeQGZmZmZmVmlAAAAAAADInkAzMzMzM6NpQAAAAAAAzJ5AZmZmZmb2aUAAAAAAANCeQM3MzMzMPGpAAAAAAADUnkDNzMzMzHxqQAAAAAAA2J5AzczMzMy8akAAAAAAANyeQAAAAAAAAGtAAAAAAADgnkAAAAAAAEBrQAAAAAAA5J5AZmZmZmaGa0AAAAAAAOieQDMzMzMz02tAAAAAAADsnkAzMzMzMyNsQAAAAAAA8J5AZmZmZmZmbEAAAAAAAPSeQAAAAAAAsGxAAAAAAAD4nkBmZmZmZvZsQAAAAAAA/J5AmpmZmZk5bUAAAAAAAACfQJqZmZmZeW1AAAAAAAAEn0DNzMzMzLxtQAAAAAAACJ9AMzMzMzMDbkAAAAAAAAyfQJqZmZmZSW5AAAAAAAAQn0AAAAAAAJBuQAAAAAAAFJ9AmpmZmZnZbkAAAAAAABifQDMzMzMzM29AAAAAAAAcn0AAAAAAAKBvQAAAAAAAIJ9AAAAAAAAIcEAAAAAAACSfQGZmZmZmPnBAAAAAAAAon0CamZmZmXFwQAAAAAAALJ9AzczMzMykcEAAAAAAADCfQGZmZmZm1nBAAAAAAAA0n0CamZmZmQlxQAAAAAAAOJ9AZmZmZmY+cUAAAAAAADyfQAAAAAAAcHFAAAAAAABAn0AzMzMzM6NxQAAAAAAARJ9AAAAAAADQcUAAAAAAAEifQJqZmZmZ+XFAAAAAAABMn0CamZmZmSFyQAAAAAAAUJ9AzczMzMxMckAAAAAAAFSfQAAAAAAAeHJAAAAAAABYn0BmZmZmZqZyQAAAAAAAXJ9AMzMzMzPTckAAAAAAAGCfQJqZmZmZAXNAAAAAAABkn0DNzMzMzCxzQAAAAAAAaJ9AzczMzMxUc0AAAAAAAGyfQJqZmZmZeXNAAAAAAABwn0DNzMzMzJxzQAAAAAAAdJ9AAAAAAADAc0AAAAAAAHifQM3MzMzM5HNAAAAAAAB8n0CamZmZmQl0QAAAAAAAgJ9AZmZmZmYudEAAAAAAAISfQAAAAAAAUHRAAAAAAACIn0AzMzMzM2t0QAAAAAAAjJ9AMzMzMzODdEAAAAAAAJCfQJqZmZmZuXRAAAAAAACUn0CamZmZmcF0QAAAAAAAmJ9AAAAAAADgdEAAAAAAAJyfQM3MzMzMDHVAAAAAAACgn0CamZmZmUF1QA==",
          "dtype": "f8",
          "shape": "76, 2"
         },
         "hovertemplate": "Real GDP (Billion chained (2017) dollars)=%{x}<br>Energy Consumption (Trillion Btu)=%{y}<br>POP_US=%{customdata[1]}<br>Year=%{marker.color}<extra></extra>",
         "legendgroup": "",
         "marker": {
          "color": {
           "bdata": "nQeeB58HoAehB6IHowekB6UHpgenB6gHqQeqB6sHrAetB64HrwewB7EHsgezB7QHtQe2B7cHuAe5B7oHuwe8B70Hvge/B8AHwQfCB8MHxAfFB8YHxwfIB8kHygfLB8wHzQfOB88H0AfRB9IH0wfUB9UH1gfXB9gH2QfaB9sH3AfdB94H3wfgB+EH4gfjB+QH5QfmB+cH6Ac=",
           "dtype": "i2"
          },
          "coloraxis": "coloraxis",
          "size": {
           "bdata": "ZmZmZmamYkCamZmZmQljQM3MzMzMXGNAMzMzMzOzY0BmZmZmZgZkQAAAAAAAYGRAzczMzMy8ZEDNzMzMzBxlQAAAAAAAgGVAzczMzMzcZUCamZmZmTlmQGZmZmZmlmZAZmZmZmb2ZkAAAAAAAFBnQGZmZmZmpmdAzczMzMz8Z0CamZmZmUloQDMzMzMzk2hAZmZmZmbWaEBmZmZmZhZpQGZmZmZmVmlAMzMzMzOjaUBmZmZmZvZpQM3MzMzMPGpAzczMzMx8akDNzMzMzLxqQAAAAAAAAGtAAAAAAABAa0BmZmZmZoZrQDMzMzMz02tAMzMzMzMjbEBmZmZmZmZsQAAAAAAAsGxAZmZmZmb2bECamZmZmTltQJqZmZmZeW1AzczMzMy8bUAzMzMzMwNuQJqZmZmZSW5AAAAAAACQbkCamZmZmdluQDMzMzMzM29AAAAAAACgb0AAAAAAAAhwQGZmZmZmPnBAmpmZmZlxcEDNzMzMzKRwQGZmZmZm1nBAmpmZmZkJcUBmZmZmZj5xQAAAAAAAcHFAMzMzMzOjcUAAAAAAANBxQJqZmZmZ+XFAmpmZmZkhckDNzMzMzExyQAAAAAAAeHJAZmZmZmamckAzMzMzM9NyQJqZmZmZAXNAzczMzMwsc0DNzMzMzFRzQJqZmZmZeXNAzczMzMycc0AAAAAAAMBzQM3MzMzM5HNAmpmZmZkJdEBmZmZmZi50QAAAAAAAUHRAMzMzMzNrdEAzMzMzM4N0QJqZmZmZuXRAmpmZmZnBdEAAAAAAAOB0QM3MzMzMDHVAmpmZmZlBdUA=",
           "dtype": "f8"
          },
          "sizemode": "area",
          "sizeref": 0.8502500000000001,
          "symbol": "circle"
         },
         "mode": "markers",
         "name": "",
         "orientation": "v",
         "showlegend": false,
         "type": "scatter",
         "x": {
          "bdata": "zczMzMyroUAAAAAAADWjQJqZmZmZwKRAmpmZmZmZpUDNzMzMzJymQGZmZmZme6ZAAAAAAAAWqECamZmZmZmoQDMzMzMzHqlAZmZmZmbuqEDNzMzMzKiqQJqZmZmZWKtAMzMzMzMMrEAzMzMzM8StQDMzMzMzEK9AzczMzExtsECamZmZmX6xQGZmZmbmpbJAZmZmZuYos0BmZmZm5hm0QJqZmZmZurRAZmZmZmbEtEBmZmZmZnO1QAAAAAAAlLZAZmZmZmbat0BmZmZmZrm3QGZmZmbmrLdAZmZmZmbzuEDNzMzMzBq6QDMzMzOzjLtAAAAAAABsvEDNzMzMTFm8QAAAAACAEb1AzczMzEyLvEDNzMzMTNq9QGZmZmamAcBAAAAAAICswEDNzMzMTEDBQJqZmZnZ2MFAMzMzM7OXwkAAAAAAgEbDQM3MzMyMo8NAmpmZmRmew0AAAAAAAE/EQJqZmZkZ3sRAzczMzEy1xUAAAAAAgErGQM3MzMzMIcdAZmZmZiYpyEAzMzMzcz7JQGZmZmbmc8pAAAAAAACIy0CamZmZWcvLQJqZmZlZRMxAZmZmZqYOzUBmZmZm5izOQAAAAAAAOs9AZmZmZkYM0ECamZmZmV7QQAAAAABgY9BAzczMzIzuz0AzMzMzc2XQQJqZmZkZp9BAMzMzM7MI0UDNzMzMDGXRQM3MzMxs1dFAZmZmZuZb0kDNzMzMbLHSQGZmZmYGJ9NAmpmZmXm400DNzMzM7DrUQGZmZmbmytNAMzMzM7P91EAzMzMzs4TVQGZmZmbGI9ZAAAAAAODB1kA=",
          "dtype": "f8"
         },
         "xaxis": "x",
         "y": {
          "bdata": "SOF6FJ7F20D0/dR4SSPeQB+F61FIGOBAJQaBlUvL30DpJjEIlDjgQOF6FK43fN9AexSuRxVH4UAOLbKdN+HhQLpJDALbzeFAzczMzOzE4UAK16NwTXbiQHnpJjGAJONAxSCwcshf40BEi2znCzTkQOF6FK6z4+RAL90kBpm35UAfhetRpIvmQB1aZDuLq+dAokW2891g6EBQjZdu/q7pQBBYObQgzepA9P3UeF1860Bg5dAiw+XrQJZDi2y3He1AXI/C9ewk7kB/arx05zTtQH9qvHTvH+xArBxaZMur7UCiRbbzeUTuQGZmZmb+3e5A+n5qvOA070C+nxovsbntQIGVQ4u4xuxAIbByaPFr60CkcD0K9yfrQC/dJAbVquxARrbz/cxs7EBqvHSTrIfsQMP1KFxDfO1ANV66SYzc7kAdWmQ7OzLvQFYOLbKt1+5AcT0K1/O57kCwcmiRQXPvQArXo3B50O9AZmZmZhpA8EACK4cW2YbwQARWDi0SFvFAnMQgsEoq8UB7FK5HdwrxQLbz/dTwSvFACtejcL2l8UCDwMqh1TDxQM/3U+PzaPFAWDm0yCKB8UDTTWIQsurxQLx0kxj4zvFA+n5qvKSx8UAbL90kiujxQDvfT40XdfFA5/up8bah8EAUrkfh/EDxQCcxCKxwK/FAvHSTGBbM8EApXI/CH2/xQMdLN4mNrvFAUrgehfWi8UBeukkM7qrxQCPb+X6Yz/FA8KfGS5OR8kAtsp3vp53yQA4tsp1dDPFAbef7qe8D8kBg5dAiQVvyQO58PzVoPfJAzczMzEJN8kA=",
          "dtype": "f8"
         },
         "yaxis": "y"
        }
       ],
       "layout": {
        "coloraxis": {
         "colorbar": {
          "title": {
           "text": "Year"
          }
         },
         "colorscale": [
          [
           0,
           "#440154"
          ],
          [
           0.1111111111111111,
           "#482878"
          ],
          [
           0.2222222222222222,
           "#3e4989"
          ],
          [
           0.3333333333333333,
           "#31688e"
          ],
          [
           0.4444444444444444,
           "#26828e"
          ],
          [
           0.5555555555555556,
           "#1f9e89"
          ],
          [
           0.6666666666666666,
           "#35b779"
          ],
          [
           0.7777777777777778,
           "#6ece58"
          ],
          [
           0.8888888888888888,
           "#b5de2b"
          ],
          [
           1,
           "#fde725"
          ]
         ]
        },
        "height": 500,
        "legend": {
         "itemsizing": "constant",
         "tracegroupgap": 0
        },
        "template": {
         "data": {
          "bar": [
           {
            "error_x": {
             "color": "#2a3f5f"
            },
            "error_y": {
             "color": "#2a3f5f"
            },
            "marker": {
             "line": {
              "color": "white",
              "width": 0.5
             },
             "pattern": {
              "fillmode": "overlay",
              "size": 10,
              "solidity": 0.2
             }
            },
            "type": "bar"
           }
          ],
          "barpolar": [
           {
            "marker": {
             "line": {
              "color": "white",
              "width": 0.5
             },
             "pattern": {
              "fillmode": "overlay",
              "size": 10,
              "solidity": 0.2
             }
            },
            "type": "barpolar"
           }
          ],
          "carpet": [
           {
            "aaxis": {
             "endlinecolor": "#2a3f5f",
             "gridcolor": "#C8D4E3",
             "linecolor": "#C8D4E3",
             "minorgridcolor": "#C8D4E3",
             "startlinecolor": "#2a3f5f"
            },
            "baxis": {
             "endlinecolor": "#2a3f5f",
             "gridcolor": "#C8D4E3",
             "linecolor": "#C8D4E3",
             "minorgridcolor": "#C8D4E3",
             "startlinecolor": "#2a3f5f"
            },
            "type": "carpet"
           }
          ],
          "choropleth": [
           {
            "colorbar": {
             "outlinewidth": 0,
             "ticks": ""
            },
            "type": "choropleth"
           }
          ],
          "contour": [
           {
            "colorbar": {
             "outlinewidth": 0,
             "ticks": ""
            },
            "colorscale": [
             [
              0,
              "#0d0887"
             ],
             [
              0.1111111111111111,
              "#46039f"
             ],
             [
              0.2222222222222222,
              "#7201a8"
             ],
             [
              0.3333333333333333,
              "#9c179e"
             ],
             [
              0.4444444444444444,
              "#bd3786"
             ],
             [
              0.5555555555555556,
              "#d8576b"
             ],
             [
              0.6666666666666666,
              "#ed7953"
             ],
             [
              0.7777777777777778,
              "#fb9f3a"
             ],
             [
              0.8888888888888888,
              "#fdca26"
             ],
             [
              1,
              "#f0f921"
             ]
            ],
            "type": "contour"
           }
          ],
          "contourcarpet": [
           {
            "colorbar": {
             "outlinewidth": 0,
             "ticks": ""
            },
            "type": "contourcarpet"
           }
          ],
          "heatmap": [
           {
            "colorbar": {
             "outlinewidth": 0,
             "ticks": ""
            },
            "colorscale": [
             [
              0,
              "#0d0887"
             ],
             [
              0.1111111111111111,
              "#46039f"
             ],
             [
              0.2222222222222222,
              "#7201a8"
             ],
             [
              0.3333333333333333,
              "#9c179e"
             ],
             [
              0.4444444444444444,
              "#bd3786"
             ],
             [
              0.5555555555555556,
              "#d8576b"
             ],
             [
              0.6666666666666666,
              "#ed7953"
             ],
             [
              0.7777777777777778,
              "#fb9f3a"
             ],
             [
              0.8888888888888888,
              "#fdca26"
             ],
             [
              1,
              "#f0f921"
             ]
            ],
            "type": "heatmap"
           }
          ],
          "histogram": [
           {
            "marker": {
             "pattern": {
              "fillmode": "overlay",
              "size": 10,
              "solidity": 0.2
             }
            },
            "type": "histogram"
           }
          ],
          "histogram2d": [
           {
            "colorbar": {
             "outlinewidth": 0,
             "ticks": ""
            },
            "colorscale": [
             [
              0,
              "#0d0887"
             ],
             [
              0.1111111111111111,
              "#46039f"
             ],
             [
              0.2222222222222222,
              "#7201a8"
             ],
             [
              0.3333333333333333,
              "#9c179e"
             ],
             [
              0.4444444444444444,
              "#bd3786"
             ],
             [
              0.5555555555555556,
              "#d8576b"
             ],
             [
              0.6666666666666666,
              "#ed7953"
             ],
             [
              0.7777777777777778,
              "#fb9f3a"
             ],
             [
              0.8888888888888888,
              "#fdca26"
             ],
             [
              1,
              "#f0f921"
             ]
            ],
            "type": "histogram2d"
           }
          ],
          "histogram2dcontour": [
           {
            "colorbar": {
             "outlinewidth": 0,
             "ticks": ""
            },
            "colorscale": [
             [
              0,
              "#0d0887"
             ],
             [
              0.1111111111111111,
              "#46039f"
             ],
             [
              0.2222222222222222,
              "#7201a8"
             ],
             [
              0.3333333333333333,
              "#9c179e"
             ],
             [
              0.4444444444444444,
              "#bd3786"
             ],
             [
              0.5555555555555556,
              "#d8576b"
             ],
             [
              0.6666666666666666,
              "#ed7953"
             ],
             [
              0.7777777777777778,
              "#fb9f3a"
             ],
             [
              0.8888888888888888,
              "#fdca26"
             ],
             [
              1,
              "#f0f921"
             ]
            ],
            "type": "histogram2dcontour"
           }
          ],
          "mesh3d": [
           {
            "colorbar": {
             "outlinewidth": 0,
             "ticks": ""
            },
            "type": "mesh3d"
           }
          ],
          "parcoords": [
           {
            "line": {
             "colorbar": {
              "outlinewidth": 0,
              "ticks": ""
             }
            },
            "type": "parcoords"
           }
          ],
          "pie": [
           {
            "automargin": true,
            "type": "pie"
           }
          ],
          "scatter": [
           {
            "fillpattern": {
             "fillmode": "overlay",
             "size": 10,
             "solidity": 0.2
            },
            "type": "scatter"
           }
          ],
          "scatter3d": [
           {
            "line": {
             "colorbar": {
              "outlinewidth": 0,
              "ticks": ""
             }
            },
            "marker": {
             "colorbar": {
              "outlinewidth": 0,
              "ticks": ""
             }
            },
            "type": "scatter3d"
           }
          ],
          "scattercarpet": [
           {
            "marker": {
             "colorbar": {
              "outlinewidth": 0,
              "ticks": ""
             }
            },
            "type": "scattercarpet"
           }
          ],
          "scattergeo": [
           {
            "marker": {
             "colorbar": {
              "outlinewidth": 0,
              "ticks": ""
             }
            },
            "type": "scattergeo"
           }
          ],
          "scattergl": [
           {
            "marker": {
             "colorbar": {
              "outlinewidth": 0,
              "ticks": ""
             }
            },
            "type": "scattergl"
           }
          ],
          "scattermap": [
           {
            "marker": {
             "colorbar": {
              "outlinewidth": 0,
              "ticks": ""
             }
            },
            "type": "scattermap"
           }
          ],
          "scattermapbox": [
           {
            "marker": {
             "colorbar": {
              "outlinewidth": 0,
              "ticks": ""
             }
            },
            "type": "scattermapbox"
           }
          ],
          "scatterpolar": [
           {
            "marker": {
             "colorbar": {
              "outlinewidth": 0,
              "ticks": ""
             }
            },
            "type": "scatterpolar"
           }
          ],
          "scatterpolargl": [
           {
            "marker": {
             "colorbar": {
              "outlinewidth": 0,
              "ticks": ""
             }
            },
            "type": "scatterpolargl"
           }
          ],
          "scatterternary": [
           {
            "marker": {
             "colorbar": {
              "outlinewidth": 0,
              "ticks": ""
             }
            },
            "type": "scatterternary"
           }
          ],
          "surface": [
           {
            "colorbar": {
             "outlinewidth": 0,
             "ticks": ""
            },
            "colorscale": [
             [
              0,
              "#0d0887"
             ],
             [
              0.1111111111111111,
              "#46039f"
             ],
             [
              0.2222222222222222,
              "#7201a8"
             ],
             [
              0.3333333333333333,
              "#9c179e"
             ],
             [
              0.4444444444444444,
              "#bd3786"
             ],
             [
              0.5555555555555556,
              "#d8576b"
             ],
             [
              0.6666666666666666,
              "#ed7953"
             ],
             [
              0.7777777777777778,
              "#fb9f3a"
             ],
             [
              0.8888888888888888,
              "#fdca26"
             ],
             [
              1,
              "#f0f921"
             ]
            ],
            "type": "surface"
           }
          ],
          "table": [
           {
            "cells": {
             "fill": {
              "color": "#EBF0F8"
             },
             "line": {
              "color": "white"
             }
            },
            "header": {
             "fill": {
              "color": "#C8D4E3"
             },
             "line": {
              "color": "white"
             }
            },
            "type": "table"
           }
          ]
         },
         "layout": {
          "annotationdefaults": {
           "arrowcolor": "#2a3f5f",
           "arrowhead": 0,
           "arrowwidth": 1
          },
          "autotypenumbers": "strict",
          "coloraxis": {
           "colorbar": {
            "outlinewidth": 0,
            "ticks": ""
           }
          },
          "colorscale": {
           "diverging": [
            [
             0,
             "#8e0152"
            ],
            [
             0.1,
             "#c51b7d"
            ],
            [
             0.2,
             "#de77ae"
            ],
            [
             0.3,
             "#f1b6da"
            ],
            [
             0.4,
             "#fde0ef"
            ],
            [
             0.5,
             "#f7f7f7"
            ],
            [
             0.6,
             "#e6f5d0"
            ],
            [
             0.7,
             "#b8e186"
            ],
            [
             0.8,
             "#7fbc41"
            ],
            [
             0.9,
             "#4d9221"
            ],
            [
             1,
             "#276419"
            ]
           ],
           "sequential": [
            [
             0,
             "#0d0887"
            ],
            [
             0.1111111111111111,
             "#46039f"
            ],
            [
             0.2222222222222222,
             "#7201a8"
            ],
            [
             0.3333333333333333,
             "#9c179e"
            ],
            [
             0.4444444444444444,
             "#bd3786"
            ],
            [
             0.5555555555555556,
             "#d8576b"
            ],
            [
             0.6666666666666666,
             "#ed7953"
            ],
            [
             0.7777777777777778,
             "#fb9f3a"
            ],
            [
             0.8888888888888888,
             "#fdca26"
            ],
            [
             1,
             "#f0f921"
            ]
           ],
           "sequentialminus": [
            [
             0,
             "#0d0887"
            ],
            [
             0.1111111111111111,
             "#46039f"
            ],
            [
             0.2222222222222222,
             "#7201a8"
            ],
            [
             0.3333333333333333,
             "#9c179e"
            ],
            [
             0.4444444444444444,
             "#bd3786"
            ],
            [
             0.5555555555555556,
             "#d8576b"
            ],
            [
             0.6666666666666666,
             "#ed7953"
            ],
            [
             0.7777777777777778,
             "#fb9f3a"
            ],
            [
             0.8888888888888888,
             "#fdca26"
            ],
            [
             1,
             "#f0f921"
            ]
           ]
          },
          "colorway": [
           "#636efa",
           "#EF553B",
           "#00cc96",
           "#ab63fa",
           "#FFA15A",
           "#19d3f3",
           "#FF6692",
           "#B6E880",
           "#FF97FF",
           "#FECB52"
          ],
          "font": {
           "color": "#2a3f5f"
          },
          "geo": {
           "bgcolor": "white",
           "lakecolor": "white",
           "landcolor": "white",
           "showlakes": true,
           "showland": true,
           "subunitcolor": "#C8D4E3"
          },
          "hoverlabel": {
           "align": "left"
          },
          "hovermode": "closest",
          "mapbox": {
           "style": "light"
          },
          "paper_bgcolor": "white",
          "plot_bgcolor": "white",
          "polar": {
           "angularaxis": {
            "gridcolor": "#EBF0F8",
            "linecolor": "#EBF0F8",
            "ticks": ""
           },
           "bgcolor": "white",
           "radialaxis": {
            "gridcolor": "#EBF0F8",
            "linecolor": "#EBF0F8",
            "ticks": ""
           }
          },
          "scene": {
           "xaxis": {
            "backgroundcolor": "white",
            "gridcolor": "#DFE8F3",
            "gridwidth": 2,
            "linecolor": "#EBF0F8",
            "showbackground": true,
            "ticks": "",
            "zerolinecolor": "#EBF0F8"
           },
           "yaxis": {
            "backgroundcolor": "white",
            "gridcolor": "#DFE8F3",
            "gridwidth": 2,
            "linecolor": "#EBF0F8",
            "showbackground": true,
            "ticks": "",
            "zerolinecolor": "#EBF0F8"
           },
           "zaxis": {
            "backgroundcolor": "white",
            "gridcolor": "#DFE8F3",
            "gridwidth": 2,
            "linecolor": "#EBF0F8",
            "showbackground": true,
            "ticks": "",
            "zerolinecolor": "#EBF0F8"
           }
          },
          "shapedefaults": {
           "line": {
            "color": "#2a3f5f"
           }
          },
          "ternary": {
           "aaxis": {
            "gridcolor": "#DFE8F3",
            "linecolor": "#A2B1C6",
            "ticks": ""
           },
           "baxis": {
            "gridcolor": "#DFE8F3",
            "linecolor": "#A2B1C6",
            "ticks": ""
           },
           "bgcolor": "white",
           "caxis": {
            "gridcolor": "#DFE8F3",
            "linecolor": "#A2B1C6",
            "ticks": ""
           }
          },
          "title": {
           "x": 0.05
          },
          "xaxis": {
           "automargin": true,
           "gridcolor": "#EBF0F8",
           "linecolor": "#EBF0F8",
           "ticks": "",
           "title": {
            "standoff": 15
           },
           "zerolinecolor": "#EBF0F8",
           "zerolinewidth": 2
          },
          "yaxis": {
           "automargin": true,
           "gridcolor": "#EBF0F8",
           "linecolor": "#EBF0F8",
           "ticks": "",
           "title": {
            "standoff": 15
           },
           "zerolinecolor": "#EBF0F8",
           "zerolinewidth": 2
          }
         }
        },
        "title": {
         "text": "Total Energy Consumption vs. Real GDP 1949–2024"
        },
        "width": 900,
        "xaxis": {
         "anchor": "y",
         "domain": [
          0,
          1
         ],
         "title": {
          "text": "Real GDP (Billion chained (2017) dollars)"
         }
        },
        "yaxis": {
         "anchor": "x",
         "domain": [
          0,
          1
         ],
         "title": {
          "text": "Energy Consumption (Trillion Btu)"
         }
        }
       }
      }
     },
     "metadata": {},
     "output_type": "display_data"
    }
   ],
   "source": [
    "# Relationship between total energy consumption and real GDP\n",
    "# - End-use energy consumption (Trillion Btu)\n",
    "# - Real Gross Domestic Product (GDP) in chained 2017 dollars\n",
    "\n",
    "# Scatter plot: Total Energy Consumption vs Real GDP\n",
    "fig = px.scatter(\n",
    "    df1_energy,\n",
    "    x=\"GDP_Real\",               # Real GDP\n",
    "    y=\"TotEnergy_2EndUse\",      # Total end-use energy consumption\n",
    "    size=\"POP_US\",              # optional: bubble size by population\n",
    "    color=\"Year\",               # optional: color points by year\n",
    "    color_continuous_scale=px.colors.sequential.Viridis,\n",
    "    title=\"Total Energy Consumption vs. Real GDP 1949–2024\",\n",
    "    labels={\n",
    "        \"GDP_Real\": \"Real GDP (Billion chained (2017) dollars)\",\n",
    "        \"TotEnergy_2EndUse\": \"Energy Consumption (Trillion Btu)\"\n",
    "    },\n",
    "    hover_data=[\"Year\", \"POP_US\"] # show extra info on hover\n",
    ")\n",
    "\n",
    "# Optional: add trendline using statsmodels (regression) DarkSlateGrey\n",
    "# fig.update_traces(marker=dict(size=8, opacity=0.8, line=dict(width=1, color='DarkSlateGrey')))\n",
    "fig.update_layout(\n",
    "    template=\"plotly_white\",\n",
    "    width=900,\n",
    "    height=500\n",
    ")\n",
    "\n",
    "fig.show()\n"
   ]
  },
  {
   "cell_type": "code",
   "execution_count": 4,
   "id": "421d898f",
   "metadata": {},
   "outputs": [
    {
     "data": {
      "application/vnd.plotly.v1+json": {
       "config": {
        "plotlyServerURL": "https://plot.ly"
       },
       "data": [
        {
         "hovertemplate": "Year: %{text}<br>GDP: %{x}<br>Total Energy: %{y} Trillion Btu<extra></extra>",
         "marker": {
          "color": "blue",
          "opacity": 0.7,
          "size": 8
         },
         "mode": "markers",
         "name": "Total End-Use Energy",
         "text": {
          "bdata": "AAAAAAB0nkAAAAAAAHieQAAAAAAAfJ5AAAAAAACAnkAAAAAAAISeQAAAAAAAiJ5AAAAAAACMnkAAAAAAAJCeQAAAAAAAlJ5AAAAAAACYnkAAAAAAAJyeQAAAAAAAoJ5AAAAAAACknkAAAAAAAKieQAAAAAAArJ5AAAAAAACwnkAAAAAAALSeQAAAAAAAuJ5AAAAAAAC8nkAAAAAAAMCeQAAAAAAAxJ5AAAAAAADInkAAAAAAAMyeQAAAAAAA0J5AAAAAAADUnkAAAAAAANieQAAAAAAA3J5AAAAAAADgnkAAAAAAAOSeQAAAAAAA6J5AAAAAAADsnkAAAAAAAPCeQAAAAAAA9J5AAAAAAAD4nkAAAAAAAPyeQAAAAAAAAJ9AAAAAAAAEn0AAAAAAAAifQAAAAAAADJ9AAAAAAAAQn0AAAAAAABSfQAAAAAAAGJ9AAAAAAAAcn0AAAAAAACCfQAAAAAAAJJ9AAAAAAAAon0AAAAAAACyfQAAAAAAAMJ9AAAAAAAA0n0AAAAAAADifQAAAAAAAPJ9AAAAAAABAn0AAAAAAAESfQAAAAAAASJ9AAAAAAABMn0AAAAAAAFCfQAAAAAAAVJ9AAAAAAABYn0AAAAAAAFyfQAAAAAAAYJ9AAAAAAABkn0AAAAAAAGifQAAAAAAAbJ9AAAAAAABwn0AAAAAAAHSfQAAAAAAAeJ9AAAAAAAB8n0AAAAAAAICfQAAAAAAAhJ9AAAAAAACIn0AAAAAAAIyfQAAAAAAAkJ9AAAAAAACUn0AAAAAAAJifQAAAAAAAnJ9AAAAAAACgn0A=",
          "dtype": "f8"
         },
         "type": "scatter",
         "x": {
          "bdata": "zczMzMyroUAAAAAAADWjQJqZmZmZwKRAmpmZmZmZpUDNzMzMzJymQGZmZmZme6ZAAAAAAAAWqECamZmZmZmoQDMzMzMzHqlAZmZmZmbuqEDNzMzMzKiqQJqZmZmZWKtAMzMzMzMMrEAzMzMzM8StQDMzMzMzEK9AzczMzExtsECamZmZmX6xQGZmZmbmpbJAZmZmZuYos0BmZmZm5hm0QJqZmZmZurRAZmZmZmbEtEBmZmZmZnO1QAAAAAAAlLZAZmZmZmbat0BmZmZmZrm3QGZmZmbmrLdAZmZmZmbzuEDNzMzMzBq6QDMzMzOzjLtAAAAAAABsvEDNzMzMTFm8QAAAAACAEb1AzczMzEyLvEDNzMzMTNq9QGZmZmamAcBAAAAAAICswEDNzMzMTEDBQJqZmZnZ2MFAMzMzM7OXwkAAAAAAgEbDQM3MzMyMo8NAmpmZmRmew0AAAAAAAE/EQJqZmZkZ3sRAzczMzEy1xUAAAAAAgErGQM3MzMzMIcdAZmZmZiYpyEAzMzMzcz7JQGZmZmbmc8pAAAAAAACIy0CamZmZWcvLQJqZmZlZRMxAZmZmZqYOzUBmZmZm5izOQAAAAAAAOs9AZmZmZkYM0ECamZmZmV7QQAAAAABgY9BAzczMzIzuz0AzMzMzc2XQQJqZmZkZp9BAMzMzM7MI0UDNzMzMDGXRQM3MzMxs1dFAZmZmZuZb0kDNzMzMbLHSQGZmZmYGJ9NAmpmZmXm400DNzMzM7DrUQGZmZmbmytNAMzMzM7P91EAzMzMzs4TVQGZmZmbGI9ZAAAAAAODB1kA=",
          "dtype": "f8"
         },
         "y": {
          "bdata": "SOF6FJ7F20D0/dR4SSPeQB+F61FIGOBAJQaBlUvL30DpJjEIlDjgQOF6FK43fN9AexSuRxVH4UAOLbKdN+HhQLpJDALbzeFAzczMzOzE4UAK16NwTXbiQHnpJjGAJONAxSCwcshf40BEi2znCzTkQOF6FK6z4+RAL90kBpm35UAfhetRpIvmQB1aZDuLq+dAokW2891g6EBQjZdu/q7pQBBYObQgzepA9P3UeF1860Bg5dAiw+XrQJZDi2y3He1AXI/C9ewk7kB/arx05zTtQH9qvHTvH+xArBxaZMur7UCiRbbzeUTuQGZmZmb+3e5A+n5qvOA070C+nxovsbntQIGVQ4u4xuxAIbByaPFr60CkcD0K9yfrQC/dJAbVquxARrbz/cxs7EBqvHSTrIfsQMP1KFxDfO1ANV66SYzc7kAdWmQ7OzLvQFYOLbKt1+5AcT0K1/O57kCwcmiRQXPvQArXo3B50O9AZmZmZhpA8EACK4cW2YbwQARWDi0SFvFAnMQgsEoq8UB7FK5HdwrxQLbz/dTwSvFACtejcL2l8UCDwMqh1TDxQM/3U+PzaPFAWDm0yCKB8UDTTWIQsurxQLx0kxj4zvFA+n5qvKSx8UAbL90kiujxQDvfT40XdfFA5/up8bah8EAUrkfh/EDxQCcxCKxwK/FAvHSTGBbM8EApXI/CH2/xQMdLN4mNrvFAUrgehfWi8UBeukkM7qrxQCPb+X6Yz/FA8KfGS5OR8kAtsp3vp53yQA4tsp1dDPFAbef7qe8D8kBg5dAiQVvyQO58PzVoPfJAzczMzEJN8kA=",
          "dtype": "f8"
         }
        },
        {
         "hovertemplate": "Year: %{text}<br>GDP: %{x}<br>Electricity: %{y} Trillion Btu<extra></extra>",
         "marker": {
          "color": "orange",
          "opacity": 0.7,
          "size": 8
         },
         "mode": "markers",
         "name": "Electricity",
         "text": {
          "bdata": "AAAAAAB0nkAAAAAAAHieQAAAAAAAfJ5AAAAAAACAnkAAAAAAAISeQAAAAAAAiJ5AAAAAAACMnkAAAAAAAJCeQAAAAAAAlJ5AAAAAAACYnkAAAAAAAJyeQAAAAAAAoJ5AAAAAAACknkAAAAAAAKieQAAAAAAArJ5AAAAAAACwnkAAAAAAALSeQAAAAAAAuJ5AAAAAAAC8nkAAAAAAAMCeQAAAAAAAxJ5AAAAAAADInkAAAAAAAMyeQAAAAAAA0J5AAAAAAADUnkAAAAAAANieQAAAAAAA3J5AAAAAAADgnkAAAAAAAOSeQAAAAAAA6J5AAAAAAADsnkAAAAAAAPCeQAAAAAAA9J5AAAAAAAD4nkAAAAAAAPyeQAAAAAAAAJ9AAAAAAAAEn0AAAAAAAAifQAAAAAAADJ9AAAAAAAAQn0AAAAAAABSfQAAAAAAAGJ9AAAAAAAAcn0AAAAAAACCfQAAAAAAAJJ9AAAAAAAAon0AAAAAAACyfQAAAAAAAMJ9AAAAAAAA0n0AAAAAAADifQAAAAAAAPJ9AAAAAAABAn0AAAAAAAESfQAAAAAAASJ9AAAAAAABMn0AAAAAAAFCfQAAAAAAAVJ9AAAAAAABYn0AAAAAAAFyfQAAAAAAAYJ9AAAAAAABkn0AAAAAAAGifQAAAAAAAbJ9AAAAAAABwn0AAAAAAAHSfQAAAAAAAeJ9AAAAAAAB8n0AAAAAAAICfQAAAAAAAhJ9AAAAAAACIn0AAAAAAAIyfQAAAAAAAkJ9AAAAAAACUn0AAAAAAAJifQAAAAAAAnJ9AAAAAAACgn0A=",
          "dtype": "f8"
         },
         "type": "scatter",
         "x": {
          "bdata": "zczMzMyroUAAAAAAADWjQJqZmZmZwKRAmpmZmZmZpUDNzMzMzJymQGZmZmZme6ZAAAAAAAAWqECamZmZmZmoQDMzMzMzHqlAZmZmZmbuqEDNzMzMzKiqQJqZmZmZWKtAMzMzMzMMrEAzMzMzM8StQDMzMzMzEK9AzczMzExtsECamZmZmX6xQGZmZmbmpbJAZmZmZuYos0BmZmZm5hm0QJqZmZmZurRAZmZmZmbEtEBmZmZmZnO1QAAAAAAAlLZAZmZmZmbat0BmZmZmZrm3QGZmZmbmrLdAZmZmZmbzuEDNzMzMzBq6QDMzMzOzjLtAAAAAAABsvEDNzMzMTFm8QAAAAACAEb1AzczMzEyLvEDNzMzMTNq9QGZmZmamAcBAAAAAAICswEDNzMzMTEDBQJqZmZnZ2MFAMzMzM7OXwkAAAAAAgEbDQM3MzMyMo8NAmpmZmRmew0AAAAAAAE/EQJqZmZkZ3sRAzczMzEy1xUAAAAAAgErGQM3MzMzMIcdAZmZmZiYpyEAzMzMzcz7JQGZmZmbmc8pAAAAAAACIy0CamZmZWcvLQJqZmZlZRMxAZmZmZqYOzUBmZmZm5izOQAAAAAAAOs9AZmZmZkYM0ECamZmZmV7QQAAAAABgY9BAzczMzIzuz0AzMzMzc2XQQJqZmZkZp9BAMzMzM7MI0UDNzMzMDGXRQM3MzMxs1dFAZmZmZuZb0kDNzMzMbLHSQGZmZmYGJ9NAmpmZmXm400DNzMzM7DrUQGZmZmbmytNAMzMzM7P91EAzMzMzs4TVQGZmZmbGI9ZAAAAAAODB1kA=",
          "dtype": "f8"
         },
         "y": {
          "bdata": "oBov3SQji0AK16NwPROPQE5iEFi5m5FAgZVDi+z8kkAhsHJokR+VQHNoke38nJZAVg4tsp17mkBCYOXQoh+dQG8Sg8DKsp5ALbKd7ydXn0AnMQisXD6hQOkmMQhsV6JADAIrh5Y+o0CkcD0KV7qkQJhuEoPAMaZA+n5qvLTip0DFILByqGypQH9qvHTTl6tAK4cW2Q5NrUAEVg4tMgiwQIGVQ4vMgrFA/tR46YaOskAEVg4tEpazQKabxCCwQrVAuB6F63HUtkAnMQisnLy2QJzEILASSbdAmpmZmRm6uEArhxbZzve5QGZmZmYm5bpApHA9Cpeau0D2KFyPQuq7QNejcD3qnbxAppvEIPDOu0DfT42XDqu8QI2XbhIjd75AGy/dJGb5vkDD9ShcL5K/QAaBlUMbYMBAJzEIrCwuwUCgGi/ddKPBQJMYBFaeE8JAMQisHPpnwkC+nxovTWrCQOF6FK6nEcNAvp8aL12Ow0BvEoPAqhTEQClcj8KFqsRATmIQWGn2xECkcD0Kx8DFQPhT46VrEsZAhetRuO7MxkBeukkM8p7GQClcj8IVGMdADi2ynU9Ix0AAAAAAAKTHQM3MzMycZchAbef7qeF0yEBKDAIrVxbJQPp+arwk4shAuB6F6yH4x0BQjZduwgXJQM3MzMw8/chA9ihcjxKfyEBaZDvfn9LIQLx0kxiUFslA8KfGS9cMyUBQjZduwhLJQPhT46UL0MhA7FG4HsW3yUD2KFyP0mXJQNejcD1axshAqvHSTdJcyUCmm8QgwCvKQOXQItt50clARIts5/tmykA=",
          "dtype": "f8"
         }
        }
       ],
       "layout": {
        "height": 500,
        "hovermode": "closest",
        "legend": {
         "orientation": "h",
         "x": 0.5,
         "xanchor": "center",
         "y": 1.1
        },
        "template": {
         "data": {
          "bar": [
           {
            "error_x": {
             "color": "#2a3f5f"
            },
            "error_y": {
             "color": "#2a3f5f"
            },
            "marker": {
             "line": {
              "color": "white",
              "width": 0.5
             },
             "pattern": {
              "fillmode": "overlay",
              "size": 10,
              "solidity": 0.2
             }
            },
            "type": "bar"
           }
          ],
          "barpolar": [
           {
            "marker": {
             "line": {
              "color": "white",
              "width": 0.5
             },
             "pattern": {
              "fillmode": "overlay",
              "size": 10,
              "solidity": 0.2
             }
            },
            "type": "barpolar"
           }
          ],
          "carpet": [
           {
            "aaxis": {
             "endlinecolor": "#2a3f5f",
             "gridcolor": "#C8D4E3",
             "linecolor": "#C8D4E3",
             "minorgridcolor": "#C8D4E3",
             "startlinecolor": "#2a3f5f"
            },
            "baxis": {
             "endlinecolor": "#2a3f5f",
             "gridcolor": "#C8D4E3",
             "linecolor": "#C8D4E3",
             "minorgridcolor": "#C8D4E3",
             "startlinecolor": "#2a3f5f"
            },
            "type": "carpet"
           }
          ],
          "choropleth": [
           {
            "colorbar": {
             "outlinewidth": 0,
             "ticks": ""
            },
            "type": "choropleth"
           }
          ],
          "contour": [
           {
            "colorbar": {
             "outlinewidth": 0,
             "ticks": ""
            },
            "colorscale": [
             [
              0,
              "#0d0887"
             ],
             [
              0.1111111111111111,
              "#46039f"
             ],
             [
              0.2222222222222222,
              "#7201a8"
             ],
             [
              0.3333333333333333,
              "#9c179e"
             ],
             [
              0.4444444444444444,
              "#bd3786"
             ],
             [
              0.5555555555555556,
              "#d8576b"
             ],
             [
              0.6666666666666666,
              "#ed7953"
             ],
             [
              0.7777777777777778,
              "#fb9f3a"
             ],
             [
              0.8888888888888888,
              "#fdca26"
             ],
             [
              1,
              "#f0f921"
             ]
            ],
            "type": "contour"
           }
          ],
          "contourcarpet": [
           {
            "colorbar": {
             "outlinewidth": 0,
             "ticks": ""
            },
            "type": "contourcarpet"
           }
          ],
          "heatmap": [
           {
            "colorbar": {
             "outlinewidth": 0,
             "ticks": ""
            },
            "colorscale": [
             [
              0,
              "#0d0887"
             ],
             [
              0.1111111111111111,
              "#46039f"
             ],
             [
              0.2222222222222222,
              "#7201a8"
             ],
             [
              0.3333333333333333,
              "#9c179e"
             ],
             [
              0.4444444444444444,
              "#bd3786"
             ],
             [
              0.5555555555555556,
              "#d8576b"
             ],
             [
              0.6666666666666666,
              "#ed7953"
             ],
             [
              0.7777777777777778,
              "#fb9f3a"
             ],
             [
              0.8888888888888888,
              "#fdca26"
             ],
             [
              1,
              "#f0f921"
             ]
            ],
            "type": "heatmap"
           }
          ],
          "histogram": [
           {
            "marker": {
             "pattern": {
              "fillmode": "overlay",
              "size": 10,
              "solidity": 0.2
             }
            },
            "type": "histogram"
           }
          ],
          "histogram2d": [
           {
            "colorbar": {
             "outlinewidth": 0,
             "ticks": ""
            },
            "colorscale": [
             [
              0,
              "#0d0887"
             ],
             [
              0.1111111111111111,
              "#46039f"
             ],
             [
              0.2222222222222222,
              "#7201a8"
             ],
             [
              0.3333333333333333,
              "#9c179e"
             ],
             [
              0.4444444444444444,
              "#bd3786"
             ],
             [
              0.5555555555555556,
              "#d8576b"
             ],
             [
              0.6666666666666666,
              "#ed7953"
             ],
             [
              0.7777777777777778,
              "#fb9f3a"
             ],
             [
              0.8888888888888888,
              "#fdca26"
             ],
             [
              1,
              "#f0f921"
             ]
            ],
            "type": "histogram2d"
           }
          ],
          "histogram2dcontour": [
           {
            "colorbar": {
             "outlinewidth": 0,
             "ticks": ""
            },
            "colorscale": [
             [
              0,
              "#0d0887"
             ],
             [
              0.1111111111111111,
              "#46039f"
             ],
             [
              0.2222222222222222,
              "#7201a8"
             ],
             [
              0.3333333333333333,
              "#9c179e"
             ],
             [
              0.4444444444444444,
              "#bd3786"
             ],
             [
              0.5555555555555556,
              "#d8576b"
             ],
             [
              0.6666666666666666,
              "#ed7953"
             ],
             [
              0.7777777777777778,
              "#fb9f3a"
             ],
             [
              0.8888888888888888,
              "#fdca26"
             ],
             [
              1,
              "#f0f921"
             ]
            ],
            "type": "histogram2dcontour"
           }
          ],
          "mesh3d": [
           {
            "colorbar": {
             "outlinewidth": 0,
             "ticks": ""
            },
            "type": "mesh3d"
           }
          ],
          "parcoords": [
           {
            "line": {
             "colorbar": {
              "outlinewidth": 0,
              "ticks": ""
             }
            },
            "type": "parcoords"
           }
          ],
          "pie": [
           {
            "automargin": true,
            "type": "pie"
           }
          ],
          "scatter": [
           {
            "fillpattern": {
             "fillmode": "overlay",
             "size": 10,
             "solidity": 0.2
            },
            "type": "scatter"
           }
          ],
          "scatter3d": [
           {
            "line": {
             "colorbar": {
              "outlinewidth": 0,
              "ticks": ""
             }
            },
            "marker": {
             "colorbar": {
              "outlinewidth": 0,
              "ticks": ""
             }
            },
            "type": "scatter3d"
           }
          ],
          "scattercarpet": [
           {
            "marker": {
             "colorbar": {
              "outlinewidth": 0,
              "ticks": ""
             }
            },
            "type": "scattercarpet"
           }
          ],
          "scattergeo": [
           {
            "marker": {
             "colorbar": {
              "outlinewidth": 0,
              "ticks": ""
             }
            },
            "type": "scattergeo"
           }
          ],
          "scattergl": [
           {
            "marker": {
             "colorbar": {
              "outlinewidth": 0,
              "ticks": ""
             }
            },
            "type": "scattergl"
           }
          ],
          "scattermap": [
           {
            "marker": {
             "colorbar": {
              "outlinewidth": 0,
              "ticks": ""
             }
            },
            "type": "scattermap"
           }
          ],
          "scattermapbox": [
           {
            "marker": {
             "colorbar": {
              "outlinewidth": 0,
              "ticks": ""
             }
            },
            "type": "scattermapbox"
           }
          ],
          "scatterpolar": [
           {
            "marker": {
             "colorbar": {
              "outlinewidth": 0,
              "ticks": ""
             }
            },
            "type": "scatterpolar"
           }
          ],
          "scatterpolargl": [
           {
            "marker": {
             "colorbar": {
              "outlinewidth": 0,
              "ticks": ""
             }
            },
            "type": "scatterpolargl"
           }
          ],
          "scatterternary": [
           {
            "marker": {
             "colorbar": {
              "outlinewidth": 0,
              "ticks": ""
             }
            },
            "type": "scatterternary"
           }
          ],
          "surface": [
           {
            "colorbar": {
             "outlinewidth": 0,
             "ticks": ""
            },
            "colorscale": [
             [
              0,
              "#0d0887"
             ],
             [
              0.1111111111111111,
              "#46039f"
             ],
             [
              0.2222222222222222,
              "#7201a8"
             ],
             [
              0.3333333333333333,
              "#9c179e"
             ],
             [
              0.4444444444444444,
              "#bd3786"
             ],
             [
              0.5555555555555556,
              "#d8576b"
             ],
             [
              0.6666666666666666,
              "#ed7953"
             ],
             [
              0.7777777777777778,
              "#fb9f3a"
             ],
             [
              0.8888888888888888,
              "#fdca26"
             ],
             [
              1,
              "#f0f921"
             ]
            ],
            "type": "surface"
           }
          ],
          "table": [
           {
            "cells": {
             "fill": {
              "color": "#EBF0F8"
             },
             "line": {
              "color": "white"
             }
            },
            "header": {
             "fill": {
              "color": "#C8D4E3"
             },
             "line": {
              "color": "white"
             }
            },
            "type": "table"
           }
          ]
         },
         "layout": {
          "annotationdefaults": {
           "arrowcolor": "#2a3f5f",
           "arrowhead": 0,
           "arrowwidth": 1
          },
          "autotypenumbers": "strict",
          "coloraxis": {
           "colorbar": {
            "outlinewidth": 0,
            "ticks": ""
           }
          },
          "colorscale": {
           "diverging": [
            [
             0,
             "#8e0152"
            ],
            [
             0.1,
             "#c51b7d"
            ],
            [
             0.2,
             "#de77ae"
            ],
            [
             0.3,
             "#f1b6da"
            ],
            [
             0.4,
             "#fde0ef"
            ],
            [
             0.5,
             "#f7f7f7"
            ],
            [
             0.6,
             "#e6f5d0"
            ],
            [
             0.7,
             "#b8e186"
            ],
            [
             0.8,
             "#7fbc41"
            ],
            [
             0.9,
             "#4d9221"
            ],
            [
             1,
             "#276419"
            ]
           ],
           "sequential": [
            [
             0,
             "#0d0887"
            ],
            [
             0.1111111111111111,
             "#46039f"
            ],
            [
             0.2222222222222222,
             "#7201a8"
            ],
            [
             0.3333333333333333,
             "#9c179e"
            ],
            [
             0.4444444444444444,
             "#bd3786"
            ],
            [
             0.5555555555555556,
             "#d8576b"
            ],
            [
             0.6666666666666666,
             "#ed7953"
            ],
            [
             0.7777777777777778,
             "#fb9f3a"
            ],
            [
             0.8888888888888888,
             "#fdca26"
            ],
            [
             1,
             "#f0f921"
            ]
           ],
           "sequentialminus": [
            [
             0,
             "#0d0887"
            ],
            [
             0.1111111111111111,
             "#46039f"
            ],
            [
             0.2222222222222222,
             "#7201a8"
            ],
            [
             0.3333333333333333,
             "#9c179e"
            ],
            [
             0.4444444444444444,
             "#bd3786"
            ],
            [
             0.5555555555555556,
             "#d8576b"
            ],
            [
             0.6666666666666666,
             "#ed7953"
            ],
            [
             0.7777777777777778,
             "#fb9f3a"
            ],
            [
             0.8888888888888888,
             "#fdca26"
            ],
            [
             1,
             "#f0f921"
            ]
           ]
          },
          "colorway": [
           "#636efa",
           "#EF553B",
           "#00cc96",
           "#ab63fa",
           "#FFA15A",
           "#19d3f3",
           "#FF6692",
           "#B6E880",
           "#FF97FF",
           "#FECB52"
          ],
          "font": {
           "color": "#2a3f5f"
          },
          "geo": {
           "bgcolor": "white",
           "lakecolor": "white",
           "landcolor": "white",
           "showlakes": true,
           "showland": true,
           "subunitcolor": "#C8D4E3"
          },
          "hoverlabel": {
           "align": "left"
          },
          "hovermode": "closest",
          "mapbox": {
           "style": "light"
          },
          "paper_bgcolor": "white",
          "plot_bgcolor": "white",
          "polar": {
           "angularaxis": {
            "gridcolor": "#EBF0F8",
            "linecolor": "#EBF0F8",
            "ticks": ""
           },
           "bgcolor": "white",
           "radialaxis": {
            "gridcolor": "#EBF0F8",
            "linecolor": "#EBF0F8",
            "ticks": ""
           }
          },
          "scene": {
           "xaxis": {
            "backgroundcolor": "white",
            "gridcolor": "#DFE8F3",
            "gridwidth": 2,
            "linecolor": "#EBF0F8",
            "showbackground": true,
            "ticks": "",
            "zerolinecolor": "#EBF0F8"
           },
           "yaxis": {
            "backgroundcolor": "white",
            "gridcolor": "#DFE8F3",
            "gridwidth": 2,
            "linecolor": "#EBF0F8",
            "showbackground": true,
            "ticks": "",
            "zerolinecolor": "#EBF0F8"
           },
           "zaxis": {
            "backgroundcolor": "white",
            "gridcolor": "#DFE8F3",
            "gridwidth": 2,
            "linecolor": "#EBF0F8",
            "showbackground": true,
            "ticks": "",
            "zerolinecolor": "#EBF0F8"
           }
          },
          "shapedefaults": {
           "line": {
            "color": "#2a3f5f"
           }
          },
          "ternary": {
           "aaxis": {
            "gridcolor": "#DFE8F3",
            "linecolor": "#A2B1C6",
            "ticks": ""
           },
           "baxis": {
            "gridcolor": "#DFE8F3",
            "linecolor": "#A2B1C6",
            "ticks": ""
           },
           "bgcolor": "white",
           "caxis": {
            "gridcolor": "#DFE8F3",
            "linecolor": "#A2B1C6",
            "ticks": ""
           }
          },
          "title": {
           "x": 0.05
          },
          "xaxis": {
           "automargin": true,
           "gridcolor": "#EBF0F8",
           "linecolor": "#EBF0F8",
           "ticks": "",
           "title": {
            "standoff": 15
           },
           "zerolinecolor": "#EBF0F8",
           "zerolinewidth": 2
          },
          "yaxis": {
           "automargin": true,
           "gridcolor": "#EBF0F8",
           "linecolor": "#EBF0F8",
           "ticks": "",
           "title": {
            "standoff": 15
           },
           "zerolinecolor": "#EBF0F8",
           "zerolinewidth": 2
          }
         }
        },
        "title": {
         "text": "Real GDP vs Total Energy and Electricity Consumption (1949–2024)",
         "x": 0.5,
         "xanchor": "center"
        },
        "width": 900,
        "xaxis": {
         "title": {
          "text": "Real GDP (Billion chained 2017 $)"
         }
        },
        "yaxis": {
         "title": {
          "text": "Usage (Trillion Btu)"
         }
        }
       }
      }
     },
     "metadata": {},
     "output_type": "display_data"
    }
   ],
   "source": [
    "# Relationship between total energy consumption, electricity consumption, and real GDP\n",
    "# - End-use energy consumption (Trillion Btu)\n",
    "# - Electricity consumption (end-use, Trillion Btu)\n",
    "# - Real Gross Domestic Product (GDP, Billion chained (2017) dollars)\n",
    "\n",
    "fig = go.Figure()\n",
    "\n",
    "# Scatter for Total End-Use Energy\n",
    "fig.add_trace(go.Scatter(\n",
    "    x=df1_energy[\"GDP_Real\"],\n",
    "    y=df1_energy[\"TotEnergy_2EndUse\"],\n",
    "    mode=\"markers\",\n",
    "    name=\"Total End-Use Energy\",\n",
    "    marker=dict(size=8, color=\"blue\", opacity=0.7),\n",
    "    text=df1_energy[\"Year\"],\n",
    "    hovertemplate=\"Year: %{text}<br>GDP: %{x}<br>Total Energy: %{y} Trillion Btu<extra></extra>\"\n",
    "))\n",
    "\n",
    "# Scatter for Electricity End-Use\n",
    "fig.add_trace(go.Scatter(\n",
    "    x=df1_energy[\"GDP_Real\"],\n",
    "    y=df1_energy[\"TotElectricity_2Used\"],\n",
    "    mode=\"markers\",\n",
    "    name=\"Electricity\",\n",
    "    marker=dict(size=8, color=\"orange\", opacity=0.7),\n",
    "    text=df1_energy[\"Year\"],\n",
    "    hovertemplate=\"Year: %{text}<br>GDP: %{x}<br>Electricity: %{y} Trillion Btu<extra></extra>\"\n",
    "))\n",
    "\n",
    "# Layout\n",
    "fig.update_layout(\n",
    "    title=dict(\n",
    "        text=\"Real GDP vs Total Energy and Electricity Consumption (1949–2024)\",\n",
    "        x=0.5, xanchor=\"center\"\n",
    "    ),\n",
    "    xaxis_title=\"Real GDP (Billion chained 2017 $)\",\n",
    "    yaxis_title=\"Usage (Trillion Btu)\",\n",
    "    template=\"plotly_white\",\n",
    "    width=900,\n",
    "    height=500,\n",
    "    hovermode=\"closest\",\n",
    "    legend=dict(orientation=\"h\", x=0.5, xanchor=\"center\", y=1.1)\n",
    ")\n",
    "\n",
    "fig.show()\n"
   ]
  },
  {
   "cell_type": "code",
   "execution_count": 5,
   "id": "d8b8279c",
   "metadata": {},
   "outputs": [
    {
     "data": {
      "application/vnd.plotly.v1+json": {
       "config": {
        "plotlyServerURL": "https://plot.ly"
       },
       "data": [
        {
         "hovertemplate": "Year: %{text}<br>GDP: %{x}<br>Total Energy: %{y} Trillion Btu<extra></extra>",
         "marker": {
          "color": "blue",
          "opacity": 0.7,
          "size": 8
         },
         "mode": "markers",
         "name": "Total End-Use Energy",
         "text": {
          "bdata": "AAAAAAB0nkAAAAAAAHieQAAAAAAAfJ5AAAAAAACAnkAAAAAAAISeQAAAAAAAiJ5AAAAAAACMnkAAAAAAAJCeQAAAAAAAlJ5AAAAAAACYnkAAAAAAAJyeQAAAAAAAoJ5AAAAAAACknkAAAAAAAKieQAAAAAAArJ5AAAAAAACwnkAAAAAAALSeQAAAAAAAuJ5AAAAAAAC8nkAAAAAAAMCeQAAAAAAAxJ5AAAAAAADInkAAAAAAAMyeQAAAAAAA0J5AAAAAAADUnkAAAAAAANieQAAAAAAA3J5AAAAAAADgnkAAAAAAAOSeQAAAAAAA6J5AAAAAAADsnkAAAAAAAPCeQAAAAAAA9J5AAAAAAAD4nkAAAAAAAPyeQAAAAAAAAJ9AAAAAAAAEn0AAAAAAAAifQAAAAAAADJ9AAAAAAAAQn0AAAAAAABSfQAAAAAAAGJ9AAAAAAAAcn0AAAAAAACCfQAAAAAAAJJ9AAAAAAAAon0AAAAAAACyfQAAAAAAAMJ9AAAAAAAA0n0AAAAAAADifQAAAAAAAPJ9AAAAAAABAn0AAAAAAAESfQAAAAAAASJ9AAAAAAABMn0AAAAAAAFCfQAAAAAAAVJ9AAAAAAABYn0AAAAAAAFyfQAAAAAAAYJ9AAAAAAABkn0AAAAAAAGifQAAAAAAAbJ9AAAAAAABwn0AAAAAAAHSfQAAAAAAAeJ9AAAAAAAB8n0AAAAAAAICfQAAAAAAAhJ9AAAAAAACIn0AAAAAAAIyfQAAAAAAAkJ9AAAAAAACUn0AAAAAAAJifQAAAAAAAnJ9AAAAAAACgn0A=",
          "dtype": "f8"
         },
         "type": "scatter",
         "x": {
          "bdata": "ZmZmZmamYkCamZmZmQljQM3MzMzMXGNAMzMzMzOzY0BmZmZmZgZkQAAAAAAAYGRAzczMzMy8ZEDNzMzMzBxlQAAAAAAAgGVAzczMzMzcZUCamZmZmTlmQGZmZmZmlmZAZmZmZmb2ZkAAAAAAAFBnQGZmZmZmpmdAzczMzMz8Z0CamZmZmUloQDMzMzMzk2hAZmZmZmbWaEBmZmZmZhZpQGZmZmZmVmlAMzMzMzOjaUBmZmZmZvZpQM3MzMzMPGpAzczMzMx8akDNzMzMzLxqQAAAAAAAAGtAAAAAAABAa0BmZmZmZoZrQDMzMzMz02tAMzMzMzMjbEBmZmZmZmZsQAAAAAAAsGxAZmZmZmb2bECamZmZmTltQJqZmZmZeW1AzczMzMy8bUAzMzMzMwNuQJqZmZmZSW5AAAAAAACQbkCamZmZmdluQDMzMzMzM29AAAAAAACgb0AAAAAAAAhwQGZmZmZmPnBAmpmZmZlxcEDNzMzMzKRwQGZmZmZm1nBAmpmZmZkJcUBmZmZmZj5xQAAAAAAAcHFAMzMzMzOjcUAAAAAAANBxQJqZmZmZ+XFAmpmZmZkhckDNzMzMzExyQAAAAAAAeHJAZmZmZmamckAzMzMzM9NyQJqZmZmZAXNAzczMzMwsc0DNzMzMzFRzQJqZmZmZeXNAzczMzMycc0AAAAAAAMBzQM3MzMzM5HNAmpmZmZkJdEBmZmZmZi50QAAAAAAAUHRAMzMzMzNrdEAzMzMzM4N0QJqZmZmZuXRAmpmZmZnBdEAAAAAAAOB0QM3MzMzMDHVAmpmZmZlBdUA=",
          "dtype": "f8"
         },
         "y": {
          "bdata": "SOF6FJ7F20D0/dR4SSPeQB+F61FIGOBAJQaBlUvL30DpJjEIlDjgQOF6FK43fN9AexSuRxVH4UAOLbKdN+HhQLpJDALbzeFAzczMzOzE4UAK16NwTXbiQHnpJjGAJONAxSCwcshf40BEi2znCzTkQOF6FK6z4+RAL90kBpm35UAfhetRpIvmQB1aZDuLq+dAokW2891g6EBQjZdu/q7pQBBYObQgzepA9P3UeF1860Bg5dAiw+XrQJZDi2y3He1AXI/C9ewk7kB/arx05zTtQH9qvHTvH+xArBxaZMur7UCiRbbzeUTuQGZmZmb+3e5A+n5qvOA070C+nxovsbntQIGVQ4u4xuxAIbByaPFr60CkcD0K9yfrQC/dJAbVquxARrbz/cxs7EBqvHSTrIfsQMP1KFxDfO1ANV66SYzc7kAdWmQ7OzLvQFYOLbKt1+5AcT0K1/O57kCwcmiRQXPvQArXo3B50O9AZmZmZhpA8EACK4cW2YbwQARWDi0SFvFAnMQgsEoq8UB7FK5HdwrxQLbz/dTwSvFACtejcL2l8UCDwMqh1TDxQM/3U+PzaPFAWDm0yCKB8UDTTWIQsurxQLx0kxj4zvFA+n5qvKSx8UAbL90kiujxQDvfT40XdfFA5/up8bah8EAUrkfh/EDxQCcxCKxwK/FAvHSTGBbM8EApXI/CH2/xQMdLN4mNrvFAUrgehfWi8UBeukkM7qrxQCPb+X6Yz/FA8KfGS5OR8kAtsp3vp53yQA4tsp1dDPFAbef7qe8D8kBg5dAiQVvyQO58PzVoPfJAzczMzEJN8kA=",
          "dtype": "f8"
         }
        },
        {
         "hovertemplate": "Year: %{text}<br>GDP: %{x}<br>Electricity: %{y} Trillion Btu<extra></extra>",
         "marker": {
          "color": "orange",
          "opacity": 0.7,
          "size": 8
         },
         "mode": "markers",
         "name": "Electricity",
         "text": {
          "bdata": "AAAAAAB0nkAAAAAAAHieQAAAAAAAfJ5AAAAAAACAnkAAAAAAAISeQAAAAAAAiJ5AAAAAAACMnkAAAAAAAJCeQAAAAAAAlJ5AAAAAAACYnkAAAAAAAJyeQAAAAAAAoJ5AAAAAAACknkAAAAAAAKieQAAAAAAArJ5AAAAAAACwnkAAAAAAALSeQAAAAAAAuJ5AAAAAAAC8nkAAAAAAAMCeQAAAAAAAxJ5AAAAAAADInkAAAAAAAMyeQAAAAAAA0J5AAAAAAADUnkAAAAAAANieQAAAAAAA3J5AAAAAAADgnkAAAAAAAOSeQAAAAAAA6J5AAAAAAADsnkAAAAAAAPCeQAAAAAAA9J5AAAAAAAD4nkAAAAAAAPyeQAAAAAAAAJ9AAAAAAAAEn0AAAAAAAAifQAAAAAAADJ9AAAAAAAAQn0AAAAAAABSfQAAAAAAAGJ9AAAAAAAAcn0AAAAAAACCfQAAAAAAAJJ9AAAAAAAAon0AAAAAAACyfQAAAAAAAMJ9AAAAAAAA0n0AAAAAAADifQAAAAAAAPJ9AAAAAAABAn0AAAAAAAESfQAAAAAAASJ9AAAAAAABMn0AAAAAAAFCfQAAAAAAAVJ9AAAAAAABYn0AAAAAAAFyfQAAAAAAAYJ9AAAAAAABkn0AAAAAAAGifQAAAAAAAbJ9AAAAAAABwn0AAAAAAAHSfQAAAAAAAeJ9AAAAAAAB8n0AAAAAAAICfQAAAAAAAhJ9AAAAAAACIn0AAAAAAAIyfQAAAAAAAkJ9AAAAAAACUn0AAAAAAAJifQAAAAAAAnJ9AAAAAAACgn0A=",
          "dtype": "f8"
         },
         "type": "scatter",
         "x": {
          "bdata": "ZmZmZmamYkCamZmZmQljQM3MzMzMXGNAMzMzMzOzY0BmZmZmZgZkQAAAAAAAYGRAzczMzMy8ZEDNzMzMzBxlQAAAAAAAgGVAzczMzMzcZUCamZmZmTlmQGZmZmZmlmZAZmZmZmb2ZkAAAAAAAFBnQGZmZmZmpmdAzczMzMz8Z0CamZmZmUloQDMzMzMzk2hAZmZmZmbWaEBmZmZmZhZpQGZmZmZmVmlAMzMzMzOjaUBmZmZmZvZpQM3MzMzMPGpAzczMzMx8akDNzMzMzLxqQAAAAAAAAGtAAAAAAABAa0BmZmZmZoZrQDMzMzMz02tAMzMzMzMjbEBmZmZmZmZsQAAAAAAAsGxAZmZmZmb2bECamZmZmTltQJqZmZmZeW1AzczMzMy8bUAzMzMzMwNuQJqZmZmZSW5AAAAAAACQbkCamZmZmdluQDMzMzMzM29AAAAAAACgb0AAAAAAAAhwQGZmZmZmPnBAmpmZmZlxcEDNzMzMzKRwQGZmZmZm1nBAmpmZmZkJcUBmZmZmZj5xQAAAAAAAcHFAMzMzMzOjcUAAAAAAANBxQJqZmZmZ+XFAmpmZmZkhckDNzMzMzExyQAAAAAAAeHJAZmZmZmamckAzMzMzM9NyQJqZmZmZAXNAzczMzMwsc0DNzMzMzFRzQJqZmZmZeXNAzczMzMycc0AAAAAAAMBzQM3MzMzM5HNAmpmZmZkJdEBmZmZmZi50QAAAAAAAUHRAMzMzMzNrdEAzMzMzM4N0QJqZmZmZuXRAmpmZmZnBdEAAAAAAAOB0QM3MzMzMDHVAmpmZmZlBdUA=",
          "dtype": "f8"
         },
         "y": {
          "bdata": "oBov3SQji0AK16NwPROPQE5iEFi5m5FAgZVDi+z8kkAhsHJokR+VQHNoke38nJZAVg4tsp17mkBCYOXQoh+dQG8Sg8DKsp5ALbKd7ydXn0AnMQisXD6hQOkmMQhsV6JADAIrh5Y+o0CkcD0KV7qkQJhuEoPAMaZA+n5qvLTip0DFILByqGypQH9qvHTTl6tAK4cW2Q5NrUAEVg4tMgiwQIGVQ4vMgrFA/tR46YaOskAEVg4tEpazQKabxCCwQrVAuB6F63HUtkAnMQisnLy2QJzEILASSbdAmpmZmRm6uEArhxbZzve5QGZmZmYm5bpApHA9Cpeau0D2KFyPQuq7QNejcD3qnbxAppvEIPDOu0DfT42XDqu8QI2XbhIjd75AGy/dJGb5vkDD9ShcL5K/QAaBlUMbYMBAJzEIrCwuwUCgGi/ddKPBQJMYBFaeE8JAMQisHPpnwkC+nxovTWrCQOF6FK6nEcNAvp8aL12Ow0BvEoPAqhTEQClcj8KFqsRATmIQWGn2xECkcD0Kx8DFQPhT46VrEsZAhetRuO7MxkBeukkM8p7GQClcj8IVGMdADi2ynU9Ix0AAAAAAAKTHQM3MzMycZchAbef7qeF0yEBKDAIrVxbJQPp+arwk4shAuB6F6yH4x0BQjZduwgXJQM3MzMw8/chA9ihcjxKfyEBaZDvfn9LIQLx0kxiUFslA8KfGS9cMyUBQjZduwhLJQPhT46UL0MhA7FG4HsW3yUD2KFyP0mXJQNejcD1axshAqvHSTdJcyUCmm8QgwCvKQOXQItt50clARIts5/tmykA=",
          "dtype": "f8"
         }
        }
       ],
       "layout": {
        "height": 500,
        "hovermode": "closest",
        "legend": {
         "orientation": "h",
         "x": 0.5,
         "xanchor": "center",
         "y": 1.1
        },
        "template": {
         "data": {
          "bar": [
           {
            "error_x": {
             "color": "#2a3f5f"
            },
            "error_y": {
             "color": "#2a3f5f"
            },
            "marker": {
             "line": {
              "color": "white",
              "width": 0.5
             },
             "pattern": {
              "fillmode": "overlay",
              "size": 10,
              "solidity": 0.2
             }
            },
            "type": "bar"
           }
          ],
          "barpolar": [
           {
            "marker": {
             "line": {
              "color": "white",
              "width": 0.5
             },
             "pattern": {
              "fillmode": "overlay",
              "size": 10,
              "solidity": 0.2
             }
            },
            "type": "barpolar"
           }
          ],
          "carpet": [
           {
            "aaxis": {
             "endlinecolor": "#2a3f5f",
             "gridcolor": "#C8D4E3",
             "linecolor": "#C8D4E3",
             "minorgridcolor": "#C8D4E3",
             "startlinecolor": "#2a3f5f"
            },
            "baxis": {
             "endlinecolor": "#2a3f5f",
             "gridcolor": "#C8D4E3",
             "linecolor": "#C8D4E3",
             "minorgridcolor": "#C8D4E3",
             "startlinecolor": "#2a3f5f"
            },
            "type": "carpet"
           }
          ],
          "choropleth": [
           {
            "colorbar": {
             "outlinewidth": 0,
             "ticks": ""
            },
            "type": "choropleth"
           }
          ],
          "contour": [
           {
            "colorbar": {
             "outlinewidth": 0,
             "ticks": ""
            },
            "colorscale": [
             [
              0,
              "#0d0887"
             ],
             [
              0.1111111111111111,
              "#46039f"
             ],
             [
              0.2222222222222222,
              "#7201a8"
             ],
             [
              0.3333333333333333,
              "#9c179e"
             ],
             [
              0.4444444444444444,
              "#bd3786"
             ],
             [
              0.5555555555555556,
              "#d8576b"
             ],
             [
              0.6666666666666666,
              "#ed7953"
             ],
             [
              0.7777777777777778,
              "#fb9f3a"
             ],
             [
              0.8888888888888888,
              "#fdca26"
             ],
             [
              1,
              "#f0f921"
             ]
            ],
            "type": "contour"
           }
          ],
          "contourcarpet": [
           {
            "colorbar": {
             "outlinewidth": 0,
             "ticks": ""
            },
            "type": "contourcarpet"
           }
          ],
          "heatmap": [
           {
            "colorbar": {
             "outlinewidth": 0,
             "ticks": ""
            },
            "colorscale": [
             [
              0,
              "#0d0887"
             ],
             [
              0.1111111111111111,
              "#46039f"
             ],
             [
              0.2222222222222222,
              "#7201a8"
             ],
             [
              0.3333333333333333,
              "#9c179e"
             ],
             [
              0.4444444444444444,
              "#bd3786"
             ],
             [
              0.5555555555555556,
              "#d8576b"
             ],
             [
              0.6666666666666666,
              "#ed7953"
             ],
             [
              0.7777777777777778,
              "#fb9f3a"
             ],
             [
              0.8888888888888888,
              "#fdca26"
             ],
             [
              1,
              "#f0f921"
             ]
            ],
            "type": "heatmap"
           }
          ],
          "histogram": [
           {
            "marker": {
             "pattern": {
              "fillmode": "overlay",
              "size": 10,
              "solidity": 0.2
             }
            },
            "type": "histogram"
           }
          ],
          "histogram2d": [
           {
            "colorbar": {
             "outlinewidth": 0,
             "ticks": ""
            },
            "colorscale": [
             [
              0,
              "#0d0887"
             ],
             [
              0.1111111111111111,
              "#46039f"
             ],
             [
              0.2222222222222222,
              "#7201a8"
             ],
             [
              0.3333333333333333,
              "#9c179e"
             ],
             [
              0.4444444444444444,
              "#bd3786"
             ],
             [
              0.5555555555555556,
              "#d8576b"
             ],
             [
              0.6666666666666666,
              "#ed7953"
             ],
             [
              0.7777777777777778,
              "#fb9f3a"
             ],
             [
              0.8888888888888888,
              "#fdca26"
             ],
             [
              1,
              "#f0f921"
             ]
            ],
            "type": "histogram2d"
           }
          ],
          "histogram2dcontour": [
           {
            "colorbar": {
             "outlinewidth": 0,
             "ticks": ""
            },
            "colorscale": [
             [
              0,
              "#0d0887"
             ],
             [
              0.1111111111111111,
              "#46039f"
             ],
             [
              0.2222222222222222,
              "#7201a8"
             ],
             [
              0.3333333333333333,
              "#9c179e"
             ],
             [
              0.4444444444444444,
              "#bd3786"
             ],
             [
              0.5555555555555556,
              "#d8576b"
             ],
             [
              0.6666666666666666,
              "#ed7953"
             ],
             [
              0.7777777777777778,
              "#fb9f3a"
             ],
             [
              0.8888888888888888,
              "#fdca26"
             ],
             [
              1,
              "#f0f921"
             ]
            ],
            "type": "histogram2dcontour"
           }
          ],
          "mesh3d": [
           {
            "colorbar": {
             "outlinewidth": 0,
             "ticks": ""
            },
            "type": "mesh3d"
           }
          ],
          "parcoords": [
           {
            "line": {
             "colorbar": {
              "outlinewidth": 0,
              "ticks": ""
             }
            },
            "type": "parcoords"
           }
          ],
          "pie": [
           {
            "automargin": true,
            "type": "pie"
           }
          ],
          "scatter": [
           {
            "fillpattern": {
             "fillmode": "overlay",
             "size": 10,
             "solidity": 0.2
            },
            "type": "scatter"
           }
          ],
          "scatter3d": [
           {
            "line": {
             "colorbar": {
              "outlinewidth": 0,
              "ticks": ""
             }
            },
            "marker": {
             "colorbar": {
              "outlinewidth": 0,
              "ticks": ""
             }
            },
            "type": "scatter3d"
           }
          ],
          "scattercarpet": [
           {
            "marker": {
             "colorbar": {
              "outlinewidth": 0,
              "ticks": ""
             }
            },
            "type": "scattercarpet"
           }
          ],
          "scattergeo": [
           {
            "marker": {
             "colorbar": {
              "outlinewidth": 0,
              "ticks": ""
             }
            },
            "type": "scattergeo"
           }
          ],
          "scattergl": [
           {
            "marker": {
             "colorbar": {
              "outlinewidth": 0,
              "ticks": ""
             }
            },
            "type": "scattergl"
           }
          ],
          "scattermap": [
           {
            "marker": {
             "colorbar": {
              "outlinewidth": 0,
              "ticks": ""
             }
            },
            "type": "scattermap"
           }
          ],
          "scattermapbox": [
           {
            "marker": {
             "colorbar": {
              "outlinewidth": 0,
              "ticks": ""
             }
            },
            "type": "scattermapbox"
           }
          ],
          "scatterpolar": [
           {
            "marker": {
             "colorbar": {
              "outlinewidth": 0,
              "ticks": ""
             }
            },
            "type": "scatterpolar"
           }
          ],
          "scatterpolargl": [
           {
            "marker": {
             "colorbar": {
              "outlinewidth": 0,
              "ticks": ""
             }
            },
            "type": "scatterpolargl"
           }
          ],
          "scatterternary": [
           {
            "marker": {
             "colorbar": {
              "outlinewidth": 0,
              "ticks": ""
             }
            },
            "type": "scatterternary"
           }
          ],
          "surface": [
           {
            "colorbar": {
             "outlinewidth": 0,
             "ticks": ""
            },
            "colorscale": [
             [
              0,
              "#0d0887"
             ],
             [
              0.1111111111111111,
              "#46039f"
             ],
             [
              0.2222222222222222,
              "#7201a8"
             ],
             [
              0.3333333333333333,
              "#9c179e"
             ],
             [
              0.4444444444444444,
              "#bd3786"
             ],
             [
              0.5555555555555556,
              "#d8576b"
             ],
             [
              0.6666666666666666,
              "#ed7953"
             ],
             [
              0.7777777777777778,
              "#fb9f3a"
             ],
             [
              0.8888888888888888,
              "#fdca26"
             ],
             [
              1,
              "#f0f921"
             ]
            ],
            "type": "surface"
           }
          ],
          "table": [
           {
            "cells": {
             "fill": {
              "color": "#EBF0F8"
             },
             "line": {
              "color": "white"
             }
            },
            "header": {
             "fill": {
              "color": "#C8D4E3"
             },
             "line": {
              "color": "white"
             }
            },
            "type": "table"
           }
          ]
         },
         "layout": {
          "annotationdefaults": {
           "arrowcolor": "#2a3f5f",
           "arrowhead": 0,
           "arrowwidth": 1
          },
          "autotypenumbers": "strict",
          "coloraxis": {
           "colorbar": {
            "outlinewidth": 0,
            "ticks": ""
           }
          },
          "colorscale": {
           "diverging": [
            [
             0,
             "#8e0152"
            ],
            [
             0.1,
             "#c51b7d"
            ],
            [
             0.2,
             "#de77ae"
            ],
            [
             0.3,
             "#f1b6da"
            ],
            [
             0.4,
             "#fde0ef"
            ],
            [
             0.5,
             "#f7f7f7"
            ],
            [
             0.6,
             "#e6f5d0"
            ],
            [
             0.7,
             "#b8e186"
            ],
            [
             0.8,
             "#7fbc41"
            ],
            [
             0.9,
             "#4d9221"
            ],
            [
             1,
             "#276419"
            ]
           ],
           "sequential": [
            [
             0,
             "#0d0887"
            ],
            [
             0.1111111111111111,
             "#46039f"
            ],
            [
             0.2222222222222222,
             "#7201a8"
            ],
            [
             0.3333333333333333,
             "#9c179e"
            ],
            [
             0.4444444444444444,
             "#bd3786"
            ],
            [
             0.5555555555555556,
             "#d8576b"
            ],
            [
             0.6666666666666666,
             "#ed7953"
            ],
            [
             0.7777777777777778,
             "#fb9f3a"
            ],
            [
             0.8888888888888888,
             "#fdca26"
            ],
            [
             1,
             "#f0f921"
            ]
           ],
           "sequentialminus": [
            [
             0,
             "#0d0887"
            ],
            [
             0.1111111111111111,
             "#46039f"
            ],
            [
             0.2222222222222222,
             "#7201a8"
            ],
            [
             0.3333333333333333,
             "#9c179e"
            ],
            [
             0.4444444444444444,
             "#bd3786"
            ],
            [
             0.5555555555555556,
             "#d8576b"
            ],
            [
             0.6666666666666666,
             "#ed7953"
            ],
            [
             0.7777777777777778,
             "#fb9f3a"
            ],
            [
             0.8888888888888888,
             "#fdca26"
            ],
            [
             1,
             "#f0f921"
            ]
           ]
          },
          "colorway": [
           "#636efa",
           "#EF553B",
           "#00cc96",
           "#ab63fa",
           "#FFA15A",
           "#19d3f3",
           "#FF6692",
           "#B6E880",
           "#FF97FF",
           "#FECB52"
          ],
          "font": {
           "color": "#2a3f5f"
          },
          "geo": {
           "bgcolor": "white",
           "lakecolor": "white",
           "landcolor": "white",
           "showlakes": true,
           "showland": true,
           "subunitcolor": "#C8D4E3"
          },
          "hoverlabel": {
           "align": "left"
          },
          "hovermode": "closest",
          "mapbox": {
           "style": "light"
          },
          "paper_bgcolor": "white",
          "plot_bgcolor": "white",
          "polar": {
           "angularaxis": {
            "gridcolor": "#EBF0F8",
            "linecolor": "#EBF0F8",
            "ticks": ""
           },
           "bgcolor": "white",
           "radialaxis": {
            "gridcolor": "#EBF0F8",
            "linecolor": "#EBF0F8",
            "ticks": ""
           }
          },
          "scene": {
           "xaxis": {
            "backgroundcolor": "white",
            "gridcolor": "#DFE8F3",
            "gridwidth": 2,
            "linecolor": "#EBF0F8",
            "showbackground": true,
            "ticks": "",
            "zerolinecolor": "#EBF0F8"
           },
           "yaxis": {
            "backgroundcolor": "white",
            "gridcolor": "#DFE8F3",
            "gridwidth": 2,
            "linecolor": "#EBF0F8",
            "showbackground": true,
            "ticks": "",
            "zerolinecolor": "#EBF0F8"
           },
           "zaxis": {
            "backgroundcolor": "white",
            "gridcolor": "#DFE8F3",
            "gridwidth": 2,
            "linecolor": "#EBF0F8",
            "showbackground": true,
            "ticks": "",
            "zerolinecolor": "#EBF0F8"
           }
          },
          "shapedefaults": {
           "line": {
            "color": "#2a3f5f"
           }
          },
          "ternary": {
           "aaxis": {
            "gridcolor": "#DFE8F3",
            "linecolor": "#A2B1C6",
            "ticks": ""
           },
           "baxis": {
            "gridcolor": "#DFE8F3",
            "linecolor": "#A2B1C6",
            "ticks": ""
           },
           "bgcolor": "white",
           "caxis": {
            "gridcolor": "#DFE8F3",
            "linecolor": "#A2B1C6",
            "ticks": ""
           }
          },
          "title": {
           "x": 0.05
          },
          "xaxis": {
           "automargin": true,
           "gridcolor": "#EBF0F8",
           "linecolor": "#EBF0F8",
           "ticks": "",
           "title": {
            "standoff": 15
           },
           "zerolinecolor": "#EBF0F8",
           "zerolinewidth": 2
          },
          "yaxis": {
           "automargin": true,
           "gridcolor": "#EBF0F8",
           "linecolor": "#EBF0F8",
           "ticks": "",
           "title": {
            "standoff": 15
           },
           "zerolinecolor": "#EBF0F8",
           "zerolinewidth": 2
          }
         }
        },
        "title": {
         "text": "Population vs Total Energy and Electricity Consumption (1949–2024)",
         "x": 0.5,
         "xanchor": "center"
        },
        "width": 900,
        "xaxis": {
         "title": {
          "text": "Total Population (Million people)"
         }
        },
        "yaxis": {
         "title": {
          "text": "Usage (Trillion Btu)"
         }
        }
       }
      }
     },
     "metadata": {},
     "output_type": "display_data"
    }
   ],
   "source": [
    "# Relationship between total energy consumption, electricity consumption, and population\n",
    "# - End-use energy consumption (Trillion Btu)\n",
    "# - Electricity consumption (end-use, Trillion Btu)\n",
    "# - Total Resident Population (Million people)\n",
    "\n",
    "fig = go.Figure()\n",
    "\n",
    "# Scatter for Total End-Use Energy\n",
    "fig.add_trace(go.Scatter(\n",
    "    x=df1_energy[\"POP_US\"],\n",
    "    y=df1_energy[\"TotEnergy_2EndUse\"],\n",
    "    mode=\"markers\",\n",
    "    name=\"Total End-Use Energy\",\n",
    "    marker=dict(size=8, color=\"blue\", opacity=0.7),\n",
    "    text=df1_energy[\"Year\"],\n",
    "    hovertemplate=\"Year: %{text}<br>GDP: %{x}<br>Total Energy: %{y} Trillion Btu<extra></extra>\"\n",
    "))\n",
    "\n",
    "# Scatter for Electricity End-Use\n",
    "fig.add_trace(go.Scatter(\n",
    "    x=df1_energy[\"POP_US\"],\n",
    "    y=df1_energy[\"TotElectricity_2Used\"],\n",
    "    mode=\"markers\",\n",
    "    name=\"Electricity\",\n",
    "    marker=dict(size=8, color=\"orange\", opacity=0.7),\n",
    "    text=df1_energy[\"Year\"],\n",
    "    hovertemplate=\"Year: %{text}<br>GDP: %{x}<br>Electricity: %{y} Trillion Btu<extra></extra>\"\n",
    "))\n",
    "\n",
    "# Layout\n",
    "fig.update_layout(\n",
    "    title=dict(\n",
    "        text=\"Population vs Total Energy and Electricity Consumption (1949–2024)\",\n",
    "        x=0.5, xanchor=\"center\"\n",
    "    ),\n",
    "    xaxis_title=\"Total Population (Million people)\",\n",
    "    yaxis_title=\"Usage (Trillion Btu)\",\n",
    "    template=\"plotly_white\",\n",
    "    width=900,\n",
    "    height=500,\n",
    "    hovermode=\"closest\",\n",
    "    legend=dict(orientation=\"h\", x=0.5, xanchor=\"center\", y=1.1)\n",
    ")\n",
    "\n",
    "fig.show()"
   ]
  },
  {
   "cell_type": "code",
   "execution_count": 15,
   "id": "847bfd6e",
   "metadata": {},
   "outputs": [
    {
     "data": {
      "application/vnd.plotly.v1+json": {
       "config": {
        "plotlyServerURL": "https://plot.ly"
       },
       "data": [
        {
         "marker": {
          "color": "blue"
         },
         "mode": "markers+lines",
         "name": "Total Energy",
         "type": "scatter",
         "x": {
          "bdata": "zczMzMyroUAAAAAAADWjQJqZmZmZwKRAmpmZmZmZpUDNzMzMzJymQGZmZmZme6ZAAAAAAAAWqECamZmZmZmoQDMzMzMzHqlAZmZmZmbuqEDNzMzMzKiqQJqZmZmZWKtAMzMzMzMMrEAzMzMzM8StQDMzMzMzEK9AzczMzExtsECamZmZmX6xQGZmZmbmpbJAZmZmZuYos0BmZmZm5hm0QJqZmZmZurRAZmZmZmbEtEBmZmZmZnO1QAAAAAAAlLZAZmZmZmbat0BmZmZmZrm3QGZmZmbmrLdAZmZmZmbzuEDNzMzMzBq6QDMzMzOzjLtAAAAAAABsvEDNzMzMTFm8QAAAAACAEb1AzczMzEyLvEDNzMzMTNq9QGZmZmamAcBAAAAAAICswEDNzMzMTEDBQJqZmZnZ2MFAMzMzM7OXwkAAAAAAgEbDQM3MzMyMo8NAmpmZmRmew0AAAAAAAE/EQJqZmZkZ3sRAzczMzEy1xUAAAAAAgErGQM3MzMzMIcdAZmZmZiYpyEAzMzMzcz7JQGZmZmbmc8pAAAAAAACIy0CamZmZWcvLQJqZmZlZRMxAZmZmZqYOzUBmZmZm5izOQAAAAAAAOs9AZmZmZkYM0ECamZmZmV7QQAAAAABgY9BAzczMzIzuz0AzMzMzc2XQQJqZmZkZp9BAMzMzM7MI0UDNzMzMDGXRQM3MzMxs1dFAZmZmZuZb0kDNzMzMbLHSQGZmZmYGJ9NAmpmZmXm400DNzMzM7DrUQGZmZmbmytNAMzMzM7P91EAzMzMzs4TVQGZmZmbGI9ZAAAAAAODB1kA=",
          "dtype": "f8"
         },
         "xaxis": "x",
         "y": {
          "bdata": "SOF6FJ7F20D0/dR4SSPeQB+F61FIGOBAJQaBlUvL30DpJjEIlDjgQOF6FK43fN9AexSuRxVH4UAOLbKdN+HhQLpJDALbzeFAzczMzOzE4UAK16NwTXbiQHnpJjGAJONAxSCwcshf40BEi2znCzTkQOF6FK6z4+RAL90kBpm35UAfhetRpIvmQB1aZDuLq+dAokW2891g6EBQjZdu/q7pQBBYObQgzepA9P3UeF1860Bg5dAiw+XrQJZDi2y3He1AXI/C9ewk7kB/arx05zTtQH9qvHTvH+xArBxaZMur7UCiRbbzeUTuQGZmZmb+3e5A+n5qvOA070C+nxovsbntQIGVQ4u4xuxAIbByaPFr60CkcD0K9yfrQC/dJAbVquxARrbz/cxs7EBqvHSTrIfsQMP1KFxDfO1ANV66SYzc7kAdWmQ7OzLvQFYOLbKt1+5AcT0K1/O57kCwcmiRQXPvQArXo3B50O9AZmZmZhpA8EACK4cW2YbwQARWDi0SFvFAnMQgsEoq8UB7FK5HdwrxQLbz/dTwSvFACtejcL2l8UCDwMqh1TDxQM/3U+PzaPFAWDm0yCKB8UDTTWIQsurxQLx0kxj4zvFA+n5qvKSx8UAbL90kiujxQDvfT40XdfFA5/up8bah8EAUrkfh/EDxQCcxCKxwK/FAvHSTGBbM8EApXI/CH2/xQMdLN4mNrvFAUrgehfWi8UBeukkM7qrxQCPb+X6Yz/FA8KfGS5OR8kAtsp3vp53yQA4tsp1dDPFAbef7qe8D8kBg5dAiQVvyQO58PzVoPfJAzczMzEJN8kA=",
          "dtype": "f8"
         },
         "yaxis": "y"
        },
        {
         "marker": {
          "color": "orange"
         },
         "mode": "markers+lines",
         "name": "Electricity",
         "type": "scatter",
         "x": {
          "bdata": "zczMzMyroUAAAAAAADWjQJqZmZmZwKRAmpmZmZmZpUDNzMzMzJymQGZmZmZme6ZAAAAAAAAWqECamZmZmZmoQDMzMzMzHqlAZmZmZmbuqEDNzMzMzKiqQJqZmZmZWKtAMzMzMzMMrEAzMzMzM8StQDMzMzMzEK9AzczMzExtsECamZmZmX6xQGZmZmbmpbJAZmZmZuYos0BmZmZm5hm0QJqZmZmZurRAZmZmZmbEtEBmZmZmZnO1QAAAAAAAlLZAZmZmZmbat0BmZmZmZrm3QGZmZmbmrLdAZmZmZmbzuEDNzMzMzBq6QDMzMzOzjLtAAAAAAABsvEDNzMzMTFm8QAAAAACAEb1AzczMzEyLvEDNzMzMTNq9QGZmZmamAcBAAAAAAICswEDNzMzMTEDBQJqZmZnZ2MFAMzMzM7OXwkAAAAAAgEbDQM3MzMyMo8NAmpmZmRmew0AAAAAAAE/EQJqZmZkZ3sRAzczMzEy1xUAAAAAAgErGQM3MzMzMIcdAZmZmZiYpyEAzMzMzcz7JQGZmZmbmc8pAAAAAAACIy0CamZmZWcvLQJqZmZlZRMxAZmZmZqYOzUBmZmZm5izOQAAAAAAAOs9AZmZmZkYM0ECamZmZmV7QQAAAAABgY9BAzczMzIzuz0AzMzMzc2XQQJqZmZkZp9BAMzMzM7MI0UDNzMzMDGXRQM3MzMxs1dFAZmZmZuZb0kDNzMzMbLHSQGZmZmYGJ9NAmpmZmXm400DNzMzM7DrUQGZmZmbmytNAMzMzM7P91EAzMzMzs4TVQGZmZmbGI9ZAAAAAAODB1kA=",
          "dtype": "f8"
         },
         "xaxis": "x",
         "y": {
          "bdata": "oBov3SQji0AK16NwPROPQE5iEFi5m5FAgZVDi+z8kkAhsHJokR+VQHNoke38nJZAVg4tsp17mkBCYOXQoh+dQG8Sg8DKsp5ALbKd7ydXn0AnMQisXD6hQOkmMQhsV6JADAIrh5Y+o0CkcD0KV7qkQJhuEoPAMaZA+n5qvLTip0DFILByqGypQH9qvHTTl6tAK4cW2Q5NrUAEVg4tMgiwQIGVQ4vMgrFA/tR46YaOskAEVg4tEpazQKabxCCwQrVAuB6F63HUtkAnMQisnLy2QJzEILASSbdAmpmZmRm6uEArhxbZzve5QGZmZmYm5bpApHA9Cpeau0D2KFyPQuq7QNejcD3qnbxAppvEIPDOu0DfT42XDqu8QI2XbhIjd75AGy/dJGb5vkDD9ShcL5K/QAaBlUMbYMBAJzEIrCwuwUCgGi/ddKPBQJMYBFaeE8JAMQisHPpnwkC+nxovTWrCQOF6FK6nEcNAvp8aL12Ow0BvEoPAqhTEQClcj8KFqsRATmIQWGn2xECkcD0Kx8DFQPhT46VrEsZAhetRuO7MxkBeukkM8p7GQClcj8IVGMdADi2ynU9Ix0AAAAAAAKTHQM3MzMycZchAbef7qeF0yEBKDAIrVxbJQPp+arwk4shAuB6F6yH4x0BQjZduwgXJQM3MzMw8/chA9ihcjxKfyEBaZDvfn9LIQLx0kxiUFslA8KfGS9cMyUBQjZduwhLJQPhT46UL0MhA7FG4HsW3yUD2KFyP0mXJQNejcD1axshAqvHSTdJcyUCmm8QgwCvKQOXQItt50clARIts5/tmykA=",
          "dtype": "f8"
         },
         "yaxis": "y"
        },
        {
         "marker": {
          "color": "blue"
         },
         "mode": "markers+lines",
         "name": "Total Energy",
         "showlegend": false,
         "type": "scatter",
         "x": {
          "bdata": "ZmZmZmamYkCamZmZmQljQM3MzMzMXGNAMzMzMzOzY0BmZmZmZgZkQAAAAAAAYGRAzczMzMy8ZEDNzMzMzBxlQAAAAAAAgGVAzczMzMzcZUCamZmZmTlmQGZmZmZmlmZAZmZmZmb2ZkAAAAAAAFBnQGZmZmZmpmdAzczMzMz8Z0CamZmZmUloQDMzMzMzk2hAZmZmZmbWaEBmZmZmZhZpQGZmZmZmVmlAMzMzMzOjaUBmZmZmZvZpQM3MzMzMPGpAzczMzMx8akDNzMzMzLxqQAAAAAAAAGtAAAAAAABAa0BmZmZmZoZrQDMzMzMz02tAMzMzMzMjbEBmZmZmZmZsQAAAAAAAsGxAZmZmZmb2bECamZmZmTltQJqZmZmZeW1AzczMzMy8bUAzMzMzMwNuQJqZmZmZSW5AAAAAAACQbkCamZmZmdluQDMzMzMzM29AAAAAAACgb0AAAAAAAAhwQGZmZmZmPnBAmpmZmZlxcEDNzMzMzKRwQGZmZmZm1nBAmpmZmZkJcUBmZmZmZj5xQAAAAAAAcHFAMzMzMzOjcUAAAAAAANBxQJqZmZmZ+XFAmpmZmZkhckDNzMzMzExyQAAAAAAAeHJAZmZmZmamckAzMzMzM9NyQJqZmZmZAXNAzczMzMwsc0DNzMzMzFRzQJqZmZmZeXNAzczMzMycc0AAAAAAAMBzQM3MzMzM5HNAmpmZmZkJdEBmZmZmZi50QAAAAAAAUHRAMzMzMzNrdEAzMzMzM4N0QJqZmZmZuXRAmpmZmZnBdEAAAAAAAOB0QM3MzMzMDHVAmpmZmZlBdUA=",
          "dtype": "f8"
         },
         "xaxis": "x2",
         "y": {
          "bdata": "SOF6FJ7F20D0/dR4SSPeQB+F61FIGOBAJQaBlUvL30DpJjEIlDjgQOF6FK43fN9AexSuRxVH4UAOLbKdN+HhQLpJDALbzeFAzczMzOzE4UAK16NwTXbiQHnpJjGAJONAxSCwcshf40BEi2znCzTkQOF6FK6z4+RAL90kBpm35UAfhetRpIvmQB1aZDuLq+dAokW2891g6EBQjZdu/q7pQBBYObQgzepA9P3UeF1860Bg5dAiw+XrQJZDi2y3He1AXI/C9ewk7kB/arx05zTtQH9qvHTvH+xArBxaZMur7UCiRbbzeUTuQGZmZmb+3e5A+n5qvOA070C+nxovsbntQIGVQ4u4xuxAIbByaPFr60CkcD0K9yfrQC/dJAbVquxARrbz/cxs7EBqvHSTrIfsQMP1KFxDfO1ANV66SYzc7kAdWmQ7OzLvQFYOLbKt1+5AcT0K1/O57kCwcmiRQXPvQArXo3B50O9AZmZmZhpA8EACK4cW2YbwQARWDi0SFvFAnMQgsEoq8UB7FK5HdwrxQLbz/dTwSvFACtejcL2l8UCDwMqh1TDxQM/3U+PzaPFAWDm0yCKB8UDTTWIQsurxQLx0kxj4zvFA+n5qvKSx8UAbL90kiujxQDvfT40XdfFA5/up8bah8EAUrkfh/EDxQCcxCKxwK/FAvHSTGBbM8EApXI/CH2/xQMdLN4mNrvFAUrgehfWi8UBeukkM7qrxQCPb+X6Yz/FA8KfGS5OR8kAtsp3vp53yQA4tsp1dDPFAbef7qe8D8kBg5dAiQVvyQO58PzVoPfJAzczMzEJN8kA=",
          "dtype": "f8"
         },
         "yaxis": "y2"
        },
        {
         "marker": {
          "color": "orange"
         },
         "mode": "markers+lines",
         "name": "Electricity",
         "showlegend": false,
         "type": "scatter",
         "x": {
          "bdata": "ZmZmZmamYkCamZmZmQljQM3MzMzMXGNAMzMzMzOzY0BmZmZmZgZkQAAAAAAAYGRAzczMzMy8ZEDNzMzMzBxlQAAAAAAAgGVAzczMzMzcZUCamZmZmTlmQGZmZmZmlmZAZmZmZmb2ZkAAAAAAAFBnQGZmZmZmpmdAzczMzMz8Z0CamZmZmUloQDMzMzMzk2hAZmZmZmbWaEBmZmZmZhZpQGZmZmZmVmlAMzMzMzOjaUBmZmZmZvZpQM3MzMzMPGpAzczMzMx8akDNzMzMzLxqQAAAAAAAAGtAAAAAAABAa0BmZmZmZoZrQDMzMzMz02tAMzMzMzMjbEBmZmZmZmZsQAAAAAAAsGxAZmZmZmb2bECamZmZmTltQJqZmZmZeW1AzczMzMy8bUAzMzMzMwNuQJqZmZmZSW5AAAAAAACQbkCamZmZmdluQDMzMzMzM29AAAAAAACgb0AAAAAAAAhwQGZmZmZmPnBAmpmZmZlxcEDNzMzMzKRwQGZmZmZm1nBAmpmZmZkJcUBmZmZmZj5xQAAAAAAAcHFAMzMzMzOjcUAAAAAAANBxQJqZmZmZ+XFAmpmZmZkhckDNzMzMzExyQAAAAAAAeHJAZmZmZmamckAzMzMzM9NyQJqZmZmZAXNAzczMzMwsc0DNzMzMzFRzQJqZmZmZeXNAzczMzMycc0AAAAAAAMBzQM3MzMzM5HNAmpmZmZkJdEBmZmZmZi50QAAAAAAAUHRAMzMzMzNrdEAzMzMzM4N0QJqZmZmZuXRAmpmZmZnBdEAAAAAAAOB0QM3MzMzMDHVAmpmZmZlBdUA=",
          "dtype": "f8"
         },
         "xaxis": "x2",
         "y": {
          "bdata": "oBov3SQji0AK16NwPROPQE5iEFi5m5FAgZVDi+z8kkAhsHJokR+VQHNoke38nJZAVg4tsp17mkBCYOXQoh+dQG8Sg8DKsp5ALbKd7ydXn0AnMQisXD6hQOkmMQhsV6JADAIrh5Y+o0CkcD0KV7qkQJhuEoPAMaZA+n5qvLTip0DFILByqGypQH9qvHTTl6tAK4cW2Q5NrUAEVg4tMgiwQIGVQ4vMgrFA/tR46YaOskAEVg4tEpazQKabxCCwQrVAuB6F63HUtkAnMQisnLy2QJzEILASSbdAmpmZmRm6uEArhxbZzve5QGZmZmYm5bpApHA9Cpeau0D2KFyPQuq7QNejcD3qnbxAppvEIPDOu0DfT42XDqu8QI2XbhIjd75AGy/dJGb5vkDD9ShcL5K/QAaBlUMbYMBAJzEIrCwuwUCgGi/ddKPBQJMYBFaeE8JAMQisHPpnwkC+nxovTWrCQOF6FK6nEcNAvp8aL12Ow0BvEoPAqhTEQClcj8KFqsRATmIQWGn2xECkcD0Kx8DFQPhT46VrEsZAhetRuO7MxkBeukkM8p7GQClcj8IVGMdADi2ynU9Ix0AAAAAAAKTHQM3MzMycZchAbef7qeF0yEBKDAIrVxbJQPp+arwk4shAuB6F6yH4x0BQjZduwgXJQM3MzMw8/chA9ihcjxKfyEBaZDvfn9LIQLx0kxiUFslA8KfGS9cMyUBQjZduwhLJQPhT46UL0MhA7FG4HsW3yUD2KFyP0mXJQNejcD1axshAqvHSTdJcyUCmm8QgwCvKQOXQItt50clARIts5/tmykA=",
          "dtype": "f8"
         },
         "yaxis": "y2"
        }
       ],
       "layout": {
        "annotations": [
         {
          "font": {
           "size": 16
          },
          "showarrow": false,
          "text": "Energy & Electricity vs Real-GDP",
          "x": 0.225,
          "xanchor": "center",
          "xref": "paper",
          "y": 1,
          "yanchor": "bottom",
          "yref": "paper"
         },
         {
          "font": {
           "size": 16
          },
          "showarrow": false,
          "text": "Energy & Electricity vs Population",
          "x": 0.775,
          "xanchor": "center",
          "xref": "paper",
          "y": 1,
          "yanchor": "bottom",
          "yref": "paper"
         }
        ],
        "height": 500,
        "legend": {
         "orientation": "h",
         "x": 0.5,
         "xanchor": "center",
         "y": -0.2,
         "yanchor": "top"
        },
        "template": {
         "data": {
          "bar": [
           {
            "error_x": {
             "color": "#2a3f5f"
            },
            "error_y": {
             "color": "#2a3f5f"
            },
            "marker": {
             "line": {
              "color": "white",
              "width": 0.5
             },
             "pattern": {
              "fillmode": "overlay",
              "size": 10,
              "solidity": 0.2
             }
            },
            "type": "bar"
           }
          ],
          "barpolar": [
           {
            "marker": {
             "line": {
              "color": "white",
              "width": 0.5
             },
             "pattern": {
              "fillmode": "overlay",
              "size": 10,
              "solidity": 0.2
             }
            },
            "type": "barpolar"
           }
          ],
          "carpet": [
           {
            "aaxis": {
             "endlinecolor": "#2a3f5f",
             "gridcolor": "#C8D4E3",
             "linecolor": "#C8D4E3",
             "minorgridcolor": "#C8D4E3",
             "startlinecolor": "#2a3f5f"
            },
            "baxis": {
             "endlinecolor": "#2a3f5f",
             "gridcolor": "#C8D4E3",
             "linecolor": "#C8D4E3",
             "minorgridcolor": "#C8D4E3",
             "startlinecolor": "#2a3f5f"
            },
            "type": "carpet"
           }
          ],
          "choropleth": [
           {
            "colorbar": {
             "outlinewidth": 0,
             "ticks": ""
            },
            "type": "choropleth"
           }
          ],
          "contour": [
           {
            "colorbar": {
             "outlinewidth": 0,
             "ticks": ""
            },
            "colorscale": [
             [
              0,
              "#0d0887"
             ],
             [
              0.1111111111111111,
              "#46039f"
             ],
             [
              0.2222222222222222,
              "#7201a8"
             ],
             [
              0.3333333333333333,
              "#9c179e"
             ],
             [
              0.4444444444444444,
              "#bd3786"
             ],
             [
              0.5555555555555556,
              "#d8576b"
             ],
             [
              0.6666666666666666,
              "#ed7953"
             ],
             [
              0.7777777777777778,
              "#fb9f3a"
             ],
             [
              0.8888888888888888,
              "#fdca26"
             ],
             [
              1,
              "#f0f921"
             ]
            ],
            "type": "contour"
           }
          ],
          "contourcarpet": [
           {
            "colorbar": {
             "outlinewidth": 0,
             "ticks": ""
            },
            "type": "contourcarpet"
           }
          ],
          "heatmap": [
           {
            "colorbar": {
             "outlinewidth": 0,
             "ticks": ""
            },
            "colorscale": [
             [
              0,
              "#0d0887"
             ],
             [
              0.1111111111111111,
              "#46039f"
             ],
             [
              0.2222222222222222,
              "#7201a8"
             ],
             [
              0.3333333333333333,
              "#9c179e"
             ],
             [
              0.4444444444444444,
              "#bd3786"
             ],
             [
              0.5555555555555556,
              "#d8576b"
             ],
             [
              0.6666666666666666,
              "#ed7953"
             ],
             [
              0.7777777777777778,
              "#fb9f3a"
             ],
             [
              0.8888888888888888,
              "#fdca26"
             ],
             [
              1,
              "#f0f921"
             ]
            ],
            "type": "heatmap"
           }
          ],
          "histogram": [
           {
            "marker": {
             "pattern": {
              "fillmode": "overlay",
              "size": 10,
              "solidity": 0.2
             }
            },
            "type": "histogram"
           }
          ],
          "histogram2d": [
           {
            "colorbar": {
             "outlinewidth": 0,
             "ticks": ""
            },
            "colorscale": [
             [
              0,
              "#0d0887"
             ],
             [
              0.1111111111111111,
              "#46039f"
             ],
             [
              0.2222222222222222,
              "#7201a8"
             ],
             [
              0.3333333333333333,
              "#9c179e"
             ],
             [
              0.4444444444444444,
              "#bd3786"
             ],
             [
              0.5555555555555556,
              "#d8576b"
             ],
             [
              0.6666666666666666,
              "#ed7953"
             ],
             [
              0.7777777777777778,
              "#fb9f3a"
             ],
             [
              0.8888888888888888,
              "#fdca26"
             ],
             [
              1,
              "#f0f921"
             ]
            ],
            "type": "histogram2d"
           }
          ],
          "histogram2dcontour": [
           {
            "colorbar": {
             "outlinewidth": 0,
             "ticks": ""
            },
            "colorscale": [
             [
              0,
              "#0d0887"
             ],
             [
              0.1111111111111111,
              "#46039f"
             ],
             [
              0.2222222222222222,
              "#7201a8"
             ],
             [
              0.3333333333333333,
              "#9c179e"
             ],
             [
              0.4444444444444444,
              "#bd3786"
             ],
             [
              0.5555555555555556,
              "#d8576b"
             ],
             [
              0.6666666666666666,
              "#ed7953"
             ],
             [
              0.7777777777777778,
              "#fb9f3a"
             ],
             [
              0.8888888888888888,
              "#fdca26"
             ],
             [
              1,
              "#f0f921"
             ]
            ],
            "type": "histogram2dcontour"
           }
          ],
          "mesh3d": [
           {
            "colorbar": {
             "outlinewidth": 0,
             "ticks": ""
            },
            "type": "mesh3d"
           }
          ],
          "parcoords": [
           {
            "line": {
             "colorbar": {
              "outlinewidth": 0,
              "ticks": ""
             }
            },
            "type": "parcoords"
           }
          ],
          "pie": [
           {
            "automargin": true,
            "type": "pie"
           }
          ],
          "scatter": [
           {
            "fillpattern": {
             "fillmode": "overlay",
             "size": 10,
             "solidity": 0.2
            },
            "type": "scatter"
           }
          ],
          "scatter3d": [
           {
            "line": {
             "colorbar": {
              "outlinewidth": 0,
              "ticks": ""
             }
            },
            "marker": {
             "colorbar": {
              "outlinewidth": 0,
              "ticks": ""
             }
            },
            "type": "scatter3d"
           }
          ],
          "scattercarpet": [
           {
            "marker": {
             "colorbar": {
              "outlinewidth": 0,
              "ticks": ""
             }
            },
            "type": "scattercarpet"
           }
          ],
          "scattergeo": [
           {
            "marker": {
             "colorbar": {
              "outlinewidth": 0,
              "ticks": ""
             }
            },
            "type": "scattergeo"
           }
          ],
          "scattergl": [
           {
            "marker": {
             "colorbar": {
              "outlinewidth": 0,
              "ticks": ""
             }
            },
            "type": "scattergl"
           }
          ],
          "scattermap": [
           {
            "marker": {
             "colorbar": {
              "outlinewidth": 0,
              "ticks": ""
             }
            },
            "type": "scattermap"
           }
          ],
          "scattermapbox": [
           {
            "marker": {
             "colorbar": {
              "outlinewidth": 0,
              "ticks": ""
             }
            },
            "type": "scattermapbox"
           }
          ],
          "scatterpolar": [
           {
            "marker": {
             "colorbar": {
              "outlinewidth": 0,
              "ticks": ""
             }
            },
            "type": "scatterpolar"
           }
          ],
          "scatterpolargl": [
           {
            "marker": {
             "colorbar": {
              "outlinewidth": 0,
              "ticks": ""
             }
            },
            "type": "scatterpolargl"
           }
          ],
          "scatterternary": [
           {
            "marker": {
             "colorbar": {
              "outlinewidth": 0,
              "ticks": ""
             }
            },
            "type": "scatterternary"
           }
          ],
          "surface": [
           {
            "colorbar": {
             "outlinewidth": 0,
             "ticks": ""
            },
            "colorscale": [
             [
              0,
              "#0d0887"
             ],
             [
              0.1111111111111111,
              "#46039f"
             ],
             [
              0.2222222222222222,
              "#7201a8"
             ],
             [
              0.3333333333333333,
              "#9c179e"
             ],
             [
              0.4444444444444444,
              "#bd3786"
             ],
             [
              0.5555555555555556,
              "#d8576b"
             ],
             [
              0.6666666666666666,
              "#ed7953"
             ],
             [
              0.7777777777777778,
              "#fb9f3a"
             ],
             [
              0.8888888888888888,
              "#fdca26"
             ],
             [
              1,
              "#f0f921"
             ]
            ],
            "type": "surface"
           }
          ],
          "table": [
           {
            "cells": {
             "fill": {
              "color": "#EBF0F8"
             },
             "line": {
              "color": "white"
             }
            },
            "header": {
             "fill": {
              "color": "#C8D4E3"
             },
             "line": {
              "color": "white"
             }
            },
            "type": "table"
           }
          ]
         },
         "layout": {
          "annotationdefaults": {
           "arrowcolor": "#2a3f5f",
           "arrowhead": 0,
           "arrowwidth": 1
          },
          "autotypenumbers": "strict",
          "coloraxis": {
           "colorbar": {
            "outlinewidth": 0,
            "ticks": ""
           }
          },
          "colorscale": {
           "diverging": [
            [
             0,
             "#8e0152"
            ],
            [
             0.1,
             "#c51b7d"
            ],
            [
             0.2,
             "#de77ae"
            ],
            [
             0.3,
             "#f1b6da"
            ],
            [
             0.4,
             "#fde0ef"
            ],
            [
             0.5,
             "#f7f7f7"
            ],
            [
             0.6,
             "#e6f5d0"
            ],
            [
             0.7,
             "#b8e186"
            ],
            [
             0.8,
             "#7fbc41"
            ],
            [
             0.9,
             "#4d9221"
            ],
            [
             1,
             "#276419"
            ]
           ],
           "sequential": [
            [
             0,
             "#0d0887"
            ],
            [
             0.1111111111111111,
             "#46039f"
            ],
            [
             0.2222222222222222,
             "#7201a8"
            ],
            [
             0.3333333333333333,
             "#9c179e"
            ],
            [
             0.4444444444444444,
             "#bd3786"
            ],
            [
             0.5555555555555556,
             "#d8576b"
            ],
            [
             0.6666666666666666,
             "#ed7953"
            ],
            [
             0.7777777777777778,
             "#fb9f3a"
            ],
            [
             0.8888888888888888,
             "#fdca26"
            ],
            [
             1,
             "#f0f921"
            ]
           ],
           "sequentialminus": [
            [
             0,
             "#0d0887"
            ],
            [
             0.1111111111111111,
             "#46039f"
            ],
            [
             0.2222222222222222,
             "#7201a8"
            ],
            [
             0.3333333333333333,
             "#9c179e"
            ],
            [
             0.4444444444444444,
             "#bd3786"
            ],
            [
             0.5555555555555556,
             "#d8576b"
            ],
            [
             0.6666666666666666,
             "#ed7953"
            ],
            [
             0.7777777777777778,
             "#fb9f3a"
            ],
            [
             0.8888888888888888,
             "#fdca26"
            ],
            [
             1,
             "#f0f921"
            ]
           ]
          },
          "colorway": [
           "#636efa",
           "#EF553B",
           "#00cc96",
           "#ab63fa",
           "#FFA15A",
           "#19d3f3",
           "#FF6692",
           "#B6E880",
           "#FF97FF",
           "#FECB52"
          ],
          "font": {
           "color": "#2a3f5f"
          },
          "geo": {
           "bgcolor": "white",
           "lakecolor": "white",
           "landcolor": "white",
           "showlakes": true,
           "showland": true,
           "subunitcolor": "#C8D4E3"
          },
          "hoverlabel": {
           "align": "left"
          },
          "hovermode": "closest",
          "mapbox": {
           "style": "light"
          },
          "paper_bgcolor": "white",
          "plot_bgcolor": "white",
          "polar": {
           "angularaxis": {
            "gridcolor": "#EBF0F8",
            "linecolor": "#EBF0F8",
            "ticks": ""
           },
           "bgcolor": "white",
           "radialaxis": {
            "gridcolor": "#EBF0F8",
            "linecolor": "#EBF0F8",
            "ticks": ""
           }
          },
          "scene": {
           "xaxis": {
            "backgroundcolor": "white",
            "gridcolor": "#DFE8F3",
            "gridwidth": 2,
            "linecolor": "#EBF0F8",
            "showbackground": true,
            "ticks": "",
            "zerolinecolor": "#EBF0F8"
           },
           "yaxis": {
            "backgroundcolor": "white",
            "gridcolor": "#DFE8F3",
            "gridwidth": 2,
            "linecolor": "#EBF0F8",
            "showbackground": true,
            "ticks": "",
            "zerolinecolor": "#EBF0F8"
           },
           "zaxis": {
            "backgroundcolor": "white",
            "gridcolor": "#DFE8F3",
            "gridwidth": 2,
            "linecolor": "#EBF0F8",
            "showbackground": true,
            "ticks": "",
            "zerolinecolor": "#EBF0F8"
           }
          },
          "shapedefaults": {
           "line": {
            "color": "#2a3f5f"
           }
          },
          "ternary": {
           "aaxis": {
            "gridcolor": "#DFE8F3",
            "linecolor": "#A2B1C6",
            "ticks": ""
           },
           "baxis": {
            "gridcolor": "#DFE8F3",
            "linecolor": "#A2B1C6",
            "ticks": ""
           },
           "bgcolor": "white",
           "caxis": {
            "gridcolor": "#DFE8F3",
            "linecolor": "#A2B1C6",
            "ticks": ""
           }
          },
          "title": {
           "x": 0.05
          },
          "xaxis": {
           "automargin": true,
           "gridcolor": "#EBF0F8",
           "linecolor": "#EBF0F8",
           "ticks": "",
           "title": {
            "standoff": 15
           },
           "zerolinecolor": "#EBF0F8",
           "zerolinewidth": 2
          },
          "yaxis": {
           "automargin": true,
           "gridcolor": "#EBF0F8",
           "linecolor": "#EBF0F8",
           "ticks": "",
           "title": {
            "standoff": 15
           },
           "zerolinecolor": "#EBF0F8",
           "zerolinewidth": 2
          }
         }
        },
        "title": {
         "text": "U.S. Energy & Electricity vs GDP and Population (1949–2024)",
         "x": 0.5,
         "xanchor": "center"
        },
        "width": 900,
        "xaxis": {
         "anchor": "y",
         "domain": [
          0,
          0.45
         ],
         "title": {
          "text": "Real GDP (Billion chained 2017 dollars)"
         }
        },
        "xaxis2": {
         "anchor": "y2",
         "domain": [
          0.55,
          1
         ],
         "title": {
          "text": "Population (Millions)"
         }
        },
        "yaxis": {
         "anchor": "x",
         "domain": [
          0,
          1
         ],
         "title": {
          "text": "Usage (Trillion Btu)"
         }
        },
        "yaxis2": {
         "anchor": "x2",
         "domain": [
          0,
          1
         ],
         "title": {
          "text": "Usage (Trillion Btu)"
         }
        }
       }
      }
     },
     "metadata": {},
     "output_type": "display_data"
    }
   ],
   "source": [
    "# Relationship between energy usage and real GDP and population\n",
    "# - End-use energy consumption (Trillion Btu)\n",
    "# - Electricity consumption (end-use, Trillion Btu)\n",
    "# - Real GDP (Billion chained (2017) dollars)\n",
    "# - Total Resident Population (Million people)\n",
    "\n",
    "# Create subplot grid: 1 row x 2 columns\n",
    "fig = make_subplots(\n",
    "    rows=1, cols=2,\n",
    "    subplot_titles=(\n",
    "        \"Energy & Electricity vs Real-GDP\",\n",
    "        \"Energy & Electricity vs Population\"\n",
    "    )\n",
    ")\n",
    "\n",
    "# --- Left Plot: Real GDP ---\n",
    "fig.add_trace(go.Scatter(\n",
    "    x=df1_energy[\"GDP_Real\"], y=df1_energy[\"TotEnergy_2EndUse\"],\n",
    "    mode=\"markers+lines\", name=\"Total Energy\", marker=dict(color=\"blue\")\n",
    "), row=1, col=1)\n",
    "\n",
    "fig.add_trace(go.Scatter(\n",
    "    x=df1_energy[\"GDP_Real\"], y=df1_energy[\"TotElectricity_2Used\"],\n",
    "    mode=\"markers+lines\", name=\"Electricity\", marker=dict(color=\"orange\")\n",
    "), row=1, col=1)\n",
    "\n",
    "# --- Right Plot: Population ---\n",
    "fig.add_trace(go.Scatter(\n",
    "    x=df1_energy[\"POP_US\"], y=df1_energy[\"TotEnergy_2EndUse\"],\n",
    "    mode=\"markers+lines\", name=\"Total Energy\", marker=dict(color=\"blue\"), showlegend=False\n",
    "), row=1, col=2)\n",
    "\n",
    "fig.add_trace(go.Scatter(\n",
    "    x=df1_energy[\"POP_US\"], y=df1_energy[\"TotElectricity_2Used\"],\n",
    "    mode=\"markers+lines\", name=\"Electricity\", marker=dict(color=\"orange\"), showlegend=False\n",
    "), row=1, col=2)\n",
    "\n",
    "# Layout\n",
    "fig.update_layout(\n",
    "    title=dict(\n",
    "        text=\"U.S. Energy & Electricity vs GDP and Population (1949–2024)\",\n",
    "        x=0.5, xanchor=\"center\"\n",
    "    ),\n",
    "    template=\"plotly_white\",\n",
    "    width=900, height=500,\n",
    "    legend=dict(\n",
    "        orientation=\"h\", y=-0.2, x=0.5, xanchor=\"center\", yanchor=\"top\"\n",
    "    )\n",
    ")\n",
    "\n",
    "# Axis labels\n",
    "fig.update_xaxes(title_text=\"Real GDP (Billion chained 2017 dollars)\", row=1, col=1)\n",
    "fig.update_yaxes(title_text=\"Usage (Trillion Btu)\", row=1, col=1)\n",
    "\n",
    "fig.update_xaxes(title_text=\"Population (Millions)\", row=1, col=2)\n",
    "fig.update_yaxes(title_text=\"Usage (Trillion Btu)\", row=1, col=2)\n",
    "\n",
    "fig.show()\n"
   ]
  },
  {
   "cell_type": "code",
   "execution_count": 13,
   "id": "688599ad",
   "metadata": {},
   "outputs": [
    {
     "data": {
      "application/vnd.plotly.v1+json": {
       "config": {
        "plotlyServerURL": "https://plot.ly"
       },
       "data": [
        {
         "marker": {
          "color": "blue"
         },
         "mode": "markers+lines",
         "name": "Total Energy",
         "type": "scatter",
         "x": {
          "bdata": "zczMzMyroUAAAAAAADWjQJqZmZmZwKRAmpmZmZmZpUDNzMzMzJymQGZmZmZme6ZAAAAAAAAWqECamZmZmZmoQDMzMzMzHqlAZmZmZmbuqEDNzMzMzKiqQJqZmZmZWKtAMzMzMzMMrEAzMzMzM8StQDMzMzMzEK9AzczMzExtsECamZmZmX6xQGZmZmbmpbJAZmZmZuYos0BmZmZm5hm0QJqZmZmZurRAZmZmZmbEtEBmZmZmZnO1QAAAAAAAlLZAZmZmZmbat0BmZmZmZrm3QGZmZmbmrLdAZmZmZmbzuEDNzMzMzBq6QDMzMzOzjLtAAAAAAABsvEDNzMzMTFm8QAAAAACAEb1AzczMzEyLvEDNzMzMTNq9QGZmZmamAcBAAAAAAICswEDNzMzMTEDBQJqZmZnZ2MFAMzMzM7OXwkAAAAAAgEbDQM3MzMyMo8NAmpmZmRmew0AAAAAAAE/EQJqZmZkZ3sRAzczMzEy1xUAAAAAAgErGQM3MzMzMIcdAZmZmZiYpyEAzMzMzcz7JQGZmZmbmc8pAAAAAAACIy0CamZmZWcvLQJqZmZlZRMxAZmZmZqYOzUBmZmZm5izOQAAAAAAAOs9AZmZmZkYM0ECamZmZmV7QQAAAAABgY9BAzczMzIzuz0AzMzMzc2XQQJqZmZkZp9BAMzMzM7MI0UDNzMzMDGXRQM3MzMxs1dFAZmZmZuZb0kDNzMzMbLHSQGZmZmYGJ9NAmpmZmXm400DNzMzM7DrUQGZmZmbmytNAMzMzM7P91EAzMzMzs4TVQGZmZmbGI9ZAAAAAAODB1kA=",
          "dtype": "f8"
         },
         "xaxis": "x",
         "y": {
          "bdata": "SOF6FJ7F20D0/dR4SSPeQB+F61FIGOBAJQaBlUvL30DpJjEIlDjgQOF6FK43fN9AexSuRxVH4UAOLbKdN+HhQLpJDALbzeFAzczMzOzE4UAK16NwTXbiQHnpJjGAJONAxSCwcshf40BEi2znCzTkQOF6FK6z4+RAL90kBpm35UAfhetRpIvmQB1aZDuLq+dAokW2891g6EBQjZdu/q7pQBBYObQgzepA9P3UeF1860Bg5dAiw+XrQJZDi2y3He1AXI/C9ewk7kB/arx05zTtQH9qvHTvH+xArBxaZMur7UCiRbbzeUTuQGZmZmb+3e5A+n5qvOA070C+nxovsbntQIGVQ4u4xuxAIbByaPFr60CkcD0K9yfrQC/dJAbVquxARrbz/cxs7EBqvHSTrIfsQMP1KFxDfO1ANV66SYzc7kAdWmQ7OzLvQFYOLbKt1+5AcT0K1/O57kCwcmiRQXPvQArXo3B50O9AZmZmZhpA8EACK4cW2YbwQARWDi0SFvFAnMQgsEoq8UB7FK5HdwrxQLbz/dTwSvFACtejcL2l8UCDwMqh1TDxQM/3U+PzaPFAWDm0yCKB8UDTTWIQsurxQLx0kxj4zvFA+n5qvKSx8UAbL90kiujxQDvfT40XdfFA5/up8bah8EAUrkfh/EDxQCcxCKxwK/FAvHSTGBbM8EApXI/CH2/xQMdLN4mNrvFAUrgehfWi8UBeukkM7qrxQCPb+X6Yz/FA8KfGS5OR8kAtsp3vp53yQA4tsp1dDPFAbef7qe8D8kBg5dAiQVvyQO58PzVoPfJAzczMzEJN8kA=",
          "dtype": "f8"
         },
         "yaxis": "y"
        },
        {
         "marker": {
          "color": "orange"
         },
         "mode": "markers+lines",
         "name": "Electricity",
         "type": "scatter",
         "x": {
          "bdata": "zczMzMyroUAAAAAAADWjQJqZmZmZwKRAmpmZmZmZpUDNzMzMzJymQGZmZmZme6ZAAAAAAAAWqECamZmZmZmoQDMzMzMzHqlAZmZmZmbuqEDNzMzMzKiqQJqZmZmZWKtAMzMzMzMMrEAzMzMzM8StQDMzMzMzEK9AzczMzExtsECamZmZmX6xQGZmZmbmpbJAZmZmZuYos0BmZmZm5hm0QJqZmZmZurRAZmZmZmbEtEBmZmZmZnO1QAAAAAAAlLZAZmZmZmbat0BmZmZmZrm3QGZmZmbmrLdAZmZmZmbzuEDNzMzMzBq6QDMzMzOzjLtAAAAAAABsvEDNzMzMTFm8QAAAAACAEb1AzczMzEyLvEDNzMzMTNq9QGZmZmamAcBAAAAAAICswEDNzMzMTEDBQJqZmZnZ2MFAMzMzM7OXwkAAAAAAgEbDQM3MzMyMo8NAmpmZmRmew0AAAAAAAE/EQJqZmZkZ3sRAzczMzEy1xUAAAAAAgErGQM3MzMzMIcdAZmZmZiYpyEAzMzMzcz7JQGZmZmbmc8pAAAAAAACIy0CamZmZWcvLQJqZmZlZRMxAZmZmZqYOzUBmZmZm5izOQAAAAAAAOs9AZmZmZkYM0ECamZmZmV7QQAAAAABgY9BAzczMzIzuz0AzMzMzc2XQQJqZmZkZp9BAMzMzM7MI0UDNzMzMDGXRQM3MzMxs1dFAZmZmZuZb0kDNzMzMbLHSQGZmZmYGJ9NAmpmZmXm400DNzMzM7DrUQGZmZmbmytNAMzMzM7P91EAzMzMzs4TVQGZmZmbGI9ZAAAAAAODB1kA=",
          "dtype": "f8"
         },
         "xaxis": "x2",
         "y": {
          "bdata": "oBov3SQji0AK16NwPROPQE5iEFi5m5FAgZVDi+z8kkAhsHJokR+VQHNoke38nJZAVg4tsp17mkBCYOXQoh+dQG8Sg8DKsp5ALbKd7ydXn0AnMQisXD6hQOkmMQhsV6JADAIrh5Y+o0CkcD0KV7qkQJhuEoPAMaZA+n5qvLTip0DFILByqGypQH9qvHTTl6tAK4cW2Q5NrUAEVg4tMgiwQIGVQ4vMgrFA/tR46YaOskAEVg4tEpazQKabxCCwQrVAuB6F63HUtkAnMQisnLy2QJzEILASSbdAmpmZmRm6uEArhxbZzve5QGZmZmYm5bpApHA9Cpeau0D2KFyPQuq7QNejcD3qnbxAppvEIPDOu0DfT42XDqu8QI2XbhIjd75AGy/dJGb5vkDD9ShcL5K/QAaBlUMbYMBAJzEIrCwuwUCgGi/ddKPBQJMYBFaeE8JAMQisHPpnwkC+nxovTWrCQOF6FK6nEcNAvp8aL12Ow0BvEoPAqhTEQClcj8KFqsRATmIQWGn2xECkcD0Kx8DFQPhT46VrEsZAhetRuO7MxkBeukkM8p7GQClcj8IVGMdADi2ynU9Ix0AAAAAAAKTHQM3MzMycZchAbef7qeF0yEBKDAIrVxbJQPp+arwk4shAuB6F6yH4x0BQjZduwgXJQM3MzMw8/chA9ihcjxKfyEBaZDvfn9LIQLx0kxiUFslA8KfGS9cMyUBQjZduwhLJQPhT46UL0MhA7FG4HsW3yUD2KFyP0mXJQNejcD1axshAqvHSTdJcyUCmm8QgwCvKQOXQItt50clARIts5/tmykA=",
          "dtype": "f8"
         },
         "yaxis": "y2"
        },
        {
         "marker": {
          "color": "blue"
         },
         "mode": "markers+lines",
         "name": "Total Energy",
         "showlegend": false,
         "type": "scatter",
         "x": {
          "bdata": "ZmZmZmamYkCamZmZmQljQM3MzMzMXGNAMzMzMzOzY0BmZmZmZgZkQAAAAAAAYGRAzczMzMy8ZEDNzMzMzBxlQAAAAAAAgGVAzczMzMzcZUCamZmZmTlmQGZmZmZmlmZAZmZmZmb2ZkAAAAAAAFBnQGZmZmZmpmdAzczMzMz8Z0CamZmZmUloQDMzMzMzk2hAZmZmZmbWaEBmZmZmZhZpQGZmZmZmVmlAMzMzMzOjaUBmZmZmZvZpQM3MzMzMPGpAzczMzMx8akDNzMzMzLxqQAAAAAAAAGtAAAAAAABAa0BmZmZmZoZrQDMzMzMz02tAMzMzMzMjbEBmZmZmZmZsQAAAAAAAsGxAZmZmZmb2bECamZmZmTltQJqZmZmZeW1AzczMzMy8bUAzMzMzMwNuQJqZmZmZSW5AAAAAAACQbkCamZmZmdluQDMzMzMzM29AAAAAAACgb0AAAAAAAAhwQGZmZmZmPnBAmpmZmZlxcEDNzMzMzKRwQGZmZmZm1nBAmpmZmZkJcUBmZmZmZj5xQAAAAAAAcHFAMzMzMzOjcUAAAAAAANBxQJqZmZmZ+XFAmpmZmZkhckDNzMzMzExyQAAAAAAAeHJAZmZmZmamckAzMzMzM9NyQJqZmZmZAXNAzczMzMwsc0DNzMzMzFRzQJqZmZmZeXNAzczMzMycc0AAAAAAAMBzQM3MzMzM5HNAmpmZmZkJdEBmZmZmZi50QAAAAAAAUHRAMzMzMzNrdEAzMzMzM4N0QJqZmZmZuXRAmpmZmZnBdEAAAAAAAOB0QM3MzMzMDHVAmpmZmZlBdUA=",
          "dtype": "f8"
         },
         "xaxis": "x3",
         "y": {
          "bdata": "SOF6FJ7F20D0/dR4SSPeQB+F61FIGOBAJQaBlUvL30DpJjEIlDjgQOF6FK43fN9AexSuRxVH4UAOLbKdN+HhQLpJDALbzeFAzczMzOzE4UAK16NwTXbiQHnpJjGAJONAxSCwcshf40BEi2znCzTkQOF6FK6z4+RAL90kBpm35UAfhetRpIvmQB1aZDuLq+dAokW2891g6EBQjZdu/q7pQBBYObQgzepA9P3UeF1860Bg5dAiw+XrQJZDi2y3He1AXI/C9ewk7kB/arx05zTtQH9qvHTvH+xArBxaZMur7UCiRbbzeUTuQGZmZmb+3e5A+n5qvOA070C+nxovsbntQIGVQ4u4xuxAIbByaPFr60CkcD0K9yfrQC/dJAbVquxARrbz/cxs7EBqvHSTrIfsQMP1KFxDfO1ANV66SYzc7kAdWmQ7OzLvQFYOLbKt1+5AcT0K1/O57kCwcmiRQXPvQArXo3B50O9AZmZmZhpA8EACK4cW2YbwQARWDi0SFvFAnMQgsEoq8UB7FK5HdwrxQLbz/dTwSvFACtejcL2l8UCDwMqh1TDxQM/3U+PzaPFAWDm0yCKB8UDTTWIQsurxQLx0kxj4zvFA+n5qvKSx8UAbL90kiujxQDvfT40XdfFA5/up8bah8EAUrkfh/EDxQCcxCKxwK/FAvHSTGBbM8EApXI/CH2/xQMdLN4mNrvFAUrgehfWi8UBeukkM7qrxQCPb+X6Yz/FA8KfGS5OR8kAtsp3vp53yQA4tsp1dDPFAbef7qe8D8kBg5dAiQVvyQO58PzVoPfJAzczMzEJN8kA=",
          "dtype": "f8"
         },
         "yaxis": "y3"
        },
        {
         "marker": {
          "color": "orange"
         },
         "mode": "markers+lines",
         "name": "Electricity",
         "showlegend": false,
         "type": "scatter",
         "x": {
          "bdata": "ZmZmZmamYkCamZmZmQljQM3MzMzMXGNAMzMzMzOzY0BmZmZmZgZkQAAAAAAAYGRAzczMzMy8ZEDNzMzMzBxlQAAAAAAAgGVAzczMzMzcZUCamZmZmTlmQGZmZmZmlmZAZmZmZmb2ZkAAAAAAAFBnQGZmZmZmpmdAzczMzMz8Z0CamZmZmUloQDMzMzMzk2hAZmZmZmbWaEBmZmZmZhZpQGZmZmZmVmlAMzMzMzOjaUBmZmZmZvZpQM3MzMzMPGpAzczMzMx8akDNzMzMzLxqQAAAAAAAAGtAAAAAAABAa0BmZmZmZoZrQDMzMzMz02tAMzMzMzMjbEBmZmZmZmZsQAAAAAAAsGxAZmZmZmb2bECamZmZmTltQJqZmZmZeW1AzczMzMy8bUAzMzMzMwNuQJqZmZmZSW5AAAAAAACQbkCamZmZmdluQDMzMzMzM29AAAAAAACgb0AAAAAAAAhwQGZmZmZmPnBAmpmZmZlxcEDNzMzMzKRwQGZmZmZm1nBAmpmZmZkJcUBmZmZmZj5xQAAAAAAAcHFAMzMzMzOjcUAAAAAAANBxQJqZmZmZ+XFAmpmZmZkhckDNzMzMzExyQAAAAAAAeHJAZmZmZmamckAzMzMzM9NyQJqZmZmZAXNAzczMzMwsc0DNzMzMzFRzQJqZmZmZeXNAzczMzMycc0AAAAAAAMBzQM3MzMzM5HNAmpmZmZkJdEBmZmZmZi50QAAAAAAAUHRAMzMzMzNrdEAzMzMzM4N0QJqZmZmZuXRAmpmZmZnBdEAAAAAAAOB0QM3MzMzMDHVAmpmZmZlBdUA=",
          "dtype": "f8"
         },
         "xaxis": "x4",
         "y": {
          "bdata": "oBov3SQji0AK16NwPROPQE5iEFi5m5FAgZVDi+z8kkAhsHJokR+VQHNoke38nJZAVg4tsp17mkBCYOXQoh+dQG8Sg8DKsp5ALbKd7ydXn0AnMQisXD6hQOkmMQhsV6JADAIrh5Y+o0CkcD0KV7qkQJhuEoPAMaZA+n5qvLTip0DFILByqGypQH9qvHTTl6tAK4cW2Q5NrUAEVg4tMgiwQIGVQ4vMgrFA/tR46YaOskAEVg4tEpazQKabxCCwQrVAuB6F63HUtkAnMQisnLy2QJzEILASSbdAmpmZmRm6uEArhxbZzve5QGZmZmYm5bpApHA9Cpeau0D2KFyPQuq7QNejcD3qnbxAppvEIPDOu0DfT42XDqu8QI2XbhIjd75AGy/dJGb5vkDD9ShcL5K/QAaBlUMbYMBAJzEIrCwuwUCgGi/ddKPBQJMYBFaeE8JAMQisHPpnwkC+nxovTWrCQOF6FK6nEcNAvp8aL12Ow0BvEoPAqhTEQClcj8KFqsRATmIQWGn2xECkcD0Kx8DFQPhT46VrEsZAhetRuO7MxkBeukkM8p7GQClcj8IVGMdADi2ynU9Ix0AAAAAAAKTHQM3MzMycZchAbef7qeF0yEBKDAIrVxbJQPp+arwk4shAuB6F6yH4x0BQjZduwgXJQM3MzMw8/chA9ihcjxKfyEBaZDvfn9LIQLx0kxiUFslA8KfGS9cMyUBQjZduwhLJQPhT46UL0MhA7FG4HsW3yUD2KFyP0mXJQNejcD1axshAqvHSTdJcyUCmm8QgwCvKQOXQItt50clARIts5/tmykA=",
          "dtype": "f8"
         },
         "yaxis": "y4"
        }
       ],
       "layout": {
        "annotations": [
         {
          "font": {
           "size": 16
          },
          "showarrow": false,
          "text": "Total Energy vs Real-GDP",
          "x": 0.225,
          "xanchor": "center",
          "xref": "paper",
          "y": 1,
          "yanchor": "bottom",
          "yref": "paper"
         },
         {
          "font": {
           "size": 16
          },
          "showarrow": false,
          "text": "Total Energy vs Population",
          "x": 0.775,
          "xanchor": "center",
          "xref": "paper",
          "y": 1,
          "yanchor": "bottom",
          "yref": "paper"
         },
         {
          "font": {
           "size": 16
          },
          "showarrow": false,
          "text": "Electricity vs Real-GDP",
          "x": 0.225,
          "xanchor": "center",
          "xref": "paper",
          "y": 0.375,
          "yanchor": "bottom",
          "yref": "paper"
         },
         {
          "font": {
           "size": 16
          },
          "showarrow": false,
          "text": "Electricity vs Population",
          "x": 0.775,
          "xanchor": "center",
          "xref": "paper",
          "y": 0.375,
          "yanchor": "bottom",
          "yref": "paper"
         }
        ],
        "height": 600,
        "legend": {
         "orientation": "h",
         "x": 0.5,
         "xanchor": "center",
         "y": -0.2,
         "yanchor": "top"
        },
        "template": {
         "data": {
          "bar": [
           {
            "error_x": {
             "color": "#2a3f5f"
            },
            "error_y": {
             "color": "#2a3f5f"
            },
            "marker": {
             "line": {
              "color": "white",
              "width": 0.5
             },
             "pattern": {
              "fillmode": "overlay",
              "size": 10,
              "solidity": 0.2
             }
            },
            "type": "bar"
           }
          ],
          "barpolar": [
           {
            "marker": {
             "line": {
              "color": "white",
              "width": 0.5
             },
             "pattern": {
              "fillmode": "overlay",
              "size": 10,
              "solidity": 0.2
             }
            },
            "type": "barpolar"
           }
          ],
          "carpet": [
           {
            "aaxis": {
             "endlinecolor": "#2a3f5f",
             "gridcolor": "#C8D4E3",
             "linecolor": "#C8D4E3",
             "minorgridcolor": "#C8D4E3",
             "startlinecolor": "#2a3f5f"
            },
            "baxis": {
             "endlinecolor": "#2a3f5f",
             "gridcolor": "#C8D4E3",
             "linecolor": "#C8D4E3",
             "minorgridcolor": "#C8D4E3",
             "startlinecolor": "#2a3f5f"
            },
            "type": "carpet"
           }
          ],
          "choropleth": [
           {
            "colorbar": {
             "outlinewidth": 0,
             "ticks": ""
            },
            "type": "choropleth"
           }
          ],
          "contour": [
           {
            "colorbar": {
             "outlinewidth": 0,
             "ticks": ""
            },
            "colorscale": [
             [
              0,
              "#0d0887"
             ],
             [
              0.1111111111111111,
              "#46039f"
             ],
             [
              0.2222222222222222,
              "#7201a8"
             ],
             [
              0.3333333333333333,
              "#9c179e"
             ],
             [
              0.4444444444444444,
              "#bd3786"
             ],
             [
              0.5555555555555556,
              "#d8576b"
             ],
             [
              0.6666666666666666,
              "#ed7953"
             ],
             [
              0.7777777777777778,
              "#fb9f3a"
             ],
             [
              0.8888888888888888,
              "#fdca26"
             ],
             [
              1,
              "#f0f921"
             ]
            ],
            "type": "contour"
           }
          ],
          "contourcarpet": [
           {
            "colorbar": {
             "outlinewidth": 0,
             "ticks": ""
            },
            "type": "contourcarpet"
           }
          ],
          "heatmap": [
           {
            "colorbar": {
             "outlinewidth": 0,
             "ticks": ""
            },
            "colorscale": [
             [
              0,
              "#0d0887"
             ],
             [
              0.1111111111111111,
              "#46039f"
             ],
             [
              0.2222222222222222,
              "#7201a8"
             ],
             [
              0.3333333333333333,
              "#9c179e"
             ],
             [
              0.4444444444444444,
              "#bd3786"
             ],
             [
              0.5555555555555556,
              "#d8576b"
             ],
             [
              0.6666666666666666,
              "#ed7953"
             ],
             [
              0.7777777777777778,
              "#fb9f3a"
             ],
             [
              0.8888888888888888,
              "#fdca26"
             ],
             [
              1,
              "#f0f921"
             ]
            ],
            "type": "heatmap"
           }
          ],
          "histogram": [
           {
            "marker": {
             "pattern": {
              "fillmode": "overlay",
              "size": 10,
              "solidity": 0.2
             }
            },
            "type": "histogram"
           }
          ],
          "histogram2d": [
           {
            "colorbar": {
             "outlinewidth": 0,
             "ticks": ""
            },
            "colorscale": [
             [
              0,
              "#0d0887"
             ],
             [
              0.1111111111111111,
              "#46039f"
             ],
             [
              0.2222222222222222,
              "#7201a8"
             ],
             [
              0.3333333333333333,
              "#9c179e"
             ],
             [
              0.4444444444444444,
              "#bd3786"
             ],
             [
              0.5555555555555556,
              "#d8576b"
             ],
             [
              0.6666666666666666,
              "#ed7953"
             ],
             [
              0.7777777777777778,
              "#fb9f3a"
             ],
             [
              0.8888888888888888,
              "#fdca26"
             ],
             [
              1,
              "#f0f921"
             ]
            ],
            "type": "histogram2d"
           }
          ],
          "histogram2dcontour": [
           {
            "colorbar": {
             "outlinewidth": 0,
             "ticks": ""
            },
            "colorscale": [
             [
              0,
              "#0d0887"
             ],
             [
              0.1111111111111111,
              "#46039f"
             ],
             [
              0.2222222222222222,
              "#7201a8"
             ],
             [
              0.3333333333333333,
              "#9c179e"
             ],
             [
              0.4444444444444444,
              "#bd3786"
             ],
             [
              0.5555555555555556,
              "#d8576b"
             ],
             [
              0.6666666666666666,
              "#ed7953"
             ],
             [
              0.7777777777777778,
              "#fb9f3a"
             ],
             [
              0.8888888888888888,
              "#fdca26"
             ],
             [
              1,
              "#f0f921"
             ]
            ],
            "type": "histogram2dcontour"
           }
          ],
          "mesh3d": [
           {
            "colorbar": {
             "outlinewidth": 0,
             "ticks": ""
            },
            "type": "mesh3d"
           }
          ],
          "parcoords": [
           {
            "line": {
             "colorbar": {
              "outlinewidth": 0,
              "ticks": ""
             }
            },
            "type": "parcoords"
           }
          ],
          "pie": [
           {
            "automargin": true,
            "type": "pie"
           }
          ],
          "scatter": [
           {
            "fillpattern": {
             "fillmode": "overlay",
             "size": 10,
             "solidity": 0.2
            },
            "type": "scatter"
           }
          ],
          "scatter3d": [
           {
            "line": {
             "colorbar": {
              "outlinewidth": 0,
              "ticks": ""
             }
            },
            "marker": {
             "colorbar": {
              "outlinewidth": 0,
              "ticks": ""
             }
            },
            "type": "scatter3d"
           }
          ],
          "scattercarpet": [
           {
            "marker": {
             "colorbar": {
              "outlinewidth": 0,
              "ticks": ""
             }
            },
            "type": "scattercarpet"
           }
          ],
          "scattergeo": [
           {
            "marker": {
             "colorbar": {
              "outlinewidth": 0,
              "ticks": ""
             }
            },
            "type": "scattergeo"
           }
          ],
          "scattergl": [
           {
            "marker": {
             "colorbar": {
              "outlinewidth": 0,
              "ticks": ""
             }
            },
            "type": "scattergl"
           }
          ],
          "scattermap": [
           {
            "marker": {
             "colorbar": {
              "outlinewidth": 0,
              "ticks": ""
             }
            },
            "type": "scattermap"
           }
          ],
          "scattermapbox": [
           {
            "marker": {
             "colorbar": {
              "outlinewidth": 0,
              "ticks": ""
             }
            },
            "type": "scattermapbox"
           }
          ],
          "scatterpolar": [
           {
            "marker": {
             "colorbar": {
              "outlinewidth": 0,
              "ticks": ""
             }
            },
            "type": "scatterpolar"
           }
          ],
          "scatterpolargl": [
           {
            "marker": {
             "colorbar": {
              "outlinewidth": 0,
              "ticks": ""
             }
            },
            "type": "scatterpolargl"
           }
          ],
          "scatterternary": [
           {
            "marker": {
             "colorbar": {
              "outlinewidth": 0,
              "ticks": ""
             }
            },
            "type": "scatterternary"
           }
          ],
          "surface": [
           {
            "colorbar": {
             "outlinewidth": 0,
             "ticks": ""
            },
            "colorscale": [
             [
              0,
              "#0d0887"
             ],
             [
              0.1111111111111111,
              "#46039f"
             ],
             [
              0.2222222222222222,
              "#7201a8"
             ],
             [
              0.3333333333333333,
              "#9c179e"
             ],
             [
              0.4444444444444444,
              "#bd3786"
             ],
             [
              0.5555555555555556,
              "#d8576b"
             ],
             [
              0.6666666666666666,
              "#ed7953"
             ],
             [
              0.7777777777777778,
              "#fb9f3a"
             ],
             [
              0.8888888888888888,
              "#fdca26"
             ],
             [
              1,
              "#f0f921"
             ]
            ],
            "type": "surface"
           }
          ],
          "table": [
           {
            "cells": {
             "fill": {
              "color": "#EBF0F8"
             },
             "line": {
              "color": "white"
             }
            },
            "header": {
             "fill": {
              "color": "#C8D4E3"
             },
             "line": {
              "color": "white"
             }
            },
            "type": "table"
           }
          ]
         },
         "layout": {
          "annotationdefaults": {
           "arrowcolor": "#2a3f5f",
           "arrowhead": 0,
           "arrowwidth": 1
          },
          "autotypenumbers": "strict",
          "coloraxis": {
           "colorbar": {
            "outlinewidth": 0,
            "ticks": ""
           }
          },
          "colorscale": {
           "diverging": [
            [
             0,
             "#8e0152"
            ],
            [
             0.1,
             "#c51b7d"
            ],
            [
             0.2,
             "#de77ae"
            ],
            [
             0.3,
             "#f1b6da"
            ],
            [
             0.4,
             "#fde0ef"
            ],
            [
             0.5,
             "#f7f7f7"
            ],
            [
             0.6,
             "#e6f5d0"
            ],
            [
             0.7,
             "#b8e186"
            ],
            [
             0.8,
             "#7fbc41"
            ],
            [
             0.9,
             "#4d9221"
            ],
            [
             1,
             "#276419"
            ]
           ],
           "sequential": [
            [
             0,
             "#0d0887"
            ],
            [
             0.1111111111111111,
             "#46039f"
            ],
            [
             0.2222222222222222,
             "#7201a8"
            ],
            [
             0.3333333333333333,
             "#9c179e"
            ],
            [
             0.4444444444444444,
             "#bd3786"
            ],
            [
             0.5555555555555556,
             "#d8576b"
            ],
            [
             0.6666666666666666,
             "#ed7953"
            ],
            [
             0.7777777777777778,
             "#fb9f3a"
            ],
            [
             0.8888888888888888,
             "#fdca26"
            ],
            [
             1,
             "#f0f921"
            ]
           ],
           "sequentialminus": [
            [
             0,
             "#0d0887"
            ],
            [
             0.1111111111111111,
             "#46039f"
            ],
            [
             0.2222222222222222,
             "#7201a8"
            ],
            [
             0.3333333333333333,
             "#9c179e"
            ],
            [
             0.4444444444444444,
             "#bd3786"
            ],
            [
             0.5555555555555556,
             "#d8576b"
            ],
            [
             0.6666666666666666,
             "#ed7953"
            ],
            [
             0.7777777777777778,
             "#fb9f3a"
            ],
            [
             0.8888888888888888,
             "#fdca26"
            ],
            [
             1,
             "#f0f921"
            ]
           ]
          },
          "colorway": [
           "#636efa",
           "#EF553B",
           "#00cc96",
           "#ab63fa",
           "#FFA15A",
           "#19d3f3",
           "#FF6692",
           "#B6E880",
           "#FF97FF",
           "#FECB52"
          ],
          "font": {
           "color": "#2a3f5f"
          },
          "geo": {
           "bgcolor": "white",
           "lakecolor": "white",
           "landcolor": "white",
           "showlakes": true,
           "showland": true,
           "subunitcolor": "#C8D4E3"
          },
          "hoverlabel": {
           "align": "left"
          },
          "hovermode": "closest",
          "mapbox": {
           "style": "light"
          },
          "paper_bgcolor": "white",
          "plot_bgcolor": "white",
          "polar": {
           "angularaxis": {
            "gridcolor": "#EBF0F8",
            "linecolor": "#EBF0F8",
            "ticks": ""
           },
           "bgcolor": "white",
           "radialaxis": {
            "gridcolor": "#EBF0F8",
            "linecolor": "#EBF0F8",
            "ticks": ""
           }
          },
          "scene": {
           "xaxis": {
            "backgroundcolor": "white",
            "gridcolor": "#DFE8F3",
            "gridwidth": 2,
            "linecolor": "#EBF0F8",
            "showbackground": true,
            "ticks": "",
            "zerolinecolor": "#EBF0F8"
           },
           "yaxis": {
            "backgroundcolor": "white",
            "gridcolor": "#DFE8F3",
            "gridwidth": 2,
            "linecolor": "#EBF0F8",
            "showbackground": true,
            "ticks": "",
            "zerolinecolor": "#EBF0F8"
           },
           "zaxis": {
            "backgroundcolor": "white",
            "gridcolor": "#DFE8F3",
            "gridwidth": 2,
            "linecolor": "#EBF0F8",
            "showbackground": true,
            "ticks": "",
            "zerolinecolor": "#EBF0F8"
           }
          },
          "shapedefaults": {
           "line": {
            "color": "#2a3f5f"
           }
          },
          "ternary": {
           "aaxis": {
            "gridcolor": "#DFE8F3",
            "linecolor": "#A2B1C6",
            "ticks": ""
           },
           "baxis": {
            "gridcolor": "#DFE8F3",
            "linecolor": "#A2B1C6",
            "ticks": ""
           },
           "bgcolor": "white",
           "caxis": {
            "gridcolor": "#DFE8F3",
            "linecolor": "#A2B1C6",
            "ticks": ""
           }
          },
          "title": {
           "x": 0.05
          },
          "xaxis": {
           "automargin": true,
           "gridcolor": "#EBF0F8",
           "linecolor": "#EBF0F8",
           "ticks": "",
           "title": {
            "standoff": 15
           },
           "zerolinecolor": "#EBF0F8",
           "zerolinewidth": 2
          },
          "yaxis": {
           "automargin": true,
           "gridcolor": "#EBF0F8",
           "linecolor": "#EBF0F8",
           "ticks": "",
           "title": {
            "standoff": 15
           },
           "zerolinecolor": "#EBF0F8",
           "zerolinewidth": 2
          }
         }
        },
        "title": {
         "text": "U.S. Energy & Electricity vs GDP and Population (1949–2024)",
         "x": 0.5,
         "xanchor": "center"
        },
        "width": 1000,
        "xaxis": {
         "anchor": "y",
         "domain": [
          0,
          0.45
         ]
        },
        "xaxis2": {
         "anchor": "y2",
         "domain": [
          0.55,
          1
         ]
        },
        "xaxis3": {
         "anchor": "y3",
         "domain": [
          0,
          0.45
         ],
         "title": {
          "text": "Real GDP (Billion chained 2017 dollars)"
         }
        },
        "xaxis4": {
         "anchor": "y4",
         "domain": [
          0.55,
          1
         ],
         "title": {
          "text": "Population (Millions)"
         }
        },
        "yaxis": {
         "anchor": "x",
         "domain": [
          0.625,
          1
         ],
         "title": {
          "text": "Usage (Trillion Btu)"
         }
        },
        "yaxis2": {
         "anchor": "x2",
         "domain": [
          0.625,
          1
         ]
        },
        "yaxis3": {
         "anchor": "x3",
         "domain": [
          0,
          0.375
         ],
         "title": {
          "text": "Usage (Trillion Btu)"
         }
        },
        "yaxis4": {
         "anchor": "x4",
         "domain": [
          0,
          0.375
         ]
        }
       }
      }
     },
     "metadata": {},
     "output_type": "display_data"
    }
   ],
   "source": [
    "# Relationship between energy usage and real GDP and population\n",
    "# - End-use energy consumption (Trillion Btu)\n",
    "# - Electricity consumption (end-use, Trillion Btu)\n",
    "# - Real GDP (Billion chained (2017) dollars)\n",
    "# - Total Resident Population (Million people)\n",
    "\n",
    "# Create subplot grid: 2 row x 2 columns\n",
    "fig = make_subplots(\n",
    "    rows=2, cols=2,\n",
    "    subplot_titles=(\n",
    "        \"Total Energy vs Real-GDP\",\n",
    "        \"Total Energy vs Population\",\n",
    "        \"Electricity vs Real-GDP\",\n",
    "        \"Electricity vs Population\"\n",
    "    )\n",
    ")\n",
    "\n",
    "# --- Top Left: Energy vs GDP ---\n",
    "fig.add_trace(go.Scatter(\n",
    "    x=df1_energy[\"GDP_Real\"], y=df1_energy[\"TotEnergy_2EndUse\"],\n",
    "    mode=\"markers+lines\", name=\"Total Energy\", marker=dict(color=\"blue\")\n",
    "), row=1, col=1)\n",
    "# --- Top Right: Electricity vs GDP ---\n",
    "fig.add_trace(go.Scatter(\n",
    "    x=df1_energy[\"GDP_Real\"], y=df1_energy[\"TotElectricity_2Used\"],\n",
    "    mode=\"markers+lines\", name=\"Electricity\", marker=dict(color=\"orange\")\n",
    "), row=1, col=2)\n",
    "\n",
    "# --- Bottom Left: Energy vs Population ---\n",
    "fig.add_trace(go.Scatter(\n",
    "    x=df1_energy[\"POP_US\"], y=df1_energy[\"TotEnergy_2EndUse\"],\n",
    "    mode=\"markers+lines\", name=\"Total Energy\", marker=dict(color=\"blue\"), showlegend=False\n",
    "), row=2, col=1)\n",
    "# --- Bottom Right: Electricity vs Population ---\n",
    "fig.add_trace(go.Scatter(\n",
    "    x=df1_energy[\"POP_US\"], y=df1_energy[\"TotElectricity_2Used\"],\n",
    "    mode=\"markers+lines\", name=\"Electricity\", marker=dict(color=\"orange\"), showlegend=False\n",
    "), row=2, col=2)\n",
    "\n",
    "# Layout\n",
    "fig.update_layout(\n",
    "    title=dict(\n",
    "        text=\"U.S. Energy & Electricity vs GDP and Population (1949–2024)\",\n",
    "        x=0.5, xanchor=\"center\"\n",
    "    ),\n",
    "    template=\"plotly_white\",\n",
    "    width=1000, height=600,\n",
    "    legend=dict(\n",
    "        orientation=\"h\", y=-0.2, x=0.5, xanchor=\"center\", yanchor=\"top\"\n",
    "    )\n",
    ")\n",
    "\n",
    "# Axis labels\n",
    "fig.update_xaxes(title_text=\"Real GDP (Billion chained 2017 dollars)\", row=2, col=1)\n",
    "fig.update_yaxes(title_text=\"Usage (Trillion Btu)\", row=1, col=1)\n",
    "\n",
    "fig.update_xaxes(title_text=\"Population (Millions)\", row=2, col=2)\n",
    "fig.update_yaxes(title_text=\"Usage (Trillion Btu)\", row=2, col=1)\n",
    "\n",
    "fig.show()\n"
   ]
  },
  {
   "cell_type": "code",
   "execution_count": 23,
   "id": "e43fb7d7",
   "metadata": {},
   "outputs": [],
   "source": [
    "# Feature engineering: Energy Intensity Indicators\n",
    "# - Energy use per real GDP (Trillion Btu per Billion chained 2017 dollars)\n",
    "# - Energy use per Capita (Million Btu per Person)\n",
    "\n",
    "# Per GDP-real\n",
    "df1_energy[\"EnergyUse_per_GDP\"] = df1_energy[\"TotEnergy_2EndUse\"] / df1_energy[\"GDP_Real\"]\n",
    "df1_energy[\"ElectricityUse_per_GDP\"] = df1_energy[\"TotElectricity_2Used\"] / df1_energy[\"GDP_Real\"]\n",
    "\n",
    "# # Per GDP-nominal\n",
    "# df1_energy[\"EnergyUse_per_GDP\"] = df1_energy[\"TotEnergy_2EndUse\"] / df1_energy[\"GDP_Nominal\"]\n",
    "# df1_energy[\"ElectricityUse_per_GDP\"] = df1_energy[\"TotElectricity_2Used\"] / df1_energy[\"GDP_Nominal\"]\n",
    "\n",
    "# Per Capita\n",
    "df1_energy[\"EnergyUse_per_capita\"] = df1_energy[\"TotEnergy_2EndUse\"] / df1_energy[\"POP_US\"]\n",
    "df1_energy[\"ElectricityUse_per_capita\"] = df1_energy[\"TotElectricity_2Used\"] / df1_energy[\"POP_US\"]"
   ]
  },
  {
   "cell_type": "code",
   "execution_count": null,
   "id": "8400ac93",
   "metadata": {},
   "outputs": [
    {
     "data": {
      "application/vnd.plotly.v1+json": {
       "config": {
        "plotlyServerURL": "https://plot.ly"
       },
       "data": [
        {
         "line": {
          "color": "blue"
         },
         "mode": "lines",
         "name": "Energy per GDP",
         "type": "scatter",
         "x": {
          "bdata": "nQeeB58HoAehB6IHowekB6UHpgenB6gHqQeqB6sHrAetB64HrwewB7EHsgezB7QHtQe2B7cHuAe5B7oHuwe8B70Hvge/B8AHwQfCB8MHxAfFB8YHxwfIB8kHygfLB8wHzQfOB88H0AfRB9IH0wfUB9UH1gfXB9gH2QfaB9sH3AfdB94H3wfgB+EH4gfjB+QH5QfmB+cH6Ac=",
          "dtype": "i2"
         },
         "xaxis": "x",
         "y": {
          "bdata": "6Nz4JkklKUC163BbDRspQE/vvPVz0ShAeiowixuNJ0AQRjasgfQmQGa93JFKaCZA2AwnAWf0JkDqqLGOGkInQLDcsKanriZAXZHLLK7OJkABqPk+HSkmQK0DD5d+ZiZAW4SCObEaJkDK/4G3JLglQM9MQ3j2hCVAJ5JxIhknJUANEw9LlJ4kQARsrK0UTyRAua0pyqRbJEBxGAtWhXEkQNduAUvkryRADA4/+iMtJUBAWHWe/s4kQBLkO38UoiRAXMyGgEs4JED8Ci/Li7IjQPS/irHEASNA8vBL5+UGI0CuTIe/K40iQKSofKc+7SFA3Eo47k+RIUBUvJKe48YgQO8s5NytrR9AhXBjPNq9HkAWqiOaAhwdQGvB/YLgpxxAJaHDc7pGG0AbawdS9nUaQLKR7pAPbxpAt4S2HOKOGkB+IJurKeUZQI+RsReyIBlAs4etnG4PGUDEqrHhIccYQM+jOw2xZBhAKslCZmX0F0Bjp7J2nrkXQBwe6L/tohdAcqUrPxO8FkDgMbfo/pkVQMy+26BK6xRAjtG7GQqDFEAL3Ci4vcoTQJGlVXiMtRNAagTLnfZGE0AWcfzSCQATQCHApGfjPxJAKV6CCBykEUDx6pP0C4ERQOOYA8g7CxFAEz9tr82qEEDbMSxRO9YQQPqirB4nfxBAHD2OmyGOD0ARKyktRAkQQKP0guI/ug9AcVotIKW9DkCHc5bUpD4OQLJAhk0ywg1A17mOynkhDkAUv30AS3INQIFg6U0qkAtAZxVcYLh2C0CC9ZWORUwLQJF8pJv+XApAMHuu2SK8CUA=",
          "dtype": "f8"
         },
         "yaxis": "y"
        },
        {
         "line": {
          "color": "orange"
         },
         "mode": "lines",
         "name": "Electricity per GDP",
         "type": "scatter",
         "x": {
          "bdata": "nQeeB58HoAehB6IHowekB6UHpgenB6gHqQeqB6sHrAetB64HrwewB7EHsgezB7QHtQe2B7cHuAe5B7oHuwe8B70Hvge/B8AHwQfCB8MHxAfFB8YHxwfIB8kHygfLB8wHzQfOB88H0AfRB9IH0wfUB9UH1gfXB9gH2QfaB9sH3AfdB94H3wfgB+EH4gfjB+QH5QfmB+cH6Ac=",
          "dtype": "i2"
         },
         "xaxis": "x",
         "y": {
          "bdata": "frj/Qi2S2D9lrk+X8OLZP/mUxbjiJts/opGAb14h3D9/Zj05gOTdP5VLVGXnF+A/6bTQJZ6X4T85G5OzMfHiP9OjPDoBjuM/9MK4wvoc5D922grqrrLkP41zLquDduU/VMRX0dH05T85W+aSg0jmPyUlthMW3eY/+b/JUsdD5z/hASEbokDnPxPQmufArOc/2JYGFgJ46D9HU7aWqYXpP4VC2mBECOs/DrxE9gyY7D8qSwU+7TftP+j99GbtIe4/1W1idpOg7j+XCVkDCKvuP8ePzIcSee8/SfzP5YK27z8mQOEKG9XvP4nqZkFiPe8/sJpOBzoU7z8hAS+eqILvP/UIrwPCgO8/Rj2NN9Us7z/ouo718bruPxaxHxz/c+4/Q1gEHfS47T9Q6C+bAkjtP1kcd59+XO0/6/ppucWR7T9A1XdnU0jtP6j9wMVXdO0//z86YyEG7j/WCdA9RATtPzbjT8fqPe0/kTAG6N3T7D8v9QUPt9PsP4SK/cW2luw/5wJ/iJzD6z8EwAk/J5PrP9sFRkJXs+o/s9taf1uA6j993sTnMQvqP40jVW7ZJOo/FUvKK/Gj6T8KKjPx8RHpP4YgxbNOAOk/9BTbvixi6D/mYDxGXIXoP2q7plRBS+g/GgQwLDsF6D8tlG6X72roPxEOn298Aug/RW0j0Xcg5z+WUhG3GtXmP1mE7J0yguY/woZ+dNfU5T+hPrMYBnblPyCumPqDuuQ/zY9GIKPd5D/WkMTQRhbkP7kdnB8OB+Q/pv41aQdV4z+YrTNfm3XjP6yUt++MqOI/R38CkQqQ4j8=",
          "dtype": "f8"
         },
         "yaxis": "y"
        },
        {
         "line": {
          "color": "green"
         },
         "mode": "lines",
         "name": "Energy per Capita",
         "type": "scatter",
         "x": {
          "bdata": "nQeeB58HoAehB6IHowekB6UHpgenB6gHqQeqB6sHrAetB64HrwewB7EHsgezB7QHtQe2B7cHuAe5B7oHuwe8B70Hvge/B8AHwQfCB8MHxAfFB8YHxwfIB8kHygfLB8wHzQfOB88H0AfRB9IH0wfUB9UH1gfXB9gH2QfaB9sH3AfdB94H3wfgB+EH4gfjB+QH5QfmB+cH6Ac=",
          "dtype": "i2"
         },
         "xaxis": "x2",
         "y": {
          "bdata": "Fi9hXGfTZ0BMT+otSVRpQGKvxkWBmWpAvJs8WpjSaUDcPeGV1OtpQOC2o/Z+uWhARTB8eECpakBqVWcspBlrQHoOMPHIf2pALZALbTsCakCKmY5kBpVqQEIyhCCaHmtAyfV0Qtb/akAsKOxdbrtrQHqi34bKQ2xAA8GD66j4bEDNB8iDbbRtQGW7RSZa0m5Ar4IW0JJob0CPBUHIUWFwQDsG1Zih7HBAbnEjr0sncUB47zRTRzFxQIliLtRhwXFAqmYtg3k1ckC90XT6QXpxQIRu4dygqnBAnYhhgeprcUCa+0QbHJhxQPC1EevSv3FAnmhJzcO+cUDN27SGJr9wQLoc5hWsDHBAx97FbCxMbkBLHJIYE7xtQIh7W+mEH29AQeZp52+WbkCZa0tMV2tuQB24TZYNJ29Ap4ZV/xIocEDss+e39y1wQCQIT70hom9AZvyUgzkXb0DYsIPJj2NvQGKhAKBCVm9ARkUIfa2fb0BBgOq4acZvQNg4wQWBPHBA5E6hc7MecEC6lVSmn59vQD1mSNv9u29Az5TV3k0CcEC2N9+BD+JuQLleo9d9/m5AYoZopMvkbkCHUZGFc1RvQNBBVacg225A3XAV3wpcbkDfZ1rIG3FuQKyYu6lqZG1AomI8Y3HBa0DhMN8Nqo9sQJRdKw9KNmxAQsBVFRNoa0CqIBwRZD9sQK6dbXEqcWxA9KmZO2oqbECmWvi+sQNsQEO9Du0dD2xAb6fC270ZbUBNGEoeigptQIk9Ivy0UmpA9mzH6z3Ga0Bx+u7DpSNsQMZJE9NiumtAo0/ukmCNa0A=",
          "dtype": "f8"
         },
         "yaxis": "y2"
        },
        {
         "line": {
          "color": "red"
         },
         "mode": "lines",
         "name": "Electricity per Capita",
         "type": "scatter",
         "x": {
          "bdata": "nQeeB58HoAehB6IHowekB6UHpgenB6gHqQeqB6sHrAetB64HrwewB7EHsgezB7QHtQe2B7cHuAe5B7oHuwe8B70Hvge/B8AHwQfCB8MHxAfFB8YHxwfIB8kHygfLB8wHzQfOB88H0AfRB9IH0wfUB9UH1gfXB9gH2QfaB9sH3AfdB94H3wfgB+EH4gfjB+QH5QfmB+cH6Ac=",
          "dtype": "i2"
         },
         "xaxis": "x2",
         "y": {
          "bdata": "ZR5BLARIF0AbRGoZ9B0aQPYsI0vSGR1AOyTTyurXHkBhhTdRp+AgQKrPECr0wSFAv7tlis5uJEBJVuguNxImQLKQ3kFn2CZAfvdghrjvJkCsA/EE49MoQOYNrXoQ/ClA1qIUwpPRKkBuCOEHxXMsQIMDvmfIBy5ASV5NmzDdL0DWgP7jvb8wQHROaz0I9zFA4Nrr7hXgMkCGu5JXDHM0QKPD3kCNHTZAwaBuFnkpN0DqwAvwEyQ4QGbeN4wO7jlAKOrXCMaUO0BYS0L4OjY7QBjDTLT5mDtAmTyfDYMJPUDz1FDpmjA+QAUoolc77j5AERleIaNkP0C4lsW6H3Q/QB5LI6bT6z9AfMdjA425PkBbGicQ7GM/QGdMgdOgiUBAodbD4leqQECLuEoQtNRAQKhHvGciTUFAlBSDpgr9QUD4UXWjx0tCQOYsm39GikJAOwOpqdmfQkChOsqgHGFCQBa+helmyEJAqH0+OEMHQ0D19xPZ1U1DQAXR6/xeo0NADAdimJ+vQ0DgJF9zHS9EQF4+cH+dQERAfqJeMAWvREBlRlz/sFFEQFZMcOV+jkRAIwMjxbOLREA0/Q26XatEQNq+zybAIkVA/VVUAET7REBNRx0fkFJFQGPm5T6R8kRAGYCzTRwARECNElG447VEQE1fWufAh0RA/rh//hUWREDxdLvbDBxEQITyuCmBLURAbxMa6qsAREAdgsy44+BDQDQ+wRZ1i0NA1lrk2/8mRECS6OozgM9DQPlv209jIENAi37/YwGNQ0B1IQhbIw9EQDKvwWnUn0NADN04+p7fQ0A=",
          "dtype": "f8"
         },
         "yaxis": "y2"
        }
       ],
       "layout": {
        "annotations": [
         {
          "font": {
           "size": 16
          },
          "showarrow": false,
          "text": "Energy & Electricity per GDP",
          "x": 0.225,
          "xanchor": "center",
          "xref": "paper",
          "y": 1,
          "yanchor": "bottom",
          "yref": "paper"
         },
         {
          "font": {
           "size": 16
          },
          "showarrow": false,
          "text": "Energy & Electricity per Capita",
          "x": 0.775,
          "xanchor": "center",
          "xref": "paper",
          "y": 1,
          "yanchor": "bottom",
          "yref": "paper"
         }
        ],
        "height": 500,
        "legend": {
         "orientation": "h",
         "x": 0.5,
         "xanchor": "center",
         "y": -0.2
        },
        "template": {
         "data": {
          "bar": [
           {
            "error_x": {
             "color": "#2a3f5f"
            },
            "error_y": {
             "color": "#2a3f5f"
            },
            "marker": {
             "line": {
              "color": "white",
              "width": 0.5
             },
             "pattern": {
              "fillmode": "overlay",
              "size": 10,
              "solidity": 0.2
             }
            },
            "type": "bar"
           }
          ],
          "barpolar": [
           {
            "marker": {
             "line": {
              "color": "white",
              "width": 0.5
             },
             "pattern": {
              "fillmode": "overlay",
              "size": 10,
              "solidity": 0.2
             }
            },
            "type": "barpolar"
           }
          ],
          "carpet": [
           {
            "aaxis": {
             "endlinecolor": "#2a3f5f",
             "gridcolor": "#C8D4E3",
             "linecolor": "#C8D4E3",
             "minorgridcolor": "#C8D4E3",
             "startlinecolor": "#2a3f5f"
            },
            "baxis": {
             "endlinecolor": "#2a3f5f",
             "gridcolor": "#C8D4E3",
             "linecolor": "#C8D4E3",
             "minorgridcolor": "#C8D4E3",
             "startlinecolor": "#2a3f5f"
            },
            "type": "carpet"
           }
          ],
          "choropleth": [
           {
            "colorbar": {
             "outlinewidth": 0,
             "ticks": ""
            },
            "type": "choropleth"
           }
          ],
          "contour": [
           {
            "colorbar": {
             "outlinewidth": 0,
             "ticks": ""
            },
            "colorscale": [
             [
              0,
              "#0d0887"
             ],
             [
              0.1111111111111111,
              "#46039f"
             ],
             [
              0.2222222222222222,
              "#7201a8"
             ],
             [
              0.3333333333333333,
              "#9c179e"
             ],
             [
              0.4444444444444444,
              "#bd3786"
             ],
             [
              0.5555555555555556,
              "#d8576b"
             ],
             [
              0.6666666666666666,
              "#ed7953"
             ],
             [
              0.7777777777777778,
              "#fb9f3a"
             ],
             [
              0.8888888888888888,
              "#fdca26"
             ],
             [
              1,
              "#f0f921"
             ]
            ],
            "type": "contour"
           }
          ],
          "contourcarpet": [
           {
            "colorbar": {
             "outlinewidth": 0,
             "ticks": ""
            },
            "type": "contourcarpet"
           }
          ],
          "heatmap": [
           {
            "colorbar": {
             "outlinewidth": 0,
             "ticks": ""
            },
            "colorscale": [
             [
              0,
              "#0d0887"
             ],
             [
              0.1111111111111111,
              "#46039f"
             ],
             [
              0.2222222222222222,
              "#7201a8"
             ],
             [
              0.3333333333333333,
              "#9c179e"
             ],
             [
              0.4444444444444444,
              "#bd3786"
             ],
             [
              0.5555555555555556,
              "#d8576b"
             ],
             [
              0.6666666666666666,
              "#ed7953"
             ],
             [
              0.7777777777777778,
              "#fb9f3a"
             ],
             [
              0.8888888888888888,
              "#fdca26"
             ],
             [
              1,
              "#f0f921"
             ]
            ],
            "type": "heatmap"
           }
          ],
          "histogram": [
           {
            "marker": {
             "pattern": {
              "fillmode": "overlay",
              "size": 10,
              "solidity": 0.2
             }
            },
            "type": "histogram"
           }
          ],
          "histogram2d": [
           {
            "colorbar": {
             "outlinewidth": 0,
             "ticks": ""
            },
            "colorscale": [
             [
              0,
              "#0d0887"
             ],
             [
              0.1111111111111111,
              "#46039f"
             ],
             [
              0.2222222222222222,
              "#7201a8"
             ],
             [
              0.3333333333333333,
              "#9c179e"
             ],
             [
              0.4444444444444444,
              "#bd3786"
             ],
             [
              0.5555555555555556,
              "#d8576b"
             ],
             [
              0.6666666666666666,
              "#ed7953"
             ],
             [
              0.7777777777777778,
              "#fb9f3a"
             ],
             [
              0.8888888888888888,
              "#fdca26"
             ],
             [
              1,
              "#f0f921"
             ]
            ],
            "type": "histogram2d"
           }
          ],
          "histogram2dcontour": [
           {
            "colorbar": {
             "outlinewidth": 0,
             "ticks": ""
            },
            "colorscale": [
             [
              0,
              "#0d0887"
             ],
             [
              0.1111111111111111,
              "#46039f"
             ],
             [
              0.2222222222222222,
              "#7201a8"
             ],
             [
              0.3333333333333333,
              "#9c179e"
             ],
             [
              0.4444444444444444,
              "#bd3786"
             ],
             [
              0.5555555555555556,
              "#d8576b"
             ],
             [
              0.6666666666666666,
              "#ed7953"
             ],
             [
              0.7777777777777778,
              "#fb9f3a"
             ],
             [
              0.8888888888888888,
              "#fdca26"
             ],
             [
              1,
              "#f0f921"
             ]
            ],
            "type": "histogram2dcontour"
           }
          ],
          "mesh3d": [
           {
            "colorbar": {
             "outlinewidth": 0,
             "ticks": ""
            },
            "type": "mesh3d"
           }
          ],
          "parcoords": [
           {
            "line": {
             "colorbar": {
              "outlinewidth": 0,
              "ticks": ""
             }
            },
            "type": "parcoords"
           }
          ],
          "pie": [
           {
            "automargin": true,
            "type": "pie"
           }
          ],
          "scatter": [
           {
            "fillpattern": {
             "fillmode": "overlay",
             "size": 10,
             "solidity": 0.2
            },
            "type": "scatter"
           }
          ],
          "scatter3d": [
           {
            "line": {
             "colorbar": {
              "outlinewidth": 0,
              "ticks": ""
             }
            },
            "marker": {
             "colorbar": {
              "outlinewidth": 0,
              "ticks": ""
             }
            },
            "type": "scatter3d"
           }
          ],
          "scattercarpet": [
           {
            "marker": {
             "colorbar": {
              "outlinewidth": 0,
              "ticks": ""
             }
            },
            "type": "scattercarpet"
           }
          ],
          "scattergeo": [
           {
            "marker": {
             "colorbar": {
              "outlinewidth": 0,
              "ticks": ""
             }
            },
            "type": "scattergeo"
           }
          ],
          "scattergl": [
           {
            "marker": {
             "colorbar": {
              "outlinewidth": 0,
              "ticks": ""
             }
            },
            "type": "scattergl"
           }
          ],
          "scattermap": [
           {
            "marker": {
             "colorbar": {
              "outlinewidth": 0,
              "ticks": ""
             }
            },
            "type": "scattermap"
           }
          ],
          "scattermapbox": [
           {
            "marker": {
             "colorbar": {
              "outlinewidth": 0,
              "ticks": ""
             }
            },
            "type": "scattermapbox"
           }
          ],
          "scatterpolar": [
           {
            "marker": {
             "colorbar": {
              "outlinewidth": 0,
              "ticks": ""
             }
            },
            "type": "scatterpolar"
           }
          ],
          "scatterpolargl": [
           {
            "marker": {
             "colorbar": {
              "outlinewidth": 0,
              "ticks": ""
             }
            },
            "type": "scatterpolargl"
           }
          ],
          "scatterternary": [
           {
            "marker": {
             "colorbar": {
              "outlinewidth": 0,
              "ticks": ""
             }
            },
            "type": "scatterternary"
           }
          ],
          "surface": [
           {
            "colorbar": {
             "outlinewidth": 0,
             "ticks": ""
            },
            "colorscale": [
             [
              0,
              "#0d0887"
             ],
             [
              0.1111111111111111,
              "#46039f"
             ],
             [
              0.2222222222222222,
              "#7201a8"
             ],
             [
              0.3333333333333333,
              "#9c179e"
             ],
             [
              0.4444444444444444,
              "#bd3786"
             ],
             [
              0.5555555555555556,
              "#d8576b"
             ],
             [
              0.6666666666666666,
              "#ed7953"
             ],
             [
              0.7777777777777778,
              "#fb9f3a"
             ],
             [
              0.8888888888888888,
              "#fdca26"
             ],
             [
              1,
              "#f0f921"
             ]
            ],
            "type": "surface"
           }
          ],
          "table": [
           {
            "cells": {
             "fill": {
              "color": "#EBF0F8"
             },
             "line": {
              "color": "white"
             }
            },
            "header": {
             "fill": {
              "color": "#C8D4E3"
             },
             "line": {
              "color": "white"
             }
            },
            "type": "table"
           }
          ]
         },
         "layout": {
          "annotationdefaults": {
           "arrowcolor": "#2a3f5f",
           "arrowhead": 0,
           "arrowwidth": 1
          },
          "autotypenumbers": "strict",
          "coloraxis": {
           "colorbar": {
            "outlinewidth": 0,
            "ticks": ""
           }
          },
          "colorscale": {
           "diverging": [
            [
             0,
             "#8e0152"
            ],
            [
             0.1,
             "#c51b7d"
            ],
            [
             0.2,
             "#de77ae"
            ],
            [
             0.3,
             "#f1b6da"
            ],
            [
             0.4,
             "#fde0ef"
            ],
            [
             0.5,
             "#f7f7f7"
            ],
            [
             0.6,
             "#e6f5d0"
            ],
            [
             0.7,
             "#b8e186"
            ],
            [
             0.8,
             "#7fbc41"
            ],
            [
             0.9,
             "#4d9221"
            ],
            [
             1,
             "#276419"
            ]
           ],
           "sequential": [
            [
             0,
             "#0d0887"
            ],
            [
             0.1111111111111111,
             "#46039f"
            ],
            [
             0.2222222222222222,
             "#7201a8"
            ],
            [
             0.3333333333333333,
             "#9c179e"
            ],
            [
             0.4444444444444444,
             "#bd3786"
            ],
            [
             0.5555555555555556,
             "#d8576b"
            ],
            [
             0.6666666666666666,
             "#ed7953"
            ],
            [
             0.7777777777777778,
             "#fb9f3a"
            ],
            [
             0.8888888888888888,
             "#fdca26"
            ],
            [
             1,
             "#f0f921"
            ]
           ],
           "sequentialminus": [
            [
             0,
             "#0d0887"
            ],
            [
             0.1111111111111111,
             "#46039f"
            ],
            [
             0.2222222222222222,
             "#7201a8"
            ],
            [
             0.3333333333333333,
             "#9c179e"
            ],
            [
             0.4444444444444444,
             "#bd3786"
            ],
            [
             0.5555555555555556,
             "#d8576b"
            ],
            [
             0.6666666666666666,
             "#ed7953"
            ],
            [
             0.7777777777777778,
             "#fb9f3a"
            ],
            [
             0.8888888888888888,
             "#fdca26"
            ],
            [
             1,
             "#f0f921"
            ]
           ]
          },
          "colorway": [
           "#636efa",
           "#EF553B",
           "#00cc96",
           "#ab63fa",
           "#FFA15A",
           "#19d3f3",
           "#FF6692",
           "#B6E880",
           "#FF97FF",
           "#FECB52"
          ],
          "font": {
           "color": "#2a3f5f"
          },
          "geo": {
           "bgcolor": "white",
           "lakecolor": "white",
           "landcolor": "white",
           "showlakes": true,
           "showland": true,
           "subunitcolor": "#C8D4E3"
          },
          "hoverlabel": {
           "align": "left"
          },
          "hovermode": "closest",
          "mapbox": {
           "style": "light"
          },
          "paper_bgcolor": "white",
          "plot_bgcolor": "white",
          "polar": {
           "angularaxis": {
            "gridcolor": "#EBF0F8",
            "linecolor": "#EBF0F8",
            "ticks": ""
           },
           "bgcolor": "white",
           "radialaxis": {
            "gridcolor": "#EBF0F8",
            "linecolor": "#EBF0F8",
            "ticks": ""
           }
          },
          "scene": {
           "xaxis": {
            "backgroundcolor": "white",
            "gridcolor": "#DFE8F3",
            "gridwidth": 2,
            "linecolor": "#EBF0F8",
            "showbackground": true,
            "ticks": "",
            "zerolinecolor": "#EBF0F8"
           },
           "yaxis": {
            "backgroundcolor": "white",
            "gridcolor": "#DFE8F3",
            "gridwidth": 2,
            "linecolor": "#EBF0F8",
            "showbackground": true,
            "ticks": "",
            "zerolinecolor": "#EBF0F8"
           },
           "zaxis": {
            "backgroundcolor": "white",
            "gridcolor": "#DFE8F3",
            "gridwidth": 2,
            "linecolor": "#EBF0F8",
            "showbackground": true,
            "ticks": "",
            "zerolinecolor": "#EBF0F8"
           }
          },
          "shapedefaults": {
           "line": {
            "color": "#2a3f5f"
           }
          },
          "ternary": {
           "aaxis": {
            "gridcolor": "#DFE8F3",
            "linecolor": "#A2B1C6",
            "ticks": ""
           },
           "baxis": {
            "gridcolor": "#DFE8F3",
            "linecolor": "#A2B1C6",
            "ticks": ""
           },
           "bgcolor": "white",
           "caxis": {
            "gridcolor": "#DFE8F3",
            "linecolor": "#A2B1C6",
            "ticks": ""
           }
          },
          "title": {
           "x": 0.05
          },
          "xaxis": {
           "automargin": true,
           "gridcolor": "#EBF0F8",
           "linecolor": "#EBF0F8",
           "ticks": "",
           "title": {
            "standoff": 15
           },
           "zerolinecolor": "#EBF0F8",
           "zerolinewidth": 2
          },
          "yaxis": {
           "automargin": true,
           "gridcolor": "#EBF0F8",
           "linecolor": "#EBF0F8",
           "ticks": "",
           "title": {
            "standoff": 15
           },
           "zerolinecolor": "#EBF0F8",
           "zerolinewidth": 2
          }
         }
        },
        "title": {
         "text": "U.S. Energy & Electricity Intensity Indicators (1949–2024)",
         "x": 0.5,
         "xanchor": "center"
        },
        "width": 1000,
        "xaxis": {
         "anchor": "y",
         "domain": [
          0,
          0.45
         ],
         "title": {
          "text": "Year"
         }
        },
        "xaxis2": {
         "anchor": "y2",
         "domain": [
          0.55,
          1
         ],
         "title": {
          "text": "Year"
         }
        },
        "yaxis": {
         "anchor": "x",
         "domain": [
          0,
          1
         ],
         "title": {
          "text": "Usage/GDP (Trillion Btu per $Billion)"
         }
        },
        "yaxis2": {
         "anchor": "x2",
         "domain": [
          0,
          1
         ],
         "title": {
          "text": "Usage/Capita (Million Btu per Person)"
         }
        }
       }
      }
     },
     "metadata": {},
     "output_type": "display_data"
    }
   ],
   "source": [
    "# Energy Intensity Indicators: 1x2 Subplots\n",
    "fig = make_subplots(\n",
    "    rows=1, cols=2,\n",
    "    subplot_titles=(\"Energy & Electricity per GDP\", \"Energy & Electricity per Capita\")\n",
    ")\n",
    "\n",
    "# --- Plot 1: per GDP ---\n",
    "fig.add_trace(go.Scatter(\n",
    "    x=df1_energy[\"Year\"], y=df1_energy[\"EnergyUse_per_GDP\"],\n",
    "    mode=\"lines\", name=\"Energy per GDP\", line=dict(color=\"blue\")\n",
    "), row=1, col=1)\n",
    "\n",
    "fig.add_trace(go.Scatter(\n",
    "    x=df1_energy[\"Year\"], y=df1_energy[\"ElectricityUse_per_GDP\"],\n",
    "    mode=\"lines\", name=\"Electricity per GDP\", line=dict(color=\"orange\")\n",
    "), row=1, col=1)\n",
    "\n",
    "# --- Plot 2: per Capita ---\n",
    "fig.add_trace(go.Scatter(\n",
    "    x=df1_energy[\"Year\"], y=df1_energy[\"EnergyUse_per_capita\"],\n",
    "    mode=\"lines\", name=\"Energy per Capita\", line=dict(color=\"green\")\n",
    "), row=1, col=2)\n",
    "\n",
    "fig.add_trace(go.Scatter(\n",
    "    x=df1_energy[\"Year\"], y=df1_energy[\"ElectricityUse_per_capita\"],\n",
    "    mode=\"lines\", name=\"Electricity per Capita\", line=dict(color=\"red\")\n",
    "), row=1, col=2)\n",
    "\n",
    "# Layout\n",
    "fig.update_layout(\n",
    "    title=dict(text=\"U.S. Energy & Electricity Intensity Indicators (1949–2024)\", x=0.5, xanchor=\"center\"),\n",
    "    template=\"plotly_white\",\n",
    "    width=1000, height=500,\n",
    "    legend=dict(orientation=\"h\", x=0.5, xanchor=\"center\", y=-0.2)  # legend below\n",
    ")\n",
    "\n",
    "# Axis labels\n",
    "fig.update_xaxes(title_text=\"Year\", row=1, col=1)\n",
    "fig.update_yaxes(title_text=\"Usage/GDP (Trillion Btu per $Billion)\", row=1, col=1)\n",
    "\n",
    "fig.update_xaxes(title_text=\"Year\", row=1, col=2)\n",
    "fig.update_yaxes(title_text=\"Usage/Capita (Million Btu per Person)\", row=1, col=2)\n",
    "\n",
    "fig.show()\n"
   ]
  },
  {
   "cell_type": "code",
   "execution_count": 24,
   "id": "a72d90fe",
   "metadata": {},
   "outputs": [
    {
     "data": {
      "application/vnd.plotly.v1+json": {
       "config": {
        "plotlyServerURL": "https://plot.ly"
       },
       "data": [
        {
         "line": {
          "color": "blue"
         },
         "mode": "lines",
         "name": "Energy per GDP",
         "type": "scatter",
         "x": {
          "bdata": "nQeeB58HoAehB6IHowekB6UHpgenB6gHqQeqB6sHrAetB64HrwewB7EHsgezB7QHtQe2B7cHuAe5B7oHuwe8B70Hvge/B8AHwQfCB8MHxAfFB8YHxwfIB8kHygfLB8wHzQfOB88H0AfRB9IH0wfUB9UH1gfXB9gH2QfaB9sH3AfdB94H3wfgB+EH4gfjB+QH5QfmB+cH6Ac=",
          "dtype": "i2"
         },
         "xaxis": "x",
         "y": {
          "bdata": "6Nz4JkklKUC163BbDRspQE/vvPVz0ShAeiowixuNJ0AQRjasgfQmQGa93JFKaCZA2AwnAWf0JkDqqLGOGkInQLDcsKanriZAXZHLLK7OJkABqPk+HSkmQK0DD5d+ZiZAW4SCObEaJkDK/4G3JLglQM9MQ3j2hCVAJ5JxIhknJUANEw9LlJ4kQARsrK0UTyRAua0pyqRbJEBxGAtWhXEkQNduAUvkryRADA4/+iMtJUBAWHWe/s4kQBLkO38UoiRAXMyGgEs4JED8Ci/Li7IjQPS/irHEASNA8vBL5+UGI0CuTIe/K40iQKSofKc+7SFA3Eo47k+RIUBUvJKe48YgQO8s5NytrR9AhXBjPNq9HkAWqiOaAhwdQGvB/YLgpxxAJaHDc7pGG0AbawdS9nUaQLKR7pAPbxpAt4S2HOKOGkB+IJurKeUZQI+RsReyIBlAs4etnG4PGUDEqrHhIccYQM+jOw2xZBhAKslCZmX0F0Bjp7J2nrkXQBwe6L/tohdAcqUrPxO8FkDgMbfo/pkVQMy+26BK6xRAjtG7GQqDFEAL3Ci4vcoTQJGlVXiMtRNAagTLnfZGE0AWcfzSCQATQCHApGfjPxJAKV6CCBykEUDx6pP0C4ERQOOYA8g7CxFAEz9tr82qEEDbMSxRO9YQQPqirB4nfxBAHD2OmyGOD0ARKyktRAkQQKP0guI/ug9AcVotIKW9DkCHc5bUpD4OQLJAhk0ywg1A17mOynkhDkAUv30AS3INQIFg6U0qkAtAZxVcYLh2C0CC9ZWORUwLQJF8pJv+XApAMHuu2SK8CUA=",
          "dtype": "f8"
         },
         "yaxis": "y"
        },
        {
         "line": {
          "color": "orange"
         },
         "mode": "lines",
         "name": "Electricity per GDP",
         "type": "scatter",
         "x": {
          "bdata": "nQeeB58HoAehB6IHowekB6UHpgenB6gHqQeqB6sHrAetB64HrwewB7EHsgezB7QHtQe2B7cHuAe5B7oHuwe8B70Hvge/B8AHwQfCB8MHxAfFB8YHxwfIB8kHygfLB8wHzQfOB88H0AfRB9IH0wfUB9UH1gfXB9gH2QfaB9sH3AfdB94H3wfgB+EH4gfjB+QH5QfmB+cH6Ac=",
          "dtype": "i2"
         },
         "xaxis": "x2",
         "y": {
          "bdata": "frj/Qi2S2D9lrk+X8OLZP/mUxbjiJts/opGAb14h3D9/Zj05gOTdP5VLVGXnF+A/6bTQJZ6X4T85G5OzMfHiP9OjPDoBjuM/9MK4wvoc5D922grqrrLkP41zLquDduU/VMRX0dH05T85W+aSg0jmPyUlthMW3eY/+b/JUsdD5z/hASEbokDnPxPQmufArOc/2JYGFgJ46D9HU7aWqYXpP4VC2mBECOs/DrxE9gyY7D8qSwU+7TftP+j99GbtIe4/1W1idpOg7j+XCVkDCKvuP8ePzIcSee8/SfzP5YK27z8mQOEKG9XvP4nqZkFiPe8/sJpOBzoU7z8hAS+eqILvP/UIrwPCgO8/Rj2NN9Us7z/ouo718bruPxaxHxz/c+4/Q1gEHfS47T9Q6C+bAkjtP1kcd59+XO0/6/ppucWR7T9A1XdnU0jtP6j9wMVXdO0//z86YyEG7j/WCdA9RATtPzbjT8fqPe0/kTAG6N3T7D8v9QUPt9PsP4SK/cW2luw/5wJ/iJzD6z8EwAk/J5PrP9sFRkJXs+o/s9taf1uA6j993sTnMQvqP40jVW7ZJOo/FUvKK/Gj6T8KKjPx8RHpP4YgxbNOAOk/9BTbvixi6D/mYDxGXIXoP2q7plRBS+g/GgQwLDsF6D8tlG6X72roPxEOn298Aug/RW0j0Xcg5z+WUhG3GtXmP1mE7J0yguY/woZ+dNfU5T+hPrMYBnblPyCumPqDuuQ/zY9GIKPd5D/WkMTQRhbkP7kdnB8OB+Q/pv41aQdV4z+YrTNfm3XjP6yUt++MqOI/R38CkQqQ4j8=",
          "dtype": "f8"
         },
         "yaxis": "y2"
        },
        {
         "line": {
          "color": "green"
         },
         "mode": "lines",
         "name": "Energy per Capita",
         "type": "scatter",
         "x": {
          "bdata": "nQeeB58HoAehB6IHowekB6UHpgenB6gHqQeqB6sHrAetB64HrwewB7EHsgezB7QHtQe2B7cHuAe5B7oHuwe8B70Hvge/B8AHwQfCB8MHxAfFB8YHxwfIB8kHygfLB8wHzQfOB88H0AfRB9IH0wfUB9UH1gfXB9gH2QfaB9sH3AfdB94H3wfgB+EH4gfjB+QH5QfmB+cH6Ac=",
          "dtype": "i2"
         },
         "xaxis": "x3",
         "y": {
          "bdata": "Fi9hXGfTZ0BMT+otSVRpQGKvxkWBmWpAvJs8WpjSaUDcPeGV1OtpQOC2o/Z+uWhARTB8eECpakBqVWcspBlrQHoOMPHIf2pALZALbTsCakCKmY5kBpVqQEIyhCCaHmtAyfV0Qtb/akAsKOxdbrtrQHqi34bKQ2xAA8GD66j4bEDNB8iDbbRtQGW7RSZa0m5Ar4IW0JJob0CPBUHIUWFwQDsG1Zih7HBAbnEjr0sncUB47zRTRzFxQIliLtRhwXFAqmYtg3k1ckC90XT6QXpxQIRu4dygqnBAnYhhgeprcUCa+0QbHJhxQPC1EevSv3FAnmhJzcO+cUDN27SGJr9wQLoc5hWsDHBAx97FbCxMbkBLHJIYE7xtQIh7W+mEH29AQeZp52+WbkCZa0tMV2tuQB24TZYNJ29Ap4ZV/xIocEDss+e39y1wQCQIT70hom9AZvyUgzkXb0DYsIPJj2NvQGKhAKBCVm9ARkUIfa2fb0BBgOq4acZvQNg4wQWBPHBA5E6hc7MecEC6lVSmn59vQD1mSNv9u29Az5TV3k0CcEC2N9+BD+JuQLleo9d9/m5AYoZopMvkbkCHUZGFc1RvQNBBVacg225A3XAV3wpcbkDfZ1rIG3FuQKyYu6lqZG1AomI8Y3HBa0DhMN8Nqo9sQJRdKw9KNmxAQsBVFRNoa0CqIBwRZD9sQK6dbXEqcWxA9KmZO2oqbECmWvi+sQNsQEO9Du0dD2xAb6fC270ZbUBNGEoeigptQIk9Ivy0UmpA9mzH6z3Ga0Bx+u7DpSNsQMZJE9NiumtAo0/ukmCNa0A=",
          "dtype": "f8"
         },
         "yaxis": "y3"
        },
        {
         "line": {
          "color": "red"
         },
         "mode": "lines",
         "name": "Electricity per Capita",
         "type": "scatter",
         "x": {
          "bdata": "nQeeB58HoAehB6IHowekB6UHpgenB6gHqQeqB6sHrAetB64HrwewB7EHsgezB7QHtQe2B7cHuAe5B7oHuwe8B70Hvge/B8AHwQfCB8MHxAfFB8YHxwfIB8kHygfLB8wHzQfOB88H0AfRB9IH0wfUB9UH1gfXB9gH2QfaB9sH3AfdB94H3wfgB+EH4gfjB+QH5QfmB+cH6Ac=",
          "dtype": "i2"
         },
         "xaxis": "x4",
         "y": {
          "bdata": "ZR5BLARIF0AbRGoZ9B0aQPYsI0vSGR1AOyTTyurXHkBhhTdRp+AgQKrPECr0wSFAv7tlis5uJEBJVuguNxImQLKQ3kFn2CZAfvdghrjvJkCsA/EE49MoQOYNrXoQ/ClA1qIUwpPRKkBuCOEHxXMsQIMDvmfIBy5ASV5NmzDdL0DWgP7jvb8wQHROaz0I9zFA4Nrr7hXgMkCGu5JXDHM0QKPD3kCNHTZAwaBuFnkpN0DqwAvwEyQ4QGbeN4wO7jlAKOrXCMaUO0BYS0L4OjY7QBjDTLT5mDtAmTyfDYMJPUDz1FDpmjA+QAUoolc77j5AERleIaNkP0C4lsW6H3Q/QB5LI6bT6z9AfMdjA425PkBbGicQ7GM/QGdMgdOgiUBAodbD4leqQECLuEoQtNRAQKhHvGciTUFAlBSDpgr9QUD4UXWjx0tCQOYsm39GikJAOwOpqdmfQkChOsqgHGFCQBa+helmyEJAqH0+OEMHQ0D19xPZ1U1DQAXR6/xeo0NADAdimJ+vQ0DgJF9zHS9EQF4+cH+dQERAfqJeMAWvREBlRlz/sFFEQFZMcOV+jkRAIwMjxbOLREA0/Q26XatEQNq+zybAIkVA/VVUAET7REBNRx0fkFJFQGPm5T6R8kRAGYCzTRwARECNElG447VEQE1fWufAh0RA/rh//hUWREDxdLvbDBxEQITyuCmBLURAbxMa6qsAREAdgsy44+BDQDQ+wRZ1i0NA1lrk2/8mRECS6OozgM9DQPlv209jIENAi37/YwGNQ0B1IQhbIw9EQDKvwWnUn0NADN04+p7fQ0A=",
          "dtype": "f8"
         },
         "yaxis": "y4"
        }
       ],
       "layout": {
        "annotations": [
         {
          "font": {
           "size": 16
          },
          "showarrow": false,
          "text": "Total Energy Use per GDP",
          "x": 0.225,
          "xanchor": "center",
          "xref": "paper",
          "y": 1,
          "yanchor": "bottom",
          "yref": "paper"
         },
         {
          "font": {
           "size": 16
          },
          "showarrow": false,
          "text": "Electricity Use per GDP",
          "x": 0.775,
          "xanchor": "center",
          "xref": "paper",
          "y": 1,
          "yanchor": "bottom",
          "yref": "paper"
         },
         {
          "font": {
           "size": 16
          },
          "showarrow": false,
          "text": "Total Energy Use per Capita",
          "x": 0.225,
          "xanchor": "center",
          "xref": "paper",
          "y": 0.375,
          "yanchor": "bottom",
          "yref": "paper"
         },
         {
          "font": {
           "size": 16
          },
          "showarrow": false,
          "text": "Electricity Use per Capita",
          "x": 0.775,
          "xanchor": "center",
          "xref": "paper",
          "y": 0.375,
          "yanchor": "bottom",
          "yref": "paper"
         }
        ],
        "height": 600,
        "showlegend": false,
        "template": {
         "data": {
          "bar": [
           {
            "error_x": {
             "color": "#2a3f5f"
            },
            "error_y": {
             "color": "#2a3f5f"
            },
            "marker": {
             "line": {
              "color": "white",
              "width": 0.5
             },
             "pattern": {
              "fillmode": "overlay",
              "size": 10,
              "solidity": 0.2
             }
            },
            "type": "bar"
           }
          ],
          "barpolar": [
           {
            "marker": {
             "line": {
              "color": "white",
              "width": 0.5
             },
             "pattern": {
              "fillmode": "overlay",
              "size": 10,
              "solidity": 0.2
             }
            },
            "type": "barpolar"
           }
          ],
          "carpet": [
           {
            "aaxis": {
             "endlinecolor": "#2a3f5f",
             "gridcolor": "#C8D4E3",
             "linecolor": "#C8D4E3",
             "minorgridcolor": "#C8D4E3",
             "startlinecolor": "#2a3f5f"
            },
            "baxis": {
             "endlinecolor": "#2a3f5f",
             "gridcolor": "#C8D4E3",
             "linecolor": "#C8D4E3",
             "minorgridcolor": "#C8D4E3",
             "startlinecolor": "#2a3f5f"
            },
            "type": "carpet"
           }
          ],
          "choropleth": [
           {
            "colorbar": {
             "outlinewidth": 0,
             "ticks": ""
            },
            "type": "choropleth"
           }
          ],
          "contour": [
           {
            "colorbar": {
             "outlinewidth": 0,
             "ticks": ""
            },
            "colorscale": [
             [
              0,
              "#0d0887"
             ],
             [
              0.1111111111111111,
              "#46039f"
             ],
             [
              0.2222222222222222,
              "#7201a8"
             ],
             [
              0.3333333333333333,
              "#9c179e"
             ],
             [
              0.4444444444444444,
              "#bd3786"
             ],
             [
              0.5555555555555556,
              "#d8576b"
             ],
             [
              0.6666666666666666,
              "#ed7953"
             ],
             [
              0.7777777777777778,
              "#fb9f3a"
             ],
             [
              0.8888888888888888,
              "#fdca26"
             ],
             [
              1,
              "#f0f921"
             ]
            ],
            "type": "contour"
           }
          ],
          "contourcarpet": [
           {
            "colorbar": {
             "outlinewidth": 0,
             "ticks": ""
            },
            "type": "contourcarpet"
           }
          ],
          "heatmap": [
           {
            "colorbar": {
             "outlinewidth": 0,
             "ticks": ""
            },
            "colorscale": [
             [
              0,
              "#0d0887"
             ],
             [
              0.1111111111111111,
              "#46039f"
             ],
             [
              0.2222222222222222,
              "#7201a8"
             ],
             [
              0.3333333333333333,
              "#9c179e"
             ],
             [
              0.4444444444444444,
              "#bd3786"
             ],
             [
              0.5555555555555556,
              "#d8576b"
             ],
             [
              0.6666666666666666,
              "#ed7953"
             ],
             [
              0.7777777777777778,
              "#fb9f3a"
             ],
             [
              0.8888888888888888,
              "#fdca26"
             ],
             [
              1,
              "#f0f921"
             ]
            ],
            "type": "heatmap"
           }
          ],
          "histogram": [
           {
            "marker": {
             "pattern": {
              "fillmode": "overlay",
              "size": 10,
              "solidity": 0.2
             }
            },
            "type": "histogram"
           }
          ],
          "histogram2d": [
           {
            "colorbar": {
             "outlinewidth": 0,
             "ticks": ""
            },
            "colorscale": [
             [
              0,
              "#0d0887"
             ],
             [
              0.1111111111111111,
              "#46039f"
             ],
             [
              0.2222222222222222,
              "#7201a8"
             ],
             [
              0.3333333333333333,
              "#9c179e"
             ],
             [
              0.4444444444444444,
              "#bd3786"
             ],
             [
              0.5555555555555556,
              "#d8576b"
             ],
             [
              0.6666666666666666,
              "#ed7953"
             ],
             [
              0.7777777777777778,
              "#fb9f3a"
             ],
             [
              0.8888888888888888,
              "#fdca26"
             ],
             [
              1,
              "#f0f921"
             ]
            ],
            "type": "histogram2d"
           }
          ],
          "histogram2dcontour": [
           {
            "colorbar": {
             "outlinewidth": 0,
             "ticks": ""
            },
            "colorscale": [
             [
              0,
              "#0d0887"
             ],
             [
              0.1111111111111111,
              "#46039f"
             ],
             [
              0.2222222222222222,
              "#7201a8"
             ],
             [
              0.3333333333333333,
              "#9c179e"
             ],
             [
              0.4444444444444444,
              "#bd3786"
             ],
             [
              0.5555555555555556,
              "#d8576b"
             ],
             [
              0.6666666666666666,
              "#ed7953"
             ],
             [
              0.7777777777777778,
              "#fb9f3a"
             ],
             [
              0.8888888888888888,
              "#fdca26"
             ],
             [
              1,
              "#f0f921"
             ]
            ],
            "type": "histogram2dcontour"
           }
          ],
          "mesh3d": [
           {
            "colorbar": {
             "outlinewidth": 0,
             "ticks": ""
            },
            "type": "mesh3d"
           }
          ],
          "parcoords": [
           {
            "line": {
             "colorbar": {
              "outlinewidth": 0,
              "ticks": ""
             }
            },
            "type": "parcoords"
           }
          ],
          "pie": [
           {
            "automargin": true,
            "type": "pie"
           }
          ],
          "scatter": [
           {
            "fillpattern": {
             "fillmode": "overlay",
             "size": 10,
             "solidity": 0.2
            },
            "type": "scatter"
           }
          ],
          "scatter3d": [
           {
            "line": {
             "colorbar": {
              "outlinewidth": 0,
              "ticks": ""
             }
            },
            "marker": {
             "colorbar": {
              "outlinewidth": 0,
              "ticks": ""
             }
            },
            "type": "scatter3d"
           }
          ],
          "scattercarpet": [
           {
            "marker": {
             "colorbar": {
              "outlinewidth": 0,
              "ticks": ""
             }
            },
            "type": "scattercarpet"
           }
          ],
          "scattergeo": [
           {
            "marker": {
             "colorbar": {
              "outlinewidth": 0,
              "ticks": ""
             }
            },
            "type": "scattergeo"
           }
          ],
          "scattergl": [
           {
            "marker": {
             "colorbar": {
              "outlinewidth": 0,
              "ticks": ""
             }
            },
            "type": "scattergl"
           }
          ],
          "scattermap": [
           {
            "marker": {
             "colorbar": {
              "outlinewidth": 0,
              "ticks": ""
             }
            },
            "type": "scattermap"
           }
          ],
          "scattermapbox": [
           {
            "marker": {
             "colorbar": {
              "outlinewidth": 0,
              "ticks": ""
             }
            },
            "type": "scattermapbox"
           }
          ],
          "scatterpolar": [
           {
            "marker": {
             "colorbar": {
              "outlinewidth": 0,
              "ticks": ""
             }
            },
            "type": "scatterpolar"
           }
          ],
          "scatterpolargl": [
           {
            "marker": {
             "colorbar": {
              "outlinewidth": 0,
              "ticks": ""
             }
            },
            "type": "scatterpolargl"
           }
          ],
          "scatterternary": [
           {
            "marker": {
             "colorbar": {
              "outlinewidth": 0,
              "ticks": ""
             }
            },
            "type": "scatterternary"
           }
          ],
          "surface": [
           {
            "colorbar": {
             "outlinewidth": 0,
             "ticks": ""
            },
            "colorscale": [
             [
              0,
              "#0d0887"
             ],
             [
              0.1111111111111111,
              "#46039f"
             ],
             [
              0.2222222222222222,
              "#7201a8"
             ],
             [
              0.3333333333333333,
              "#9c179e"
             ],
             [
              0.4444444444444444,
              "#bd3786"
             ],
             [
              0.5555555555555556,
              "#d8576b"
             ],
             [
              0.6666666666666666,
              "#ed7953"
             ],
             [
              0.7777777777777778,
              "#fb9f3a"
             ],
             [
              0.8888888888888888,
              "#fdca26"
             ],
             [
              1,
              "#f0f921"
             ]
            ],
            "type": "surface"
           }
          ],
          "table": [
           {
            "cells": {
             "fill": {
              "color": "#EBF0F8"
             },
             "line": {
              "color": "white"
             }
            },
            "header": {
             "fill": {
              "color": "#C8D4E3"
             },
             "line": {
              "color": "white"
             }
            },
            "type": "table"
           }
          ]
         },
         "layout": {
          "annotationdefaults": {
           "arrowcolor": "#2a3f5f",
           "arrowhead": 0,
           "arrowwidth": 1
          },
          "autotypenumbers": "strict",
          "coloraxis": {
           "colorbar": {
            "outlinewidth": 0,
            "ticks": ""
           }
          },
          "colorscale": {
           "diverging": [
            [
             0,
             "#8e0152"
            ],
            [
             0.1,
             "#c51b7d"
            ],
            [
             0.2,
             "#de77ae"
            ],
            [
             0.3,
             "#f1b6da"
            ],
            [
             0.4,
             "#fde0ef"
            ],
            [
             0.5,
             "#f7f7f7"
            ],
            [
             0.6,
             "#e6f5d0"
            ],
            [
             0.7,
             "#b8e186"
            ],
            [
             0.8,
             "#7fbc41"
            ],
            [
             0.9,
             "#4d9221"
            ],
            [
             1,
             "#276419"
            ]
           ],
           "sequential": [
            [
             0,
             "#0d0887"
            ],
            [
             0.1111111111111111,
             "#46039f"
            ],
            [
             0.2222222222222222,
             "#7201a8"
            ],
            [
             0.3333333333333333,
             "#9c179e"
            ],
            [
             0.4444444444444444,
             "#bd3786"
            ],
            [
             0.5555555555555556,
             "#d8576b"
            ],
            [
             0.6666666666666666,
             "#ed7953"
            ],
            [
             0.7777777777777778,
             "#fb9f3a"
            ],
            [
             0.8888888888888888,
             "#fdca26"
            ],
            [
             1,
             "#f0f921"
            ]
           ],
           "sequentialminus": [
            [
             0,
             "#0d0887"
            ],
            [
             0.1111111111111111,
             "#46039f"
            ],
            [
             0.2222222222222222,
             "#7201a8"
            ],
            [
             0.3333333333333333,
             "#9c179e"
            ],
            [
             0.4444444444444444,
             "#bd3786"
            ],
            [
             0.5555555555555556,
             "#d8576b"
            ],
            [
             0.6666666666666666,
             "#ed7953"
            ],
            [
             0.7777777777777778,
             "#fb9f3a"
            ],
            [
             0.8888888888888888,
             "#fdca26"
            ],
            [
             1,
             "#f0f921"
            ]
           ]
          },
          "colorway": [
           "#636efa",
           "#EF553B",
           "#00cc96",
           "#ab63fa",
           "#FFA15A",
           "#19d3f3",
           "#FF6692",
           "#B6E880",
           "#FF97FF",
           "#FECB52"
          ],
          "font": {
           "color": "#2a3f5f"
          },
          "geo": {
           "bgcolor": "white",
           "lakecolor": "white",
           "landcolor": "white",
           "showlakes": true,
           "showland": true,
           "subunitcolor": "#C8D4E3"
          },
          "hoverlabel": {
           "align": "left"
          },
          "hovermode": "closest",
          "mapbox": {
           "style": "light"
          },
          "paper_bgcolor": "white",
          "plot_bgcolor": "white",
          "polar": {
           "angularaxis": {
            "gridcolor": "#EBF0F8",
            "linecolor": "#EBF0F8",
            "ticks": ""
           },
           "bgcolor": "white",
           "radialaxis": {
            "gridcolor": "#EBF0F8",
            "linecolor": "#EBF0F8",
            "ticks": ""
           }
          },
          "scene": {
           "xaxis": {
            "backgroundcolor": "white",
            "gridcolor": "#DFE8F3",
            "gridwidth": 2,
            "linecolor": "#EBF0F8",
            "showbackground": true,
            "ticks": "",
            "zerolinecolor": "#EBF0F8"
           },
           "yaxis": {
            "backgroundcolor": "white",
            "gridcolor": "#DFE8F3",
            "gridwidth": 2,
            "linecolor": "#EBF0F8",
            "showbackground": true,
            "ticks": "",
            "zerolinecolor": "#EBF0F8"
           },
           "zaxis": {
            "backgroundcolor": "white",
            "gridcolor": "#DFE8F3",
            "gridwidth": 2,
            "linecolor": "#EBF0F8",
            "showbackground": true,
            "ticks": "",
            "zerolinecolor": "#EBF0F8"
           }
          },
          "shapedefaults": {
           "line": {
            "color": "#2a3f5f"
           }
          },
          "ternary": {
           "aaxis": {
            "gridcolor": "#DFE8F3",
            "linecolor": "#A2B1C6",
            "ticks": ""
           },
           "baxis": {
            "gridcolor": "#DFE8F3",
            "linecolor": "#A2B1C6",
            "ticks": ""
           },
           "bgcolor": "white",
           "caxis": {
            "gridcolor": "#DFE8F3",
            "linecolor": "#A2B1C6",
            "ticks": ""
           }
          },
          "title": {
           "x": 0.05
          },
          "xaxis": {
           "automargin": true,
           "gridcolor": "#EBF0F8",
           "linecolor": "#EBF0F8",
           "ticks": "",
           "title": {
            "standoff": 15
           },
           "zerolinecolor": "#EBF0F8",
           "zerolinewidth": 2
          },
          "yaxis": {
           "automargin": true,
           "gridcolor": "#EBF0F8",
           "linecolor": "#EBF0F8",
           "ticks": "",
           "title": {
            "standoff": 15
           },
           "zerolinecolor": "#EBF0F8",
           "zerolinewidth": 2
          }
         }
        },
        "title": {
         "text": "U.S. Energy & Electricity Intensity Indicators (1949–2024)",
         "x": 0.5,
         "xanchor": "center"
        },
        "width": 1000,
        "xaxis": {
         "anchor": "y",
         "domain": [
          0,
          0.45
         ]
        },
        "xaxis2": {
         "anchor": "y2",
         "domain": [
          0.55,
          1
         ]
        },
        "xaxis3": {
         "anchor": "y3",
         "domain": [
          0,
          0.45
         ],
         "title": {
          "text": "Year"
         }
        },
        "xaxis4": {
         "anchor": "y4",
         "domain": [
          0.55,
          1
         ],
         "title": {
          "text": "Year"
         }
        },
        "yaxis": {
         "anchor": "x",
         "domain": [
          0.625,
          1
         ],
         "title": {
          "text": "Usage (Trillion Btu per $Billion)"
         }
        },
        "yaxis2": {
         "anchor": "x2",
         "domain": [
          0.625,
          1
         ]
        },
        "yaxis3": {
         "anchor": "x3",
         "domain": [
          0,
          0.375
         ],
         "title": {
          "text": "Usage (Million Btu per Capita)"
         }
        },
        "yaxis4": {
         "anchor": "x4",
         "domain": [
          0,
          0.375
         ]
        }
       }
      }
     },
     "metadata": {},
     "output_type": "display_data"
    }
   ],
   "source": [
    "# Energy Intensity Indicators: 2x2 Subplots\n",
    "fig = make_subplots(\n",
    "    rows=2, cols=2,\n",
    "    subplot_titles=(\n",
    "        \"Total Energy Use per GDP\",\n",
    "        \"Electricity Use per GDP\",\n",
    "        \"Total Energy Use per Capita\",\n",
    "        \"Electricity Use per Capita\"\n",
    "    )\n",
    ")\n",
    "\n",
    "# --- Top Left: Energy per GDP ---\n",
    "fig.add_trace(go.Scatter(\n",
    "    x=df1_energy[\"Year\"], y=df1_energy[\"EnergyUse_per_GDP\"],\n",
    "    mode=\"lines\", name=\"Energy per GDP\", line=dict(color=\"blue\")\n",
    "), row=1, col=1)\n",
    "\n",
    "# --- Top Right: Electricity per GDP ---\n",
    "fig.add_trace(go.Scatter(\n",
    "    x=df1_energy[\"Year\"], y=df1_energy[\"ElectricityUse_per_GDP\"],\n",
    "    mode=\"lines\", name=\"Electricity per GDP\", line=dict(color=\"orange\")\n",
    "), row=1, col=2)\n",
    "\n",
    "# --- Bottom Left: Energy per Capita ---\n",
    "fig.add_trace(go.Scatter(\n",
    "    x=df1_energy[\"Year\"], y=df1_energy[\"EnergyUse_per_capita\"],\n",
    "    mode=\"lines\", name=\"Energy per Capita\", line=dict(color=\"green\")\n",
    "), row=2, col=1)\n",
    "\n",
    "# --- Bottom Right: Electricity per Capita ---\n",
    "fig.add_trace(go.Scatter(\n",
    "    x=df1_energy[\"Year\"], y=df1_energy[\"ElectricityUse_per_capita\"],\n",
    "    mode=\"lines\", name=\"Electricity per Capita\", line=dict(color=\"red\")\n",
    "), row=2, col=2)\n",
    "\n",
    "# Layout\n",
    "fig.update_layout(\n",
    "    title=dict(\n",
    "        text=\"U.S. Energy & Electricity Intensity Indicators (1949–2024)\",\n",
    "        x=0.5, xanchor=\"center\"\n",
    "    ),\n",
    "    template=\"plotly_white\",\n",
    "    width=1000, height=600,\n",
    "    showlegend=False  # hide legend since each subplot has 1 trace\n",
    ")\n",
    "\n",
    "# Axis labels\n",
    "# fig.update_xaxes(title_text=\"Year\", row=1, col=1)\n",
    "fig.update_yaxes(title_text=\"Usage (Trillion Btu per $Billion)\", row=1, col=1)\n",
    "\n",
    "# fig.update_xaxes(title_text=\"Year\", row=1, col=2)\n",
    "# fig.update_yaxes(title_text=\"Usage (Trillion Btu per $Billion)\", row=1, col=2)\n",
    "\n",
    "fig.update_xaxes(title_text=\"Year\", row=2, col=1)\n",
    "fig.update_yaxes(title_text=\"Usage (Million Btu per Capita)\", row=2, col=1)\n",
    "\n",
    "fig.update_xaxes(title_text=\"Year\", row=2, col=2)\n",
    "# fig.update_yaxes(title_text=\"Usage (Million Btu per Capita)\", row=2, col=2)\n",
    "\n",
    "fig.show()\n"
   ]
  },
  {
   "cell_type": "code",
   "execution_count": 47,
   "id": "a64342cd",
   "metadata": {},
   "outputs": [
    {
     "data": {
      "application/vnd.plotly.v1+json": {
       "config": {
        "plotlyServerURL": "https://plot.ly"
       },
       "data": [
        {
         "marker": {
          "color": "steelblue"
         },
         "name": "Total Energy Expenditures",
         "type": "bar",
         "x": {
          "bdata": "nQeeB58HoAehB6IHowekB6UHpgenB6gHqQeqB6sHrAetB64HrwewB7EHsgezB7QHtQe2B7cHuAe5B7oHuwe8B70Hvge/B8AHwQfCB8MHxAfFB8YHxwfIB8kHygfLB8wHzQfOB88H0AfRB9IH0wfUB9UH1gfXB9gH2QfaB9sH3AfdB94H3wfgB+EH4gfjB+QH5QfmB+cH6Ac=",
          "dtype": "i2"
         },
         "y": {
          "bdata": "AAAAAAAA+H8AAAAAAAD4fwAAAAAAAPh/AAAAAAAA+H8AAAAAAAD4fwAAAAAAAPh/AAAAAAAA+H8AAAAAAAD4fwAAAAAAAPh/AAAAAAAA+H8AAAAAAAD4fwAAAAAAAPh/AAAAAAAA+H8AAAAAAAD4fwAAAAAAAPh/AAAAAAAA+H8AAAAAAAD4fwAAAAAAAPh/AAAAAAAA+H8AAAAAAAD4fwAAAAAAAPh/naIjufy3VEB88rBQa4JWQHgLJCh+hFhAUwWjkjr5W0ArhxbZzitjQAyTqYJRe2VAqDXNO049aEDgLZCg+I9rQNuK/WX36G1AgQTFjzGZckCamZmZmWV3QHzysFBrvnpAwcqhRbanekBt5/up8Rl6QLIubqMBNXtAH/RsVn1le0BO845TdAF4QMe6uI0G2nhAvjCZKhi5eUCO5PIf0nB7QDhnRGlvqn1AJXUCmgiHfUDsUbgehc19QLQ3+MJkxH5AtoR80LONf0BzaJHt/BSAQP2H9NtXgoFAWMoyxLG/gUDM7snDQnKAQDkjSnsDdYFA0NVW7K99hUDk8h/S78GFQBriWBe3v4RARkdy+Y+Yh0D0bFZ9rjmLQP5D+u3rVpBAZMxdS0gbkkAkKH6MeUeTQGlv8IUJA5ZA5h2n6AiqkEB1JJf/EPmSQMTTK2WZwZVA5IOezWoslUDsUbgeBYGVQAHeAgkKzZVApHA9ClehkUBYObTINjuQQPJjzF3LwJFASnuDL4zfk0CSOgFNBB+TQH9qvHSTfI9Ai2zn+ymTlEDo2az6XN6aQIxK6gQ0gphAAAAAAAAA+H8=",
          "dtype": "f8"
         },
         "yaxis": "y"
        },
        {
         "line": {
          "color": "darkorange",
          "width": 3
         },
         "marker": {
          "color": "darkorange",
          "size": 6
         },
         "mode": "lines+markers",
         "name": "Expenditures (% of GDP)",
         "type": "scatter",
         "x": {
          "bdata": "nQeeB58HoAehB6IHowekB6UHpgenB6gHqQeqB6sHrAetB64HrwewB7EHsgezB7QHtQe2B7cHuAe5B7oHuwe8B70Hvge/B8AHwQfCB8MHxAfFB8YHxwfIB8kHygfLB8wHzQfOB88H0AfRB9IH0wfUB9UH1gfXB9gH2QfaB9sH3AfdB94H3wfgB+EH4gfjB+QH5QfmB+cH6Ac=",
          "dtype": "i2"
         },
         "y": {
          "bdata": "AAAAAAAA+H8AAAAAAAD4fwAAAAAAAPh/AAAAAAAA+H8AAAAAAAD4fwAAAAAAAPh/AAAAAAAA+H8AAAAAAAD4fwAAAAAAAPh/AAAAAAAA+H8AAAAAAAD4fwAAAAAAAPh/AAAAAAAA+H8AAAAAAAD4fwAAAAAAAPh/AAAAAAAA+H8AAAAAAAD4fwAAAAAAAPh/AAAAAAAA+H8AAAAAAAD4fwAAAAAAAPh/zczMzMzMHkDNzMzMzMweQM3MzMzMzB5AmpmZmZmZH0DNzMzMzMwjQGZmZmZmZiRAzczMzMzMJEAzMzMzMzMlQGZmZmZmZiRAmpmZmZmZJkAzMzMzMzMqQJqZmZmZmSpAmpmZmZmZKUAAAAAAAAAnQJqZmZmZmSVAMzMzMzMzJEDNzMzMzMwgQGZmZmZmZiBAmpmZmZmZH0AzMzMzMzMfQAAAAAAAACBAzczMzMzMHkAzMzMzMzMdQM3MzMzMzBxAmpmZmZmZG0DNzMzMzMwaQJqZmZmZmRtAZmZmZmZmGkAzMzMzMzMXQDMzMzMzMxdAzczMzMzMGkBmZmZmZmYaQGZmZmZmZhhAZmZmZmZmGkBmZmZmZmYcQAAAAAAAACBAzczMzMzMIEAAAAAAAAAhQAAAAAAAACNAmpmZmZmZHUAzMzMzMzMgQM3MzMzMzCFAmpmZmZmZIEBmZmZmZmYgQJqZmZmZmR9AzczMzMzMGEAAAAAAAAAWQDMzMzMzMxdAzczMzMzMGEDNzMzMzMwWQM3MzMzMzBJAZmZmZmZmFkBmZmZmZmYaQM3MzMzMzBZAAAAAAAAA+H8=",
          "dtype": "f8"
         },
         "yaxis": "y2"
        }
       ],
       "layout": {
        "height": 500,
        "legend": {
         "orientation": "h",
         "x": 0.5,
         "xanchor": "center",
         "y": 1.1,
         "yanchor": "top"
        },
        "template": {
         "data": {
          "bar": [
           {
            "error_x": {
             "color": "#2a3f5f"
            },
            "error_y": {
             "color": "#2a3f5f"
            },
            "marker": {
             "line": {
              "color": "white",
              "width": 0.5
             },
             "pattern": {
              "fillmode": "overlay",
              "size": 10,
              "solidity": 0.2
             }
            },
            "type": "bar"
           }
          ],
          "barpolar": [
           {
            "marker": {
             "line": {
              "color": "white",
              "width": 0.5
             },
             "pattern": {
              "fillmode": "overlay",
              "size": 10,
              "solidity": 0.2
             }
            },
            "type": "barpolar"
           }
          ],
          "carpet": [
           {
            "aaxis": {
             "endlinecolor": "#2a3f5f",
             "gridcolor": "#C8D4E3",
             "linecolor": "#C8D4E3",
             "minorgridcolor": "#C8D4E3",
             "startlinecolor": "#2a3f5f"
            },
            "baxis": {
             "endlinecolor": "#2a3f5f",
             "gridcolor": "#C8D4E3",
             "linecolor": "#C8D4E3",
             "minorgridcolor": "#C8D4E3",
             "startlinecolor": "#2a3f5f"
            },
            "type": "carpet"
           }
          ],
          "choropleth": [
           {
            "colorbar": {
             "outlinewidth": 0,
             "ticks": ""
            },
            "type": "choropleth"
           }
          ],
          "contour": [
           {
            "colorbar": {
             "outlinewidth": 0,
             "ticks": ""
            },
            "colorscale": [
             [
              0,
              "#0d0887"
             ],
             [
              0.1111111111111111,
              "#46039f"
             ],
             [
              0.2222222222222222,
              "#7201a8"
             ],
             [
              0.3333333333333333,
              "#9c179e"
             ],
             [
              0.4444444444444444,
              "#bd3786"
             ],
             [
              0.5555555555555556,
              "#d8576b"
             ],
             [
              0.6666666666666666,
              "#ed7953"
             ],
             [
              0.7777777777777778,
              "#fb9f3a"
             ],
             [
              0.8888888888888888,
              "#fdca26"
             ],
             [
              1,
              "#f0f921"
             ]
            ],
            "type": "contour"
           }
          ],
          "contourcarpet": [
           {
            "colorbar": {
             "outlinewidth": 0,
             "ticks": ""
            },
            "type": "contourcarpet"
           }
          ],
          "heatmap": [
           {
            "colorbar": {
             "outlinewidth": 0,
             "ticks": ""
            },
            "colorscale": [
             [
              0,
              "#0d0887"
             ],
             [
              0.1111111111111111,
              "#46039f"
             ],
             [
              0.2222222222222222,
              "#7201a8"
             ],
             [
              0.3333333333333333,
              "#9c179e"
             ],
             [
              0.4444444444444444,
              "#bd3786"
             ],
             [
              0.5555555555555556,
              "#d8576b"
             ],
             [
              0.6666666666666666,
              "#ed7953"
             ],
             [
              0.7777777777777778,
              "#fb9f3a"
             ],
             [
              0.8888888888888888,
              "#fdca26"
             ],
             [
              1,
              "#f0f921"
             ]
            ],
            "type": "heatmap"
           }
          ],
          "histogram": [
           {
            "marker": {
             "pattern": {
              "fillmode": "overlay",
              "size": 10,
              "solidity": 0.2
             }
            },
            "type": "histogram"
           }
          ],
          "histogram2d": [
           {
            "colorbar": {
             "outlinewidth": 0,
             "ticks": ""
            },
            "colorscale": [
             [
              0,
              "#0d0887"
             ],
             [
              0.1111111111111111,
              "#46039f"
             ],
             [
              0.2222222222222222,
              "#7201a8"
             ],
             [
              0.3333333333333333,
              "#9c179e"
             ],
             [
              0.4444444444444444,
              "#bd3786"
             ],
             [
              0.5555555555555556,
              "#d8576b"
             ],
             [
              0.6666666666666666,
              "#ed7953"
             ],
             [
              0.7777777777777778,
              "#fb9f3a"
             ],
             [
              0.8888888888888888,
              "#fdca26"
             ],
             [
              1,
              "#f0f921"
             ]
            ],
            "type": "histogram2d"
           }
          ],
          "histogram2dcontour": [
           {
            "colorbar": {
             "outlinewidth": 0,
             "ticks": ""
            },
            "colorscale": [
             [
              0,
              "#0d0887"
             ],
             [
              0.1111111111111111,
              "#46039f"
             ],
             [
              0.2222222222222222,
              "#7201a8"
             ],
             [
              0.3333333333333333,
              "#9c179e"
             ],
             [
              0.4444444444444444,
              "#bd3786"
             ],
             [
              0.5555555555555556,
              "#d8576b"
             ],
             [
              0.6666666666666666,
              "#ed7953"
             ],
             [
              0.7777777777777778,
              "#fb9f3a"
             ],
             [
              0.8888888888888888,
              "#fdca26"
             ],
             [
              1,
              "#f0f921"
             ]
            ],
            "type": "histogram2dcontour"
           }
          ],
          "mesh3d": [
           {
            "colorbar": {
             "outlinewidth": 0,
             "ticks": ""
            },
            "type": "mesh3d"
           }
          ],
          "parcoords": [
           {
            "line": {
             "colorbar": {
              "outlinewidth": 0,
              "ticks": ""
             }
            },
            "type": "parcoords"
           }
          ],
          "pie": [
           {
            "automargin": true,
            "type": "pie"
           }
          ],
          "scatter": [
           {
            "fillpattern": {
             "fillmode": "overlay",
             "size": 10,
             "solidity": 0.2
            },
            "type": "scatter"
           }
          ],
          "scatter3d": [
           {
            "line": {
             "colorbar": {
              "outlinewidth": 0,
              "ticks": ""
             }
            },
            "marker": {
             "colorbar": {
              "outlinewidth": 0,
              "ticks": ""
             }
            },
            "type": "scatter3d"
           }
          ],
          "scattercarpet": [
           {
            "marker": {
             "colorbar": {
              "outlinewidth": 0,
              "ticks": ""
             }
            },
            "type": "scattercarpet"
           }
          ],
          "scattergeo": [
           {
            "marker": {
             "colorbar": {
              "outlinewidth": 0,
              "ticks": ""
             }
            },
            "type": "scattergeo"
           }
          ],
          "scattergl": [
           {
            "marker": {
             "colorbar": {
              "outlinewidth": 0,
              "ticks": ""
             }
            },
            "type": "scattergl"
           }
          ],
          "scattermap": [
           {
            "marker": {
             "colorbar": {
              "outlinewidth": 0,
              "ticks": ""
             }
            },
            "type": "scattermap"
           }
          ],
          "scattermapbox": [
           {
            "marker": {
             "colorbar": {
              "outlinewidth": 0,
              "ticks": ""
             }
            },
            "type": "scattermapbox"
           }
          ],
          "scatterpolar": [
           {
            "marker": {
             "colorbar": {
              "outlinewidth": 0,
              "ticks": ""
             }
            },
            "type": "scatterpolar"
           }
          ],
          "scatterpolargl": [
           {
            "marker": {
             "colorbar": {
              "outlinewidth": 0,
              "ticks": ""
             }
            },
            "type": "scatterpolargl"
           }
          ],
          "scatterternary": [
           {
            "marker": {
             "colorbar": {
              "outlinewidth": 0,
              "ticks": ""
             }
            },
            "type": "scatterternary"
           }
          ],
          "surface": [
           {
            "colorbar": {
             "outlinewidth": 0,
             "ticks": ""
            },
            "colorscale": [
             [
              0,
              "#0d0887"
             ],
             [
              0.1111111111111111,
              "#46039f"
             ],
             [
              0.2222222222222222,
              "#7201a8"
             ],
             [
              0.3333333333333333,
              "#9c179e"
             ],
             [
              0.4444444444444444,
              "#bd3786"
             ],
             [
              0.5555555555555556,
              "#d8576b"
             ],
             [
              0.6666666666666666,
              "#ed7953"
             ],
             [
              0.7777777777777778,
              "#fb9f3a"
             ],
             [
              0.8888888888888888,
              "#fdca26"
             ],
             [
              1,
              "#f0f921"
             ]
            ],
            "type": "surface"
           }
          ],
          "table": [
           {
            "cells": {
             "fill": {
              "color": "#EBF0F8"
             },
             "line": {
              "color": "white"
             }
            },
            "header": {
             "fill": {
              "color": "#C8D4E3"
             },
             "line": {
              "color": "white"
             }
            },
            "type": "table"
           }
          ]
         },
         "layout": {
          "annotationdefaults": {
           "arrowcolor": "#2a3f5f",
           "arrowhead": 0,
           "arrowwidth": 1
          },
          "autotypenumbers": "strict",
          "coloraxis": {
           "colorbar": {
            "outlinewidth": 0,
            "ticks": ""
           }
          },
          "colorscale": {
           "diverging": [
            [
             0,
             "#8e0152"
            ],
            [
             0.1,
             "#c51b7d"
            ],
            [
             0.2,
             "#de77ae"
            ],
            [
             0.3,
             "#f1b6da"
            ],
            [
             0.4,
             "#fde0ef"
            ],
            [
             0.5,
             "#f7f7f7"
            ],
            [
             0.6,
             "#e6f5d0"
            ],
            [
             0.7,
             "#b8e186"
            ],
            [
             0.8,
             "#7fbc41"
            ],
            [
             0.9,
             "#4d9221"
            ],
            [
             1,
             "#276419"
            ]
           ],
           "sequential": [
            [
             0,
             "#0d0887"
            ],
            [
             0.1111111111111111,
             "#46039f"
            ],
            [
             0.2222222222222222,
             "#7201a8"
            ],
            [
             0.3333333333333333,
             "#9c179e"
            ],
            [
             0.4444444444444444,
             "#bd3786"
            ],
            [
             0.5555555555555556,
             "#d8576b"
            ],
            [
             0.6666666666666666,
             "#ed7953"
            ],
            [
             0.7777777777777778,
             "#fb9f3a"
            ],
            [
             0.8888888888888888,
             "#fdca26"
            ],
            [
             1,
             "#f0f921"
            ]
           ],
           "sequentialminus": [
            [
             0,
             "#0d0887"
            ],
            [
             0.1111111111111111,
             "#46039f"
            ],
            [
             0.2222222222222222,
             "#7201a8"
            ],
            [
             0.3333333333333333,
             "#9c179e"
            ],
            [
             0.4444444444444444,
             "#bd3786"
            ],
            [
             0.5555555555555556,
             "#d8576b"
            ],
            [
             0.6666666666666666,
             "#ed7953"
            ],
            [
             0.7777777777777778,
             "#fb9f3a"
            ],
            [
             0.8888888888888888,
             "#fdca26"
            ],
            [
             1,
             "#f0f921"
            ]
           ]
          },
          "colorway": [
           "#636efa",
           "#EF553B",
           "#00cc96",
           "#ab63fa",
           "#FFA15A",
           "#19d3f3",
           "#FF6692",
           "#B6E880",
           "#FF97FF",
           "#FECB52"
          ],
          "font": {
           "color": "#2a3f5f"
          },
          "geo": {
           "bgcolor": "white",
           "lakecolor": "white",
           "landcolor": "white",
           "showlakes": true,
           "showland": true,
           "subunitcolor": "#C8D4E3"
          },
          "hoverlabel": {
           "align": "left"
          },
          "hovermode": "closest",
          "mapbox": {
           "style": "light"
          },
          "paper_bgcolor": "white",
          "plot_bgcolor": "white",
          "polar": {
           "angularaxis": {
            "gridcolor": "#EBF0F8",
            "linecolor": "#EBF0F8",
            "ticks": ""
           },
           "bgcolor": "white",
           "radialaxis": {
            "gridcolor": "#EBF0F8",
            "linecolor": "#EBF0F8",
            "ticks": ""
           }
          },
          "scene": {
           "xaxis": {
            "backgroundcolor": "white",
            "gridcolor": "#DFE8F3",
            "gridwidth": 2,
            "linecolor": "#EBF0F8",
            "showbackground": true,
            "ticks": "",
            "zerolinecolor": "#EBF0F8"
           },
           "yaxis": {
            "backgroundcolor": "white",
            "gridcolor": "#DFE8F3",
            "gridwidth": 2,
            "linecolor": "#EBF0F8",
            "showbackground": true,
            "ticks": "",
            "zerolinecolor": "#EBF0F8"
           },
           "zaxis": {
            "backgroundcolor": "white",
            "gridcolor": "#DFE8F3",
            "gridwidth": 2,
            "linecolor": "#EBF0F8",
            "showbackground": true,
            "ticks": "",
            "zerolinecolor": "#EBF0F8"
           }
          },
          "shapedefaults": {
           "line": {
            "color": "#2a3f5f"
           }
          },
          "ternary": {
           "aaxis": {
            "gridcolor": "#DFE8F3",
            "linecolor": "#A2B1C6",
            "ticks": ""
           },
           "baxis": {
            "gridcolor": "#DFE8F3",
            "linecolor": "#A2B1C6",
            "ticks": ""
           },
           "bgcolor": "white",
           "caxis": {
            "gridcolor": "#DFE8F3",
            "linecolor": "#A2B1C6",
            "ticks": ""
           }
          },
          "title": {
           "x": 0.05
          },
          "xaxis": {
           "automargin": true,
           "gridcolor": "#EBF0F8",
           "linecolor": "#EBF0F8",
           "ticks": "",
           "title": {
            "standoff": 15
           },
           "zerolinecolor": "#EBF0F8",
           "zerolinewidth": 2
          },
          "yaxis": {
           "automargin": true,
           "gridcolor": "#EBF0F8",
           "linecolor": "#EBF0F8",
           "ticks": "",
           "title": {
            "standoff": 15
           },
           "zerolinecolor": "#EBF0F8",
           "zerolinewidth": 2
          }
         }
        },
        "title": {
         "text": "U.S. Energy Expenditures and Share of GDP (1970-2023)",
         "x": 0.5,
         "xanchor": "center"
        },
        "width": 900,
        "xaxis": {
         "title": {
          "text": "Year"
         }
        },
        "yaxis": {
         "side": "left",
         "tickfont": {
          "color": "steelblue"
         },
         "title": {
          "font": {
           "color": "steelblue"
          },
          "text": "Total Energy Expenditures (Billion $)"
         }
        },
        "yaxis2": {
         "overlaying": "y",
         "side": "right",
         "tickfont": {
          "color": "chocolate"
         },
         "title": {
          "font": {
           "color": "chocolate"
          },
          "text": "Expenditures as % of GDP"
         }
        }
       }
      }
     },
     "metadata": {},
     "output_type": "display_data"
    }
   ],
   "source": [
    "# - Total energy expenditures (Million nominal dollars) [change to 'Billion $']\n",
    "# - Energy expenditures as share of GDP (Percent)\n",
    "\n",
    "fig = go.Figure() \n",
    "\n",
    "# Bar: Total Expenditures\n",
    "fig.add_trace(go.Bar(\n",
    "    x=df1_energy[\"Year\"],\n",
    "    y=df1_energy[\"Energy_Expenditure\"] / 1000, # Convert from Million to Billion dollars\n",
    "    name=\"Total Energy Expenditures\",\n",
    "    marker_color=\"steelblue\",\n",
    "    yaxis=\"y1\"\n",
    "))\n",
    "\n",
    "# Line: Expenditures as % of GDP\n",
    "fig.add_trace(go.Scatter(\n",
    "    x=df1_energy[\"Year\"],\n",
    "    y=df1_energy[\"pct_EnergyExpend_w_GDP\"],\n",
    "    name=\"Expenditures (% of GDP)\",\n",
    "    mode=\"lines+markers\",\n",
    "    line=dict(color=\"darkorange\", width=3),\n",
    "    marker=dict(size=6, color=\"darkorange\"),\n",
    "    yaxis=\"y2\"\n",
    "))\n",
    "\n",
    "# Layout with secondary y-axis\n",
    "fig.update_layout(\n",
    "    title=dict(\n",
    "        text=\"U.S. Energy Expenditures and Share of GDP (1970-2023)\",\n",
    "        x=0.5, xanchor=\"center\"\n",
    "    ),\n",
    "    template=\"plotly_white\",\n",
    "    width=900, height=500,\n",
    "    xaxis=dict(title=\"Year\"),\n",
    "\n",
    "    # Left axis (blue, bars)\n",
    "    yaxis=dict(\n",
    "        title=dict(text=\"Total Energy Expenditures (Billion $)\", font=dict(color=\"steelblue\")),\n",
    "        tickfont=dict(color=\"steelblue\"),\n",
    "        side=\"left\"\n",
    "    ),\n",
    "\n",
    "    # Right axis (orange, line)\n",
    "    yaxis2=dict(\n",
    "        title=dict(text=\"Expenditures as % of GDP\", font=dict(color=\"chocolate\")),\n",
    "        tickfont=dict(color=\"chocolate\"),\n",
    "        overlaying=\"y\",\n",
    "        side=\"right\"\n",
    "    ),\n",
    "\n",
    "    legend=dict(\n",
    "        orientation=\"h\",\n",
    "        y=1.10, x=0.5, xanchor=\"center\", yanchor=\"top\"\n",
    "    )\n",
    ")\n",
    "\n",
    "fig.show()\n"
   ]
  },
  {
   "cell_type": "code",
   "execution_count": 50,
   "id": "2591b556",
   "metadata": {},
   "outputs": [
    {
     "data": {
      "application/vnd.plotly.v1+json": {
       "config": {
        "plotlyServerURL": "https://plot.ly"
       },
       "data": [
        {
         "hovertemplate": "Year=%{x}<br>Energy Expenditures per Capita (Nominal $)=%{y}<extra></extra>",
         "legendgroup": "",
         "line": {
          "color": "crimson",
          "dash": "solid",
          "width": 3
         },
         "marker": {
          "symbol": "circle"
         },
         "mode": "lines",
         "name": "",
         "orientation": "v",
         "showlegend": false,
         "type": "scatter",
         "x": {
          "bdata": "nQeeB58HoAehB6IHowekB6UHpgenB6gHqQeqB6sHrAetB64HrwewB7EHsgezB7QHtQe2B7cHuAe5B7oHuwe8B70Hvge/B8AHwQfCB8MHxAfFB8YHxwfIB8kHygfLB8wHzQfOB88H0AfRB9IH0wfUB9UH1gfXB9gH2QfaB9sH3AfdB94H3wfgB+EH4gfjB+QH5QfmB+cH6Ac=",
          "dtype": "i2"
         },
         "xaxis": "x",
         "y": {
          "bdata": "AAAAAAAA+H8AAAAAAAD4fwAAAAAAAPh/AAAAAAAA+H8AAAAAAAD4fwAAAAAAAPh/AAAAAAAA+H8AAAAAAAD4fwAAAAAAAPh/AAAAAAAA+H8AAAAAAAD4fwAAAAAAAPh/AAAAAAAA+H8AAAAAAAD4fwAAAAAAAPh/AAAAAAAA+H8AAAAAAAD4fwAAAAAAAPh/AAAAAAAA+H8AAAAAAAD4fwAAAAAAAPh/AAAAAABAeUAAAAAAACB7QAAAAAAAMH1AAAAAAACAgEAAAAAAAGiGQAAAAAAA4IhAAAAAAADIi0AAAAAAAEiPQAAAAAAAzJBAAAAAAAColEAAAAAAALyZQAAAAAAAJJ1AAAAAAADEnEAAAAAAAOibQAAAAAAA2JxAAAAAAADInEAAAAAAAPyYQAAAAAAApJlAAAAAAABMmkAAAAAAAMybQAAAAAAAtJ1AAAAAAAAsnUAAAAAAAAydQAAAAAAAmJ1AAAAAAAD8nUAAAAAAADSeQAAAAAAAQKBAAAAAAABGoEAAAAAAANCdQAAAAAAASJ9AAAAAAAAKo0AAAAAAABajQAAAAAAACKJAAAAAAABWpEAAAAAAAD6nQAAAAAAApqtAAAAAAABYrkAAAAAAAACwQAAAAAAAGbJAAAAAAAAqq0AAAAAAAKyuQAAAAAAAdbFAAAAAAADesEAAAAAAAASxQAAAAAAAH7FAAAAAAAB+q0AAAAAAACKpQAAAAAAAUKtAAAAAAABqrkAAAAAAACCtQAAAAAAAvqdAAAAAAAD6rkAAAAAAABy0QAAAAAAAMbJAAAAAAAAA+H8=",
          "dtype": "f8"
         },
         "yaxis": "y"
        }
       ],
       "layout": {
        "height": 500,
        "legend": {
         "tracegroupgap": 0
        },
        "template": {
         "data": {
          "bar": [
           {
            "error_x": {
             "color": "#2a3f5f"
            },
            "error_y": {
             "color": "#2a3f5f"
            },
            "marker": {
             "line": {
              "color": "white",
              "width": 0.5
             },
             "pattern": {
              "fillmode": "overlay",
              "size": 10,
              "solidity": 0.2
             }
            },
            "type": "bar"
           }
          ],
          "barpolar": [
           {
            "marker": {
             "line": {
              "color": "white",
              "width": 0.5
             },
             "pattern": {
              "fillmode": "overlay",
              "size": 10,
              "solidity": 0.2
             }
            },
            "type": "barpolar"
           }
          ],
          "carpet": [
           {
            "aaxis": {
             "endlinecolor": "#2a3f5f",
             "gridcolor": "#C8D4E3",
             "linecolor": "#C8D4E3",
             "minorgridcolor": "#C8D4E3",
             "startlinecolor": "#2a3f5f"
            },
            "baxis": {
             "endlinecolor": "#2a3f5f",
             "gridcolor": "#C8D4E3",
             "linecolor": "#C8D4E3",
             "minorgridcolor": "#C8D4E3",
             "startlinecolor": "#2a3f5f"
            },
            "type": "carpet"
           }
          ],
          "choropleth": [
           {
            "colorbar": {
             "outlinewidth": 0,
             "ticks": ""
            },
            "type": "choropleth"
           }
          ],
          "contour": [
           {
            "colorbar": {
             "outlinewidth": 0,
             "ticks": ""
            },
            "colorscale": [
             [
              0,
              "#0d0887"
             ],
             [
              0.1111111111111111,
              "#46039f"
             ],
             [
              0.2222222222222222,
              "#7201a8"
             ],
             [
              0.3333333333333333,
              "#9c179e"
             ],
             [
              0.4444444444444444,
              "#bd3786"
             ],
             [
              0.5555555555555556,
              "#d8576b"
             ],
             [
              0.6666666666666666,
              "#ed7953"
             ],
             [
              0.7777777777777778,
              "#fb9f3a"
             ],
             [
              0.8888888888888888,
              "#fdca26"
             ],
             [
              1,
              "#f0f921"
             ]
            ],
            "type": "contour"
           }
          ],
          "contourcarpet": [
           {
            "colorbar": {
             "outlinewidth": 0,
             "ticks": ""
            },
            "type": "contourcarpet"
           }
          ],
          "heatmap": [
           {
            "colorbar": {
             "outlinewidth": 0,
             "ticks": ""
            },
            "colorscale": [
             [
              0,
              "#0d0887"
             ],
             [
              0.1111111111111111,
              "#46039f"
             ],
             [
              0.2222222222222222,
              "#7201a8"
             ],
             [
              0.3333333333333333,
              "#9c179e"
             ],
             [
              0.4444444444444444,
              "#bd3786"
             ],
             [
              0.5555555555555556,
              "#d8576b"
             ],
             [
              0.6666666666666666,
              "#ed7953"
             ],
             [
              0.7777777777777778,
              "#fb9f3a"
             ],
             [
              0.8888888888888888,
              "#fdca26"
             ],
             [
              1,
              "#f0f921"
             ]
            ],
            "type": "heatmap"
           }
          ],
          "histogram": [
           {
            "marker": {
             "pattern": {
              "fillmode": "overlay",
              "size": 10,
              "solidity": 0.2
             }
            },
            "type": "histogram"
           }
          ],
          "histogram2d": [
           {
            "colorbar": {
             "outlinewidth": 0,
             "ticks": ""
            },
            "colorscale": [
             [
              0,
              "#0d0887"
             ],
             [
              0.1111111111111111,
              "#46039f"
             ],
             [
              0.2222222222222222,
              "#7201a8"
             ],
             [
              0.3333333333333333,
              "#9c179e"
             ],
             [
              0.4444444444444444,
              "#bd3786"
             ],
             [
              0.5555555555555556,
              "#d8576b"
             ],
             [
              0.6666666666666666,
              "#ed7953"
             ],
             [
              0.7777777777777778,
              "#fb9f3a"
             ],
             [
              0.8888888888888888,
              "#fdca26"
             ],
             [
              1,
              "#f0f921"
             ]
            ],
            "type": "histogram2d"
           }
          ],
          "histogram2dcontour": [
           {
            "colorbar": {
             "outlinewidth": 0,
             "ticks": ""
            },
            "colorscale": [
             [
              0,
              "#0d0887"
             ],
             [
              0.1111111111111111,
              "#46039f"
             ],
             [
              0.2222222222222222,
              "#7201a8"
             ],
             [
              0.3333333333333333,
              "#9c179e"
             ],
             [
              0.4444444444444444,
              "#bd3786"
             ],
             [
              0.5555555555555556,
              "#d8576b"
             ],
             [
              0.6666666666666666,
              "#ed7953"
             ],
             [
              0.7777777777777778,
              "#fb9f3a"
             ],
             [
              0.8888888888888888,
              "#fdca26"
             ],
             [
              1,
              "#f0f921"
             ]
            ],
            "type": "histogram2dcontour"
           }
          ],
          "mesh3d": [
           {
            "colorbar": {
             "outlinewidth": 0,
             "ticks": ""
            },
            "type": "mesh3d"
           }
          ],
          "parcoords": [
           {
            "line": {
             "colorbar": {
              "outlinewidth": 0,
              "ticks": ""
             }
            },
            "type": "parcoords"
           }
          ],
          "pie": [
           {
            "automargin": true,
            "type": "pie"
           }
          ],
          "scatter": [
           {
            "fillpattern": {
             "fillmode": "overlay",
             "size": 10,
             "solidity": 0.2
            },
            "type": "scatter"
           }
          ],
          "scatter3d": [
           {
            "line": {
             "colorbar": {
              "outlinewidth": 0,
              "ticks": ""
             }
            },
            "marker": {
             "colorbar": {
              "outlinewidth": 0,
              "ticks": ""
             }
            },
            "type": "scatter3d"
           }
          ],
          "scattercarpet": [
           {
            "marker": {
             "colorbar": {
              "outlinewidth": 0,
              "ticks": ""
             }
            },
            "type": "scattercarpet"
           }
          ],
          "scattergeo": [
           {
            "marker": {
             "colorbar": {
              "outlinewidth": 0,
              "ticks": ""
             }
            },
            "type": "scattergeo"
           }
          ],
          "scattergl": [
           {
            "marker": {
             "colorbar": {
              "outlinewidth": 0,
              "ticks": ""
             }
            },
            "type": "scattergl"
           }
          ],
          "scattermap": [
           {
            "marker": {
             "colorbar": {
              "outlinewidth": 0,
              "ticks": ""
             }
            },
            "type": "scattermap"
           }
          ],
          "scattermapbox": [
           {
            "marker": {
             "colorbar": {
              "outlinewidth": 0,
              "ticks": ""
             }
            },
            "type": "scattermapbox"
           }
          ],
          "scatterpolar": [
           {
            "marker": {
             "colorbar": {
              "outlinewidth": 0,
              "ticks": ""
             }
            },
            "type": "scatterpolar"
           }
          ],
          "scatterpolargl": [
           {
            "marker": {
             "colorbar": {
              "outlinewidth": 0,
              "ticks": ""
             }
            },
            "type": "scatterpolargl"
           }
          ],
          "scatterternary": [
           {
            "marker": {
             "colorbar": {
              "outlinewidth": 0,
              "ticks": ""
             }
            },
            "type": "scatterternary"
           }
          ],
          "surface": [
           {
            "colorbar": {
             "outlinewidth": 0,
             "ticks": ""
            },
            "colorscale": [
             [
              0,
              "#0d0887"
             ],
             [
              0.1111111111111111,
              "#46039f"
             ],
             [
              0.2222222222222222,
              "#7201a8"
             ],
             [
              0.3333333333333333,
              "#9c179e"
             ],
             [
              0.4444444444444444,
              "#bd3786"
             ],
             [
              0.5555555555555556,
              "#d8576b"
             ],
             [
              0.6666666666666666,
              "#ed7953"
             ],
             [
              0.7777777777777778,
              "#fb9f3a"
             ],
             [
              0.8888888888888888,
              "#fdca26"
             ],
             [
              1,
              "#f0f921"
             ]
            ],
            "type": "surface"
           }
          ],
          "table": [
           {
            "cells": {
             "fill": {
              "color": "#EBF0F8"
             },
             "line": {
              "color": "white"
             }
            },
            "header": {
             "fill": {
              "color": "#C8D4E3"
             },
             "line": {
              "color": "white"
             }
            },
            "type": "table"
           }
          ]
         },
         "layout": {
          "annotationdefaults": {
           "arrowcolor": "#2a3f5f",
           "arrowhead": 0,
           "arrowwidth": 1
          },
          "autotypenumbers": "strict",
          "coloraxis": {
           "colorbar": {
            "outlinewidth": 0,
            "ticks": ""
           }
          },
          "colorscale": {
           "diverging": [
            [
             0,
             "#8e0152"
            ],
            [
             0.1,
             "#c51b7d"
            ],
            [
             0.2,
             "#de77ae"
            ],
            [
             0.3,
             "#f1b6da"
            ],
            [
             0.4,
             "#fde0ef"
            ],
            [
             0.5,
             "#f7f7f7"
            ],
            [
             0.6,
             "#e6f5d0"
            ],
            [
             0.7,
             "#b8e186"
            ],
            [
             0.8,
             "#7fbc41"
            ],
            [
             0.9,
             "#4d9221"
            ],
            [
             1,
             "#276419"
            ]
           ],
           "sequential": [
            [
             0,
             "#0d0887"
            ],
            [
             0.1111111111111111,
             "#46039f"
            ],
            [
             0.2222222222222222,
             "#7201a8"
            ],
            [
             0.3333333333333333,
             "#9c179e"
            ],
            [
             0.4444444444444444,
             "#bd3786"
            ],
            [
             0.5555555555555556,
             "#d8576b"
            ],
            [
             0.6666666666666666,
             "#ed7953"
            ],
            [
             0.7777777777777778,
             "#fb9f3a"
            ],
            [
             0.8888888888888888,
             "#fdca26"
            ],
            [
             1,
             "#f0f921"
            ]
           ],
           "sequentialminus": [
            [
             0,
             "#0d0887"
            ],
            [
             0.1111111111111111,
             "#46039f"
            ],
            [
             0.2222222222222222,
             "#7201a8"
            ],
            [
             0.3333333333333333,
             "#9c179e"
            ],
            [
             0.4444444444444444,
             "#bd3786"
            ],
            [
             0.5555555555555556,
             "#d8576b"
            ],
            [
             0.6666666666666666,
             "#ed7953"
            ],
            [
             0.7777777777777778,
             "#fb9f3a"
            ],
            [
             0.8888888888888888,
             "#fdca26"
            ],
            [
             1,
             "#f0f921"
            ]
           ]
          },
          "colorway": [
           "#636efa",
           "#EF553B",
           "#00cc96",
           "#ab63fa",
           "#FFA15A",
           "#19d3f3",
           "#FF6692",
           "#B6E880",
           "#FF97FF",
           "#FECB52"
          ],
          "font": {
           "color": "#2a3f5f"
          },
          "geo": {
           "bgcolor": "white",
           "lakecolor": "white",
           "landcolor": "white",
           "showlakes": true,
           "showland": true,
           "subunitcolor": "#C8D4E3"
          },
          "hoverlabel": {
           "align": "left"
          },
          "hovermode": "closest",
          "mapbox": {
           "style": "light"
          },
          "paper_bgcolor": "white",
          "plot_bgcolor": "white",
          "polar": {
           "angularaxis": {
            "gridcolor": "#EBF0F8",
            "linecolor": "#EBF0F8",
            "ticks": ""
           },
           "bgcolor": "white",
           "radialaxis": {
            "gridcolor": "#EBF0F8",
            "linecolor": "#EBF0F8",
            "ticks": ""
           }
          },
          "scene": {
           "xaxis": {
            "backgroundcolor": "white",
            "gridcolor": "#DFE8F3",
            "gridwidth": 2,
            "linecolor": "#EBF0F8",
            "showbackground": true,
            "ticks": "",
            "zerolinecolor": "#EBF0F8"
           },
           "yaxis": {
            "backgroundcolor": "white",
            "gridcolor": "#DFE8F3",
            "gridwidth": 2,
            "linecolor": "#EBF0F8",
            "showbackground": true,
            "ticks": "",
            "zerolinecolor": "#EBF0F8"
           },
           "zaxis": {
            "backgroundcolor": "white",
            "gridcolor": "#DFE8F3",
            "gridwidth": 2,
            "linecolor": "#EBF0F8",
            "showbackground": true,
            "ticks": "",
            "zerolinecolor": "#EBF0F8"
           }
          },
          "shapedefaults": {
           "line": {
            "color": "#2a3f5f"
           }
          },
          "ternary": {
           "aaxis": {
            "gridcolor": "#DFE8F3",
            "linecolor": "#A2B1C6",
            "ticks": ""
           },
           "baxis": {
            "gridcolor": "#DFE8F3",
            "linecolor": "#A2B1C6",
            "ticks": ""
           },
           "bgcolor": "white",
           "caxis": {
            "gridcolor": "#DFE8F3",
            "linecolor": "#A2B1C6",
            "ticks": ""
           }
          },
          "title": {
           "x": 0.05
          },
          "xaxis": {
           "automargin": true,
           "gridcolor": "#EBF0F8",
           "linecolor": "#EBF0F8",
           "ticks": "",
           "title": {
            "standoff": 15
           },
           "zerolinecolor": "#EBF0F8",
           "zerolinewidth": 2
          },
          "yaxis": {
           "automargin": true,
           "gridcolor": "#EBF0F8",
           "linecolor": "#EBF0F8",
           "ticks": "",
           "title": {
            "standoff": 15
           },
           "zerolinecolor": "#EBF0F8",
           "zerolinewidth": 2
          }
         }
        },
        "title": {
         "text": "U.S. Energy Expenditures per Capita (1970–2023)",
         "x": 0.5,
         "xanchor": "center"
        },
        "width": 900,
        "xaxis": {
         "anchor": "y",
         "domain": [
          0,
          1
         ],
         "title": {
          "text": "Year"
         }
        },
        "yaxis": {
         "anchor": "x",
         "domain": [
          0,
          1
         ],
         "separatethousands": true,
         "tickprefix": "$",
         "title": {
          "text": "Energy Expenditures per Capita (Nominal $)"
         }
        }
       }
      }
     },
     "metadata": {},
     "output_type": "display_data"
    }
   ],
   "source": [
    "# Energy Expenditures per Capita (Nominal Dollars)\n",
    "\n",
    "fig = px.line(\n",
    "    df1_energy,\n",
    "    x=\"Year\",\n",
    "    y=\"EnergyExpend_per_capita\",\n",
    "    title=\"U.S. Energy Expenditures per Capita (1970–2023)\",\n",
    "    labels={\n",
    "        \"EnergyExpend_per_capita\": \"Energy Expenditures per Capita (Nominal $)\",\n",
    "        \"Year\": \"Year\"\n",
    "    }\n",
    ")\n",
    "\n",
    "fig.update_traces(line=dict(color=\"crimson\", width=3))\n",
    "\n",
    "fig.update_layout(\n",
    "    template=\"plotly_white\",\n",
    "    width=900, height=500,\n",
    "    title=dict(x=0.5, xanchor=\"center\"),  # center the title\n",
    "    yaxis=dict(tickprefix=\"$\", separatethousands=True)  # add $ sign, nice formatting\n",
    ")\n",
    "\n",
    "fig.show()\n"
   ]
  },
  {
   "cell_type": "code",
   "execution_count": 68,
   "id": "98a08813",
   "metadata": {},
   "outputs": [],
   "source": [
    "# Average energy price \n",
    "\n",
    "# Calculate average energy price ($ per MMBtu - Million Btu)\n",
    "# - Total energy expenditures (million nominal dollars)\n",
    "# - Total end-use energy consumption (Trillion Btu)\n",
    "df1_energy[\"avg_price_per_MMBtu\"] = (df1_energy[\"Energy_Expenditure\"] * 1e6) / (df1_energy[\"TotEnergy_2EndUse\"] * 1e6)\n",
    "\n",
    "\n",
    "# Create line plot for average energy price\n"
   ]
  },
  {
   "cell_type": "code",
   "execution_count": 69,
   "id": "a898d3d8",
   "metadata": {},
   "outputs": [
    {
     "data": {
      "application/vnd.plotly.v1+json": {
       "config": {
        "plotlyServerURL": "https://plot.ly"
       },
       "data": [
        {
         "line": {
          "color": "brown",
          "width": 3
         },
         "marker": {
          "size": 6
         },
         "mode": "lines+markers",
         "name": "Expenditures per Capita ($)",
         "type": "scatter",
         "x": {
          "bdata": "nQeeB58HoAehB6IHowekB6UHpgenB6gHqQeqB6sHrAetB64HrwewB7EHsgezB7QHtQe2B7cHuAe5B7oHuwe8B70Hvge/B8AHwQfCB8MHxAfFB8YHxwfIB8kHygfLB8wHzQfOB88H0AfRB9IH0wfUB9UH1gfXB9gH2QfaB9sH3AfdB94H3wfgB+EH4gfjB+QH5QfmB+cH6Ac=",
          "dtype": "i2"
         },
         "y": {
          "bdata": "AAAAAAAA+H8AAAAAAAD4fwAAAAAAAPh/AAAAAAAA+H8AAAAAAAD4fwAAAAAAAPh/AAAAAAAA+H8AAAAAAAD4fwAAAAAAAPh/AAAAAAAA+H8AAAAAAAD4fwAAAAAAAPh/AAAAAAAA+H8AAAAAAAD4fwAAAAAAAPh/AAAAAAAA+H8AAAAAAAD4fwAAAAAAAPh/AAAAAAAA+H8AAAAAAAD4fwAAAAAAAPh/AAAAAABAeUAAAAAAACB7QAAAAAAAMH1AAAAAAACAgEAAAAAAAGiGQAAAAAAA4IhAAAAAAADIi0AAAAAAAEiPQAAAAAAAzJBAAAAAAAColEAAAAAAALyZQAAAAAAAJJ1AAAAAAADEnEAAAAAAAOibQAAAAAAA2JxAAAAAAADInEAAAAAAAPyYQAAAAAAApJlAAAAAAABMmkAAAAAAAMybQAAAAAAAtJ1AAAAAAAAsnUAAAAAAAAydQAAAAAAAmJ1AAAAAAAD8nUAAAAAAADSeQAAAAAAAQKBAAAAAAABGoEAAAAAAANCdQAAAAAAASJ9AAAAAAAAKo0AAAAAAABajQAAAAAAACKJAAAAAAABWpEAAAAAAAD6nQAAAAAAApqtAAAAAAABYrkAAAAAAAACwQAAAAAAAGbJAAAAAAAAqq0AAAAAAAKyuQAAAAAAAdbFAAAAAAADesEAAAAAAAASxQAAAAAAAH7FAAAAAAAB+q0AAAAAAACKpQAAAAAAAUKtAAAAAAABqrkAAAAAAACCtQAAAAAAAvqdAAAAAAAD6rkAAAAAAABy0QAAAAAAAMbJAAAAAAAAA+H8=",
          "dtype": "f8"
         }
        },
        {
         "line": {
          "color": "darkblue",
          "dash": "dash",
          "width": 3
         },
         "marker": {
          "size": 6
         },
         "mode": "lines+markers",
         "name": "Average Energy Price ($/MMBtu)",
         "type": "scatter",
         "x": {
          "bdata": "nQeeB58HoAehB6IHowekB6UHpgenB6gHqQeqB6sHrAetB64HrwewB7EHsgezB7QHtQe2B7cHuAe5B7oHuwe8B70Hvge/B8AHwQfCB8MHxAfFB8YHxwfIB8kHygfLB8wHzQfOB88H0AfRB9IH0wfUB9UH1gfXB9gH2QfaB9sH3AfdB94H3wfgB+EH4gfjB+QH5QfmB+cH6Ac=",
          "dtype": "i2"
         },
         "y": {
          "bdata": "AAAAAAAA+H8AAAAAAAD4fwAAAAAAAPh/AAAAAAAA+H8AAAAAAAD4fwAAAAAAAPh/AAAAAAAA+H8AAAAAAAD4fwAAAAAAAPh/AAAAAAAA+H8AAAAAAAD4fwAAAAAAAPh/AAAAAAAA+H8AAAAAAAD4fwAAAAAAAPh/AAAAAAAA+H8AAAAAAAD4fwAAAAAAAPh/AAAAAAAA+H8AAAAAAAD4fwAAAAAAAPh/xBYyLF+O9z9q+iMh5jb5P97orlp/UPo/IzdzQOv//D/2xZt4KoMEQEpNg5to3gdAmMdLYISHCUA/vUDwA3UMQOvLPwPvRw5AomG3d9KfEkB7VEzZz5gYQC/WeX34Ch1ARGlVhF9gHkBbA1m2RQkeQABL1uR+qB1A2r9xFoUeHkCB6bNLW0saQCxatzXFVhpA80Lpy/wLGkCzQqCR7nwbQADQlcrGDh5AvsyHytkHHkBebdHg8pwdQGxnzbisOB5AeUpvOdRWHkBJZ2OBtGgeQO+em0MDAyBA3ML0PP8nIED9kM3j4SgeQHwvA9MHjB9AsBOacS8HI0D1ZpNlnsYjQABwRZYgnyJAEPSS//0PJUDcycIiLL4nQDyaS0oerCxAU7dmzZL6L0AqhimrMNIwQAgzXDqQszNACTK2FKJPL0BoIw1jiC4xQE3+IFKGzDNASO6luCWyM0DE3hEgyEUzQCcb16TSQzNAX9aIliE9L0DRjk3XmLUsQI1kk9AHJi9AAUBxOge5MEBk2JfZkwwwQJAqLmig2yxA/qep6EnYMUDu9cDZ2t42QN7/wXW7/jRAAAAAAAAA+H8=",
          "dtype": "f8"
         },
         "yaxis": "y2"
        }
       ],
       "layout": {
        "height": 500,
        "legend": {
         "orientation": "h",
         "x": 0.5,
         "xanchor": "center",
         "y": 1.1,
         "yanchor": "top"
        },
        "template": {
         "data": {
          "bar": [
           {
            "error_x": {
             "color": "#2a3f5f"
            },
            "error_y": {
             "color": "#2a3f5f"
            },
            "marker": {
             "line": {
              "color": "white",
              "width": 0.5
             },
             "pattern": {
              "fillmode": "overlay",
              "size": 10,
              "solidity": 0.2
             }
            },
            "type": "bar"
           }
          ],
          "barpolar": [
           {
            "marker": {
             "line": {
              "color": "white",
              "width": 0.5
             },
             "pattern": {
              "fillmode": "overlay",
              "size": 10,
              "solidity": 0.2
             }
            },
            "type": "barpolar"
           }
          ],
          "carpet": [
           {
            "aaxis": {
             "endlinecolor": "#2a3f5f",
             "gridcolor": "#C8D4E3",
             "linecolor": "#C8D4E3",
             "minorgridcolor": "#C8D4E3",
             "startlinecolor": "#2a3f5f"
            },
            "baxis": {
             "endlinecolor": "#2a3f5f",
             "gridcolor": "#C8D4E3",
             "linecolor": "#C8D4E3",
             "minorgridcolor": "#C8D4E3",
             "startlinecolor": "#2a3f5f"
            },
            "type": "carpet"
           }
          ],
          "choropleth": [
           {
            "colorbar": {
             "outlinewidth": 0,
             "ticks": ""
            },
            "type": "choropleth"
           }
          ],
          "contour": [
           {
            "colorbar": {
             "outlinewidth": 0,
             "ticks": ""
            },
            "colorscale": [
             [
              0,
              "#0d0887"
             ],
             [
              0.1111111111111111,
              "#46039f"
             ],
             [
              0.2222222222222222,
              "#7201a8"
             ],
             [
              0.3333333333333333,
              "#9c179e"
             ],
             [
              0.4444444444444444,
              "#bd3786"
             ],
             [
              0.5555555555555556,
              "#d8576b"
             ],
             [
              0.6666666666666666,
              "#ed7953"
             ],
             [
              0.7777777777777778,
              "#fb9f3a"
             ],
             [
              0.8888888888888888,
              "#fdca26"
             ],
             [
              1,
              "#f0f921"
             ]
            ],
            "type": "contour"
           }
          ],
          "contourcarpet": [
           {
            "colorbar": {
             "outlinewidth": 0,
             "ticks": ""
            },
            "type": "contourcarpet"
           }
          ],
          "heatmap": [
           {
            "colorbar": {
             "outlinewidth": 0,
             "ticks": ""
            },
            "colorscale": [
             [
              0,
              "#0d0887"
             ],
             [
              0.1111111111111111,
              "#46039f"
             ],
             [
              0.2222222222222222,
              "#7201a8"
             ],
             [
              0.3333333333333333,
              "#9c179e"
             ],
             [
              0.4444444444444444,
              "#bd3786"
             ],
             [
              0.5555555555555556,
              "#d8576b"
             ],
             [
              0.6666666666666666,
              "#ed7953"
             ],
             [
              0.7777777777777778,
              "#fb9f3a"
             ],
             [
              0.8888888888888888,
              "#fdca26"
             ],
             [
              1,
              "#f0f921"
             ]
            ],
            "type": "heatmap"
           }
          ],
          "histogram": [
           {
            "marker": {
             "pattern": {
              "fillmode": "overlay",
              "size": 10,
              "solidity": 0.2
             }
            },
            "type": "histogram"
           }
          ],
          "histogram2d": [
           {
            "colorbar": {
             "outlinewidth": 0,
             "ticks": ""
            },
            "colorscale": [
             [
              0,
              "#0d0887"
             ],
             [
              0.1111111111111111,
              "#46039f"
             ],
             [
              0.2222222222222222,
              "#7201a8"
             ],
             [
              0.3333333333333333,
              "#9c179e"
             ],
             [
              0.4444444444444444,
              "#bd3786"
             ],
             [
              0.5555555555555556,
              "#d8576b"
             ],
             [
              0.6666666666666666,
              "#ed7953"
             ],
             [
              0.7777777777777778,
              "#fb9f3a"
             ],
             [
              0.8888888888888888,
              "#fdca26"
             ],
             [
              1,
              "#f0f921"
             ]
            ],
            "type": "histogram2d"
           }
          ],
          "histogram2dcontour": [
           {
            "colorbar": {
             "outlinewidth": 0,
             "ticks": ""
            },
            "colorscale": [
             [
              0,
              "#0d0887"
             ],
             [
              0.1111111111111111,
              "#46039f"
             ],
             [
              0.2222222222222222,
              "#7201a8"
             ],
             [
              0.3333333333333333,
              "#9c179e"
             ],
             [
              0.4444444444444444,
              "#bd3786"
             ],
             [
              0.5555555555555556,
              "#d8576b"
             ],
             [
              0.6666666666666666,
              "#ed7953"
             ],
             [
              0.7777777777777778,
              "#fb9f3a"
             ],
             [
              0.8888888888888888,
              "#fdca26"
             ],
             [
              1,
              "#f0f921"
             ]
            ],
            "type": "histogram2dcontour"
           }
          ],
          "mesh3d": [
           {
            "colorbar": {
             "outlinewidth": 0,
             "ticks": ""
            },
            "type": "mesh3d"
           }
          ],
          "parcoords": [
           {
            "line": {
             "colorbar": {
              "outlinewidth": 0,
              "ticks": ""
             }
            },
            "type": "parcoords"
           }
          ],
          "pie": [
           {
            "automargin": true,
            "type": "pie"
           }
          ],
          "scatter": [
           {
            "fillpattern": {
             "fillmode": "overlay",
             "size": 10,
             "solidity": 0.2
            },
            "type": "scatter"
           }
          ],
          "scatter3d": [
           {
            "line": {
             "colorbar": {
              "outlinewidth": 0,
              "ticks": ""
             }
            },
            "marker": {
             "colorbar": {
              "outlinewidth": 0,
              "ticks": ""
             }
            },
            "type": "scatter3d"
           }
          ],
          "scattercarpet": [
           {
            "marker": {
             "colorbar": {
              "outlinewidth": 0,
              "ticks": ""
             }
            },
            "type": "scattercarpet"
           }
          ],
          "scattergeo": [
           {
            "marker": {
             "colorbar": {
              "outlinewidth": 0,
              "ticks": ""
             }
            },
            "type": "scattergeo"
           }
          ],
          "scattergl": [
           {
            "marker": {
             "colorbar": {
              "outlinewidth": 0,
              "ticks": ""
             }
            },
            "type": "scattergl"
           }
          ],
          "scattermap": [
           {
            "marker": {
             "colorbar": {
              "outlinewidth": 0,
              "ticks": ""
             }
            },
            "type": "scattermap"
           }
          ],
          "scattermapbox": [
           {
            "marker": {
             "colorbar": {
              "outlinewidth": 0,
              "ticks": ""
             }
            },
            "type": "scattermapbox"
           }
          ],
          "scatterpolar": [
           {
            "marker": {
             "colorbar": {
              "outlinewidth": 0,
              "ticks": ""
             }
            },
            "type": "scatterpolar"
           }
          ],
          "scatterpolargl": [
           {
            "marker": {
             "colorbar": {
              "outlinewidth": 0,
              "ticks": ""
             }
            },
            "type": "scatterpolargl"
           }
          ],
          "scatterternary": [
           {
            "marker": {
             "colorbar": {
              "outlinewidth": 0,
              "ticks": ""
             }
            },
            "type": "scatterternary"
           }
          ],
          "surface": [
           {
            "colorbar": {
             "outlinewidth": 0,
             "ticks": ""
            },
            "colorscale": [
             [
              0,
              "#0d0887"
             ],
             [
              0.1111111111111111,
              "#46039f"
             ],
             [
              0.2222222222222222,
              "#7201a8"
             ],
             [
              0.3333333333333333,
              "#9c179e"
             ],
             [
              0.4444444444444444,
              "#bd3786"
             ],
             [
              0.5555555555555556,
              "#d8576b"
             ],
             [
              0.6666666666666666,
              "#ed7953"
             ],
             [
              0.7777777777777778,
              "#fb9f3a"
             ],
             [
              0.8888888888888888,
              "#fdca26"
             ],
             [
              1,
              "#f0f921"
             ]
            ],
            "type": "surface"
           }
          ],
          "table": [
           {
            "cells": {
             "fill": {
              "color": "#EBF0F8"
             },
             "line": {
              "color": "white"
             }
            },
            "header": {
             "fill": {
              "color": "#C8D4E3"
             },
             "line": {
              "color": "white"
             }
            },
            "type": "table"
           }
          ]
         },
         "layout": {
          "annotationdefaults": {
           "arrowcolor": "#2a3f5f",
           "arrowhead": 0,
           "arrowwidth": 1
          },
          "autotypenumbers": "strict",
          "coloraxis": {
           "colorbar": {
            "outlinewidth": 0,
            "ticks": ""
           }
          },
          "colorscale": {
           "diverging": [
            [
             0,
             "#8e0152"
            ],
            [
             0.1,
             "#c51b7d"
            ],
            [
             0.2,
             "#de77ae"
            ],
            [
             0.3,
             "#f1b6da"
            ],
            [
             0.4,
             "#fde0ef"
            ],
            [
             0.5,
             "#f7f7f7"
            ],
            [
             0.6,
             "#e6f5d0"
            ],
            [
             0.7,
             "#b8e186"
            ],
            [
             0.8,
             "#7fbc41"
            ],
            [
             0.9,
             "#4d9221"
            ],
            [
             1,
             "#276419"
            ]
           ],
           "sequential": [
            [
             0,
             "#0d0887"
            ],
            [
             0.1111111111111111,
             "#46039f"
            ],
            [
             0.2222222222222222,
             "#7201a8"
            ],
            [
             0.3333333333333333,
             "#9c179e"
            ],
            [
             0.4444444444444444,
             "#bd3786"
            ],
            [
             0.5555555555555556,
             "#d8576b"
            ],
            [
             0.6666666666666666,
             "#ed7953"
            ],
            [
             0.7777777777777778,
             "#fb9f3a"
            ],
            [
             0.8888888888888888,
             "#fdca26"
            ],
            [
             1,
             "#f0f921"
            ]
           ],
           "sequentialminus": [
            [
             0,
             "#0d0887"
            ],
            [
             0.1111111111111111,
             "#46039f"
            ],
            [
             0.2222222222222222,
             "#7201a8"
            ],
            [
             0.3333333333333333,
             "#9c179e"
            ],
            [
             0.4444444444444444,
             "#bd3786"
            ],
            [
             0.5555555555555556,
             "#d8576b"
            ],
            [
             0.6666666666666666,
             "#ed7953"
            ],
            [
             0.7777777777777778,
             "#fb9f3a"
            ],
            [
             0.8888888888888888,
             "#fdca26"
            ],
            [
             1,
             "#f0f921"
            ]
           ]
          },
          "colorway": [
           "#636efa",
           "#EF553B",
           "#00cc96",
           "#ab63fa",
           "#FFA15A",
           "#19d3f3",
           "#FF6692",
           "#B6E880",
           "#FF97FF",
           "#FECB52"
          ],
          "font": {
           "color": "#2a3f5f"
          },
          "geo": {
           "bgcolor": "white",
           "lakecolor": "white",
           "landcolor": "white",
           "showlakes": true,
           "showland": true,
           "subunitcolor": "#C8D4E3"
          },
          "hoverlabel": {
           "align": "left"
          },
          "hovermode": "closest",
          "mapbox": {
           "style": "light"
          },
          "paper_bgcolor": "white",
          "plot_bgcolor": "white",
          "polar": {
           "angularaxis": {
            "gridcolor": "#EBF0F8",
            "linecolor": "#EBF0F8",
            "ticks": ""
           },
           "bgcolor": "white",
           "radialaxis": {
            "gridcolor": "#EBF0F8",
            "linecolor": "#EBF0F8",
            "ticks": ""
           }
          },
          "scene": {
           "xaxis": {
            "backgroundcolor": "white",
            "gridcolor": "#DFE8F3",
            "gridwidth": 2,
            "linecolor": "#EBF0F8",
            "showbackground": true,
            "ticks": "",
            "zerolinecolor": "#EBF0F8"
           },
           "yaxis": {
            "backgroundcolor": "white",
            "gridcolor": "#DFE8F3",
            "gridwidth": 2,
            "linecolor": "#EBF0F8",
            "showbackground": true,
            "ticks": "",
            "zerolinecolor": "#EBF0F8"
           },
           "zaxis": {
            "backgroundcolor": "white",
            "gridcolor": "#DFE8F3",
            "gridwidth": 2,
            "linecolor": "#EBF0F8",
            "showbackground": true,
            "ticks": "",
            "zerolinecolor": "#EBF0F8"
           }
          },
          "shapedefaults": {
           "line": {
            "color": "#2a3f5f"
           }
          },
          "ternary": {
           "aaxis": {
            "gridcolor": "#DFE8F3",
            "linecolor": "#A2B1C6",
            "ticks": ""
           },
           "baxis": {
            "gridcolor": "#DFE8F3",
            "linecolor": "#A2B1C6",
            "ticks": ""
           },
           "bgcolor": "white",
           "caxis": {
            "gridcolor": "#DFE8F3",
            "linecolor": "#A2B1C6",
            "ticks": ""
           }
          },
          "title": {
           "x": 0.05
          },
          "xaxis": {
           "automargin": true,
           "gridcolor": "#EBF0F8",
           "linecolor": "#EBF0F8",
           "ticks": "",
           "title": {
            "standoff": 15
           },
           "zerolinecolor": "#EBF0F8",
           "zerolinewidth": 2
          },
          "yaxis": {
           "automargin": true,
           "gridcolor": "#EBF0F8",
           "linecolor": "#EBF0F8",
           "ticks": "",
           "title": {
            "standoff": 15
           },
           "zerolinecolor": "#EBF0F8",
           "zerolinewidth": 2
          }
         }
        },
        "title": {
         "text": "U.S. Energy Expenditures per Capita and Average Energy Price (1949–2023)",
         "x": 0.5,
         "xanchor": "center"
        },
        "width": 900,
        "xaxis": {
         "title": {
          "text": "Year"
         }
        },
        "yaxis": {
         "tickfont": {
          "color": "brown"
         },
         "title": {
          "font": {
           "color": "brown"
          },
          "text": "Expenditures per Capita (Nominal $)"
         }
        },
        "yaxis2": {
         "overlaying": "y",
         "side": "right",
         "tickfont": {
          "color": "darkblue"
         },
         "title": {
          "font": {
           "color": "darkblue"
          },
          "text": "Average Energy Price ($ per MM Btu)"
         }
        }
       }
      }
     },
     "metadata": {},
     "output_type": "display_data"
    }
   ],
   "source": [
    "\n",
    "\n",
    "fig = go.Figure()\n",
    "\n",
    "# Line: Energy Expenditures per Capita\n",
    "fig.add_trace(go.Scatter(\n",
    "    x=df1_energy[\"Year\"],\n",
    "    y=df1_energy[\"EnergyExpend_per_capita\"],\n",
    "    mode=\"lines+markers\",\n",
    "    name=\"Expenditures per Capita ($)\",\n",
    "    line=dict(color=\"brown\", width=3),\n",
    "    marker=dict(size=6)\n",
    "))\n",
    "\n",
    "# Line: Average Energy Price ($ per Btu) on secondary y-axis\n",
    "fig.add_trace(go.Scatter(\n",
    "    x=df1_energy[\"Year\"],\n",
    "    y=df1_energy[\"avg_price_per_MMBtu\"],\n",
    "    mode=\"lines+markers\",\n",
    "    name=\"Average Energy Price ($/MMBtu)\",\n",
    "    line=dict(color=\"darkblue\", width=3, dash=\"dash\"),\n",
    "    marker=dict(size=6),\n",
    "    yaxis=\"y2\"\n",
    "))\n",
    "\n",
    "# Layout\n",
    "fig.update_layout(\n",
    "    title=dict(\n",
    "        text=\"U.S. Energy Expenditures per Capita and Average Energy Price (1949–2023)\",\n",
    "        x=0.5, xanchor=\"center\"\n",
    "    ),\n",
    "    template=\"plotly_white\",\n",
    "    width=900, height=500,\n",
    "    xaxis=dict(title=\"Year\"),\n",
    "    yaxis=dict(\n",
    "        title=dict(text=\"Expenditures per Capita (Nominal $)\", font=dict(color=\"brown\")),\n",
    "        tickfont=dict(color=\"brown\")\n",
    "    ),\n",
    "    yaxis2=dict(\n",
    "        title=dict(text=\"Average Energy Price ($ per MM Btu)\", font=dict(color=\"darkblue\")),\n",
    "        overlaying=\"y\",\n",
    "        side=\"right\",\n",
    "        tickfont=dict(color=\"darkblue\")\n",
    "    ),\n",
    "    legend=dict(\n",
    "        orientation=\"h\",\n",
    "        y=1.1, x=0.5, xanchor=\"center\", yanchor=\"top\"\n",
    "    )\n",
    ")\n",
    "\n",
    "fig.show()\n"
   ]
  },
  {
   "cell_type": "code",
   "execution_count": 83,
   "id": "5f357acb",
   "metadata": {},
   "outputs": [
    {
     "data": {
      "application/vnd.plotly.v1+json": {
       "config": {
        "plotlyServerURL": "https://plot.ly"
       },
       "data": [
        {
         "marker": {
          "color": "firebrick"
         },
         "name": "Heating Degree Days (HDD)",
         "type": "bar",
         "x": {
          "bdata": "nQeeB58HoAehB6IHowekB6UHpgenB6gHqQeqB6sHrAetB64HrwewB7EHsgezB7QHtQe2B7cHuAe5B7oHuwe8B70Hvge/B8AHwQfCB8MHxAfFB8YHxwfIB8kHygfLB8wHzQfOB88H0AfRB9IH0wfUB9UH1gfXB9gH2QfaB9sH3AfdB94H3wfgB+EH4gfjB+QH5QfmB+cH6Ac=",
          "dtype": "i2"
         },
         "y": {
          "bdata": "RRPyFL4U2hOLEmETehQEFLMTVxXjExgVRhTcFO0U2hMXFLkUWxR7FLMUXhTME38UmBINEyQTORSUEwMVLBTTE/ESRhMoE6QSFhOlEbIR5xIcE1IQ+RDmEeMS/xEdEr8SEhLRD4YQixGeEAIRvhH2EPoQxg+qEIwRfhFtEdgQuw52Ec4R/g8vD/4OwxDdEEoPXg+UENoOaQ4=",
          "dtype": "i2"
         }
        },
        {
         "marker": {
          "color": "royalblue"
         },
         "name": "Cooling Degree Days (CDD)",
         "type": "bar",
         "x": {
          "bdata": "nQeeB58HoAehB6IHowekB6UHpgenB6gHqQeqB6sHrAetB64HrwewB7EHsgezB7QHtQe2B7cHuAe5B7oHuwe8B70Hvge/B8AHwQfCB8MHxAfFB8YHxwfIB8kHygfLB8wHzQfOB88H0AfRB9IH0wfUB9UH1gfXB9gH2QfaB9sH3AfdB94H3wfgB+EH4gfjB+QH5QfmB+cH6Ac=",
          "dtype": "i2"
         },
         "y": {
          "bdata": "TwRpA88DVwRUBEAEeQToA/sDxQN4BOoD1gPkA/cD8wPVA9gDiAPTA/4DOgQOBN8DVATXAxwEmwOUBFoE7QPABFUEGASbBHUEYgSeBLkE0QRPBLEEAgXpA5EEoQTuBIoEbgRvBQMF0QToBFUF9QTCBG4FUQVxBQQF2gSxBb4F1gUYBQ8FzAUSBo8FKwbXBe8F1AUVBsgFYQY=",
          "dtype": "i2"
         }
        }
       ],
       "layout": {
        "barmode": "stack",
        "height": 500,
        "legend": {
         "orientation": "h",
         "x": 0.5,
         "xanchor": "center",
         "y": 1.1
        },
        "template": {
         "data": {
          "bar": [
           {
            "error_x": {
             "color": "#2a3f5f"
            },
            "error_y": {
             "color": "#2a3f5f"
            },
            "marker": {
             "line": {
              "color": "white",
              "width": 0.5
             },
             "pattern": {
              "fillmode": "overlay",
              "size": 10,
              "solidity": 0.2
             }
            },
            "type": "bar"
           }
          ],
          "barpolar": [
           {
            "marker": {
             "line": {
              "color": "white",
              "width": 0.5
             },
             "pattern": {
              "fillmode": "overlay",
              "size": 10,
              "solidity": 0.2
             }
            },
            "type": "barpolar"
           }
          ],
          "carpet": [
           {
            "aaxis": {
             "endlinecolor": "#2a3f5f",
             "gridcolor": "#C8D4E3",
             "linecolor": "#C8D4E3",
             "minorgridcolor": "#C8D4E3",
             "startlinecolor": "#2a3f5f"
            },
            "baxis": {
             "endlinecolor": "#2a3f5f",
             "gridcolor": "#C8D4E3",
             "linecolor": "#C8D4E3",
             "minorgridcolor": "#C8D4E3",
             "startlinecolor": "#2a3f5f"
            },
            "type": "carpet"
           }
          ],
          "choropleth": [
           {
            "colorbar": {
             "outlinewidth": 0,
             "ticks": ""
            },
            "type": "choropleth"
           }
          ],
          "contour": [
           {
            "colorbar": {
             "outlinewidth": 0,
             "ticks": ""
            },
            "colorscale": [
             [
              0,
              "#0d0887"
             ],
             [
              0.1111111111111111,
              "#46039f"
             ],
             [
              0.2222222222222222,
              "#7201a8"
             ],
             [
              0.3333333333333333,
              "#9c179e"
             ],
             [
              0.4444444444444444,
              "#bd3786"
             ],
             [
              0.5555555555555556,
              "#d8576b"
             ],
             [
              0.6666666666666666,
              "#ed7953"
             ],
             [
              0.7777777777777778,
              "#fb9f3a"
             ],
             [
              0.8888888888888888,
              "#fdca26"
             ],
             [
              1,
              "#f0f921"
             ]
            ],
            "type": "contour"
           }
          ],
          "contourcarpet": [
           {
            "colorbar": {
             "outlinewidth": 0,
             "ticks": ""
            },
            "type": "contourcarpet"
           }
          ],
          "heatmap": [
           {
            "colorbar": {
             "outlinewidth": 0,
             "ticks": ""
            },
            "colorscale": [
             [
              0,
              "#0d0887"
             ],
             [
              0.1111111111111111,
              "#46039f"
             ],
             [
              0.2222222222222222,
              "#7201a8"
             ],
             [
              0.3333333333333333,
              "#9c179e"
             ],
             [
              0.4444444444444444,
              "#bd3786"
             ],
             [
              0.5555555555555556,
              "#d8576b"
             ],
             [
              0.6666666666666666,
              "#ed7953"
             ],
             [
              0.7777777777777778,
              "#fb9f3a"
             ],
             [
              0.8888888888888888,
              "#fdca26"
             ],
             [
              1,
              "#f0f921"
             ]
            ],
            "type": "heatmap"
           }
          ],
          "histogram": [
           {
            "marker": {
             "pattern": {
              "fillmode": "overlay",
              "size": 10,
              "solidity": 0.2
             }
            },
            "type": "histogram"
           }
          ],
          "histogram2d": [
           {
            "colorbar": {
             "outlinewidth": 0,
             "ticks": ""
            },
            "colorscale": [
             [
              0,
              "#0d0887"
             ],
             [
              0.1111111111111111,
              "#46039f"
             ],
             [
              0.2222222222222222,
              "#7201a8"
             ],
             [
              0.3333333333333333,
              "#9c179e"
             ],
             [
              0.4444444444444444,
              "#bd3786"
             ],
             [
              0.5555555555555556,
              "#d8576b"
             ],
             [
              0.6666666666666666,
              "#ed7953"
             ],
             [
              0.7777777777777778,
              "#fb9f3a"
             ],
             [
              0.8888888888888888,
              "#fdca26"
             ],
             [
              1,
              "#f0f921"
             ]
            ],
            "type": "histogram2d"
           }
          ],
          "histogram2dcontour": [
           {
            "colorbar": {
             "outlinewidth": 0,
             "ticks": ""
            },
            "colorscale": [
             [
              0,
              "#0d0887"
             ],
             [
              0.1111111111111111,
              "#46039f"
             ],
             [
              0.2222222222222222,
              "#7201a8"
             ],
             [
              0.3333333333333333,
              "#9c179e"
             ],
             [
              0.4444444444444444,
              "#bd3786"
             ],
             [
              0.5555555555555556,
              "#d8576b"
             ],
             [
              0.6666666666666666,
              "#ed7953"
             ],
             [
              0.7777777777777778,
              "#fb9f3a"
             ],
             [
              0.8888888888888888,
              "#fdca26"
             ],
             [
              1,
              "#f0f921"
             ]
            ],
            "type": "histogram2dcontour"
           }
          ],
          "mesh3d": [
           {
            "colorbar": {
             "outlinewidth": 0,
             "ticks": ""
            },
            "type": "mesh3d"
           }
          ],
          "parcoords": [
           {
            "line": {
             "colorbar": {
              "outlinewidth": 0,
              "ticks": ""
             }
            },
            "type": "parcoords"
           }
          ],
          "pie": [
           {
            "automargin": true,
            "type": "pie"
           }
          ],
          "scatter": [
           {
            "fillpattern": {
             "fillmode": "overlay",
             "size": 10,
             "solidity": 0.2
            },
            "type": "scatter"
           }
          ],
          "scatter3d": [
           {
            "line": {
             "colorbar": {
              "outlinewidth": 0,
              "ticks": ""
             }
            },
            "marker": {
             "colorbar": {
              "outlinewidth": 0,
              "ticks": ""
             }
            },
            "type": "scatter3d"
           }
          ],
          "scattercarpet": [
           {
            "marker": {
             "colorbar": {
              "outlinewidth": 0,
              "ticks": ""
             }
            },
            "type": "scattercarpet"
           }
          ],
          "scattergeo": [
           {
            "marker": {
             "colorbar": {
              "outlinewidth": 0,
              "ticks": ""
             }
            },
            "type": "scattergeo"
           }
          ],
          "scattergl": [
           {
            "marker": {
             "colorbar": {
              "outlinewidth": 0,
              "ticks": ""
             }
            },
            "type": "scattergl"
           }
          ],
          "scattermap": [
           {
            "marker": {
             "colorbar": {
              "outlinewidth": 0,
              "ticks": ""
             }
            },
            "type": "scattermap"
           }
          ],
          "scattermapbox": [
           {
            "marker": {
             "colorbar": {
              "outlinewidth": 0,
              "ticks": ""
             }
            },
            "type": "scattermapbox"
           }
          ],
          "scatterpolar": [
           {
            "marker": {
             "colorbar": {
              "outlinewidth": 0,
              "ticks": ""
             }
            },
            "type": "scatterpolar"
           }
          ],
          "scatterpolargl": [
           {
            "marker": {
             "colorbar": {
              "outlinewidth": 0,
              "ticks": ""
             }
            },
            "type": "scatterpolargl"
           }
          ],
          "scatterternary": [
           {
            "marker": {
             "colorbar": {
              "outlinewidth": 0,
              "ticks": ""
             }
            },
            "type": "scatterternary"
           }
          ],
          "surface": [
           {
            "colorbar": {
             "outlinewidth": 0,
             "ticks": ""
            },
            "colorscale": [
             [
              0,
              "#0d0887"
             ],
             [
              0.1111111111111111,
              "#46039f"
             ],
             [
              0.2222222222222222,
              "#7201a8"
             ],
             [
              0.3333333333333333,
              "#9c179e"
             ],
             [
              0.4444444444444444,
              "#bd3786"
             ],
             [
              0.5555555555555556,
              "#d8576b"
             ],
             [
              0.6666666666666666,
              "#ed7953"
             ],
             [
              0.7777777777777778,
              "#fb9f3a"
             ],
             [
              0.8888888888888888,
              "#fdca26"
             ],
             [
              1,
              "#f0f921"
             ]
            ],
            "type": "surface"
           }
          ],
          "table": [
           {
            "cells": {
             "fill": {
              "color": "#EBF0F8"
             },
             "line": {
              "color": "white"
             }
            },
            "header": {
             "fill": {
              "color": "#C8D4E3"
             },
             "line": {
              "color": "white"
             }
            },
            "type": "table"
           }
          ]
         },
         "layout": {
          "annotationdefaults": {
           "arrowcolor": "#2a3f5f",
           "arrowhead": 0,
           "arrowwidth": 1
          },
          "autotypenumbers": "strict",
          "coloraxis": {
           "colorbar": {
            "outlinewidth": 0,
            "ticks": ""
           }
          },
          "colorscale": {
           "diverging": [
            [
             0,
             "#8e0152"
            ],
            [
             0.1,
             "#c51b7d"
            ],
            [
             0.2,
             "#de77ae"
            ],
            [
             0.3,
             "#f1b6da"
            ],
            [
             0.4,
             "#fde0ef"
            ],
            [
             0.5,
             "#f7f7f7"
            ],
            [
             0.6,
             "#e6f5d0"
            ],
            [
             0.7,
             "#b8e186"
            ],
            [
             0.8,
             "#7fbc41"
            ],
            [
             0.9,
             "#4d9221"
            ],
            [
             1,
             "#276419"
            ]
           ],
           "sequential": [
            [
             0,
             "#0d0887"
            ],
            [
             0.1111111111111111,
             "#46039f"
            ],
            [
             0.2222222222222222,
             "#7201a8"
            ],
            [
             0.3333333333333333,
             "#9c179e"
            ],
            [
             0.4444444444444444,
             "#bd3786"
            ],
            [
             0.5555555555555556,
             "#d8576b"
            ],
            [
             0.6666666666666666,
             "#ed7953"
            ],
            [
             0.7777777777777778,
             "#fb9f3a"
            ],
            [
             0.8888888888888888,
             "#fdca26"
            ],
            [
             1,
             "#f0f921"
            ]
           ],
           "sequentialminus": [
            [
             0,
             "#0d0887"
            ],
            [
             0.1111111111111111,
             "#46039f"
            ],
            [
             0.2222222222222222,
             "#7201a8"
            ],
            [
             0.3333333333333333,
             "#9c179e"
            ],
            [
             0.4444444444444444,
             "#bd3786"
            ],
            [
             0.5555555555555556,
             "#d8576b"
            ],
            [
             0.6666666666666666,
             "#ed7953"
            ],
            [
             0.7777777777777778,
             "#fb9f3a"
            ],
            [
             0.8888888888888888,
             "#fdca26"
            ],
            [
             1,
             "#f0f921"
            ]
           ]
          },
          "colorway": [
           "#636efa",
           "#EF553B",
           "#00cc96",
           "#ab63fa",
           "#FFA15A",
           "#19d3f3",
           "#FF6692",
           "#B6E880",
           "#FF97FF",
           "#FECB52"
          ],
          "font": {
           "color": "#2a3f5f"
          },
          "geo": {
           "bgcolor": "white",
           "lakecolor": "white",
           "landcolor": "white",
           "showlakes": true,
           "showland": true,
           "subunitcolor": "#C8D4E3"
          },
          "hoverlabel": {
           "align": "left"
          },
          "hovermode": "closest",
          "mapbox": {
           "style": "light"
          },
          "paper_bgcolor": "white",
          "plot_bgcolor": "white",
          "polar": {
           "angularaxis": {
            "gridcolor": "#EBF0F8",
            "linecolor": "#EBF0F8",
            "ticks": ""
           },
           "bgcolor": "white",
           "radialaxis": {
            "gridcolor": "#EBF0F8",
            "linecolor": "#EBF0F8",
            "ticks": ""
           }
          },
          "scene": {
           "xaxis": {
            "backgroundcolor": "white",
            "gridcolor": "#DFE8F3",
            "gridwidth": 2,
            "linecolor": "#EBF0F8",
            "showbackground": true,
            "ticks": "",
            "zerolinecolor": "#EBF0F8"
           },
           "yaxis": {
            "backgroundcolor": "white",
            "gridcolor": "#DFE8F3",
            "gridwidth": 2,
            "linecolor": "#EBF0F8",
            "showbackground": true,
            "ticks": "",
            "zerolinecolor": "#EBF0F8"
           },
           "zaxis": {
            "backgroundcolor": "white",
            "gridcolor": "#DFE8F3",
            "gridwidth": 2,
            "linecolor": "#EBF0F8",
            "showbackground": true,
            "ticks": "",
            "zerolinecolor": "#EBF0F8"
           }
          },
          "shapedefaults": {
           "line": {
            "color": "#2a3f5f"
           }
          },
          "ternary": {
           "aaxis": {
            "gridcolor": "#DFE8F3",
            "linecolor": "#A2B1C6",
            "ticks": ""
           },
           "baxis": {
            "gridcolor": "#DFE8F3",
            "linecolor": "#A2B1C6",
            "ticks": ""
           },
           "bgcolor": "white",
           "caxis": {
            "gridcolor": "#DFE8F3",
            "linecolor": "#A2B1C6",
            "ticks": ""
           }
          },
          "title": {
           "x": 0.05
          },
          "xaxis": {
           "automargin": true,
           "gridcolor": "#EBF0F8",
           "linecolor": "#EBF0F8",
           "ticks": "",
           "title": {
            "standoff": 15
           },
           "zerolinecolor": "#EBF0F8",
           "zerolinewidth": 2
          },
          "yaxis": {
           "automargin": true,
           "gridcolor": "#EBF0F8",
           "linecolor": "#EBF0F8",
           "ticks": "",
           "title": {
            "standoff": 15
           },
           "zerolinecolor": "#EBF0F8",
           "zerolinewidth": 2
          }
         }
        },
        "title": {
         "text": "U.S. Heating and Cooling Degree Days 1949–2024",
         "x": 0.5
        },
        "width": 950,
        "xaxis": {
         "title": {
          "text": "Year"
         }
        },
        "yaxis": {
         "title": {
          "text": "Degree Days"
         }
        }
       }
      }
     },
     "metadata": {},
     "output_type": "display_data"
    }
   ],
   "source": [
    "# Heating Degree Days (HDD) and Cooling Degree Days (CDD)\n",
    "fig = go.Figure()\n",
    "\n",
    "# HDD bars\n",
    "fig.add_trace(go.Bar(\n",
    "    x=df1_energy[\"Year\"],\n",
    "    y=df1_energy[\"days_heating\"],\n",
    "    name=\"Heating Degree Days (HDD)\",\n",
    "    marker_color=\"firebrick\"\n",
    "))\n",
    "\n",
    "# CDD bars\n",
    "fig.add_trace(go.Bar(\n",
    "    x=df1_energy[\"Year\"],\n",
    "    y=df1_energy[\"days_cooling\"],\n",
    "    name=\"Cooling Degree Days (CDD)\",\n",
    "    marker_color=\"royalblue\"\n",
    "))\n",
    "\n",
    "fig.update_layout(\n",
    "    barmode=\"stack\",  # stacked bars\n",
    "    title=dict(text=\"U.S. Heating and Cooling Degree Days 1949–2024\", x=0.5),\n",
    "    xaxis_title=\"Year\",\n",
    "    yaxis_title=\"Degree Days\",\n",
    "    template=\"plotly_white\",\n",
    "    width=950, height=500,\n",
    "    legend=dict(orientation=\"h\", x=0.5, xanchor=\"center\", y=1.1)\n",
    ")\n",
    "\n",
    "fig.show()\n"
   ]
  },
  {
   "cell_type": "code",
   "execution_count": 125,
   "id": "6b0ea646",
   "metadata": {},
   "outputs": [
    {
     "data": {
      "application/vnd.plotly.v1+json": {
       "config": {
        "plotlyServerURL": "https://plot.ly"
       },
       "data": [
        {
         "marker": {
          "color": "blue",
          "opacity": 0.7,
          "size": 7
         },
         "mode": "markers",
         "name": "End-Use Energy",
         "showlegend": false,
         "type": "scatter",
         "x": {
          "bdata": "lBdbGI0YMRjfFqEX8xjsF64XHBlbGAIZHBjAGOQYzRfsF5EY4xdOGLEYmBjaF14Y7BbkFkAX1BcoGF0ZGRiTGEYXXhfDFxkXeBdDFmsWuBdrFwMV+xXPFXQXoBYLF0kXgBZAFYkVXBaGFVcWsxa4FWgWFxUbFpAWWBYeF5YWkRSOFt0WyhVBFY0U7ha0FjkVMhWpFqIUyhQ=",
          "dtype": "i2"
         },
         "xaxis": "x",
         "y": {
          "bdata": "SOF6FJ7F20D0/dR4SSPeQB+F61FIGOBAJQaBlUvL30DpJjEIlDjgQOF6FK43fN9AexSuRxVH4UAOLbKdN+HhQLpJDALbzeFAzczMzOzE4UAK16NwTXbiQHnpJjGAJONAxSCwcshf40BEi2znCzTkQOF6FK6z4+RAL90kBpm35UAfhetRpIvmQB1aZDuLq+dAokW2891g6EBQjZdu/q7pQBBYObQgzepA9P3UeF1860Bg5dAiw+XrQJZDi2y3He1AXI/C9ewk7kB/arx05zTtQH9qvHTvH+xArBxaZMur7UCiRbbzeUTuQGZmZmb+3e5A+n5qvOA070C+nxovsbntQIGVQ4u4xuxAIbByaPFr60CkcD0K9yfrQC/dJAbVquxARrbz/cxs7EBqvHSTrIfsQMP1KFxDfO1ANV66SYzc7kAdWmQ7OzLvQFYOLbKt1+5AcT0K1/O57kCwcmiRQXPvQArXo3B50O9AZmZmZhpA8EACK4cW2YbwQARWDi0SFvFAnMQgsEoq8UB7FK5HdwrxQLbz/dTwSvFACtejcL2l8UCDwMqh1TDxQM/3U+PzaPFAWDm0yCKB8UDTTWIQsurxQLx0kxj4zvFA+n5qvKSx8UAbL90kiujxQDvfT40XdfFA5/up8bah8EAUrkfh/EDxQCcxCKxwK/FAvHSTGBbM8EApXI/CH2/xQMdLN4mNrvFAUrgehfWi8UBeukkM7qrxQCPb+X6Yz/FA8KfGS5OR8kAtsp3vp53yQA4tsp1dDPFAbef7qe8D8kBg5dAiQVvyQO58PzVoPfJAzczMzEJN8kA=",
          "dtype": "f8"
         },
         "yaxis": "y"
        },
        {
         "marker": {
          "color": "green",
          "opacity": 0.7,
          "size": 7
         },
         "mode": "markers",
         "name": "Electricity Use",
         "showlegend": false,
         "type": "scatter",
         "x": {
          "bdata": "lBdbGI0YMRjfFqEX8xjsF64XHBlbGAIZHBjAGOQYzRfsF5EY4xdOGLEYmBjaF14Y7BbkFkAX1BcoGF0ZGRiTGEYXXhfDFxkXeBdDFmsWuBdrFwMV+xXPFXQXoBYLF0kXgBZAFYkVXBaGFVcWsxa4FWgWFxUbFpAWWBYeF5YWkRSOFt0WyhVBFY0U7ha0FjkVMhWpFqIUyhQ=",
          "dtype": "i2"
         },
         "xaxis": "x2",
         "y": {
          "bdata": "oBov3SQji0AK16NwPROPQE5iEFi5m5FAgZVDi+z8kkAhsHJokR+VQHNoke38nJZAVg4tsp17mkBCYOXQoh+dQG8Sg8DKsp5ALbKd7ydXn0AnMQisXD6hQOkmMQhsV6JADAIrh5Y+o0CkcD0KV7qkQJhuEoPAMaZA+n5qvLTip0DFILByqGypQH9qvHTTl6tAK4cW2Q5NrUAEVg4tMgiwQIGVQ4vMgrFA/tR46YaOskAEVg4tEpazQKabxCCwQrVAuB6F63HUtkAnMQisnLy2QJzEILASSbdAmpmZmRm6uEArhxbZzve5QGZmZmYm5bpApHA9Cpeau0D2KFyPQuq7QNejcD3qnbxAppvEIPDOu0DfT42XDqu8QI2XbhIjd75AGy/dJGb5vkDD9ShcL5K/QAaBlUMbYMBAJzEIrCwuwUCgGi/ddKPBQJMYBFaeE8JAMQisHPpnwkC+nxovTWrCQOF6FK6nEcNAvp8aL12Ow0BvEoPAqhTEQClcj8KFqsRATmIQWGn2xECkcD0Kx8DFQPhT46VrEsZAhetRuO7MxkBeukkM8p7GQClcj8IVGMdADi2ynU9Ix0AAAAAAAKTHQM3MzMycZchAbef7qeF0yEBKDAIrVxbJQPp+arwk4shAuB6F6yH4x0BQjZduwgXJQM3MzMw8/chA9ihcjxKfyEBaZDvfn9LIQLx0kxiUFslA8KfGS9cMyUBQjZduwhLJQPhT46UL0MhA7FG4HsW3yUD2KFyP0mXJQNejcD1axshAqvHSTdJcyUCmm8QgwCvKQOXQItt50clARIts5/tmykA=",
          "dtype": "f8"
         },
         "yaxis": "y2"
        }
       ],
       "layout": {
        "annotations": [
         {
          "font": {
           "size": 16
          },
          "showarrow": false,
          "text": "End-Use Energy",
          "x": 0.225,
          "xanchor": "center",
          "xref": "paper",
          "y": 1,
          "yanchor": "bottom",
          "yref": "paper"
         },
         {
          "font": {
           "size": 16
          },
          "showarrow": false,
          "text": "Electricity Use",
          "x": 0.775,
          "xanchor": "center",
          "xref": "paper",
          "y": 1,
          "yanchor": "bottom",
          "yref": "paper"
         }
        ],
        "height": 450,
        "template": {
         "data": {
          "bar": [
           {
            "error_x": {
             "color": "#2a3f5f"
            },
            "error_y": {
             "color": "#2a3f5f"
            },
            "marker": {
             "line": {
              "color": "white",
              "width": 0.5
             },
             "pattern": {
              "fillmode": "overlay",
              "size": 10,
              "solidity": 0.2
             }
            },
            "type": "bar"
           }
          ],
          "barpolar": [
           {
            "marker": {
             "line": {
              "color": "white",
              "width": 0.5
             },
             "pattern": {
              "fillmode": "overlay",
              "size": 10,
              "solidity": 0.2
             }
            },
            "type": "barpolar"
           }
          ],
          "carpet": [
           {
            "aaxis": {
             "endlinecolor": "#2a3f5f",
             "gridcolor": "#C8D4E3",
             "linecolor": "#C8D4E3",
             "minorgridcolor": "#C8D4E3",
             "startlinecolor": "#2a3f5f"
            },
            "baxis": {
             "endlinecolor": "#2a3f5f",
             "gridcolor": "#C8D4E3",
             "linecolor": "#C8D4E3",
             "minorgridcolor": "#C8D4E3",
             "startlinecolor": "#2a3f5f"
            },
            "type": "carpet"
           }
          ],
          "choropleth": [
           {
            "colorbar": {
             "outlinewidth": 0,
             "ticks": ""
            },
            "type": "choropleth"
           }
          ],
          "contour": [
           {
            "colorbar": {
             "outlinewidth": 0,
             "ticks": ""
            },
            "colorscale": [
             [
              0,
              "#0d0887"
             ],
             [
              0.1111111111111111,
              "#46039f"
             ],
             [
              0.2222222222222222,
              "#7201a8"
             ],
             [
              0.3333333333333333,
              "#9c179e"
             ],
             [
              0.4444444444444444,
              "#bd3786"
             ],
             [
              0.5555555555555556,
              "#d8576b"
             ],
             [
              0.6666666666666666,
              "#ed7953"
             ],
             [
              0.7777777777777778,
              "#fb9f3a"
             ],
             [
              0.8888888888888888,
              "#fdca26"
             ],
             [
              1,
              "#f0f921"
             ]
            ],
            "type": "contour"
           }
          ],
          "contourcarpet": [
           {
            "colorbar": {
             "outlinewidth": 0,
             "ticks": ""
            },
            "type": "contourcarpet"
           }
          ],
          "heatmap": [
           {
            "colorbar": {
             "outlinewidth": 0,
             "ticks": ""
            },
            "colorscale": [
             [
              0,
              "#0d0887"
             ],
             [
              0.1111111111111111,
              "#46039f"
             ],
             [
              0.2222222222222222,
              "#7201a8"
             ],
             [
              0.3333333333333333,
              "#9c179e"
             ],
             [
              0.4444444444444444,
              "#bd3786"
             ],
             [
              0.5555555555555556,
              "#d8576b"
             ],
             [
              0.6666666666666666,
              "#ed7953"
             ],
             [
              0.7777777777777778,
              "#fb9f3a"
             ],
             [
              0.8888888888888888,
              "#fdca26"
             ],
             [
              1,
              "#f0f921"
             ]
            ],
            "type": "heatmap"
           }
          ],
          "histogram": [
           {
            "marker": {
             "pattern": {
              "fillmode": "overlay",
              "size": 10,
              "solidity": 0.2
             }
            },
            "type": "histogram"
           }
          ],
          "histogram2d": [
           {
            "colorbar": {
             "outlinewidth": 0,
             "ticks": ""
            },
            "colorscale": [
             [
              0,
              "#0d0887"
             ],
             [
              0.1111111111111111,
              "#46039f"
             ],
             [
              0.2222222222222222,
              "#7201a8"
             ],
             [
              0.3333333333333333,
              "#9c179e"
             ],
             [
              0.4444444444444444,
              "#bd3786"
             ],
             [
              0.5555555555555556,
              "#d8576b"
             ],
             [
              0.6666666666666666,
              "#ed7953"
             ],
             [
              0.7777777777777778,
              "#fb9f3a"
             ],
             [
              0.8888888888888888,
              "#fdca26"
             ],
             [
              1,
              "#f0f921"
             ]
            ],
            "type": "histogram2d"
           }
          ],
          "histogram2dcontour": [
           {
            "colorbar": {
             "outlinewidth": 0,
             "ticks": ""
            },
            "colorscale": [
             [
              0,
              "#0d0887"
             ],
             [
              0.1111111111111111,
              "#46039f"
             ],
             [
              0.2222222222222222,
              "#7201a8"
             ],
             [
              0.3333333333333333,
              "#9c179e"
             ],
             [
              0.4444444444444444,
              "#bd3786"
             ],
             [
              0.5555555555555556,
              "#d8576b"
             ],
             [
              0.6666666666666666,
              "#ed7953"
             ],
             [
              0.7777777777777778,
              "#fb9f3a"
             ],
             [
              0.8888888888888888,
              "#fdca26"
             ],
             [
              1,
              "#f0f921"
             ]
            ],
            "type": "histogram2dcontour"
           }
          ],
          "mesh3d": [
           {
            "colorbar": {
             "outlinewidth": 0,
             "ticks": ""
            },
            "type": "mesh3d"
           }
          ],
          "parcoords": [
           {
            "line": {
             "colorbar": {
              "outlinewidth": 0,
              "ticks": ""
             }
            },
            "type": "parcoords"
           }
          ],
          "pie": [
           {
            "automargin": true,
            "type": "pie"
           }
          ],
          "scatter": [
           {
            "fillpattern": {
             "fillmode": "overlay",
             "size": 10,
             "solidity": 0.2
            },
            "type": "scatter"
           }
          ],
          "scatter3d": [
           {
            "line": {
             "colorbar": {
              "outlinewidth": 0,
              "ticks": ""
             }
            },
            "marker": {
             "colorbar": {
              "outlinewidth": 0,
              "ticks": ""
             }
            },
            "type": "scatter3d"
           }
          ],
          "scattercarpet": [
           {
            "marker": {
             "colorbar": {
              "outlinewidth": 0,
              "ticks": ""
             }
            },
            "type": "scattercarpet"
           }
          ],
          "scattergeo": [
           {
            "marker": {
             "colorbar": {
              "outlinewidth": 0,
              "ticks": ""
             }
            },
            "type": "scattergeo"
           }
          ],
          "scattergl": [
           {
            "marker": {
             "colorbar": {
              "outlinewidth": 0,
              "ticks": ""
             }
            },
            "type": "scattergl"
           }
          ],
          "scattermap": [
           {
            "marker": {
             "colorbar": {
              "outlinewidth": 0,
              "ticks": ""
             }
            },
            "type": "scattermap"
           }
          ],
          "scattermapbox": [
           {
            "marker": {
             "colorbar": {
              "outlinewidth": 0,
              "ticks": ""
             }
            },
            "type": "scattermapbox"
           }
          ],
          "scatterpolar": [
           {
            "marker": {
             "colorbar": {
              "outlinewidth": 0,
              "ticks": ""
             }
            },
            "type": "scatterpolar"
           }
          ],
          "scatterpolargl": [
           {
            "marker": {
             "colorbar": {
              "outlinewidth": 0,
              "ticks": ""
             }
            },
            "type": "scatterpolargl"
           }
          ],
          "scatterternary": [
           {
            "marker": {
             "colorbar": {
              "outlinewidth": 0,
              "ticks": ""
             }
            },
            "type": "scatterternary"
           }
          ],
          "surface": [
           {
            "colorbar": {
             "outlinewidth": 0,
             "ticks": ""
            },
            "colorscale": [
             [
              0,
              "#0d0887"
             ],
             [
              0.1111111111111111,
              "#46039f"
             ],
             [
              0.2222222222222222,
              "#7201a8"
             ],
             [
              0.3333333333333333,
              "#9c179e"
             ],
             [
              0.4444444444444444,
              "#bd3786"
             ],
             [
              0.5555555555555556,
              "#d8576b"
             ],
             [
              0.6666666666666666,
              "#ed7953"
             ],
             [
              0.7777777777777778,
              "#fb9f3a"
             ],
             [
              0.8888888888888888,
              "#fdca26"
             ],
             [
              1,
              "#f0f921"
             ]
            ],
            "type": "surface"
           }
          ],
          "table": [
           {
            "cells": {
             "fill": {
              "color": "#EBF0F8"
             },
             "line": {
              "color": "white"
             }
            },
            "header": {
             "fill": {
              "color": "#C8D4E3"
             },
             "line": {
              "color": "white"
             }
            },
            "type": "table"
           }
          ]
         },
         "layout": {
          "annotationdefaults": {
           "arrowcolor": "#2a3f5f",
           "arrowhead": 0,
           "arrowwidth": 1
          },
          "autotypenumbers": "strict",
          "coloraxis": {
           "colorbar": {
            "outlinewidth": 0,
            "ticks": ""
           }
          },
          "colorscale": {
           "diverging": [
            [
             0,
             "#8e0152"
            ],
            [
             0.1,
             "#c51b7d"
            ],
            [
             0.2,
             "#de77ae"
            ],
            [
             0.3,
             "#f1b6da"
            ],
            [
             0.4,
             "#fde0ef"
            ],
            [
             0.5,
             "#f7f7f7"
            ],
            [
             0.6,
             "#e6f5d0"
            ],
            [
             0.7,
             "#b8e186"
            ],
            [
             0.8,
             "#7fbc41"
            ],
            [
             0.9,
             "#4d9221"
            ],
            [
             1,
             "#276419"
            ]
           ],
           "sequential": [
            [
             0,
             "#0d0887"
            ],
            [
             0.1111111111111111,
             "#46039f"
            ],
            [
             0.2222222222222222,
             "#7201a8"
            ],
            [
             0.3333333333333333,
             "#9c179e"
            ],
            [
             0.4444444444444444,
             "#bd3786"
            ],
            [
             0.5555555555555556,
             "#d8576b"
            ],
            [
             0.6666666666666666,
             "#ed7953"
            ],
            [
             0.7777777777777778,
             "#fb9f3a"
            ],
            [
             0.8888888888888888,
             "#fdca26"
            ],
            [
             1,
             "#f0f921"
            ]
           ],
           "sequentialminus": [
            [
             0,
             "#0d0887"
            ],
            [
             0.1111111111111111,
             "#46039f"
            ],
            [
             0.2222222222222222,
             "#7201a8"
            ],
            [
             0.3333333333333333,
             "#9c179e"
            ],
            [
             0.4444444444444444,
             "#bd3786"
            ],
            [
             0.5555555555555556,
             "#d8576b"
            ],
            [
             0.6666666666666666,
             "#ed7953"
            ],
            [
             0.7777777777777778,
             "#fb9f3a"
            ],
            [
             0.8888888888888888,
             "#fdca26"
            ],
            [
             1,
             "#f0f921"
            ]
           ]
          },
          "colorway": [
           "#636efa",
           "#EF553B",
           "#00cc96",
           "#ab63fa",
           "#FFA15A",
           "#19d3f3",
           "#FF6692",
           "#B6E880",
           "#FF97FF",
           "#FECB52"
          ],
          "font": {
           "color": "#2a3f5f"
          },
          "geo": {
           "bgcolor": "white",
           "lakecolor": "white",
           "landcolor": "white",
           "showlakes": true,
           "showland": true,
           "subunitcolor": "#C8D4E3"
          },
          "hoverlabel": {
           "align": "left"
          },
          "hovermode": "closest",
          "mapbox": {
           "style": "light"
          },
          "paper_bgcolor": "white",
          "plot_bgcolor": "white",
          "polar": {
           "angularaxis": {
            "gridcolor": "#EBF0F8",
            "linecolor": "#EBF0F8",
            "ticks": ""
           },
           "bgcolor": "white",
           "radialaxis": {
            "gridcolor": "#EBF0F8",
            "linecolor": "#EBF0F8",
            "ticks": ""
           }
          },
          "scene": {
           "xaxis": {
            "backgroundcolor": "white",
            "gridcolor": "#DFE8F3",
            "gridwidth": 2,
            "linecolor": "#EBF0F8",
            "showbackground": true,
            "ticks": "",
            "zerolinecolor": "#EBF0F8"
           },
           "yaxis": {
            "backgroundcolor": "white",
            "gridcolor": "#DFE8F3",
            "gridwidth": 2,
            "linecolor": "#EBF0F8",
            "showbackground": true,
            "ticks": "",
            "zerolinecolor": "#EBF0F8"
           },
           "zaxis": {
            "backgroundcolor": "white",
            "gridcolor": "#DFE8F3",
            "gridwidth": 2,
            "linecolor": "#EBF0F8",
            "showbackground": true,
            "ticks": "",
            "zerolinecolor": "#EBF0F8"
           }
          },
          "shapedefaults": {
           "line": {
            "color": "#2a3f5f"
           }
          },
          "ternary": {
           "aaxis": {
            "gridcolor": "#DFE8F3",
            "linecolor": "#A2B1C6",
            "ticks": ""
           },
           "baxis": {
            "gridcolor": "#DFE8F3",
            "linecolor": "#A2B1C6",
            "ticks": ""
           },
           "bgcolor": "white",
           "caxis": {
            "gridcolor": "#DFE8F3",
            "linecolor": "#A2B1C6",
            "ticks": ""
           }
          },
          "title": {
           "x": 0.05
          },
          "xaxis": {
           "automargin": true,
           "gridcolor": "#EBF0F8",
           "linecolor": "#EBF0F8",
           "ticks": "",
           "title": {
            "standoff": 15
           },
           "zerolinecolor": "#EBF0F8",
           "zerolinewidth": 2
          },
          "yaxis": {
           "automargin": true,
           "gridcolor": "#EBF0F8",
           "linecolor": "#EBF0F8",
           "ticks": "",
           "title": {
            "standoff": 15
           },
           "zerolinecolor": "#EBF0F8",
           "zerolinewidth": 2
          }
         }
        },
        "title": {
         "text": "End-Use Energy & Electricity Use vs. Total Degree Days",
         "x": 0.5
        },
        "width": 1000,
        "xaxis": {
         "anchor": "y",
         "domain": [
          0,
          0.45
         ],
         "title": {
          "text": "Total Degree Days"
         }
        },
        "xaxis2": {
         "anchor": "y2",
         "domain": [
          0.55,
          1
         ],
         "title": {
          "text": "Total Degree Days"
         }
        },
        "yaxis": {
         "anchor": "x",
         "domain": [
          0,
          1
         ],
         "title": {
          "text": "Energy Use (Trillion Btu)"
         }
        },
        "yaxis2": {
         "anchor": "x2",
         "domain": [
          0,
          1
         ]
        }
       }
      }
     },
     "metadata": {},
     "output_type": "display_data"
    }
   ],
   "source": [
    "# Relationship between Degree Days and Energy Consumption\n",
    "\n",
    "# Create a total degree days column\n",
    "df1_energy[\"Total_DegreeDays\"] = df1_energy[\"days_heating\"] + df1_energy[\"days_cooling\"]\n",
    "\n",
    "# Create subplot layout: 1 row, 2 columns\n",
    "fig = make_subplots(\n",
    "    rows=1, cols=2,\n",
    "    subplot_titles=(\n",
    "        \"End-Use Energy\",\n",
    "        \"Electricity Use\"\n",
    "    )\n",
    ")\n",
    "\n",
    "# Left plot: Total End-use Energy\n",
    "fig.add_trace(\n",
    "    go.Scatter(\n",
    "        x=df1_energy[\"Total_DegreeDays\"],\n",
    "        y=df1_energy[\"TotEnergy_2EndUse\"],\n",
    "        mode=\"markers\",\n",
    "        marker=dict(color=\"blue\", size=7, opacity=0.7),\n",
    "        name=\"End-Use Energy\",\n",
    "        showlegend=False\n",
    "    ),\n",
    "    row=1, col=1\n",
    ")\n",
    "\n",
    "# Right plot: Electricity Use\n",
    "fig.add_trace(\n",
    "    go.Scatter(\n",
    "        x=df1_energy[\"Total_DegreeDays\"],\n",
    "        y=df1_energy[\"TotElectricity_2Used\"],\n",
    "        mode=\"markers\",\n",
    "        marker=dict(color=\"green\", size=7, opacity=0.7),\n",
    "        name=\"Electricity Use\",\n",
    "        showlegend=False\n",
    "    ),\n",
    "    row=1, col=2\n",
    ")\n",
    "\n",
    "# Layout\n",
    "fig.update_layout(\n",
    "    title=dict(text=\"End-Use Energy & Electricity Use vs. Total Degree Days\",\n",
    "        x=0.5),\n",
    "    template=\"plotly_white\",\n",
    "    width=1000, height=450\n",
    ")\n",
    "\n",
    "# Axes labels\n",
    "fig.update_xaxes(title=\"Total Degree Days\", row=1, col=1)\n",
    "fig.update_yaxes(title=\"Energy Use (Trillion Btu)\", row=1, col=1)\n",
    "\n",
    "fig.update_xaxes(title=\"Total Degree Days\", row=1, col=2)\n",
    "# fig.update_yaxes(title=\"Electricity Use (Trillion Btu)\", row=1, col=2)\n",
    "\n",
    "fig.show()\n"
   ]
  },
  {
   "cell_type": "code",
   "execution_count": null,
   "id": "fce9f5a1",
   "metadata": {},
   "outputs": [
    {
     "data": {
      "application/vnd.plotly.v1+json": {
       "config": {
        "plotlyServerURL": "https://plot.ly"
       },
       "data": [
        {
         "line": {
          "color": "blue"
         },
         "mode": "lines+markers",
         "name": "End-Use Energy",
         "type": "scatter",
         "x": {
          "bdata": "nQeeB58HoAehB6IHowekB6UHpgenB6gHqQeqB6sHrAetB64HrwewB7EHsgezB7QHtQe2B7cHuAe5B7oHuwe8B70Hvge/B8AHwQfCB8MHxAfFB8YHxwfIB8kHygfLB8wHzQfOB88H0AfRB9IH0wfUB9UH1gfXB9gH2QfaB9sH3AfdB94H3wfgB+EH4gfjB+QH5QfmB+cH6Ac=",
          "dtype": "i2"
         },
         "xaxis": "x",
         "y": {
          "bdata": "SOF6FJ7F20D0/dR4SSPeQB+F61FIGOBAJQaBlUvL30DpJjEIlDjgQOF6FK43fN9AexSuRxVH4UAOLbKdN+HhQLpJDALbzeFAzczMzOzE4UAK16NwTXbiQHnpJjGAJONAxSCwcshf40BEi2znCzTkQOF6FK6z4+RAL90kBpm35UAfhetRpIvmQB1aZDuLq+dAokW2891g6EBQjZdu/q7pQBBYObQgzepA9P3UeF1860Bg5dAiw+XrQJZDi2y3He1AXI/C9ewk7kB/arx05zTtQH9qvHTvH+xArBxaZMur7UCiRbbzeUTuQGZmZmb+3e5A+n5qvOA070C+nxovsbntQIGVQ4u4xuxAIbByaPFr60CkcD0K9yfrQC/dJAbVquxARrbz/cxs7EBqvHSTrIfsQMP1KFxDfO1ANV66SYzc7kAdWmQ7OzLvQFYOLbKt1+5AcT0K1/O57kCwcmiRQXPvQArXo3B50O9AZmZmZhpA8EACK4cW2YbwQARWDi0SFvFAnMQgsEoq8UB7FK5HdwrxQLbz/dTwSvFACtejcL2l8UCDwMqh1TDxQM/3U+PzaPFAWDm0yCKB8UDTTWIQsurxQLx0kxj4zvFA+n5qvKSx8UAbL90kiujxQDvfT40XdfFA5/up8bah8EAUrkfh/EDxQCcxCKxwK/FAvHSTGBbM8EApXI/CH2/xQMdLN4mNrvFAUrgehfWi8UBeukkM7qrxQCPb+X6Yz/FA8KfGS5OR8kAtsp3vp53yQA4tsp1dDPFAbef7qe8D8kBg5dAiQVvyQO58PzVoPfJAzczMzEJN8kA=",
          "dtype": "f8"
         },
         "yaxis": "y"
        },
        {
         "line": {
          "color": "red",
          "dash": "dot"
         },
         "mode": "lines+markers",
         "name": "Total Degree Days",
         "showlegend": false,
         "type": "scatter",
         "x": {
          "bdata": "nQeeB58HoAehB6IHowekB6UHpgenB6gHqQeqB6sHrAetB64HrwewB7EHsgezB7QHtQe2B7cHuAe5B7oHuwe8B70Hvge/B8AHwQfCB8MHxAfFB8YHxwfIB8kHygfLB8wHzQfOB88H0AfRB9IH0wfUB9UH1gfXB9gH2QfaB9sH3AfdB94H3wfgB+EH4gfjB+QH5QfmB+cH6Ac=",
          "dtype": "i2"
         },
         "xaxis": "x",
         "y": {
          "bdata": "lBdbGI0YMRjfFqEX8xjsF64XHBlbGAIZHBjAGOQYzRfsF5EY4xdOGLEYmBjaF14Y7BbkFkAX1BcoGF0ZGRiTGEYXXhfDFxkXeBdDFmsWuBdrFwMV+xXPFXQXoBYLF0kXgBZAFYkVXBaGFVcWsxa4FWgWFxUbFpAWWBYeF5YWkRSOFt0WyhVBFY0U7ha0FjkVMhWpFqIUyhQ=",
          "dtype": "i2"
         },
         "yaxis": "y2"
        },
        {
         "line": {
          "color": "green"
         },
         "mode": "lines+markers",
         "name": "Electricity Use",
         "type": "scatter",
         "x": {
          "bdata": "nQeeB58HoAehB6IHowekB6UHpgenB6gHqQeqB6sHrAetB64HrwewB7EHsgezB7QHtQe2B7cHuAe5B7oHuwe8B70Hvge/B8AHwQfCB8MHxAfFB8YHxwfIB8kHygfLB8wHzQfOB88H0AfRB9IH0wfUB9UH1gfXB9gH2QfaB9sH3AfdB94H3wfgB+EH4gfjB+QH5QfmB+cH6Ac=",
          "dtype": "i2"
         },
         "xaxis": "x2",
         "y": {
          "bdata": "oBov3SQji0AK16NwPROPQE5iEFi5m5FAgZVDi+z8kkAhsHJokR+VQHNoke38nJZAVg4tsp17mkBCYOXQoh+dQG8Sg8DKsp5ALbKd7ydXn0AnMQisXD6hQOkmMQhsV6JADAIrh5Y+o0CkcD0KV7qkQJhuEoPAMaZA+n5qvLTip0DFILByqGypQH9qvHTTl6tAK4cW2Q5NrUAEVg4tMgiwQIGVQ4vMgrFA/tR46YaOskAEVg4tEpazQKabxCCwQrVAuB6F63HUtkAnMQisnLy2QJzEILASSbdAmpmZmRm6uEArhxbZzve5QGZmZmYm5bpApHA9Cpeau0D2KFyPQuq7QNejcD3qnbxAppvEIPDOu0DfT42XDqu8QI2XbhIjd75AGy/dJGb5vkDD9ShcL5K/QAaBlUMbYMBAJzEIrCwuwUCgGi/ddKPBQJMYBFaeE8JAMQisHPpnwkC+nxovTWrCQOF6FK6nEcNAvp8aL12Ow0BvEoPAqhTEQClcj8KFqsRATmIQWGn2xECkcD0Kx8DFQPhT46VrEsZAhetRuO7MxkBeukkM8p7GQClcj8IVGMdADi2ynU9Ix0AAAAAAAKTHQM3MzMycZchAbef7qeF0yEBKDAIrVxbJQPp+arwk4shAuB6F6yH4x0BQjZduwgXJQM3MzMw8/chA9ihcjxKfyEBaZDvfn9LIQLx0kxiUFslA8KfGS9cMyUBQjZduwhLJQPhT46UL0MhA7FG4HsW3yUD2KFyP0mXJQNejcD1axshAqvHSTdJcyUCmm8QgwCvKQOXQItt50clARIts5/tmykA=",
          "dtype": "f8"
         },
         "yaxis": "y3"
        },
        {
         "line": {
          "color": "red",
          "dash": "dot"
         },
         "mode": "lines+markers",
         "name": "Total Degree Days",
         "type": "scatter",
         "x": {
          "bdata": "nQeeB58HoAehB6IHowekB6UHpgenB6gHqQeqB6sHrAetB64HrwewB7EHsgezB7QHtQe2B7cHuAe5B7oHuwe8B70Hvge/B8AHwQfCB8MHxAfFB8YHxwfIB8kHygfLB8wHzQfOB88H0AfRB9IH0wfUB9UH1gfXB9gH2QfaB9sH3AfdB94H3wfgB+EH4gfjB+QH5QfmB+cH6Ac=",
          "dtype": "i2"
         },
         "xaxis": "x2",
         "y": {
          "bdata": "lBdbGI0YMRjfFqEX8xjsF64XHBlbGAIZHBjAGOQYzRfsF5EY4xdOGLEYmBjaF14Y7BbkFkAX1BcoGF0ZGRiTGEYXXhfDFxkXeBdDFmsWuBdrFwMV+xXPFXQXoBYLF0kXgBZAFYkVXBaGFVcWsxa4FWgWFxUbFpAWWBYeF5YWkRSOFt0WyhVBFY0U7ha0FjkVMhWpFqIUyhQ=",
          "dtype": "i2"
         },
         "yaxis": "y4"
        }
       ],
       "layout": {
        "annotations": [
         {
          "font": {
           "size": 16
          },
          "showarrow": false,
          "text": "End-Use Energy",
          "x": 0.185,
          "xanchor": "center",
          "xref": "paper",
          "y": 1,
          "yanchor": "bottom",
          "yref": "paper"
         },
         {
          "font": {
           "size": 16
          },
          "showarrow": false,
          "text": "Electricity Use",
          "x": 0.7550000000000001,
          "xanchor": "center",
          "xref": "paper",
          "y": 1,
          "yanchor": "bottom",
          "yref": "paper"
         }
        ],
        "height": 450,
        "legend": {
         "orientation": "h",
         "x": 0.5,
         "xanchor": "center",
         "y": -0.2
        },
        "template": {
         "data": {
          "bar": [
           {
            "error_x": {
             "color": "#2a3f5f"
            },
            "error_y": {
             "color": "#2a3f5f"
            },
            "marker": {
             "line": {
              "color": "white",
              "width": 0.5
             },
             "pattern": {
              "fillmode": "overlay",
              "size": 10,
              "solidity": 0.2
             }
            },
            "type": "bar"
           }
          ],
          "barpolar": [
           {
            "marker": {
             "line": {
              "color": "white",
              "width": 0.5
             },
             "pattern": {
              "fillmode": "overlay",
              "size": 10,
              "solidity": 0.2
             }
            },
            "type": "barpolar"
           }
          ],
          "carpet": [
           {
            "aaxis": {
             "endlinecolor": "#2a3f5f",
             "gridcolor": "#C8D4E3",
             "linecolor": "#C8D4E3",
             "minorgridcolor": "#C8D4E3",
             "startlinecolor": "#2a3f5f"
            },
            "baxis": {
             "endlinecolor": "#2a3f5f",
             "gridcolor": "#C8D4E3",
             "linecolor": "#C8D4E3",
             "minorgridcolor": "#C8D4E3",
             "startlinecolor": "#2a3f5f"
            },
            "type": "carpet"
           }
          ],
          "choropleth": [
           {
            "colorbar": {
             "outlinewidth": 0,
             "ticks": ""
            },
            "type": "choropleth"
           }
          ],
          "contour": [
           {
            "colorbar": {
             "outlinewidth": 0,
             "ticks": ""
            },
            "colorscale": [
             [
              0,
              "#0d0887"
             ],
             [
              0.1111111111111111,
              "#46039f"
             ],
             [
              0.2222222222222222,
              "#7201a8"
             ],
             [
              0.3333333333333333,
              "#9c179e"
             ],
             [
              0.4444444444444444,
              "#bd3786"
             ],
             [
              0.5555555555555556,
              "#d8576b"
             ],
             [
              0.6666666666666666,
              "#ed7953"
             ],
             [
              0.7777777777777778,
              "#fb9f3a"
             ],
             [
              0.8888888888888888,
              "#fdca26"
             ],
             [
              1,
              "#f0f921"
             ]
            ],
            "type": "contour"
           }
          ],
          "contourcarpet": [
           {
            "colorbar": {
             "outlinewidth": 0,
             "ticks": ""
            },
            "type": "contourcarpet"
           }
          ],
          "heatmap": [
           {
            "colorbar": {
             "outlinewidth": 0,
             "ticks": ""
            },
            "colorscale": [
             [
              0,
              "#0d0887"
             ],
             [
              0.1111111111111111,
              "#46039f"
             ],
             [
              0.2222222222222222,
              "#7201a8"
             ],
             [
              0.3333333333333333,
              "#9c179e"
             ],
             [
              0.4444444444444444,
              "#bd3786"
             ],
             [
              0.5555555555555556,
              "#d8576b"
             ],
             [
              0.6666666666666666,
              "#ed7953"
             ],
             [
              0.7777777777777778,
              "#fb9f3a"
             ],
             [
              0.8888888888888888,
              "#fdca26"
             ],
             [
              1,
              "#f0f921"
             ]
            ],
            "type": "heatmap"
           }
          ],
          "histogram": [
           {
            "marker": {
             "pattern": {
              "fillmode": "overlay",
              "size": 10,
              "solidity": 0.2
             }
            },
            "type": "histogram"
           }
          ],
          "histogram2d": [
           {
            "colorbar": {
             "outlinewidth": 0,
             "ticks": ""
            },
            "colorscale": [
             [
              0,
              "#0d0887"
             ],
             [
              0.1111111111111111,
              "#46039f"
             ],
             [
              0.2222222222222222,
              "#7201a8"
             ],
             [
              0.3333333333333333,
              "#9c179e"
             ],
             [
              0.4444444444444444,
              "#bd3786"
             ],
             [
              0.5555555555555556,
              "#d8576b"
             ],
             [
              0.6666666666666666,
              "#ed7953"
             ],
             [
              0.7777777777777778,
              "#fb9f3a"
             ],
             [
              0.8888888888888888,
              "#fdca26"
             ],
             [
              1,
              "#f0f921"
             ]
            ],
            "type": "histogram2d"
           }
          ],
          "histogram2dcontour": [
           {
            "colorbar": {
             "outlinewidth": 0,
             "ticks": ""
            },
            "colorscale": [
             [
              0,
              "#0d0887"
             ],
             [
              0.1111111111111111,
              "#46039f"
             ],
             [
              0.2222222222222222,
              "#7201a8"
             ],
             [
              0.3333333333333333,
              "#9c179e"
             ],
             [
              0.4444444444444444,
              "#bd3786"
             ],
             [
              0.5555555555555556,
              "#d8576b"
             ],
             [
              0.6666666666666666,
              "#ed7953"
             ],
             [
              0.7777777777777778,
              "#fb9f3a"
             ],
             [
              0.8888888888888888,
              "#fdca26"
             ],
             [
              1,
              "#f0f921"
             ]
            ],
            "type": "histogram2dcontour"
           }
          ],
          "mesh3d": [
           {
            "colorbar": {
             "outlinewidth": 0,
             "ticks": ""
            },
            "type": "mesh3d"
           }
          ],
          "parcoords": [
           {
            "line": {
             "colorbar": {
              "outlinewidth": 0,
              "ticks": ""
             }
            },
            "type": "parcoords"
           }
          ],
          "pie": [
           {
            "automargin": true,
            "type": "pie"
           }
          ],
          "scatter": [
           {
            "fillpattern": {
             "fillmode": "overlay",
             "size": 10,
             "solidity": 0.2
            },
            "type": "scatter"
           }
          ],
          "scatter3d": [
           {
            "line": {
             "colorbar": {
              "outlinewidth": 0,
              "ticks": ""
             }
            },
            "marker": {
             "colorbar": {
              "outlinewidth": 0,
              "ticks": ""
             }
            },
            "type": "scatter3d"
           }
          ],
          "scattercarpet": [
           {
            "marker": {
             "colorbar": {
              "outlinewidth": 0,
              "ticks": ""
             }
            },
            "type": "scattercarpet"
           }
          ],
          "scattergeo": [
           {
            "marker": {
             "colorbar": {
              "outlinewidth": 0,
              "ticks": ""
             }
            },
            "type": "scattergeo"
           }
          ],
          "scattergl": [
           {
            "marker": {
             "colorbar": {
              "outlinewidth": 0,
              "ticks": ""
             }
            },
            "type": "scattergl"
           }
          ],
          "scattermap": [
           {
            "marker": {
             "colorbar": {
              "outlinewidth": 0,
              "ticks": ""
             }
            },
            "type": "scattermap"
           }
          ],
          "scattermapbox": [
           {
            "marker": {
             "colorbar": {
              "outlinewidth": 0,
              "ticks": ""
             }
            },
            "type": "scattermapbox"
           }
          ],
          "scatterpolar": [
           {
            "marker": {
             "colorbar": {
              "outlinewidth": 0,
              "ticks": ""
             }
            },
            "type": "scatterpolar"
           }
          ],
          "scatterpolargl": [
           {
            "marker": {
             "colorbar": {
              "outlinewidth": 0,
              "ticks": ""
             }
            },
            "type": "scatterpolargl"
           }
          ],
          "scatterternary": [
           {
            "marker": {
             "colorbar": {
              "outlinewidth": 0,
              "ticks": ""
             }
            },
            "type": "scatterternary"
           }
          ],
          "surface": [
           {
            "colorbar": {
             "outlinewidth": 0,
             "ticks": ""
            },
            "colorscale": [
             [
              0,
              "#0d0887"
             ],
             [
              0.1111111111111111,
              "#46039f"
             ],
             [
              0.2222222222222222,
              "#7201a8"
             ],
             [
              0.3333333333333333,
              "#9c179e"
             ],
             [
              0.4444444444444444,
              "#bd3786"
             ],
             [
              0.5555555555555556,
              "#d8576b"
             ],
             [
              0.6666666666666666,
              "#ed7953"
             ],
             [
              0.7777777777777778,
              "#fb9f3a"
             ],
             [
              0.8888888888888888,
              "#fdca26"
             ],
             [
              1,
              "#f0f921"
             ]
            ],
            "type": "surface"
           }
          ],
          "table": [
           {
            "cells": {
             "fill": {
              "color": "#EBF0F8"
             },
             "line": {
              "color": "white"
             }
            },
            "header": {
             "fill": {
              "color": "#C8D4E3"
             },
             "line": {
              "color": "white"
             }
            },
            "type": "table"
           }
          ]
         },
         "layout": {
          "annotationdefaults": {
           "arrowcolor": "#2a3f5f",
           "arrowhead": 0,
           "arrowwidth": 1
          },
          "autotypenumbers": "strict",
          "coloraxis": {
           "colorbar": {
            "outlinewidth": 0,
            "ticks": ""
           }
          },
          "colorscale": {
           "diverging": [
            [
             0,
             "#8e0152"
            ],
            [
             0.1,
             "#c51b7d"
            ],
            [
             0.2,
             "#de77ae"
            ],
            [
             0.3,
             "#f1b6da"
            ],
            [
             0.4,
             "#fde0ef"
            ],
            [
             0.5,
             "#f7f7f7"
            ],
            [
             0.6,
             "#e6f5d0"
            ],
            [
             0.7,
             "#b8e186"
            ],
            [
             0.8,
             "#7fbc41"
            ],
            [
             0.9,
             "#4d9221"
            ],
            [
             1,
             "#276419"
            ]
           ],
           "sequential": [
            [
             0,
             "#0d0887"
            ],
            [
             0.1111111111111111,
             "#46039f"
            ],
            [
             0.2222222222222222,
             "#7201a8"
            ],
            [
             0.3333333333333333,
             "#9c179e"
            ],
            [
             0.4444444444444444,
             "#bd3786"
            ],
            [
             0.5555555555555556,
             "#d8576b"
            ],
            [
             0.6666666666666666,
             "#ed7953"
            ],
            [
             0.7777777777777778,
             "#fb9f3a"
            ],
            [
             0.8888888888888888,
             "#fdca26"
            ],
            [
             1,
             "#f0f921"
            ]
           ],
           "sequentialminus": [
            [
             0,
             "#0d0887"
            ],
            [
             0.1111111111111111,
             "#46039f"
            ],
            [
             0.2222222222222222,
             "#7201a8"
            ],
            [
             0.3333333333333333,
             "#9c179e"
            ],
            [
             0.4444444444444444,
             "#bd3786"
            ],
            [
             0.5555555555555556,
             "#d8576b"
            ],
            [
             0.6666666666666666,
             "#ed7953"
            ],
            [
             0.7777777777777778,
             "#fb9f3a"
            ],
            [
             0.8888888888888888,
             "#fdca26"
            ],
            [
             1,
             "#f0f921"
            ]
           ]
          },
          "colorway": [
           "#636efa",
           "#EF553B",
           "#00cc96",
           "#ab63fa",
           "#FFA15A",
           "#19d3f3",
           "#FF6692",
           "#B6E880",
           "#FF97FF",
           "#FECB52"
          ],
          "font": {
           "color": "#2a3f5f"
          },
          "geo": {
           "bgcolor": "white",
           "lakecolor": "white",
           "landcolor": "white",
           "showlakes": true,
           "showland": true,
           "subunitcolor": "#C8D4E3"
          },
          "hoverlabel": {
           "align": "left"
          },
          "hovermode": "closest",
          "mapbox": {
           "style": "light"
          },
          "paper_bgcolor": "white",
          "plot_bgcolor": "white",
          "polar": {
           "angularaxis": {
            "gridcolor": "#EBF0F8",
            "linecolor": "#EBF0F8",
            "ticks": ""
           },
           "bgcolor": "white",
           "radialaxis": {
            "gridcolor": "#EBF0F8",
            "linecolor": "#EBF0F8",
            "ticks": ""
           }
          },
          "scene": {
           "xaxis": {
            "backgroundcolor": "white",
            "gridcolor": "#DFE8F3",
            "gridwidth": 2,
            "linecolor": "#EBF0F8",
            "showbackground": true,
            "ticks": "",
            "zerolinecolor": "#EBF0F8"
           },
           "yaxis": {
            "backgroundcolor": "white",
            "gridcolor": "#DFE8F3",
            "gridwidth": 2,
            "linecolor": "#EBF0F8",
            "showbackground": true,
            "ticks": "",
            "zerolinecolor": "#EBF0F8"
           },
           "zaxis": {
            "backgroundcolor": "white",
            "gridcolor": "#DFE8F3",
            "gridwidth": 2,
            "linecolor": "#EBF0F8",
            "showbackground": true,
            "ticks": "",
            "zerolinecolor": "#EBF0F8"
           }
          },
          "shapedefaults": {
           "line": {
            "color": "#2a3f5f"
           }
          },
          "ternary": {
           "aaxis": {
            "gridcolor": "#DFE8F3",
            "linecolor": "#A2B1C6",
            "ticks": ""
           },
           "baxis": {
            "gridcolor": "#DFE8F3",
            "linecolor": "#A2B1C6",
            "ticks": ""
           },
           "bgcolor": "white",
           "caxis": {
            "gridcolor": "#DFE8F3",
            "linecolor": "#A2B1C6",
            "ticks": ""
           }
          },
          "title": {
           "x": 0.05
          },
          "xaxis": {
           "automargin": true,
           "gridcolor": "#EBF0F8",
           "linecolor": "#EBF0F8",
           "ticks": "",
           "title": {
            "standoff": 15
           },
           "zerolinecolor": "#EBF0F8",
           "zerolinewidth": 2
          },
          "yaxis": {
           "automargin": true,
           "gridcolor": "#EBF0F8",
           "linecolor": "#EBF0F8",
           "ticks": "",
           "title": {
            "standoff": 15
           },
           "zerolinecolor": "#EBF0F8",
           "zerolinewidth": 2
          }
         }
        },
        "title": {
         "text": "Energy & Electricity Use vs Total Degree Days Over Time (1949–2024)",
         "x": 0.5
        },
        "width": 1000,
        "xaxis": {
         "anchor": "y",
         "domain": [
          0,
          0.37
         ],
         "title": {
          "text": "Year"
         }
        },
        "xaxis2": {
         "anchor": "y3",
         "domain": [
          0.5700000000000001,
          0.9400000000000001
         ],
         "title": {
          "text": "Year"
         }
        },
        "yaxis": {
         "anchor": "x",
         "domain": [
          0,
          1
         ],
         "title": {
          "text": "Energy Use (Trillion Btu)"
         }
        },
        "yaxis2": {
         "anchor": "x",
         "overlaying": "y",
         "side": "right"
        },
        "yaxis3": {
         "anchor": "x2",
         "domain": [
          0,
          1
         ]
        },
        "yaxis4": {
         "anchor": "x2",
         "overlaying": "y3",
         "side": "right",
         "title": {
          "text": "Total Degree Days"
         }
        }
       }
      }
     },
     "metadata": {},
     "output_type": "display_data"
    }
   ],
   "source": [
    "# Plot energy use and degree days over years\n",
    "\n",
    "# Create subplot grid: 1 row x 2 columns\n",
    "fig = make_subplots(\n",
    "    rows=1, cols=2,\n",
    "    subplot_titles=(\"End-Use Energy\", \"Electricity Use\"),\n",
    "    specs=[[{\"secondary_y\": True}, {\"secondary_y\": True}]]\n",
    ")\n",
    "\n",
    "# ==== Left subplot: End-Use Energy vs Degree Days ====\n",
    "fig.add_trace(\n",
    "    go.Scatter(\n",
    "        x=df1_energy[\"Year\"],\n",
    "        y=df1_energy[\"TotEnergy_2EndUse\"],\n",
    "        mode=\"lines+markers\",\n",
    "        name=\"End-Use Energy\",\n",
    "        line=dict(color=\"blue\")\n",
    "    ),\n",
    "    row=1, col=1, secondary_y=False\n",
    ")\n",
    "\n",
    "fig.add_trace(\n",
    "    go.Scatter(\n",
    "        x=df1_energy[\"Year\"],\n",
    "        y=df1_energy[\"Total_DegreeDays\"],\n",
    "        mode=\"lines+markers\",\n",
    "        name=\"Total Degree Days\",\n",
    "        line=dict(color=\"red\", dash=\"dot\"),\n",
    "        showlegend=False\n",
    "    ),\n",
    "    row=1, col=1, secondary_y=True\n",
    ")\n",
    "\n",
    "# ==== Right subplot: Electricity Use vs Degree Days ====\n",
    "fig.add_trace(\n",
    "    go.Scatter(\n",
    "        x=df1_energy[\"Year\"],\n",
    "        y=df1_energy[\"TotElectricity_2Used\"],\n",
    "        mode=\"lines+markers\",\n",
    "        name=\"Electricity Use\",\n",
    "        line=dict(color=\"green\")\n",
    "    ),\n",
    "    row=1, col=2, secondary_y=False\n",
    ")\n",
    "\n",
    "fig.add_trace(\n",
    "    go.Scatter(\n",
    "        x=df1_energy[\"Year\"],\n",
    "        y=df1_energy[\"Total_DegreeDays\"],\n",
    "        mode=\"lines+markers\",\n",
    "        name=\"Total Degree Days\",\n",
    "        line=dict(color=\"red\", dash=\"dot\")  # dashed red so it stands out\n",
    "    ),\n",
    "    row=1, col=2, secondary_y=True\n",
    ")\n",
    "\n",
    "# Layout\n",
    "fig.update_layout(\n",
    "    title=dict(\n",
    "        text=\"Energy & Electricity Use vs Total Degree Days Over Time (1949–2024)\",\n",
    "        x=0.5\n",
    "    ),\n",
    "    template=\"plotly_white\",\n",
    "    width=1000, height=450,\n",
    "    legend=dict(orientation=\"h\", x=0.5, xanchor=\"center\", y=-0.2)\n",
    ")\n",
    "\n",
    "# Update axis titles\n",
    "fig.update_yaxes(title_text=\"Energy Use (Trillion Btu)\", row=1, col=1, secondary_y=False)\n",
    "# fig.update_yaxes(title_text=\"Total Degree Days\", row=1, col=1, secondary_y=True)\n",
    "\n",
    "# fig.update_yaxes(title_text=\"Electricity Use (Trillion Btu)\", row=1, col=2, secondary_y=False)\n",
    "fig.update_yaxes(title_text=\"Total Degree Days\", row=1, col=2, secondary_y=True)\n",
    "\n",
    "fig.update_xaxes(title_text=\"Year\", row=1, col=1)\n",
    "fig.update_xaxes(title_text=\"Year\", row=1, col=2)\n",
    "\n",
    "fig.show()\n"
   ]
  },
  {
   "cell_type": "markdown",
   "id": "ef5a8cfa",
   "metadata": {},
   "source": [
    "#### Predictive regression analysis\n",
    "Dependent variable (DV): Total end-use energy consumption; Total Electricity use\n",
    "\n",
    "Predictors (IV): GDP, Population, and total degree days"
   ]
  },
  {
   "cell_type": "code",
   "execution_count": null,
   "id": "caa4bb59",
   "metadata": {},
   "outputs": [
    {
     "name": "stdout",
     "output_type": "stream",
     "text": [
      "                      TotEnergy_2EndUse  TotElectricity_2Used  GDP_Real    POP_US  Total_DegreeDays\n",
      "TotEnergy_2EndUse              1.000000              0.959495  0.872774  0.930697         -0.684371\n",
      "TotElectricity_2Used           0.959495              1.000000  0.952358  0.984696         -0.778160\n",
      "GDP_Real                       0.872774              0.952358  1.000000  0.985212         -0.787429\n",
      "POP_US                         0.930697              0.984696  0.985212  1.000000         -0.779367\n",
      "Total_DegreeDays              -0.684371             -0.778160 -0.787429 -0.779367          1.000000\n"
     ]
    },
    {
     "data": {
      "application/vnd.plotly.v1+json": {
       "config": {
        "plotlyServerURL": "https://plot.ly"
       },
       "data": [
        {
         "coloraxis": "coloraxis",
         "hovertemplate": "x: %{x}<br>y: %{y}<br>color: %{z}<extra></extra>",
         "name": "0",
         "texttemplate": "%{z:.3f}",
         "type": "heatmap",
         "x": [
          "TotEnergy_2EndUse",
          "TotElectricity_2Used",
          "GDP_Real",
          "POP_US",
          "Total_DegreeDays"
         ],
         "xaxis": "x",
         "y": [
          "TotEnergy_2EndUse",
          "TotElectricity_2Used",
          "GDP_Real",
          "POP_US",
          "Total_DegreeDays"
         ],
         "yaxis": "y",
         "z": {
          "bdata": "AAAAAAAA8D+eWyWzL7TuPz6Q8FrD7es/jtxKOkXI7T8bTPlNXeblv55bJbMvtO4/AAAAAAAA8D8aruKqt3nuP9PdSuKggu8/LVT3k7Dm6L8+kPBaw+3rPxqu4qq3ee4/AAAAAAAA8D9945Sh24bvPydl7eKeMum/jtxKOkXI7T/T3UrioILvP33jlKHbhu8/AAAAAAAA8D+OOrXQkvDovxtM+U1d5uW/LVT3k7Dm6L8nZe3injLpv446tdCS8Oi/AAAAAAAA8D8=",
          "dtype": "f8",
          "shape": "5, 5"
         }
        }
       ],
       "layout": {
        "coloraxis": {
         "colorscale": [
          [
           0,
           "rgb(103,0,31)"
          ],
          [
           0.1,
           "rgb(178,24,43)"
          ],
          [
           0.2,
           "rgb(214,96,77)"
          ],
          [
           0.3,
           "rgb(244,165,130)"
          ],
          [
           0.4,
           "rgb(253,219,199)"
          ],
          [
           0.5,
           "rgb(247,247,247)"
          ],
          [
           0.6,
           "rgb(209,229,240)"
          ],
          [
           0.7,
           "rgb(146,197,222)"
          ],
          [
           0.8,
           "rgb(67,147,195)"
          ],
          [
           0.9,
           "rgb(33,102,172)"
          ],
          [
           1,
           "rgb(5,48,97)"
          ]
         ]
        },
        "template": {
         "data": {
          "bar": [
           {
            "error_x": {
             "color": "#2a3f5f"
            },
            "error_y": {
             "color": "#2a3f5f"
            },
            "marker": {
             "line": {
              "color": "#E5ECF6",
              "width": 0.5
             },
             "pattern": {
              "fillmode": "overlay",
              "size": 10,
              "solidity": 0.2
             }
            },
            "type": "bar"
           }
          ],
          "barpolar": [
           {
            "marker": {
             "line": {
              "color": "#E5ECF6",
              "width": 0.5
             },
             "pattern": {
              "fillmode": "overlay",
              "size": 10,
              "solidity": 0.2
             }
            },
            "type": "barpolar"
           }
          ],
          "carpet": [
           {
            "aaxis": {
             "endlinecolor": "#2a3f5f",
             "gridcolor": "white",
             "linecolor": "white",
             "minorgridcolor": "white",
             "startlinecolor": "#2a3f5f"
            },
            "baxis": {
             "endlinecolor": "#2a3f5f",
             "gridcolor": "white",
             "linecolor": "white",
             "minorgridcolor": "white",
             "startlinecolor": "#2a3f5f"
            },
            "type": "carpet"
           }
          ],
          "choropleth": [
           {
            "colorbar": {
             "outlinewidth": 0,
             "ticks": ""
            },
            "type": "choropleth"
           }
          ],
          "contour": [
           {
            "colorbar": {
             "outlinewidth": 0,
             "ticks": ""
            },
            "colorscale": [
             [
              0,
              "#0d0887"
             ],
             [
              0.1111111111111111,
              "#46039f"
             ],
             [
              0.2222222222222222,
              "#7201a8"
             ],
             [
              0.3333333333333333,
              "#9c179e"
             ],
             [
              0.4444444444444444,
              "#bd3786"
             ],
             [
              0.5555555555555556,
              "#d8576b"
             ],
             [
              0.6666666666666666,
              "#ed7953"
             ],
             [
              0.7777777777777778,
              "#fb9f3a"
             ],
             [
              0.8888888888888888,
              "#fdca26"
             ],
             [
              1,
              "#f0f921"
             ]
            ],
            "type": "contour"
           }
          ],
          "contourcarpet": [
           {
            "colorbar": {
             "outlinewidth": 0,
             "ticks": ""
            },
            "type": "contourcarpet"
           }
          ],
          "heatmap": [
           {
            "colorbar": {
             "outlinewidth": 0,
             "ticks": ""
            },
            "colorscale": [
             [
              0,
              "#0d0887"
             ],
             [
              0.1111111111111111,
              "#46039f"
             ],
             [
              0.2222222222222222,
              "#7201a8"
             ],
             [
              0.3333333333333333,
              "#9c179e"
             ],
             [
              0.4444444444444444,
              "#bd3786"
             ],
             [
              0.5555555555555556,
              "#d8576b"
             ],
             [
              0.6666666666666666,
              "#ed7953"
             ],
             [
              0.7777777777777778,
              "#fb9f3a"
             ],
             [
              0.8888888888888888,
              "#fdca26"
             ],
             [
              1,
              "#f0f921"
             ]
            ],
            "type": "heatmap"
           }
          ],
          "histogram": [
           {
            "marker": {
             "pattern": {
              "fillmode": "overlay",
              "size": 10,
              "solidity": 0.2
             }
            },
            "type": "histogram"
           }
          ],
          "histogram2d": [
           {
            "colorbar": {
             "outlinewidth": 0,
             "ticks": ""
            },
            "colorscale": [
             [
              0,
              "#0d0887"
             ],
             [
              0.1111111111111111,
              "#46039f"
             ],
             [
              0.2222222222222222,
              "#7201a8"
             ],
             [
              0.3333333333333333,
              "#9c179e"
             ],
             [
              0.4444444444444444,
              "#bd3786"
             ],
             [
              0.5555555555555556,
              "#d8576b"
             ],
             [
              0.6666666666666666,
              "#ed7953"
             ],
             [
              0.7777777777777778,
              "#fb9f3a"
             ],
             [
              0.8888888888888888,
              "#fdca26"
             ],
             [
              1,
              "#f0f921"
             ]
            ],
            "type": "histogram2d"
           }
          ],
          "histogram2dcontour": [
           {
            "colorbar": {
             "outlinewidth": 0,
             "ticks": ""
            },
            "colorscale": [
             [
              0,
              "#0d0887"
             ],
             [
              0.1111111111111111,
              "#46039f"
             ],
             [
              0.2222222222222222,
              "#7201a8"
             ],
             [
              0.3333333333333333,
              "#9c179e"
             ],
             [
              0.4444444444444444,
              "#bd3786"
             ],
             [
              0.5555555555555556,
              "#d8576b"
             ],
             [
              0.6666666666666666,
              "#ed7953"
             ],
             [
              0.7777777777777778,
              "#fb9f3a"
             ],
             [
              0.8888888888888888,
              "#fdca26"
             ],
             [
              1,
              "#f0f921"
             ]
            ],
            "type": "histogram2dcontour"
           }
          ],
          "mesh3d": [
           {
            "colorbar": {
             "outlinewidth": 0,
             "ticks": ""
            },
            "type": "mesh3d"
           }
          ],
          "parcoords": [
           {
            "line": {
             "colorbar": {
              "outlinewidth": 0,
              "ticks": ""
             }
            },
            "type": "parcoords"
           }
          ],
          "pie": [
           {
            "automargin": true,
            "type": "pie"
           }
          ],
          "scatter": [
           {
            "fillpattern": {
             "fillmode": "overlay",
             "size": 10,
             "solidity": 0.2
            },
            "type": "scatter"
           }
          ],
          "scatter3d": [
           {
            "line": {
             "colorbar": {
              "outlinewidth": 0,
              "ticks": ""
             }
            },
            "marker": {
             "colorbar": {
              "outlinewidth": 0,
              "ticks": ""
             }
            },
            "type": "scatter3d"
           }
          ],
          "scattercarpet": [
           {
            "marker": {
             "colorbar": {
              "outlinewidth": 0,
              "ticks": ""
             }
            },
            "type": "scattercarpet"
           }
          ],
          "scattergeo": [
           {
            "marker": {
             "colorbar": {
              "outlinewidth": 0,
              "ticks": ""
             }
            },
            "type": "scattergeo"
           }
          ],
          "scattergl": [
           {
            "marker": {
             "colorbar": {
              "outlinewidth": 0,
              "ticks": ""
             }
            },
            "type": "scattergl"
           }
          ],
          "scattermap": [
           {
            "marker": {
             "colorbar": {
              "outlinewidth": 0,
              "ticks": ""
             }
            },
            "type": "scattermap"
           }
          ],
          "scattermapbox": [
           {
            "marker": {
             "colorbar": {
              "outlinewidth": 0,
              "ticks": ""
             }
            },
            "type": "scattermapbox"
           }
          ],
          "scatterpolar": [
           {
            "marker": {
             "colorbar": {
              "outlinewidth": 0,
              "ticks": ""
             }
            },
            "type": "scatterpolar"
           }
          ],
          "scatterpolargl": [
           {
            "marker": {
             "colorbar": {
              "outlinewidth": 0,
              "ticks": ""
             }
            },
            "type": "scatterpolargl"
           }
          ],
          "scatterternary": [
           {
            "marker": {
             "colorbar": {
              "outlinewidth": 0,
              "ticks": ""
             }
            },
            "type": "scatterternary"
           }
          ],
          "surface": [
           {
            "colorbar": {
             "outlinewidth": 0,
             "ticks": ""
            },
            "colorscale": [
             [
              0,
              "#0d0887"
             ],
             [
              0.1111111111111111,
              "#46039f"
             ],
             [
              0.2222222222222222,
              "#7201a8"
             ],
             [
              0.3333333333333333,
              "#9c179e"
             ],
             [
              0.4444444444444444,
              "#bd3786"
             ],
             [
              0.5555555555555556,
              "#d8576b"
             ],
             [
              0.6666666666666666,
              "#ed7953"
             ],
             [
              0.7777777777777778,
              "#fb9f3a"
             ],
             [
              0.8888888888888888,
              "#fdca26"
             ],
             [
              1,
              "#f0f921"
             ]
            ],
            "type": "surface"
           }
          ],
          "table": [
           {
            "cells": {
             "fill": {
              "color": "#EBF0F8"
             },
             "line": {
              "color": "white"
             }
            },
            "header": {
             "fill": {
              "color": "#C8D4E3"
             },
             "line": {
              "color": "white"
             }
            },
            "type": "table"
           }
          ]
         },
         "layout": {
          "annotationdefaults": {
           "arrowcolor": "#2a3f5f",
           "arrowhead": 0,
           "arrowwidth": 1
          },
          "autotypenumbers": "strict",
          "coloraxis": {
           "colorbar": {
            "outlinewidth": 0,
            "ticks": ""
           }
          },
          "colorscale": {
           "diverging": [
            [
             0,
             "#8e0152"
            ],
            [
             0.1,
             "#c51b7d"
            ],
            [
             0.2,
             "#de77ae"
            ],
            [
             0.3,
             "#f1b6da"
            ],
            [
             0.4,
             "#fde0ef"
            ],
            [
             0.5,
             "#f7f7f7"
            ],
            [
             0.6,
             "#e6f5d0"
            ],
            [
             0.7,
             "#b8e186"
            ],
            [
             0.8,
             "#7fbc41"
            ],
            [
             0.9,
             "#4d9221"
            ],
            [
             1,
             "#276419"
            ]
           ],
           "sequential": [
            [
             0,
             "#0d0887"
            ],
            [
             0.1111111111111111,
             "#46039f"
            ],
            [
             0.2222222222222222,
             "#7201a8"
            ],
            [
             0.3333333333333333,
             "#9c179e"
            ],
            [
             0.4444444444444444,
             "#bd3786"
            ],
            [
             0.5555555555555556,
             "#d8576b"
            ],
            [
             0.6666666666666666,
             "#ed7953"
            ],
            [
             0.7777777777777778,
             "#fb9f3a"
            ],
            [
             0.8888888888888888,
             "#fdca26"
            ],
            [
             1,
             "#f0f921"
            ]
           ],
           "sequentialminus": [
            [
             0,
             "#0d0887"
            ],
            [
             0.1111111111111111,
             "#46039f"
            ],
            [
             0.2222222222222222,
             "#7201a8"
            ],
            [
             0.3333333333333333,
             "#9c179e"
            ],
            [
             0.4444444444444444,
             "#bd3786"
            ],
            [
             0.5555555555555556,
             "#d8576b"
            ],
            [
             0.6666666666666666,
             "#ed7953"
            ],
            [
             0.7777777777777778,
             "#fb9f3a"
            ],
            [
             0.8888888888888888,
             "#fdca26"
            ],
            [
             1,
             "#f0f921"
            ]
           ]
          },
          "colorway": [
           "#636efa",
           "#EF553B",
           "#00cc96",
           "#ab63fa",
           "#FFA15A",
           "#19d3f3",
           "#FF6692",
           "#B6E880",
           "#FF97FF",
           "#FECB52"
          ],
          "font": {
           "color": "#2a3f5f"
          },
          "geo": {
           "bgcolor": "white",
           "lakecolor": "white",
           "landcolor": "#E5ECF6",
           "showlakes": true,
           "showland": true,
           "subunitcolor": "white"
          },
          "hoverlabel": {
           "align": "left"
          },
          "hovermode": "closest",
          "mapbox": {
           "style": "light"
          },
          "paper_bgcolor": "white",
          "plot_bgcolor": "#E5ECF6",
          "polar": {
           "angularaxis": {
            "gridcolor": "white",
            "linecolor": "white",
            "ticks": ""
           },
           "bgcolor": "#E5ECF6",
           "radialaxis": {
            "gridcolor": "white",
            "linecolor": "white",
            "ticks": ""
           }
          },
          "scene": {
           "xaxis": {
            "backgroundcolor": "#E5ECF6",
            "gridcolor": "white",
            "gridwidth": 2,
            "linecolor": "white",
            "showbackground": true,
            "ticks": "",
            "zerolinecolor": "white"
           },
           "yaxis": {
            "backgroundcolor": "#E5ECF6",
            "gridcolor": "white",
            "gridwidth": 2,
            "linecolor": "white",
            "showbackground": true,
            "ticks": "",
            "zerolinecolor": "white"
           },
           "zaxis": {
            "backgroundcolor": "#E5ECF6",
            "gridcolor": "white",
            "gridwidth": 2,
            "linecolor": "white",
            "showbackground": true,
            "ticks": "",
            "zerolinecolor": "white"
           }
          },
          "shapedefaults": {
           "line": {
            "color": "#2a3f5f"
           }
          },
          "ternary": {
           "aaxis": {
            "gridcolor": "white",
            "linecolor": "white",
            "ticks": ""
           },
           "baxis": {
            "gridcolor": "white",
            "linecolor": "white",
            "ticks": ""
           },
           "bgcolor": "#E5ECF6",
           "caxis": {
            "gridcolor": "white",
            "linecolor": "white",
            "ticks": ""
           }
          },
          "title": {
           "x": 0.05
          },
          "xaxis": {
           "automargin": true,
           "gridcolor": "white",
           "linecolor": "white",
           "ticks": "",
           "title": {
            "standoff": 15
           },
           "zerolinecolor": "white",
           "zerolinewidth": 2
          },
          "yaxis": {
           "automargin": true,
           "gridcolor": "white",
           "linecolor": "white",
           "ticks": "",
           "title": {
            "standoff": 15
           },
           "zerolinecolor": "white",
           "zerolinewidth": 2
          }
         }
        },
        "title": {
         "text": "Correlation Matrix Heatmap"
        },
        "xaxis": {
         "anchor": "y",
         "domain": [
          0,
          1
         ]
        },
        "yaxis": {
         "anchor": "x",
         "autorange": "reversed",
         "domain": [
          0,
          1
         ]
        }
       }
      }
     },
     "metadata": {},
     "output_type": "display_data"
    }
   ],
   "source": [
    "# Correlation matrix \n",
    "corr_matrix = df1_energy[[\"TotEnergy_2EndUse\", \"TotElectricity_2Used\", \"GDP_Real\", \n",
    "    \"POP_US\", \"Total_DegreeDays\"]].corr()\n",
    "print(corr_matrix)\n",
    "\n",
    "# Note: R of between GDP and population is 0.985, very high, indicating potential multicollinearity.\n",
    "# Both GDP and population also have a high correlation with total energy/electricity consumptions, \n",
    "# which could confound analyses.\n",
    "\n",
    "# Heatmap of correlation matrix\n",
    "fig = px.imshow(\n",
    "    corr_matrix,\n",
    "    text_auto='.3f',\n",
    "    aspect=\"auto\",\n",
    "    color_continuous_scale=px.colors.diverging.RdBu,\n",
    "    title=\"Correlation Matrix Heatmap\"\n",
    ")\n",
    "fig.show()"
   ]
  },
  {
   "cell_type": "code",
   "execution_count": null,
   "id": "f715ca26",
   "metadata": {},
   "outputs": [
    {
     "name": "stdout",
     "output_type": "stream",
     "text": [
      "            Feature          VIF\n",
      "0             const  1362.875691\n",
      "1          GDP_Real    35.236421\n",
      "2            POP_US    34.102632\n",
      "3  Total_DegreeDays     2.634921\n"
     ]
    }
   ],
   "source": [
    "# Check Variance Inflation Factor (VIF): multicollinearity among predictors\n",
    "# VIF > 5-10 indicates high multicollinearity \n",
    "# The VIFs for GDP and population are 35.2 and 34.1, respectively, indicating severe multicollinearity.\n",
    "\n",
    "from statsmodels.stats.outliers_influence import variance_inflation_factor\n",
    "from statsmodels.tools.tools import add_constant\n",
    "\n",
    "X = add_constant(df1_energy[[\"GDP_Real\", \"POP_US\", \"Total_DegreeDays\"]])\n",
    "vif = pd.DataFrame()\n",
    "vif[\"Feature\"] = X.columns\n",
    "vif[\"VIF\"] = [variance_inflation_factor(X.values, i) for i in range(X.shape[1])]\n",
    "print(vif)"
   ]
  },
  {
   "cell_type": "markdown",
   "id": "fcd2d59c",
   "metadata": {},
   "source": [
    "##### Regression model: 1949-2024"
   ]
  },
  {
   "cell_type": "code",
   "execution_count": null,
   "id": "439074ab",
   "metadata": {},
   "outputs": [],
   "source": [
    "# 1-1. Select independent and dependent variables\n",
    "X = df1_energy[[\"GDP_Real\", \"POP_US\", \"Total_DegreeDays\"]]\n",
    "\n",
    "# Add constant for intercept\n",
    "# import statsmodels.api as sm\n",
    "X = sm.add_constant(X)"
   ]
  },
  {
   "cell_type": "code",
   "execution_count": null,
   "id": "eb9e9607",
   "metadata": {},
   "outputs": [
    {
     "name": "stdout",
     "output_type": "stream",
     "text": [
      "Regression: Total Energy Consumption ~ GDP + Population + Total Degree Days\n",
      "                            OLS Regression Results                            \n",
      "==============================================================================\n",
      "Dep. Variable:      TotEnergy_2EndUse   R-squared:                       0.933\n",
      "Model:                            OLS   Adj. R-squared:                  0.930\n",
      "Method:                 Least Squares   F-statistic:                     334.1\n",
      "Date:                Thu, 21 Aug 2025   Prob (F-statistic):           3.67e-42\n",
      "Time:                        08:56:19   Log-Likelihood:                -729.48\n",
      "No. Observations:                  76   AIC:                             1467.\n",
      "Df Residuals:                      72   BIC:                             1476.\n",
      "Df Model:                           3                                         \n",
      "Covariance Type:            nonrobust                                         \n",
      "====================================================================================\n",
      "                       coef    std err          t      P>|t|      [0.025      0.975]\n",
      "------------------------------------------------------------------------------------\n",
      "const            -6.037e+04   1.55e+04     -3.890      0.000   -9.13e+04   -2.94e+04\n",
      "GDP_Real            -3.3267      0.406     -8.194      0.000      -4.136      -2.517\n",
      "POP_US             594.6106     43.844     13.562      0.000     507.209     682.012\n",
      "Total_DegreeDays     1.3325      2.174      0.613      0.542      -3.002       5.667\n",
      "==============================================================================\n",
      "Omnibus:                        2.409   Durbin-Watson:                   0.428\n",
      "Prob(Omnibus):                  0.300   Jarque-Bera (JB):                1.544\n",
      "Skew:                          -0.058   Prob(JB):                        0.462\n",
      "Kurtosis:                       2.311   Cond. No.                     4.83e+05\n",
      "==============================================================================\n",
      "\n",
      "Notes:\n",
      "[1] Standard Errors assume that the covariance matrix of the errors is correctly specified.\n",
      "[2] The condition number is large, 4.83e+05. This might indicate that there are\n",
      "strong multicollinearity or other numerical problems.\n"
     ]
    }
   ],
   "source": [
    "# Dependent variable: Total end-use energy consumption\n",
    "y_energy = df1_energy[\"TotEnergy_2EndUse\"]\n",
    "\n",
    "# Fit model\n",
    "model_energy = sm.OLS(y_energy, X).fit()\n",
    "\n",
    "# Summary\n",
    "print(\"Regression: Total Energy Consumption ~ GDP + Population + Total Degree Days\")\n",
    "print(model_energy.summary())\n",
    "\n",
    "# Note: The regression coefficient for GDP_Real is 'negative' (-3.3267). However, the scatter plot shows \n",
    "# a 'positive' relationship, suggesting potential issues with multicollinearity or model specification."
   ]
  },
  {
   "cell_type": "code",
   "execution_count": null,
   "id": "70b97361",
   "metadata": {},
   "outputs": [
    {
     "name": "stdout",
     "output_type": "stream",
     "text": [
      "                            OLS Regression Results                            \n",
      "==============================================================================\n",
      "Dep. Variable:      TotEnergy_2EndUse   R-squared:                       0.762\n",
      "Model:                            OLS   Adj. R-squared:                  0.759\n",
      "Method:                 Least Squares   F-statistic:                     236.6\n",
      "Date:                Sun, 24 Aug 2025   Prob (F-statistic):           9.43e-25\n",
      "Time:                        04:16:55   Log-Likelihood:                -777.68\n",
      "No. Observations:                  76   AIC:                             1559.\n",
      "Df Residuals:                      74   BIC:                             1564.\n",
      "Df Model:                           1                                         \n",
      "Covariance Type:            nonrobust                                         \n",
      "==============================================================================\n",
      "                 coef    std err          t      P>|t|      [0.025      0.975]\n",
      "------------------------------------------------------------------------------\n",
      "const       3.907e+04   1531.830     25.507      0.000     3.6e+04    4.21e+04\n",
      "GDP_Real       1.9565      0.127     15.381      0.000       1.703       2.210\n",
      "==============================================================================\n",
      "Omnibus:                        9.865   Durbin-Watson:                   0.052\n",
      "Prob(Omnibus):                  0.007   Jarque-Bera (JB):                4.606\n",
      "Skew:                          -0.368   Prob(JB):                        0.100\n",
      "Kurtosis:                       2.045   Cond. No.                     2.36e+04\n",
      "==============================================================================\n",
      "\n",
      "Notes:\n",
      "[1] Standard Errors assume that the covariance matrix of the errors is correctly specified.\n",
      "[2] The condition number is large, 2.36e+04. This might indicate that there are\n",
      "strong multicollinearity or other numerical problems.\n"
     ]
    }
   ],
   "source": [
    "# 1-2. Only GDP as IV. The regression coefficient for GDP_Real becomes 'positive' (1.9565), \n",
    "# aligning with the scatter plot's indication of a 'positive' relationship.\n",
    "\n",
    "X = df1_energy[[\"GDP_Real\"]]\n",
    "X = sm.add_constant(X)\n",
    "y = df1_energy[\"TotEnergy_2EndUse\"]\n",
    "model = sm.OLS(y, X).fit()\n",
    "print(model.summary())"
   ]
  },
  {
   "cell_type": "code",
   "execution_count": null,
   "id": "ce09e4b4",
   "metadata": {},
   "outputs": [
    {
     "name": "stdout",
     "output_type": "stream",
     "text": [
      "                            OLS Regression Results                            \n",
      "==============================================================================\n",
      "Dep. Variable:      TotEnergy_2EndUse   R-squared:                       0.866\n",
      "Model:                            OLS   Adj. R-squared:                  0.864\n",
      "Method:                 Least Squares   F-statistic:                     479.1\n",
      "Date:                Sun, 24 Aug 2025   Prob (F-statistic):           4.74e-34\n",
      "Time:                        07:47:31   Log-Likelihood:                -755.75\n",
      "No. Observations:                  76   AIC:                             1516.\n",
      "Df Residuals:                      74   BIC:                             1520.\n",
      "Df Model:                           1                                         \n",
      "Covariance Type:            nonrobust                                         \n",
      "==============================================================================\n",
      "                 coef    std err          t      P>|t|      [0.025      0.975]\n",
      "------------------------------------------------------------------------------\n",
      "const       2989.8367   2640.102      1.132      0.261   -2270.682    8250.355\n",
      "POP_US       229.0189     10.464     21.887      0.000     208.170     249.868\n",
      "==============================================================================\n",
      "Omnibus:                       14.224   Durbin-Watson:                   0.125\n",
      "Prob(Omnibus):                  0.001   Jarque-Bera (JB):                3.923\n",
      "Skew:                           0.109   Prob(JB):                        0.141\n",
      "Kurtosis:                       1.909   Cond. No.                     1.14e+03\n",
      "==============================================================================\n",
      "\n",
      "Notes:\n",
      "[1] Standard Errors assume that the covariance matrix of the errors is correctly specified.\n",
      "[2] The condition number is large, 1.14e+03. This might indicate that there are\n",
      "strong multicollinearity or other numerical problems.\n"
     ]
    }
   ],
   "source": [
    "# 1-3. IV = Population (POP_US); DV = TotEnergy_2EndUse\n",
    "\n",
    "X = df1_energy[[\"POP_US\"]]\n",
    "X = sm.add_constant(X)\n",
    "y = df1_energy[\"TotEnergy_2EndUse\"]\n",
    "model = sm.OLS(y, X).fit()\n",
    "print(model.summary())"
   ]
  },
  {
   "cell_type": "code",
   "execution_count": null,
   "id": "5a241246",
   "metadata": {},
   "outputs": [
    {
     "name": "stdout",
     "output_type": "stream",
     "text": [
      "Regression: Total Electricity Use ~ GDP + Population + Total Degree Days\n",
      "                             OLS Regression Results                             \n",
      "================================================================================\n",
      "Dep. Variable:     TotElectricity_2Used   R-squared:                       0.982\n",
      "Model:                              OLS   Adj. R-squared:                  0.981\n",
      "Method:                   Least Squares   F-statistic:                     1290.\n",
      "Date:                  Thu, 21 Aug 2025   Prob (F-statistic):           1.78e-62\n",
      "Time:                          08:58:36   Log-Likelihood:                -589.85\n",
      "No. Observations:                    76   AIC:                             1188.\n",
      "Df Residuals:                        72   BIC:                             1197.\n",
      "Df Model:                             3                                         \n",
      "Covariance Type:              nonrobust                                         \n",
      "====================================================================================\n",
      "                       coef    std err          t      P>|t|      [0.025      0.975]\n",
      "------------------------------------------------------------------------------------\n",
      "const            -1.182e+04   2471.474     -4.783      0.000   -1.67e+04   -6894.119\n",
      "GDP_Real            -0.4412      0.065     -6.824      0.000      -0.570      -0.312\n",
      "POP_US             118.1520      6.982     16.922      0.000     104.233     132.071\n",
      "Total_DegreeDays    -0.7968      0.346     -2.301      0.024      -1.487      -0.107\n",
      "==============================================================================\n",
      "Omnibus:                        3.407   Durbin-Watson:                   0.441\n",
      "Prob(Omnibus):                  0.182   Jarque-Bera (JB):                2.258\n",
      "Skew:                          -0.226   Prob(JB):                        0.323\n",
      "Kurtosis:                       2.287   Cond. No.                     4.83e+05\n",
      "==============================================================================\n",
      "\n",
      "Notes:\n",
      "[1] Standard Errors assume that the covariance matrix of the errors is correctly specified.\n",
      "[2] The condition number is large, 4.83e+05. This might indicate that there are\n",
      "strong multicollinearity or other numerical problems.\n"
     ]
    }
   ],
   "source": [
    "# 2-1. IV = GDP + Population + Total Degree Days; DV = Total Electricity use\n",
    "y_electricity = df1_energy[\"TotElectricity_2Used\"]\n",
    "\n",
    "# Fit model\n",
    "model_elec = sm.OLS(y_electricity, X).fit()\n",
    "\n",
    "# Summary\n",
    "print(\"Regression: Total Electricity Use ~ GDP + Population + Total Degree Days\")\n",
    "print(model_elec.summary())\n"
   ]
  },
  {
   "cell_type": "code",
   "execution_count": null,
   "id": "42d7ae7d",
   "metadata": {},
   "outputs": [
    {
     "name": "stdout",
     "output_type": "stream",
     "text": [
      "                             OLS Regression Results                             \n",
      "================================================================================\n",
      "Dep. Variable:     TotElectricity_2Used   R-squared:                       0.907\n",
      "Model:                              OLS   Adj. R-squared:                  0.906\n",
      "Method:                   Least Squares   F-statistic:                     721.6\n",
      "Date:                  Sun, 24 Aug 2025   Prob (F-statistic):           6.65e-40\n",
      "Time:                          08:01:45   Log-Likelihood:                -651.70\n",
      "No. Observations:                    76   AIC:                             1307.\n",
      "Df Residuals:                        74   BIC:                             1312.\n",
      "Df Model:                             1                                         \n",
      "Covariance Type:              nonrobust                                         \n",
      "==============================================================================\n",
      "                 coef    std err          t      P>|t|      [0.025      0.975]\n",
      "------------------------------------------------------------------------------\n",
      "const       1228.6182    291.963      4.208      0.000     646.870    1810.366\n",
      "GDP_Real       0.6513      0.024     26.862      0.000       0.603       0.700\n",
      "==============================================================================\n",
      "Omnibus:                       21.013   Durbin-Watson:                   0.021\n",
      "Prob(Omnibus):                  0.000   Jarque-Bera (JB):                6.646\n",
      "Skew:                          -0.437   Prob(JB):                       0.0361\n",
      "Kurtosis:                       1.845   Cond. No.                     2.36e+04\n",
      "==============================================================================\n",
      "\n",
      "Notes:\n",
      "[1] Standard Errors assume that the covariance matrix of the errors is correctly specified.\n",
      "[2] The condition number is large, 2.36e+04. This might indicate that there are\n",
      "strong multicollinearity or other numerical problems.\n"
     ]
    }
   ],
   "source": [
    "# 2-2. IV = GDP_Real; DV = TotElectricity_2Used\n",
    "\n",
    "X = df1_energy[[\"GDP_Real\"]]\n",
    "X = sm.add_constant(X)\n",
    "y = df1_energy[\"TotElectricity_2Used\"]\n",
    "model = sm.OLS(y, X).fit()\n",
    "print(model.summary())"
   ]
  },
  {
   "cell_type": "code",
   "execution_count": null,
   "id": "6650a4e6",
   "metadata": {},
   "outputs": [
    {
     "name": "stdout",
     "output_type": "stream",
     "text": [
      "                             OLS Regression Results                             \n",
      "================================================================================\n",
      "Dep. Variable:     TotElectricity_2Used   R-squared:                       0.970\n",
      "Model:                              OLS   Adj. R-squared:                  0.969\n",
      "Method:                   Least Squares   F-statistic:                     2362.\n",
      "Date:                  Sun, 24 Aug 2025   Prob (F-statistic):           6.68e-58\n",
      "Time:                          08:01:52   Log-Likelihood:                -609.17\n",
      "No. Observations:                    76   AIC:                             1222.\n",
      "Df Residuals:                        74   BIC:                             1227.\n",
      "Df Model:                             1                                         \n",
      "Covariance Type:              nonrobust                                         \n",
      "==============================================================================\n",
      "                 coef    std err          t      P>|t|      [0.025      0.975]\n",
      "------------------------------------------------------------------------------\n",
      "const      -1.021e+04    383.718    -26.613      0.000    -1.1e+04   -9447.432\n",
      "POP_US        73.9160      1.521     48.603      0.000      70.886      76.946\n",
      "==============================================================================\n",
      "Omnibus:                       17.345   Durbin-Watson:                   0.072\n",
      "Prob(Omnibus):                  0.000   Jarque-Bera (JB):                5.341\n",
      "Skew:                          -0.329   Prob(JB):                       0.0692\n",
      "Kurtosis:                       1.880   Cond. No.                     1.14e+03\n",
      "==============================================================================\n",
      "\n",
      "Notes:\n",
      "[1] Standard Errors assume that the covariance matrix of the errors is correctly specified.\n",
      "[2] The condition number is large, 1.14e+03. This might indicate that there are\n",
      "strong multicollinearity or other numerical problems.\n"
     ]
    }
   ],
   "source": [
    "# 2-3. IV = POP_US; DV = TotElectricity_2Used\n",
    "\n",
    "X = df1_energy[[\"POP_US\"]]\n",
    "X = sm.add_constant(X)\n",
    "y = df1_energy[\"TotElectricity_2Used\"]\n",
    "model = sm.OLS(y, X).fit()\n",
    "print(model.summary())"
   ]
  },
  {
   "cell_type": "code",
   "execution_count": null,
   "id": "a0eb39d5",
   "metadata": {},
   "outputs": [
    {
     "data": {
      "application/vnd.plotly.v1+json": {
       "config": {
        "plotlyServerURL": "https://plot.ly"
       },
       "data": [
        {
         "mode": "markers",
         "name": "Energy",
         "type": "scatter",
         "x": {
          "bdata": "SOF6FJ7F20D0/dR4SSPeQB+F61FIGOBAJQaBlUvL30DpJjEIlDjgQOF6FK43fN9AexSuRxVH4UAOLbKdN+HhQLpJDALbzeFAzczMzOzE4UAK16NwTXbiQHnpJjGAJONAxSCwcshf40BEi2znCzTkQOF6FK6z4+RAL90kBpm35UAfhetRpIvmQB1aZDuLq+dAokW2891g6EBQjZdu/q7pQBBYObQgzepA9P3UeF1860Bg5dAiw+XrQJZDi2y3He1AXI/C9ewk7kB/arx05zTtQH9qvHTvH+xArBxaZMur7UCiRbbzeUTuQGZmZmb+3e5A+n5qvOA070C+nxovsbntQIGVQ4u4xuxAIbByaPFr60CkcD0K9yfrQC/dJAbVquxARrbz/cxs7EBqvHSTrIfsQMP1KFxDfO1ANV66SYzc7kAdWmQ7OzLvQFYOLbKt1+5AcT0K1/O57kCwcmiRQXPvQArXo3B50O9AZmZmZhpA8EACK4cW2YbwQARWDi0SFvFAnMQgsEoq8UB7FK5HdwrxQLbz/dTwSvFACtejcL2l8UCDwMqh1TDxQM/3U+PzaPFAWDm0yCKB8UDTTWIQsurxQLx0kxj4zvFA+n5qvKSx8UAbL90kiujxQDvfT40XdfFA5/up8bah8EAUrkfh/EDxQCcxCKxwK/FAvHSTGBbM8EApXI/CH2/xQMdLN4mNrvFAUrgehfWi8UBeukkM7qrxQCPb+X6Yz/FA8KfGS5OR8kAtsp3vp53yQA4tsp1dDPFAbef7qe8D8kBg5dAiQVvyQO58PzVoPfJAzczMzEJN8kA=",
          "dtype": "f8"
         },
         "xaxis": "x",
         "y": {
          "bdata": "wBrGD+ov3EAqcazuhZvdQKUaO/Urit5AS7rYU6ai30DrWzTlYSTgQIBEfgLBG+FAjFDOSjrW4UDhdoPUCW7iQD7Hk5mNLuNAtmygEgBN5EALGIe5aqjkQHa9vjY6d+VAacZn/I0K5kCI2mQ5gJrmQDrvo0MmJOdAWa9ZtQxf50D+n8zE8qTnQG5X2uOV8OdAKuBU1DY56EBmH+YAeXvoQE3vE1DK3ehATwI2Ju+H6UARYtuiw+DpQLSqZB1CIupAwfB0ro3x6UBoHqyemJLqQDCTdwk0Q+tAAihIpbxo60DFll6AaJ/rQP6jAh1x6+tAGlRYUG8S7EASUKT0ncrsQK0I0zyB8exARt8mUtPQ7UAdOqe6bfLtQMJ2KOHOhO1ATjkwNKCi7UDcgzIfwZftQHEeEDMQw+1A/uWKg1L/7UAE80E5EgzuQE76FM0xKO5AWPNHlb5S70C2cRtdb7zvQHS1V7cgRPBAd9ve/+dP8ECUFzFhspHwQDvqaF2JsPBALP+uaDWp8EAm43Wy4pXwQD8/4459jvBAUsRSOCyk8EBOsv2UZt7wQH6jOVwdHvFAfZNBl48u8UBnUunx9gbxQEFBzLEPCvFADMrEYzn98EDkaDyIdzbxQKS+dEkDqPFAFmwR5Zdh8kCz7ESRXHPyQNjKXkjphvJAjuJAOnFc8kAG9+ZsyYvyQBsk5NhhivJAAFUIqh1Z8kAdMBGDDVzyQN5ZRNBMOfJA0kbSuToy8kAC5AP1pvjxQNh1nHSctPJADs2i6XPH8UC+99GMBL3xQPU+OZiNdfFAP6xhFAlw8UA=",
          "dtype": "f8"
         },
         "yaxis": "y"
        },
        {
         "line": {
          "color": "red",
          "dash": "dash"
         },
         "mode": "lines",
         "showlegend": false,
         "type": "scatter",
         "x": [
          28438.47,
          76250.496
         ],
         "xaxis": "x",
         "y": [
          28438.47,
          76250.496
         ],
         "yaxis": "y"
        },
        {
         "mode": "markers",
         "name": "Electricity",
         "type": "scatter",
         "x": {
          "bdata": "oBov3SQji0AK16NwPROPQE5iEFi5m5FAgZVDi+z8kkAhsHJokR+VQHNoke38nJZAVg4tsp17mkBCYOXQoh+dQG8Sg8DKsp5ALbKd7ydXn0AnMQisXD6hQOkmMQhsV6JADAIrh5Y+o0CkcD0KV7qkQJhuEoPAMaZA+n5qvLTip0DFILByqGypQH9qvHTTl6tAK4cW2Q5NrUAEVg4tMgiwQIGVQ4vMgrFA/tR46YaOskAEVg4tEpazQKabxCCwQrVAuB6F63HUtkAnMQisnLy2QJzEILASSbdAmpmZmRm6uEArhxbZzve5QGZmZmYm5bpApHA9Cpeau0D2KFyPQuq7QNejcD3qnbxAppvEIPDOu0DfT42XDqu8QI2XbhIjd75AGy/dJGb5vkDD9ShcL5K/QAaBlUMbYMBAJzEIrCwuwUCgGi/ddKPBQJMYBFaeE8JAMQisHPpnwkC+nxovTWrCQOF6FK6nEcNAvp8aL12Ow0BvEoPAqhTEQClcj8KFqsRATmIQWGn2xECkcD0Kx8DFQPhT46VrEsZAhetRuO7MxkBeukkM8p7GQClcj8IVGMdADi2ynU9Ix0AAAAAAAKTHQM3MzMycZchAbef7qeF0yEBKDAIrVxbJQPp+arwk4shAuB6F6yH4x0BQjZduwgXJQM3MzMw8/chA9ihcjxKfyEBaZDvfn9LIQLx0kxiUFslA8KfGS9cMyUBQjZduwhLJQPhT46UL0MhA7FG4HsW3yUD2KFyP0mXJQNejcD1axshAqvHSTdJcyUCmm8QgwCvKQOXQItt50clARIts5/tmykA=",
          "dtype": "f8"
         },
         "xaxis": "x2",
         "y": {
          "bdata": "AECNI/wy2r/A2LWb2SJeQMDVcJT4yXJASJQYyJAohEDESbKZqzGSQDwGZ9cXEJVAuGyfRfzKlEDcfF9m9iadQAgVbI1TmKFAlrU/CGgTokB6RRjGEjGlQNCqbgekhqZABtfcy9tqqkBOnG1SATmrQJw4KZ4q66xA1KnBDsktsEAEaI6wD7iwQGb8eZsJwrBAMScR/AELskBvRuPJtjeyQI241bI5jrJAtVVJK2O5s0Dx1OLvxDa1QPp8grcuUrVAjdYO503VtkC4kQAji9a3QJRAQTreirhAEA5kzS1xuEBf+Doo16+4QLYCVXb4MbhANEAC7wD5uUDacp6MKJi6QAeJ5Q38X7xAwHX2yQGMvUAs+8Wd1Z+9QChGcPiaH75AMIyM90E1vkDgkZTv/ay/QEmUIqo3BcBAOJVKkppcv0ANpY2yugfAQDmguN2DecFAi2XmGPjhwUCyh3mSNnTCQMzQmi4yVsJAykiq58AIw0BTv9CwVVnDQKwOO7/FmMNAF8TFzLMxxECOlxETzPnEQGBIBJpPC8VArr6O9nb6xECv8h53bNfFQEiVzdNc6MVAt/WxTyP+xUAL8ePSWIPGQAsntQH/ZcZAZDRCCmQ1x0DujzXbkCrHQCMeYJcOo8dAU/ZuQ0S4yEAFE3tQ2JvIQBxZ6P34H8lA+joWPswZykCobEIneX/JQKF+NBi1hMlAeQ7eO3sDykCKv/gBeHbKQIWICfl30spAa9Z52ufDyUCZSUFGg8DJQMjr9uY6g8tAKZHHXNKUykBDkVvUhvjJQILo6YRY4MpACuk4L9gHy0A=",
          "dtype": "f8"
         },
         "yaxis": "y2"
        },
        {
         "line": {
          "color": "red",
          "dash": "dash"
         },
         "mode": "lines",
         "showlegend": false,
         "type": "scatter",
         "x": [
          868.393,
          13517.968
         ],
         "xaxis": "x2",
         "y": [
          868.393,
          13517.968
         ],
         "yaxis": "y2"
        }
       ],
       "layout": {
        "annotations": [
         {
          "font": {
           "size": 16
          },
          "showarrow": false,
          "text": "Total Energy Consumption",
          "x": 0.225,
          "xanchor": "center",
          "xref": "paper",
          "y": 1,
          "yanchor": "bottom",
          "yref": "paper"
         },
         {
          "font": {
           "size": 16
          },
          "showarrow": false,
          "text": "Total Electricity Use",
          "x": 0.775,
          "xanchor": "center",
          "xref": "paper",
          "y": 1,
          "yanchor": "bottom",
          "yref": "paper"
         }
        ],
        "height": 500,
        "showlegend": false,
        "template": {
         "data": {
          "bar": [
           {
            "error_x": {
             "color": "#2a3f5f"
            },
            "error_y": {
             "color": "#2a3f5f"
            },
            "marker": {
             "line": {
              "color": "white",
              "width": 0.5
             },
             "pattern": {
              "fillmode": "overlay",
              "size": 10,
              "solidity": 0.2
             }
            },
            "type": "bar"
           }
          ],
          "barpolar": [
           {
            "marker": {
             "line": {
              "color": "white",
              "width": 0.5
             },
             "pattern": {
              "fillmode": "overlay",
              "size": 10,
              "solidity": 0.2
             }
            },
            "type": "barpolar"
           }
          ],
          "carpet": [
           {
            "aaxis": {
             "endlinecolor": "#2a3f5f",
             "gridcolor": "#C8D4E3",
             "linecolor": "#C8D4E3",
             "minorgridcolor": "#C8D4E3",
             "startlinecolor": "#2a3f5f"
            },
            "baxis": {
             "endlinecolor": "#2a3f5f",
             "gridcolor": "#C8D4E3",
             "linecolor": "#C8D4E3",
             "minorgridcolor": "#C8D4E3",
             "startlinecolor": "#2a3f5f"
            },
            "type": "carpet"
           }
          ],
          "choropleth": [
           {
            "colorbar": {
             "outlinewidth": 0,
             "ticks": ""
            },
            "type": "choropleth"
           }
          ],
          "contour": [
           {
            "colorbar": {
             "outlinewidth": 0,
             "ticks": ""
            },
            "colorscale": [
             [
              0,
              "#0d0887"
             ],
             [
              0.1111111111111111,
              "#46039f"
             ],
             [
              0.2222222222222222,
              "#7201a8"
             ],
             [
              0.3333333333333333,
              "#9c179e"
             ],
             [
              0.4444444444444444,
              "#bd3786"
             ],
             [
              0.5555555555555556,
              "#d8576b"
             ],
             [
              0.6666666666666666,
              "#ed7953"
             ],
             [
              0.7777777777777778,
              "#fb9f3a"
             ],
             [
              0.8888888888888888,
              "#fdca26"
             ],
             [
              1,
              "#f0f921"
             ]
            ],
            "type": "contour"
           }
          ],
          "contourcarpet": [
           {
            "colorbar": {
             "outlinewidth": 0,
             "ticks": ""
            },
            "type": "contourcarpet"
           }
          ],
          "heatmap": [
           {
            "colorbar": {
             "outlinewidth": 0,
             "ticks": ""
            },
            "colorscale": [
             [
              0,
              "#0d0887"
             ],
             [
              0.1111111111111111,
              "#46039f"
             ],
             [
              0.2222222222222222,
              "#7201a8"
             ],
             [
              0.3333333333333333,
              "#9c179e"
             ],
             [
              0.4444444444444444,
              "#bd3786"
             ],
             [
              0.5555555555555556,
              "#d8576b"
             ],
             [
              0.6666666666666666,
              "#ed7953"
             ],
             [
              0.7777777777777778,
              "#fb9f3a"
             ],
             [
              0.8888888888888888,
              "#fdca26"
             ],
             [
              1,
              "#f0f921"
             ]
            ],
            "type": "heatmap"
           }
          ],
          "histogram": [
           {
            "marker": {
             "pattern": {
              "fillmode": "overlay",
              "size": 10,
              "solidity": 0.2
             }
            },
            "type": "histogram"
           }
          ],
          "histogram2d": [
           {
            "colorbar": {
             "outlinewidth": 0,
             "ticks": ""
            },
            "colorscale": [
             [
              0,
              "#0d0887"
             ],
             [
              0.1111111111111111,
              "#46039f"
             ],
             [
              0.2222222222222222,
              "#7201a8"
             ],
             [
              0.3333333333333333,
              "#9c179e"
             ],
             [
              0.4444444444444444,
              "#bd3786"
             ],
             [
              0.5555555555555556,
              "#d8576b"
             ],
             [
              0.6666666666666666,
              "#ed7953"
             ],
             [
              0.7777777777777778,
              "#fb9f3a"
             ],
             [
              0.8888888888888888,
              "#fdca26"
             ],
             [
              1,
              "#f0f921"
             ]
            ],
            "type": "histogram2d"
           }
          ],
          "histogram2dcontour": [
           {
            "colorbar": {
             "outlinewidth": 0,
             "ticks": ""
            },
            "colorscale": [
             [
              0,
              "#0d0887"
             ],
             [
              0.1111111111111111,
              "#46039f"
             ],
             [
              0.2222222222222222,
              "#7201a8"
             ],
             [
              0.3333333333333333,
              "#9c179e"
             ],
             [
              0.4444444444444444,
              "#bd3786"
             ],
             [
              0.5555555555555556,
              "#d8576b"
             ],
             [
              0.6666666666666666,
              "#ed7953"
             ],
             [
              0.7777777777777778,
              "#fb9f3a"
             ],
             [
              0.8888888888888888,
              "#fdca26"
             ],
             [
              1,
              "#f0f921"
             ]
            ],
            "type": "histogram2dcontour"
           }
          ],
          "mesh3d": [
           {
            "colorbar": {
             "outlinewidth": 0,
             "ticks": ""
            },
            "type": "mesh3d"
           }
          ],
          "parcoords": [
           {
            "line": {
             "colorbar": {
              "outlinewidth": 0,
              "ticks": ""
             }
            },
            "type": "parcoords"
           }
          ],
          "pie": [
           {
            "automargin": true,
            "type": "pie"
           }
          ],
          "scatter": [
           {
            "fillpattern": {
             "fillmode": "overlay",
             "size": 10,
             "solidity": 0.2
            },
            "type": "scatter"
           }
          ],
          "scatter3d": [
           {
            "line": {
             "colorbar": {
              "outlinewidth": 0,
              "ticks": ""
             }
            },
            "marker": {
             "colorbar": {
              "outlinewidth": 0,
              "ticks": ""
             }
            },
            "type": "scatter3d"
           }
          ],
          "scattercarpet": [
           {
            "marker": {
             "colorbar": {
              "outlinewidth": 0,
              "ticks": ""
             }
            },
            "type": "scattercarpet"
           }
          ],
          "scattergeo": [
           {
            "marker": {
             "colorbar": {
              "outlinewidth": 0,
              "ticks": ""
             }
            },
            "type": "scattergeo"
           }
          ],
          "scattergl": [
           {
            "marker": {
             "colorbar": {
              "outlinewidth": 0,
              "ticks": ""
             }
            },
            "type": "scattergl"
           }
          ],
          "scattermap": [
           {
            "marker": {
             "colorbar": {
              "outlinewidth": 0,
              "ticks": ""
             }
            },
            "type": "scattermap"
           }
          ],
          "scattermapbox": [
           {
            "marker": {
             "colorbar": {
              "outlinewidth": 0,
              "ticks": ""
             }
            },
            "type": "scattermapbox"
           }
          ],
          "scatterpolar": [
           {
            "marker": {
             "colorbar": {
              "outlinewidth": 0,
              "ticks": ""
             }
            },
            "type": "scatterpolar"
           }
          ],
          "scatterpolargl": [
           {
            "marker": {
             "colorbar": {
              "outlinewidth": 0,
              "ticks": ""
             }
            },
            "type": "scatterpolargl"
           }
          ],
          "scatterternary": [
           {
            "marker": {
             "colorbar": {
              "outlinewidth": 0,
              "ticks": ""
             }
            },
            "type": "scatterternary"
           }
          ],
          "surface": [
           {
            "colorbar": {
             "outlinewidth": 0,
             "ticks": ""
            },
            "colorscale": [
             [
              0,
              "#0d0887"
             ],
             [
              0.1111111111111111,
              "#46039f"
             ],
             [
              0.2222222222222222,
              "#7201a8"
             ],
             [
              0.3333333333333333,
              "#9c179e"
             ],
             [
              0.4444444444444444,
              "#bd3786"
             ],
             [
              0.5555555555555556,
              "#d8576b"
             ],
             [
              0.6666666666666666,
              "#ed7953"
             ],
             [
              0.7777777777777778,
              "#fb9f3a"
             ],
             [
              0.8888888888888888,
              "#fdca26"
             ],
             [
              1,
              "#f0f921"
             ]
            ],
            "type": "surface"
           }
          ],
          "table": [
           {
            "cells": {
             "fill": {
              "color": "#EBF0F8"
             },
             "line": {
              "color": "white"
             }
            },
            "header": {
             "fill": {
              "color": "#C8D4E3"
             },
             "line": {
              "color": "white"
             }
            },
            "type": "table"
           }
          ]
         },
         "layout": {
          "annotationdefaults": {
           "arrowcolor": "#2a3f5f",
           "arrowhead": 0,
           "arrowwidth": 1
          },
          "autotypenumbers": "strict",
          "coloraxis": {
           "colorbar": {
            "outlinewidth": 0,
            "ticks": ""
           }
          },
          "colorscale": {
           "diverging": [
            [
             0,
             "#8e0152"
            ],
            [
             0.1,
             "#c51b7d"
            ],
            [
             0.2,
             "#de77ae"
            ],
            [
             0.3,
             "#f1b6da"
            ],
            [
             0.4,
             "#fde0ef"
            ],
            [
             0.5,
             "#f7f7f7"
            ],
            [
             0.6,
             "#e6f5d0"
            ],
            [
             0.7,
             "#b8e186"
            ],
            [
             0.8,
             "#7fbc41"
            ],
            [
             0.9,
             "#4d9221"
            ],
            [
             1,
             "#276419"
            ]
           ],
           "sequential": [
            [
             0,
             "#0d0887"
            ],
            [
             0.1111111111111111,
             "#46039f"
            ],
            [
             0.2222222222222222,
             "#7201a8"
            ],
            [
             0.3333333333333333,
             "#9c179e"
            ],
            [
             0.4444444444444444,
             "#bd3786"
            ],
            [
             0.5555555555555556,
             "#d8576b"
            ],
            [
             0.6666666666666666,
             "#ed7953"
            ],
            [
             0.7777777777777778,
             "#fb9f3a"
            ],
            [
             0.8888888888888888,
             "#fdca26"
            ],
            [
             1,
             "#f0f921"
            ]
           ],
           "sequentialminus": [
            [
             0,
             "#0d0887"
            ],
            [
             0.1111111111111111,
             "#46039f"
            ],
            [
             0.2222222222222222,
             "#7201a8"
            ],
            [
             0.3333333333333333,
             "#9c179e"
            ],
            [
             0.4444444444444444,
             "#bd3786"
            ],
            [
             0.5555555555555556,
             "#d8576b"
            ],
            [
             0.6666666666666666,
             "#ed7953"
            ],
            [
             0.7777777777777778,
             "#fb9f3a"
            ],
            [
             0.8888888888888888,
             "#fdca26"
            ],
            [
             1,
             "#f0f921"
            ]
           ]
          },
          "colorway": [
           "#636efa",
           "#EF553B",
           "#00cc96",
           "#ab63fa",
           "#FFA15A",
           "#19d3f3",
           "#FF6692",
           "#B6E880",
           "#FF97FF",
           "#FECB52"
          ],
          "font": {
           "color": "#2a3f5f"
          },
          "geo": {
           "bgcolor": "white",
           "lakecolor": "white",
           "landcolor": "white",
           "showlakes": true,
           "showland": true,
           "subunitcolor": "#C8D4E3"
          },
          "hoverlabel": {
           "align": "left"
          },
          "hovermode": "closest",
          "mapbox": {
           "style": "light"
          },
          "paper_bgcolor": "white",
          "plot_bgcolor": "white",
          "polar": {
           "angularaxis": {
            "gridcolor": "#EBF0F8",
            "linecolor": "#EBF0F8",
            "ticks": ""
           },
           "bgcolor": "white",
           "radialaxis": {
            "gridcolor": "#EBF0F8",
            "linecolor": "#EBF0F8",
            "ticks": ""
           }
          },
          "scene": {
           "xaxis": {
            "backgroundcolor": "white",
            "gridcolor": "#DFE8F3",
            "gridwidth": 2,
            "linecolor": "#EBF0F8",
            "showbackground": true,
            "ticks": "",
            "zerolinecolor": "#EBF0F8"
           },
           "yaxis": {
            "backgroundcolor": "white",
            "gridcolor": "#DFE8F3",
            "gridwidth": 2,
            "linecolor": "#EBF0F8",
            "showbackground": true,
            "ticks": "",
            "zerolinecolor": "#EBF0F8"
           },
           "zaxis": {
            "backgroundcolor": "white",
            "gridcolor": "#DFE8F3",
            "gridwidth": 2,
            "linecolor": "#EBF0F8",
            "showbackground": true,
            "ticks": "",
            "zerolinecolor": "#EBF0F8"
           }
          },
          "shapedefaults": {
           "line": {
            "color": "#2a3f5f"
           }
          },
          "ternary": {
           "aaxis": {
            "gridcolor": "#DFE8F3",
            "linecolor": "#A2B1C6",
            "ticks": ""
           },
           "baxis": {
            "gridcolor": "#DFE8F3",
            "linecolor": "#A2B1C6",
            "ticks": ""
           },
           "bgcolor": "white",
           "caxis": {
            "gridcolor": "#DFE8F3",
            "linecolor": "#A2B1C6",
            "ticks": ""
           }
          },
          "title": {
           "x": 0.05
          },
          "xaxis": {
           "automargin": true,
           "gridcolor": "#EBF0F8",
           "linecolor": "#EBF0F8",
           "ticks": "",
           "title": {
            "standoff": 15
           },
           "zerolinecolor": "#EBF0F8",
           "zerolinewidth": 2
          },
          "yaxis": {
           "automargin": true,
           "gridcolor": "#EBF0F8",
           "linecolor": "#EBF0F8",
           "ticks": "",
           "title": {
            "standoff": 15
           },
           "zerolinecolor": "#EBF0F8",
           "zerolinewidth": 2
          }
         }
        },
        "title": {
         "text": "Predicted vs Actual: Energy & Electricity Consumptions",
         "x": 0.5
        },
        "width": 1000,
        "xaxis": {
         "anchor": "y",
         "domain": [
          0,
          0.45
         ],
         "title": {
          "text": "Actual Use (Trillion Btu)"
         }
        },
        "xaxis2": {
         "anchor": "y2",
         "domain": [
          0.55,
          1
         ],
         "title": {
          "text": "Actual Use (Trillion Btu)"
         }
        },
        "yaxis": {
         "anchor": "x",
         "domain": [
          0,
          1
         ],
         "title": {
          "text": "Predicted Use (Trillion Btu)"
         }
        },
        "yaxis2": {
         "anchor": "x2",
         "domain": [
          0,
          1
         ]
        }
       }
      }
     },
     "metadata": {},
     "output_type": "display_data"
    }
   ],
   "source": [
    "# Plot Predicted vs Actual Values\n",
    "\n",
    "# Create subplot grid: 1 row, 2 columns\n",
    "fig = make_subplots(\n",
    "    rows=1, cols=2,\n",
    "    subplot_titles=(\"Total Energy Consumption\", \"Total Electricity Use\")\n",
    ")\n",
    "\n",
    "# --- Left: Total Energy ---\n",
    "fig.add_trace(go.Scatter(\n",
    "    x=df1_energy[\"TotEnergy_2EndUse\"],\n",
    "    y=df1_energy[\"Pred_Energy\"],\n",
    "    mode=\"markers\",\n",
    "    name=\"Energy\"\n",
    "), row=1, col=1)\n",
    "\n",
    "# Add 45-degree reference line\n",
    "fig.add_trace(go.Scatter(\n",
    "    x=[df1_energy[\"TotEnergy_2EndUse\"].min(), df1_energy[\"TotEnergy_2EndUse\"].max()],\n",
    "    y=[df1_energy[\"TotEnergy_2EndUse\"].min(), df1_energy[\"TotEnergy_2EndUse\"].max()],\n",
    "    mode=\"lines\",\n",
    "    line=dict(color=\"red\", dash=\"dash\"),\n",
    "    showlegend=False\n",
    "), row=1, col=1)\n",
    "\n",
    "# --- Right: Total Electricity ---\n",
    "fig.add_trace(go.Scatter(\n",
    "    x=df1_energy[\"TotElectricity_2Used\"],\n",
    "    y=df1_energy[\"Pred_Electricity\"],\n",
    "    mode=\"markers\",\n",
    "    name=\"Electricity\"\n",
    "), row=1, col=2)\n",
    "\n",
    "# Add 45-degree reference line\n",
    "fig.add_trace(go.Scatter(\n",
    "    x=[df1_energy[\"TotElectricity_2Used\"].min(), df1_energy[\"TotElectricity_2Used\"].max()],\n",
    "    y=[df1_energy[\"TotElectricity_2Used\"].min(), df1_energy[\"TotElectricity_2Used\"].max()],\n",
    "    mode=\"lines\",\n",
    "    line=dict(color=\"red\", dash=\"dash\"),\n",
    "    showlegend=False\n",
    "), row=1, col=2)\n",
    "\n",
    "# Layout\n",
    "fig.update_layout(\n",
    "    title=dict(text=\"Predicted vs Actual: Energy & Electricity Consumptions\", x=0.5),\n",
    "    template=\"plotly_white\",\n",
    "    width=1000, height=500,\n",
    "    xaxis1=dict(title=\"Actual Use (Trillion Btu)\"),\n",
    "    yaxis1=dict(title=\"Predicted Use (Trillion Btu)\"),\n",
    "    xaxis2=dict(title=\"Actual Use (Trillion Btu)\"),\n",
    "    # yaxis2=dict(title=\"Predicted Use (Trillion Btu)\"),\n",
    "    showlegend=False\n",
    ")\n",
    "\n",
    "fig.show()\n"
   ]
  },
  {
   "cell_type": "code",
   "execution_count": null,
   "id": "a84e0e54",
   "metadata": {},
   "outputs": [
    {
     "name": "stderr",
     "output_type": "stream",
     "text": [
      "C:\\Users\\lm\\AppData\\Local\\Temp\\ipykernel_20412\\3634263794.py:21: FutureWarning:\n",
      "\n",
      "Series.__getitem__ treating keys as positions is deprecated. In a future version, integer keys will always be treated as labels (consistent with DataFrame behavior). To access a value by position, use `ser.iloc[pos]`\n",
      "\n",
      "C:\\Users\\lm\\AppData\\Local\\Temp\\ipykernel_20412\\3634263794.py:22: FutureWarning:\n",
      "\n",
      "Series.__getitem__ treating keys as positions is deprecated. In a future version, integer keys will always be treated as labels (consistent with DataFrame behavior). To access a value by position, use `ser.iloc[pos]`\n",
      "\n",
      "C:\\Users\\lm\\AppData\\Local\\Temp\\ipykernel_20412\\3634263794.py:27: FutureWarning:\n",
      "\n",
      "Series.__getitem__ treating keys as positions is deprecated. In a future version, integer keys will always be treated as labels (consistent with DataFrame behavior). To access a value by position, use `ser.iloc[pos]`\n",
      "\n",
      "C:\\Users\\lm\\AppData\\Local\\Temp\\ipykernel_20412\\3634263794.py:28: FutureWarning:\n",
      "\n",
      "Series.__getitem__ treating keys as positions is deprecated. In a future version, integer keys will always be treated as labels (consistent with DataFrame behavior). To access a value by position, use `ser.iloc[pos]`\n",
      "\n"
     ]
    },
    {
     "data": {
      "application/vnd.plotly.v1+json": {
       "config": {
        "plotlyServerURL": "https://plot.ly"
       },
       "data": [
        {
         "mode": "markers",
         "name": "Energy",
         "showlegend": false,
         "type": "scatter",
         "x": {
          "bdata": "SOF6FJ7F20D0/dR4SSPeQB+F61FIGOBAJQaBlUvL30DpJjEIlDjgQOF6FK43fN9AexSuRxVH4UAOLbKdN+HhQLpJDALbzeFAzczMzOzE4UAK16NwTXbiQHnpJjGAJONAxSCwcshf40BEi2znCzTkQOF6FK6z4+RAL90kBpm35UAfhetRpIvmQB1aZDuLq+dAokW2891g6EBQjZdu/q7pQBBYObQgzepA9P3UeF1860Bg5dAiw+XrQJZDi2y3He1AXI/C9ewk7kB/arx05zTtQH9qvHTvH+xArBxaZMur7UCiRbbzeUTuQGZmZmb+3e5A+n5qvOA070C+nxovsbntQIGVQ4u4xuxAIbByaPFr60CkcD0K9yfrQC/dJAbVquxARrbz/cxs7EBqvHSTrIfsQMP1KFxDfO1ANV66SYzc7kAdWmQ7OzLvQFYOLbKt1+5AcT0K1/O57kCwcmiRQXPvQArXo3B50O9AZmZmZhpA8EACK4cW2YbwQARWDi0SFvFAnMQgsEoq8UB7FK5HdwrxQLbz/dTwSvFACtejcL2l8UCDwMqh1TDxQM/3U+PzaPFAWDm0yCKB8UDTTWIQsurxQLx0kxj4zvFA+n5qvKSx8UAbL90kiujxQDvfT40XdfFA5/up8bah8EAUrkfh/EDxQCcxCKxwK/FAvHSTGBbM8EApXI/CH2/xQMdLN4mNrvFAUrgehfWi8UBeukkM7qrxQCPb+X6Yz/FA8KfGS5OR8kAtsp3vp53yQA4tsp1dDPFAbef7qe8D8kBg5dAiQVvyQO58PzVoPfJAzczMzEJN8kA=",
          "dtype": "f8"
         },
         "xaxis": "x",
         "y": {
          "bdata": "wBrGD+ov3EAqcazuhZvdQKUaO/Urit5AS7rYU6ai30DrWzTlYSTgQIBEfgLBG+FAjFDOSjrW4UDhdoPUCW7iQD7Hk5mNLuNAtmygEgBN5EALGIe5aqjkQHa9vjY6d+VAacZn/I0K5kCI2mQ5gJrmQDrvo0MmJOdAWa9ZtQxf50D+n8zE8qTnQG5X2uOV8OdAKuBU1DY56EBmH+YAeXvoQE3vE1DK3ehATwI2Ju+H6UARYtuiw+DpQLSqZB1CIupAwfB0ro3x6UBoHqyemJLqQDCTdwk0Q+tAAihIpbxo60DFll6AaJ/rQP6jAh1x6+tAGlRYUG8S7EASUKT0ncrsQK0I0zyB8exARt8mUtPQ7UAdOqe6bfLtQMJ2KOHOhO1ATjkwNKCi7UDcgzIfwZftQHEeEDMQw+1A/uWKg1L/7UAE80E5EgzuQE76FM0xKO5AWPNHlb5S70C2cRtdb7zvQHS1V7cgRPBAd9ve/+dP8ECUFzFhspHwQDvqaF2JsPBALP+uaDWp8EAm43Wy4pXwQD8/4459jvBAUsRSOCyk8EBOsv2UZt7wQH6jOVwdHvFAfZNBl48u8UBnUunx9gbxQEFBzLEPCvFADMrEYzn98EDkaDyIdzbxQKS+dEkDqPFAFmwR5Zdh8kCz7ESRXHPyQNjKXkjphvJAjuJAOnFc8kAG9+ZsyYvyQBsk5NhhivJAAFUIqh1Z8kAdMBGDDVzyQN5ZRNBMOfJA0kbSuToy8kAC5AP1pvjxQNh1nHSctPJADs2i6XPH8UC+99GMBL3xQPU+OZiNdfFAP6xhFAlw8UA=",
          "dtype": "f8"
         },
         "yaxis": "y"
        },
        {
         "line": {
          "color": "red",
          "dash": "dash"
         },
         "mode": "lines",
         "showlegend": false,
         "type": "scatter",
         "x": [
          28438.47,
          76250.496
         ],
         "xaxis": "x",
         "y": [
          28438.47,
          76250.496
         ],
         "yaxis": "y"
        },
        {
         "mode": "markers",
         "name": "Electricity",
         "showlegend": false,
         "type": "scatter",
         "x": {
          "bdata": "oBov3SQji0AK16NwPROPQE5iEFi5m5FAgZVDi+z8kkAhsHJokR+VQHNoke38nJZAVg4tsp17mkBCYOXQoh+dQG8Sg8DKsp5ALbKd7ydXn0AnMQisXD6hQOkmMQhsV6JADAIrh5Y+o0CkcD0KV7qkQJhuEoPAMaZA+n5qvLTip0DFILByqGypQH9qvHTTl6tAK4cW2Q5NrUAEVg4tMgiwQIGVQ4vMgrFA/tR46YaOskAEVg4tEpazQKabxCCwQrVAuB6F63HUtkAnMQisnLy2QJzEILASSbdAmpmZmRm6uEArhxbZzve5QGZmZmYm5bpApHA9Cpeau0D2KFyPQuq7QNejcD3qnbxAppvEIPDOu0DfT42XDqu8QI2XbhIjd75AGy/dJGb5vkDD9ShcL5K/QAaBlUMbYMBAJzEIrCwuwUCgGi/ddKPBQJMYBFaeE8JAMQisHPpnwkC+nxovTWrCQOF6FK6nEcNAvp8aL12Ow0BvEoPAqhTEQClcj8KFqsRATmIQWGn2xECkcD0Kx8DFQPhT46VrEsZAhetRuO7MxkBeukkM8p7GQClcj8IVGMdADi2ynU9Ix0AAAAAAAKTHQM3MzMycZchAbef7qeF0yEBKDAIrVxbJQPp+arwk4shAuB6F6yH4x0BQjZduwgXJQM3MzMw8/chA9ihcjxKfyEBaZDvfn9LIQLx0kxiUFslA8KfGS9cMyUBQjZduwhLJQPhT46UL0MhA7FG4HsW3yUD2KFyP0mXJQNejcD1axshAqvHSTdJcyUCmm8QgwCvKQOXQItt50clARIts5/tmykA=",
          "dtype": "f8"
         },
         "xaxis": "x2",
         "y": {
          "bdata": "AECNI/wy2r/A2LWb2SJeQMDVcJT4yXJASJQYyJAohEDESbKZqzGSQDwGZ9cXEJVAuGyfRfzKlEDcfF9m9iadQAgVbI1TmKFAlrU/CGgTokB6RRjGEjGlQNCqbgekhqZABtfcy9tqqkBOnG1SATmrQJw4KZ4q66xA1KnBDsktsEAEaI6wD7iwQGb8eZsJwrBAMScR/AELskBvRuPJtjeyQI241bI5jrJAtVVJK2O5s0Dx1OLvxDa1QPp8grcuUrVAjdYO503VtkC4kQAji9a3QJRAQTreirhAEA5kzS1xuEBf+Doo16+4QLYCVXb4MbhANEAC7wD5uUDacp6MKJi6QAeJ5Q38X7xAwHX2yQGMvUAs+8Wd1Z+9QChGcPiaH75AMIyM90E1vkDgkZTv/ay/QEmUIqo3BcBAOJVKkppcv0ANpY2yugfAQDmguN2DecFAi2XmGPjhwUCyh3mSNnTCQMzQmi4yVsJAykiq58AIw0BTv9CwVVnDQKwOO7/FmMNAF8TFzLMxxECOlxETzPnEQGBIBJpPC8VArr6O9nb6xECv8h53bNfFQEiVzdNc6MVAt/WxTyP+xUAL8ePSWIPGQAsntQH/ZcZAZDRCCmQ1x0DujzXbkCrHQCMeYJcOo8dAU/ZuQ0S4yEAFE3tQ2JvIQBxZ6P34H8lA+joWPswZykCobEIneX/JQKF+NBi1hMlAeQ7eO3sDykCKv/gBeHbKQIWICfl30spAa9Z52ufDyUCZSUFGg8DJQMjr9uY6g8tAKZHHXNKUykBDkVvUhvjJQILo6YRY4MpACuk4L9gHy0A=",
          "dtype": "f8"
         },
         "yaxis": "y2"
        },
        {
         "line": {
          "color": "red",
          "dash": "dash"
         },
         "mode": "lines",
         "showlegend": false,
         "type": "scatter",
         "x": [
          868.393,
          13517.968
         ],
         "xaxis": "x2",
         "y": [
          868.393,
          13517.968
         ],
         "yaxis": "y2"
        }
       ],
       "layout": {
        "annotations": [
         {
          "font": {
           "size": 16
          },
          "showarrow": false,
          "text": "Total Energy Consumption",
          "x": 0.225,
          "xanchor": "center",
          "xref": "paper",
          "y": 1,
          "yanchor": "bottom",
          "yref": "paper"
         },
         {
          "font": {
           "size": 16
          },
          "showarrow": false,
          "text": "Total Electricity Use",
          "x": 0.775,
          "xanchor": "center",
          "xref": "paper",
          "y": 1,
          "yanchor": "bottom",
          "yref": "paper"
         },
         {
          "align": "left",
          "font": {
           "color": "brown",
           "family": "Arial",
           "size": 10,
           "weight": "bold"
          },
          "showarrow": false,
          "text": "Energy = -60370.64 + -3.33·GDP + 594.61·Pop + 1.33·DegreeDays<br>R² = 0.933",
          "x": 0.05,
          "xref": "x domain",
          "y": 0.95,
          "yref": "y domain"
         },
         {
          "align": "left",
          "font": {
           "color": "brown",
           "family": "Arial",
           "size": 10,
           "weight": "bold"
          },
          "showarrow": false,
          "text": "Electricity = -11820.91 + -0.44·GDP + 118.15·Pop + -0.80·DegreeDays<br>R² = 0.982",
          "x": 0.05,
          "xref": "x2 domain",
          "y": 0.95,
          "yref": "y2 domain"
         }
        ],
        "height": 500,
        "template": {
         "data": {
          "bar": [
           {
            "error_x": {
             "color": "#2a3f5f"
            },
            "error_y": {
             "color": "#2a3f5f"
            },
            "marker": {
             "line": {
              "color": "white",
              "width": 0.5
             },
             "pattern": {
              "fillmode": "overlay",
              "size": 10,
              "solidity": 0.2
             }
            },
            "type": "bar"
           }
          ],
          "barpolar": [
           {
            "marker": {
             "line": {
              "color": "white",
              "width": 0.5
             },
             "pattern": {
              "fillmode": "overlay",
              "size": 10,
              "solidity": 0.2
             }
            },
            "type": "barpolar"
           }
          ],
          "carpet": [
           {
            "aaxis": {
             "endlinecolor": "#2a3f5f",
             "gridcolor": "#C8D4E3",
             "linecolor": "#C8D4E3",
             "minorgridcolor": "#C8D4E3",
             "startlinecolor": "#2a3f5f"
            },
            "baxis": {
             "endlinecolor": "#2a3f5f",
             "gridcolor": "#C8D4E3",
             "linecolor": "#C8D4E3",
             "minorgridcolor": "#C8D4E3",
             "startlinecolor": "#2a3f5f"
            },
            "type": "carpet"
           }
          ],
          "choropleth": [
           {
            "colorbar": {
             "outlinewidth": 0,
             "ticks": ""
            },
            "type": "choropleth"
           }
          ],
          "contour": [
           {
            "colorbar": {
             "outlinewidth": 0,
             "ticks": ""
            },
            "colorscale": [
             [
              0,
              "#0d0887"
             ],
             [
              0.1111111111111111,
              "#46039f"
             ],
             [
              0.2222222222222222,
              "#7201a8"
             ],
             [
              0.3333333333333333,
              "#9c179e"
             ],
             [
              0.4444444444444444,
              "#bd3786"
             ],
             [
              0.5555555555555556,
              "#d8576b"
             ],
             [
              0.6666666666666666,
              "#ed7953"
             ],
             [
              0.7777777777777778,
              "#fb9f3a"
             ],
             [
              0.8888888888888888,
              "#fdca26"
             ],
             [
              1,
              "#f0f921"
             ]
            ],
            "type": "contour"
           }
          ],
          "contourcarpet": [
           {
            "colorbar": {
             "outlinewidth": 0,
             "ticks": ""
            },
            "type": "contourcarpet"
           }
          ],
          "heatmap": [
           {
            "colorbar": {
             "outlinewidth": 0,
             "ticks": ""
            },
            "colorscale": [
             [
              0,
              "#0d0887"
             ],
             [
              0.1111111111111111,
              "#46039f"
             ],
             [
              0.2222222222222222,
              "#7201a8"
             ],
             [
              0.3333333333333333,
              "#9c179e"
             ],
             [
              0.4444444444444444,
              "#bd3786"
             ],
             [
              0.5555555555555556,
              "#d8576b"
             ],
             [
              0.6666666666666666,
              "#ed7953"
             ],
             [
              0.7777777777777778,
              "#fb9f3a"
             ],
             [
              0.8888888888888888,
              "#fdca26"
             ],
             [
              1,
              "#f0f921"
             ]
            ],
            "type": "heatmap"
           }
          ],
          "histogram": [
           {
            "marker": {
             "pattern": {
              "fillmode": "overlay",
              "size": 10,
              "solidity": 0.2
             }
            },
            "type": "histogram"
           }
          ],
          "histogram2d": [
           {
            "colorbar": {
             "outlinewidth": 0,
             "ticks": ""
            },
            "colorscale": [
             [
              0,
              "#0d0887"
             ],
             [
              0.1111111111111111,
              "#46039f"
             ],
             [
              0.2222222222222222,
              "#7201a8"
             ],
             [
              0.3333333333333333,
              "#9c179e"
             ],
             [
              0.4444444444444444,
              "#bd3786"
             ],
             [
              0.5555555555555556,
              "#d8576b"
             ],
             [
              0.6666666666666666,
              "#ed7953"
             ],
             [
              0.7777777777777778,
              "#fb9f3a"
             ],
             [
              0.8888888888888888,
              "#fdca26"
             ],
             [
              1,
              "#f0f921"
             ]
            ],
            "type": "histogram2d"
           }
          ],
          "histogram2dcontour": [
           {
            "colorbar": {
             "outlinewidth": 0,
             "ticks": ""
            },
            "colorscale": [
             [
              0,
              "#0d0887"
             ],
             [
              0.1111111111111111,
              "#46039f"
             ],
             [
              0.2222222222222222,
              "#7201a8"
             ],
             [
              0.3333333333333333,
              "#9c179e"
             ],
             [
              0.4444444444444444,
              "#bd3786"
             ],
             [
              0.5555555555555556,
              "#d8576b"
             ],
             [
              0.6666666666666666,
              "#ed7953"
             ],
             [
              0.7777777777777778,
              "#fb9f3a"
             ],
             [
              0.8888888888888888,
              "#fdca26"
             ],
             [
              1,
              "#f0f921"
             ]
            ],
            "type": "histogram2dcontour"
           }
          ],
          "mesh3d": [
           {
            "colorbar": {
             "outlinewidth": 0,
             "ticks": ""
            },
            "type": "mesh3d"
           }
          ],
          "parcoords": [
           {
            "line": {
             "colorbar": {
              "outlinewidth": 0,
              "ticks": ""
             }
            },
            "type": "parcoords"
           }
          ],
          "pie": [
           {
            "automargin": true,
            "type": "pie"
           }
          ],
          "scatter": [
           {
            "fillpattern": {
             "fillmode": "overlay",
             "size": 10,
             "solidity": 0.2
            },
            "type": "scatter"
           }
          ],
          "scatter3d": [
           {
            "line": {
             "colorbar": {
              "outlinewidth": 0,
              "ticks": ""
             }
            },
            "marker": {
             "colorbar": {
              "outlinewidth": 0,
              "ticks": ""
             }
            },
            "type": "scatter3d"
           }
          ],
          "scattercarpet": [
           {
            "marker": {
             "colorbar": {
              "outlinewidth": 0,
              "ticks": ""
             }
            },
            "type": "scattercarpet"
           }
          ],
          "scattergeo": [
           {
            "marker": {
             "colorbar": {
              "outlinewidth": 0,
              "ticks": ""
             }
            },
            "type": "scattergeo"
           }
          ],
          "scattergl": [
           {
            "marker": {
             "colorbar": {
              "outlinewidth": 0,
              "ticks": ""
             }
            },
            "type": "scattergl"
           }
          ],
          "scattermap": [
           {
            "marker": {
             "colorbar": {
              "outlinewidth": 0,
              "ticks": ""
             }
            },
            "type": "scattermap"
           }
          ],
          "scattermapbox": [
           {
            "marker": {
             "colorbar": {
              "outlinewidth": 0,
              "ticks": ""
             }
            },
            "type": "scattermapbox"
           }
          ],
          "scatterpolar": [
           {
            "marker": {
             "colorbar": {
              "outlinewidth": 0,
              "ticks": ""
             }
            },
            "type": "scatterpolar"
           }
          ],
          "scatterpolargl": [
           {
            "marker": {
             "colorbar": {
              "outlinewidth": 0,
              "ticks": ""
             }
            },
            "type": "scatterpolargl"
           }
          ],
          "scatterternary": [
           {
            "marker": {
             "colorbar": {
              "outlinewidth": 0,
              "ticks": ""
             }
            },
            "type": "scatterternary"
           }
          ],
          "surface": [
           {
            "colorbar": {
             "outlinewidth": 0,
             "ticks": ""
            },
            "colorscale": [
             [
              0,
              "#0d0887"
             ],
             [
              0.1111111111111111,
              "#46039f"
             ],
             [
              0.2222222222222222,
              "#7201a8"
             ],
             [
              0.3333333333333333,
              "#9c179e"
             ],
             [
              0.4444444444444444,
              "#bd3786"
             ],
             [
              0.5555555555555556,
              "#d8576b"
             ],
             [
              0.6666666666666666,
              "#ed7953"
             ],
             [
              0.7777777777777778,
              "#fb9f3a"
             ],
             [
              0.8888888888888888,
              "#fdca26"
             ],
             [
              1,
              "#f0f921"
             ]
            ],
            "type": "surface"
           }
          ],
          "table": [
           {
            "cells": {
             "fill": {
              "color": "#EBF0F8"
             },
             "line": {
              "color": "white"
             }
            },
            "header": {
             "fill": {
              "color": "#C8D4E3"
             },
             "line": {
              "color": "white"
             }
            },
            "type": "table"
           }
          ]
         },
         "layout": {
          "annotationdefaults": {
           "arrowcolor": "#2a3f5f",
           "arrowhead": 0,
           "arrowwidth": 1
          },
          "autotypenumbers": "strict",
          "coloraxis": {
           "colorbar": {
            "outlinewidth": 0,
            "ticks": ""
           }
          },
          "colorscale": {
           "diverging": [
            [
             0,
             "#8e0152"
            ],
            [
             0.1,
             "#c51b7d"
            ],
            [
             0.2,
             "#de77ae"
            ],
            [
             0.3,
             "#f1b6da"
            ],
            [
             0.4,
             "#fde0ef"
            ],
            [
             0.5,
             "#f7f7f7"
            ],
            [
             0.6,
             "#e6f5d0"
            ],
            [
             0.7,
             "#b8e186"
            ],
            [
             0.8,
             "#7fbc41"
            ],
            [
             0.9,
             "#4d9221"
            ],
            [
             1,
             "#276419"
            ]
           ],
           "sequential": [
            [
             0,
             "#0d0887"
            ],
            [
             0.1111111111111111,
             "#46039f"
            ],
            [
             0.2222222222222222,
             "#7201a8"
            ],
            [
             0.3333333333333333,
             "#9c179e"
            ],
            [
             0.4444444444444444,
             "#bd3786"
            ],
            [
             0.5555555555555556,
             "#d8576b"
            ],
            [
             0.6666666666666666,
             "#ed7953"
            ],
            [
             0.7777777777777778,
             "#fb9f3a"
            ],
            [
             0.8888888888888888,
             "#fdca26"
            ],
            [
             1,
             "#f0f921"
            ]
           ],
           "sequentialminus": [
            [
             0,
             "#0d0887"
            ],
            [
             0.1111111111111111,
             "#46039f"
            ],
            [
             0.2222222222222222,
             "#7201a8"
            ],
            [
             0.3333333333333333,
             "#9c179e"
            ],
            [
             0.4444444444444444,
             "#bd3786"
            ],
            [
             0.5555555555555556,
             "#d8576b"
            ],
            [
             0.6666666666666666,
             "#ed7953"
            ],
            [
             0.7777777777777778,
             "#fb9f3a"
            ],
            [
             0.8888888888888888,
             "#fdca26"
            ],
            [
             1,
             "#f0f921"
            ]
           ]
          },
          "colorway": [
           "#636efa",
           "#EF553B",
           "#00cc96",
           "#ab63fa",
           "#FFA15A",
           "#19d3f3",
           "#FF6692",
           "#B6E880",
           "#FF97FF",
           "#FECB52"
          ],
          "font": {
           "color": "#2a3f5f"
          },
          "geo": {
           "bgcolor": "white",
           "lakecolor": "white",
           "landcolor": "white",
           "showlakes": true,
           "showland": true,
           "subunitcolor": "#C8D4E3"
          },
          "hoverlabel": {
           "align": "left"
          },
          "hovermode": "closest",
          "mapbox": {
           "style": "light"
          },
          "paper_bgcolor": "white",
          "plot_bgcolor": "white",
          "polar": {
           "angularaxis": {
            "gridcolor": "#EBF0F8",
            "linecolor": "#EBF0F8",
            "ticks": ""
           },
           "bgcolor": "white",
           "radialaxis": {
            "gridcolor": "#EBF0F8",
            "linecolor": "#EBF0F8",
            "ticks": ""
           }
          },
          "scene": {
           "xaxis": {
            "backgroundcolor": "white",
            "gridcolor": "#DFE8F3",
            "gridwidth": 2,
            "linecolor": "#EBF0F8",
            "showbackground": true,
            "ticks": "",
            "zerolinecolor": "#EBF0F8"
           },
           "yaxis": {
            "backgroundcolor": "white",
            "gridcolor": "#DFE8F3",
            "gridwidth": 2,
            "linecolor": "#EBF0F8",
            "showbackground": true,
            "ticks": "",
            "zerolinecolor": "#EBF0F8"
           },
           "zaxis": {
            "backgroundcolor": "white",
            "gridcolor": "#DFE8F3",
            "gridwidth": 2,
            "linecolor": "#EBF0F8",
            "showbackground": true,
            "ticks": "",
            "zerolinecolor": "#EBF0F8"
           }
          },
          "shapedefaults": {
           "line": {
            "color": "#2a3f5f"
           }
          },
          "ternary": {
           "aaxis": {
            "gridcolor": "#DFE8F3",
            "linecolor": "#A2B1C6",
            "ticks": ""
           },
           "baxis": {
            "gridcolor": "#DFE8F3",
            "linecolor": "#A2B1C6",
            "ticks": ""
           },
           "bgcolor": "white",
           "caxis": {
            "gridcolor": "#DFE8F3",
            "linecolor": "#A2B1C6",
            "ticks": ""
           }
          },
          "title": {
           "x": 0.05
          },
          "xaxis": {
           "automargin": true,
           "gridcolor": "#EBF0F8",
           "linecolor": "#EBF0F8",
           "ticks": "",
           "title": {
            "standoff": 15
           },
           "zerolinecolor": "#EBF0F8",
           "zerolinewidth": 2
          },
          "yaxis": {
           "automargin": true,
           "gridcolor": "#EBF0F8",
           "linecolor": "#EBF0F8",
           "ticks": "",
           "title": {
            "standoff": 15
           },
           "zerolinecolor": "#EBF0F8",
           "zerolinewidth": 2
          }
         }
        },
        "title": {
         "text": "Predicted vs Actual: Energy & Electricity Consumptions",
         "x": 0.5
        },
        "width": 1100,
        "xaxis": {
         "anchor": "y",
         "domain": [
          0,
          0.45
         ],
         "title": {
          "text": "Actual Use (Trillion Btu)"
         }
        },
        "xaxis2": {
         "anchor": "y2",
         "domain": [
          0.55,
          1
         ],
         "title": {
          "text": "Actual Use (Trillion Btu)"
         }
        },
        "yaxis": {
         "anchor": "x",
         "domain": [
          0,
          1
         ],
         "title": {
          "text": "Predicted Use (Trillion Btu)"
         }
        },
        "yaxis2": {
         "anchor": "x2",
         "domain": [
          0,
          1
         ]
        }
       }
      }
     },
     "metadata": {},
     "output_type": "display_data"
    }
   ],
   "source": [
    "# Plot Predicted vs Actual Values: add regression formulas and R-squared\n",
    "\n",
    "# --- Regression: Energy ---\n",
    "X_energy = df1_energy[[\"GDP_Real\", \"POP_US\", \"Total_DegreeDays\"]]  # predictors\n",
    "X_energy = sm.add_constant(X_energy)  # add intercept\n",
    "y_energy = df1_energy[\"TotEnergy_2EndUse\"]\n",
    "\n",
    "model_energy = sm.OLS(y_energy, X_energy).fit()\n",
    "df1_energy[\"Pred_Energy\"] = model_energy.predict(X_energy)\n",
    "\n",
    "# --- Regression: Electricity ---\n",
    "X_elec = df1_energy[[\"GDP_Real\", \"POP_US\", \"Total_DegreeDays\"]]\n",
    "X_elec = sm.add_constant(X_elec)\n",
    "y_elec = df1_energy[\"TotElectricity_2Used\"]\n",
    "\n",
    "model_elec = sm.OLS(y_elec, X_elec).fit()\n",
    "df1_energy[\"Pred_Electricity\"] = model_elec.predict(X_elec)\n",
    "\n",
    "# Extract formulas + R^2\n",
    "eqn_energy = (\n",
    "    f\"Energy = {model_energy.params[0]:.2f} + {model_energy.params[1]:.2f}·GDP + \"\n",
    "    f\"{model_energy.params[2]:.2f}·Pop + {model_energy.params[3]:.2f}·DegreeDays\"\n",
    ")\n",
    "r2_energy = f\"R² = {model_energy.rsquared:.3f}\"\n",
    "\n",
    "eqn_elec = (\n",
    "    f\"Electricity = {model_elec.params[0]:.2f} + {model_elec.params[1]:.2f}·GDP + \"\n",
    "    f\"{model_elec.params[2]:.2f}·Pop + {model_elec.params[3]:.2f}·DegreeDays\"\n",
    ")\n",
    "r2_elec = f\"R² = {model_elec.rsquared:.3f}\"\n",
    "\n",
    "# --- PLOTS ---\n",
    "from plotly.subplots import make_subplots\n",
    "import plotly.graph_objects as go\n",
    "\n",
    "fig = make_subplots(\n",
    "    rows=1, cols=2,\n",
    "    subplot_titles=(\"Total Energy Consumption\", \"Total Electricity Use\")\n",
    ")\n",
    "\n",
    "# Left: Energy\n",
    "fig.add_trace(go.Scatter(\n",
    "    x=y_energy, y=df1_energy[\"Pred_Energy\"],\n",
    "    mode=\"markers\", name=\"Energy\",\n",
    "    showlegend=False\n",
    "), row=1, col=1)\n",
    "\n",
    "fig.add_trace(go.Scatter(\n",
    "    x=[y_energy.min(), y_energy.max()],\n",
    "    y=[y_energy.min(), y_energy.max()],\n",
    "    mode=\"lines\", line=dict(color=\"red\", dash=\"dash\"),\n",
    "    showlegend=False\n",
    "), row=1, col=1)\n",
    "\n",
    "fig.add_annotation(\n",
    "    text=f\"{eqn_energy}<br>{r2_energy}\",\n",
    "    xref=\"x domain\", yref=\"y domain\",\n",
    "    x=0.05, y=0.95, showarrow=False,\n",
    "    align=\"left\", font=dict(size=10, family=\"Arial\", color=\"brown\", weight=\"bold\"),\n",
    "    row=1, col=1\n",
    ")\n",
    "\n",
    "# Right: Electricity\n",
    "fig.add_trace(go.Scatter(\n",
    "    x=y_elec, y=df1_energy[\"Pred_Electricity\"],\n",
    "    mode=\"markers\", name=\"Electricity\",\n",
    "    showlegend=False\n",
    "), row=1, col=2)\n",
    "\n",
    "fig.add_trace(go.Scatter(\n",
    "    x=[y_elec.min(), y_elec.max()],\n",
    "    y=[y_elec.min(), y_elec.max()],\n",
    "    mode=\"lines\", line=dict(color=\"red\", dash=\"dash\"),\n",
    "    showlegend=False\n",
    "), row=1, col=2)\n",
    "\n",
    "fig.add_annotation(\n",
    "    text=f\"{eqn_elec}<br>{r2_elec}\",\n",
    "    xref=\"x domain\", yref=\"y domain\",\n",
    "    x=0.05, y=0.95, showarrow=False,\n",
    "    align=\"left\", font=dict(size=10, family=\"Arial\", color=\"brown\", weight=\"bold\"),\n",
    "    row=1, col=2\n",
    ")\n",
    "\n",
    "# Layout\n",
    "fig.update_layout(\n",
    "    title=dict(text=\"Predicted vs Actual: Energy & Electricity Consumptions\", x=0.5),\n",
    "    template=\"plotly_white\",\n",
    "    width=1100, height=500,\n",
    "    xaxis1=dict(title=\"Actual Use (Trillion Btu)\"),\n",
    "    yaxis1=dict(title=\"Predicted Use (Trillion Btu)\"),\n",
    "    xaxis2=dict(title=\"Actual Use (Trillion Btu)\"),\n",
    "    # yaxis2=dict(title=\"Predicted Use (Trillion Btu)\")\n",
    "    # legend=dict(\n",
    "    #     orientation=\"h\",   # horizontal legend\n",
    "    #     yanchor=\"bottom\", \n",
    "    #     y=1,             # move above the plots\n",
    "    #     xanchor=\"center\", \n",
    "    #     x=0.5)\n",
    ")\n",
    "\n",
    "fig.show()\n"
   ]
  },
  {
   "cell_type": "code",
   "execution_count": 132,
   "id": "5020bb6c",
   "metadata": {},
   "outputs": [
    {
     "name": "stderr",
     "output_type": "stream",
     "text": [
      "C:\\Users\\lm\\AppData\\Local\\Temp\\ipykernel_20412\\2593497436.py:22: FutureWarning:\n",
      "\n",
      "Series.__getitem__ treating keys as positions is deprecated. In a future version, integer keys will always be treated as labels (consistent with DataFrame behavior). To access a value by position, use `ser.iloc[pos]`\n",
      "\n",
      "C:\\Users\\lm\\AppData\\Local\\Temp\\ipykernel_20412\\2593497436.py:23: FutureWarning:\n",
      "\n",
      "Series.__getitem__ treating keys as positions is deprecated. In a future version, integer keys will always be treated as labels (consistent with DataFrame behavior). To access a value by position, use `ser.iloc[pos]`\n",
      "\n",
      "C:\\Users\\lm\\AppData\\Local\\Temp\\ipykernel_20412\\2593497436.py:28: FutureWarning:\n",
      "\n",
      "Series.__getitem__ treating keys as positions is deprecated. In a future version, integer keys will always be treated as labels (consistent with DataFrame behavior). To access a value by position, use `ser.iloc[pos]`\n",
      "\n",
      "C:\\Users\\lm\\AppData\\Local\\Temp\\ipykernel_20412\\2593497436.py:29: FutureWarning:\n",
      "\n",
      "Series.__getitem__ treating keys as positions is deprecated. In a future version, integer keys will always be treated as labels (consistent with DataFrame behavior). To access a value by position, use `ser.iloc[pos]`\n",
      "\n"
     ]
    },
    {
     "data": {
      "application/vnd.plotly.v1+json": {
       "config": {
        "plotlyServerURL": "https://plot.ly"
       },
       "data": [
        {
         "mode": "markers",
         "name": "Energy",
         "showlegend": false,
         "type": "scatter",
         "x": {
          "bdata": "SOF6FJ7F20D0/dR4SSPeQB+F61FIGOBAJQaBlUvL30DpJjEIlDjgQOF6FK43fN9AexSuRxVH4UAOLbKdN+HhQLpJDALbzeFAzczMzOzE4UAK16NwTXbiQHnpJjGAJONAxSCwcshf40BEi2znCzTkQOF6FK6z4+RAL90kBpm35UAfhetRpIvmQB1aZDuLq+dAokW2891g6EBQjZdu/q7pQBBYObQgzepA9P3UeF1860Bg5dAiw+XrQJZDi2y3He1AXI/C9ewk7kB/arx05zTtQH9qvHTvH+xArBxaZMur7UCiRbbzeUTuQGZmZmb+3e5A+n5qvOA070C+nxovsbntQIGVQ4u4xuxAIbByaPFr60CkcD0K9yfrQC/dJAbVquxARrbz/cxs7EBqvHSTrIfsQMP1KFxDfO1ANV66SYzc7kAdWmQ7OzLvQFYOLbKt1+5AcT0K1/O57kCwcmiRQXPvQArXo3B50O9AZmZmZhpA8EACK4cW2YbwQARWDi0SFvFAnMQgsEoq8UB7FK5HdwrxQLbz/dTwSvFACtejcL2l8UCDwMqh1TDxQM/3U+PzaPFAWDm0yCKB8UDTTWIQsurxQLx0kxj4zvFA+n5qvKSx8UAbL90kiujxQDvfT40XdfFA5/up8bah8EAUrkfh/EDxQCcxCKxwK/FAvHSTGBbM8EApXI/CH2/xQMdLN4mNrvFAUrgehfWi8UBeukkM7qrxQCPb+X6Yz/FA8KfGS5OR8kAtsp3vp53yQA4tsp1dDPFAbef7qe8D8kBg5dAiQVvyQO58PzVoPfJAzczMzEJN8kA=",
          "dtype": "f8"
         },
         "xaxis": "x",
         "y": {
          "bdata": "OiNTcvt13ED2xchxXJzdQADFyBaEd95AKFerjsus30AZNqPXuGDgQK6VXFeON+FASAI8YDy44UA5+fk9I3viQKlVG/4/ReNACB4JQoom5EBnnjWThKDkQIsLLt2uUuVA2/TA93cL5kBkhG7vh37mQHqnyAfvAOdAwDf+arJo50DSMJ6am6fnQKBn4gDT1edAQJEhz3M66ED0G2cIS2noQACAeSv7uehAaCniyfVn6UBG3JfiJd/pQAoAF2zECOpAtvF8aJwT6kC2Au4V8rXqQISYHoMPV+tApsIatdxh60DQ5oB6nYjrQDr8+d7OnutAJPKnOzf660Bo2nau8Z3sQMj3y4X9+uxAvFxOCtPW7UCAkp/dduXtQARstS3LkO1AsGlXB5yc7UDQ/uk3R8PtQDSJO0vx5e1AnBAKtlHo7UAsEvDFpf/tQCjYsMf/gO5AEMYscuqB70D8kCtah/DvQFR3hHUbOvBApeqTUyNW8EBuw1kK/Y3wQKhJxTJEpvBAbPbfWgCu8EA1j5AhkbPwQBvK9N0opPBAnpdgNoWm8EAmSHJrB/LwQDkJYZeAH/FAKgAnBv8m8UBEdn+FhhLxQKQWtZ5IBfFATlC3nRUT8UB+qL1+lDXxQCX73aEpnfFA5vpW4npc8kDaw4eZXVzyQFbNOJNdevJAyKmmY7h58kAsXHc5gH3yQP6OBVAcdPJAbkTx6xZY8kBV/2KaVWXyQNX0TjoeUPJAhjUrxZQU8kAm/IitRN7xQGWxCG7euvJANRnFbsjK8UBqiXEQep/xQBeFNEFFgfFAQ+8odXB28UA=",
          "dtype": "f8"
         },
         "yaxis": "y"
        },
        {
         "line": {
          "color": "red",
          "dash": "dash"
         },
         "mode": "lines",
         "showlegend": false,
         "type": "scatter",
         "x": [
          28438.47,
          76250.496
         ],
         "xaxis": "x",
         "y": [
          28438.47,
          76250.496
         ],
         "yaxis": "y"
        },
        {
         "mode": "markers",
         "name": "Electricity",
         "showlegend": false,
         "type": "scatter",
         "x": {
          "bdata": "oBov3SQji0AK16NwPROPQE5iEFi5m5FAgZVDi+z8kkAhsHJokR+VQHNoke38nJZAVg4tsp17mkBCYOXQoh+dQG8Sg8DKsp5ALbKd7ydXn0AnMQisXD6hQOkmMQhsV6JADAIrh5Y+o0CkcD0KV7qkQJhuEoPAMaZA+n5qvLTip0DFILByqGypQH9qvHTTl6tAK4cW2Q5NrUAEVg4tMgiwQIGVQ4vMgrFA/tR46YaOskAEVg4tEpazQKabxCCwQrVAuB6F63HUtkAnMQisnLy2QJzEILASSbdAmpmZmRm6uEArhxbZzve5QGZmZmYm5bpApHA9Cpeau0D2KFyPQuq7QNejcD3qnbxAppvEIPDOu0DfT42XDqu8QI2XbhIjd75AGy/dJGb5vkDD9ShcL5K/QAaBlUMbYMBAJzEIrCwuwUCgGi/ddKPBQJMYBFaeE8JAMQisHPpnwkC+nxovTWrCQOF6FK6nEcNAvp8aL12Ow0BvEoPAqhTEQClcj8KFqsRATmIQWGn2xECkcD0Kx8DFQPhT46VrEsZAhetRuO7MxkBeukkM8p7GQClcj8IVGMdADi2ynU9Ix0AAAAAAAKTHQM3MzMycZchAbef7qeF0yEBKDAIrVxbJQPp+arwk4shAuB6F6yH4x0BQjZduwgXJQM3MzMw8/chA9ihcjxKfyEBaZDvfn9LIQLx0kxiUFslA8KfGS9cMyUBQjZduwhLJQPhT46UL0MhA7FG4HsW3yUD2KFyP0mXJQNejcD1axshAqvHSTdJcyUCmm8QgwCvKQOXQItt50clARIts5/tmykA=",
          "dtype": "f8"
         },
         "xaxis": "x2",
         "y": {
          "bdata": "AF+dVGsAZcAAWxQekqJdQEA0cg34k3VAYMKuzmtmg0CA7+wPAV6LQFBYm4cR/JJAgINiBOoIl0AQHNcCSyycQPgpwEgpv6BAEITBhGWDo0DwehjapnylQHgT3rVM5KdAYGt0Ch1iqkDI2lV/n0SsQAB2KgsdPK5A4FFPwEP/r0CY3XaMVquwQNgPvIAQQrFAELzEihUFskB80JaOr46yQDwti6aJObNA7GzuPFpStECsH1tWgD61QIhXSN8hzLVACLjWMF8ytkD0tBAobi23QDCJk7HeK7hAPJJxaRGSuEAEkIcf4hy5QDDPbNyWoLlAKKqlWd5sukDUq90b4G27QLhabgybMrxAiL2/2U5vvUAIm48u2929QND6Nx1E5r1ApPXgOApSvkCERJa7xdy+QGAg2zWSY79AQFd60qbKv0AcCNtkciXAQHZJVcQXpcBA1JTMaCJxwUBIc+yjmvfBQMhWoHcihsJANBcvzfDqwkCoR19dE2vDQBpC/sbnycNA8IpgC8YaxEAQnGrizGvEQGD//xGlo8RASrsOyzvvxEBcxZB0hXnFQH6xhGO54cVAVHwz61MixkA2ZJoZCkzGQH7goz3afMZAUDpTfM/MxkDQ6pgCzy7HQDbRf/721sdAAvRynrrQyEB8F0zJ2wnJQHaJjuv9W8lAJklnHLuNyUBO5pNW0cPJQD4ln3JB78lAnGozNGQIykAsFiazEErKQFbGNm5OZcpA7Hqbe75RykA6yyf/uz7KQPTDaf9KZctARgn33+OEykBi/tEK2oXKQKReuwhKqMpAnJDQVjXpykA=",
          "dtype": "f8"
         },
         "yaxis": "y2"
        },
        {
         "line": {
          "color": "red",
          "dash": "dash"
         },
         "mode": "lines",
         "showlegend": false,
         "type": "scatter",
         "x": [
          868.393,
          13517.968
         ],
         "xaxis": "x2",
         "y": [
          868.393,
          13517.968
         ],
         "yaxis": "y2"
        }
       ],
       "layout": {
        "annotations": [
         {
          "font": {
           "size": 16
          },
          "showarrow": false,
          "text": "Total Energy Consumption",
          "x": 0.225,
          "xanchor": "center",
          "xref": "paper",
          "y": 1,
          "yanchor": "bottom",
          "yref": "paper"
         },
         {
          "font": {
           "size": 16
          },
          "showarrow": false,
          "text": "Total Electricity Use",
          "x": 0.775,
          "xanchor": "center",
          "xref": "paper",
          "y": 1,
          "yanchor": "bottom",
          "yref": "paper"
         },
         {
          "align": "left",
          "font": {
           "color": "brown",
           "family": "Arial",
           "size": 10,
           "weight": "bold"
          },
          "showarrow": false,
          "text": "Energy = -51808.68 + -3.37·GDP + 593.70·Pop<br>R² = 0.933",
          "x": 0.05,
          "xref": "x domain",
          "y": 0.95,
          "yref": "y domain"
         },
         {
          "align": "left",
          "font": {
           "color": "brown",
           "family": "Arial",
           "size": 10,
           "weight": "bold"
          },
          "showarrow": false,
          "text": "Electricity = -16941.00 + -0.41·GDP + 118.70·Pop<br>R² = 0.980",
          "x": 0.05,
          "xref": "x2 domain",
          "y": 0.95,
          "yref": "y2 domain"
         }
        ],
        "height": 500,
        "template": {
         "data": {
          "bar": [
           {
            "error_x": {
             "color": "#2a3f5f"
            },
            "error_y": {
             "color": "#2a3f5f"
            },
            "marker": {
             "line": {
              "color": "white",
              "width": 0.5
             },
             "pattern": {
              "fillmode": "overlay",
              "size": 10,
              "solidity": 0.2
             }
            },
            "type": "bar"
           }
          ],
          "barpolar": [
           {
            "marker": {
             "line": {
              "color": "white",
              "width": 0.5
             },
             "pattern": {
              "fillmode": "overlay",
              "size": 10,
              "solidity": 0.2
             }
            },
            "type": "barpolar"
           }
          ],
          "carpet": [
           {
            "aaxis": {
             "endlinecolor": "#2a3f5f",
             "gridcolor": "#C8D4E3",
             "linecolor": "#C8D4E3",
             "minorgridcolor": "#C8D4E3",
             "startlinecolor": "#2a3f5f"
            },
            "baxis": {
             "endlinecolor": "#2a3f5f",
             "gridcolor": "#C8D4E3",
             "linecolor": "#C8D4E3",
             "minorgridcolor": "#C8D4E3",
             "startlinecolor": "#2a3f5f"
            },
            "type": "carpet"
           }
          ],
          "choropleth": [
           {
            "colorbar": {
             "outlinewidth": 0,
             "ticks": ""
            },
            "type": "choropleth"
           }
          ],
          "contour": [
           {
            "colorbar": {
             "outlinewidth": 0,
             "ticks": ""
            },
            "colorscale": [
             [
              0,
              "#0d0887"
             ],
             [
              0.1111111111111111,
              "#46039f"
             ],
             [
              0.2222222222222222,
              "#7201a8"
             ],
             [
              0.3333333333333333,
              "#9c179e"
             ],
             [
              0.4444444444444444,
              "#bd3786"
             ],
             [
              0.5555555555555556,
              "#d8576b"
             ],
             [
              0.6666666666666666,
              "#ed7953"
             ],
             [
              0.7777777777777778,
              "#fb9f3a"
             ],
             [
              0.8888888888888888,
              "#fdca26"
             ],
             [
              1,
              "#f0f921"
             ]
            ],
            "type": "contour"
           }
          ],
          "contourcarpet": [
           {
            "colorbar": {
             "outlinewidth": 0,
             "ticks": ""
            },
            "type": "contourcarpet"
           }
          ],
          "heatmap": [
           {
            "colorbar": {
             "outlinewidth": 0,
             "ticks": ""
            },
            "colorscale": [
             [
              0,
              "#0d0887"
             ],
             [
              0.1111111111111111,
              "#46039f"
             ],
             [
              0.2222222222222222,
              "#7201a8"
             ],
             [
              0.3333333333333333,
              "#9c179e"
             ],
             [
              0.4444444444444444,
              "#bd3786"
             ],
             [
              0.5555555555555556,
              "#d8576b"
             ],
             [
              0.6666666666666666,
              "#ed7953"
             ],
             [
              0.7777777777777778,
              "#fb9f3a"
             ],
             [
              0.8888888888888888,
              "#fdca26"
             ],
             [
              1,
              "#f0f921"
             ]
            ],
            "type": "heatmap"
           }
          ],
          "histogram": [
           {
            "marker": {
             "pattern": {
              "fillmode": "overlay",
              "size": 10,
              "solidity": 0.2
             }
            },
            "type": "histogram"
           }
          ],
          "histogram2d": [
           {
            "colorbar": {
             "outlinewidth": 0,
             "ticks": ""
            },
            "colorscale": [
             [
              0,
              "#0d0887"
             ],
             [
              0.1111111111111111,
              "#46039f"
             ],
             [
              0.2222222222222222,
              "#7201a8"
             ],
             [
              0.3333333333333333,
              "#9c179e"
             ],
             [
              0.4444444444444444,
              "#bd3786"
             ],
             [
              0.5555555555555556,
              "#d8576b"
             ],
             [
              0.6666666666666666,
              "#ed7953"
             ],
             [
              0.7777777777777778,
              "#fb9f3a"
             ],
             [
              0.8888888888888888,
              "#fdca26"
             ],
             [
              1,
              "#f0f921"
             ]
            ],
            "type": "histogram2d"
           }
          ],
          "histogram2dcontour": [
           {
            "colorbar": {
             "outlinewidth": 0,
             "ticks": ""
            },
            "colorscale": [
             [
              0,
              "#0d0887"
             ],
             [
              0.1111111111111111,
              "#46039f"
             ],
             [
              0.2222222222222222,
              "#7201a8"
             ],
             [
              0.3333333333333333,
              "#9c179e"
             ],
             [
              0.4444444444444444,
              "#bd3786"
             ],
             [
              0.5555555555555556,
              "#d8576b"
             ],
             [
              0.6666666666666666,
              "#ed7953"
             ],
             [
              0.7777777777777778,
              "#fb9f3a"
             ],
             [
              0.8888888888888888,
              "#fdca26"
             ],
             [
              1,
              "#f0f921"
             ]
            ],
            "type": "histogram2dcontour"
           }
          ],
          "mesh3d": [
           {
            "colorbar": {
             "outlinewidth": 0,
             "ticks": ""
            },
            "type": "mesh3d"
           }
          ],
          "parcoords": [
           {
            "line": {
             "colorbar": {
              "outlinewidth": 0,
              "ticks": ""
             }
            },
            "type": "parcoords"
           }
          ],
          "pie": [
           {
            "automargin": true,
            "type": "pie"
           }
          ],
          "scatter": [
           {
            "fillpattern": {
             "fillmode": "overlay",
             "size": 10,
             "solidity": 0.2
            },
            "type": "scatter"
           }
          ],
          "scatter3d": [
           {
            "line": {
             "colorbar": {
              "outlinewidth": 0,
              "ticks": ""
             }
            },
            "marker": {
             "colorbar": {
              "outlinewidth": 0,
              "ticks": ""
             }
            },
            "type": "scatter3d"
           }
          ],
          "scattercarpet": [
           {
            "marker": {
             "colorbar": {
              "outlinewidth": 0,
              "ticks": ""
             }
            },
            "type": "scattercarpet"
           }
          ],
          "scattergeo": [
           {
            "marker": {
             "colorbar": {
              "outlinewidth": 0,
              "ticks": ""
             }
            },
            "type": "scattergeo"
           }
          ],
          "scattergl": [
           {
            "marker": {
             "colorbar": {
              "outlinewidth": 0,
              "ticks": ""
             }
            },
            "type": "scattergl"
           }
          ],
          "scattermap": [
           {
            "marker": {
             "colorbar": {
              "outlinewidth": 0,
              "ticks": ""
             }
            },
            "type": "scattermap"
           }
          ],
          "scattermapbox": [
           {
            "marker": {
             "colorbar": {
              "outlinewidth": 0,
              "ticks": ""
             }
            },
            "type": "scattermapbox"
           }
          ],
          "scatterpolar": [
           {
            "marker": {
             "colorbar": {
              "outlinewidth": 0,
              "ticks": ""
             }
            },
            "type": "scatterpolar"
           }
          ],
          "scatterpolargl": [
           {
            "marker": {
             "colorbar": {
              "outlinewidth": 0,
              "ticks": ""
             }
            },
            "type": "scatterpolargl"
           }
          ],
          "scatterternary": [
           {
            "marker": {
             "colorbar": {
              "outlinewidth": 0,
              "ticks": ""
             }
            },
            "type": "scatterternary"
           }
          ],
          "surface": [
           {
            "colorbar": {
             "outlinewidth": 0,
             "ticks": ""
            },
            "colorscale": [
             [
              0,
              "#0d0887"
             ],
             [
              0.1111111111111111,
              "#46039f"
             ],
             [
              0.2222222222222222,
              "#7201a8"
             ],
             [
              0.3333333333333333,
              "#9c179e"
             ],
             [
              0.4444444444444444,
              "#bd3786"
             ],
             [
              0.5555555555555556,
              "#d8576b"
             ],
             [
              0.6666666666666666,
              "#ed7953"
             ],
             [
              0.7777777777777778,
              "#fb9f3a"
             ],
             [
              0.8888888888888888,
              "#fdca26"
             ],
             [
              1,
              "#f0f921"
             ]
            ],
            "type": "surface"
           }
          ],
          "table": [
           {
            "cells": {
             "fill": {
              "color": "#EBF0F8"
             },
             "line": {
              "color": "white"
             }
            },
            "header": {
             "fill": {
              "color": "#C8D4E3"
             },
             "line": {
              "color": "white"
             }
            },
            "type": "table"
           }
          ]
         },
         "layout": {
          "annotationdefaults": {
           "arrowcolor": "#2a3f5f",
           "arrowhead": 0,
           "arrowwidth": 1
          },
          "autotypenumbers": "strict",
          "coloraxis": {
           "colorbar": {
            "outlinewidth": 0,
            "ticks": ""
           }
          },
          "colorscale": {
           "diverging": [
            [
             0,
             "#8e0152"
            ],
            [
             0.1,
             "#c51b7d"
            ],
            [
             0.2,
             "#de77ae"
            ],
            [
             0.3,
             "#f1b6da"
            ],
            [
             0.4,
             "#fde0ef"
            ],
            [
             0.5,
             "#f7f7f7"
            ],
            [
             0.6,
             "#e6f5d0"
            ],
            [
             0.7,
             "#b8e186"
            ],
            [
             0.8,
             "#7fbc41"
            ],
            [
             0.9,
             "#4d9221"
            ],
            [
             1,
             "#276419"
            ]
           ],
           "sequential": [
            [
             0,
             "#0d0887"
            ],
            [
             0.1111111111111111,
             "#46039f"
            ],
            [
             0.2222222222222222,
             "#7201a8"
            ],
            [
             0.3333333333333333,
             "#9c179e"
            ],
            [
             0.4444444444444444,
             "#bd3786"
            ],
            [
             0.5555555555555556,
             "#d8576b"
            ],
            [
             0.6666666666666666,
             "#ed7953"
            ],
            [
             0.7777777777777778,
             "#fb9f3a"
            ],
            [
             0.8888888888888888,
             "#fdca26"
            ],
            [
             1,
             "#f0f921"
            ]
           ],
           "sequentialminus": [
            [
             0,
             "#0d0887"
            ],
            [
             0.1111111111111111,
             "#46039f"
            ],
            [
             0.2222222222222222,
             "#7201a8"
            ],
            [
             0.3333333333333333,
             "#9c179e"
            ],
            [
             0.4444444444444444,
             "#bd3786"
            ],
            [
             0.5555555555555556,
             "#d8576b"
            ],
            [
             0.6666666666666666,
             "#ed7953"
            ],
            [
             0.7777777777777778,
             "#fb9f3a"
            ],
            [
             0.8888888888888888,
             "#fdca26"
            ],
            [
             1,
             "#f0f921"
            ]
           ]
          },
          "colorway": [
           "#636efa",
           "#EF553B",
           "#00cc96",
           "#ab63fa",
           "#FFA15A",
           "#19d3f3",
           "#FF6692",
           "#B6E880",
           "#FF97FF",
           "#FECB52"
          ],
          "font": {
           "color": "#2a3f5f"
          },
          "geo": {
           "bgcolor": "white",
           "lakecolor": "white",
           "landcolor": "white",
           "showlakes": true,
           "showland": true,
           "subunitcolor": "#C8D4E3"
          },
          "hoverlabel": {
           "align": "left"
          },
          "hovermode": "closest",
          "mapbox": {
           "style": "light"
          },
          "paper_bgcolor": "white",
          "plot_bgcolor": "white",
          "polar": {
           "angularaxis": {
            "gridcolor": "#EBF0F8",
            "linecolor": "#EBF0F8",
            "ticks": ""
           },
           "bgcolor": "white",
           "radialaxis": {
            "gridcolor": "#EBF0F8",
            "linecolor": "#EBF0F8",
            "ticks": ""
           }
          },
          "scene": {
           "xaxis": {
            "backgroundcolor": "white",
            "gridcolor": "#DFE8F3",
            "gridwidth": 2,
            "linecolor": "#EBF0F8",
            "showbackground": true,
            "ticks": "",
            "zerolinecolor": "#EBF0F8"
           },
           "yaxis": {
            "backgroundcolor": "white",
            "gridcolor": "#DFE8F3",
            "gridwidth": 2,
            "linecolor": "#EBF0F8",
            "showbackground": true,
            "ticks": "",
            "zerolinecolor": "#EBF0F8"
           },
           "zaxis": {
            "backgroundcolor": "white",
            "gridcolor": "#DFE8F3",
            "gridwidth": 2,
            "linecolor": "#EBF0F8",
            "showbackground": true,
            "ticks": "",
            "zerolinecolor": "#EBF0F8"
           }
          },
          "shapedefaults": {
           "line": {
            "color": "#2a3f5f"
           }
          },
          "ternary": {
           "aaxis": {
            "gridcolor": "#DFE8F3",
            "linecolor": "#A2B1C6",
            "ticks": ""
           },
           "baxis": {
            "gridcolor": "#DFE8F3",
            "linecolor": "#A2B1C6",
            "ticks": ""
           },
           "bgcolor": "white",
           "caxis": {
            "gridcolor": "#DFE8F3",
            "linecolor": "#A2B1C6",
            "ticks": ""
           }
          },
          "title": {
           "x": 0.05
          },
          "xaxis": {
           "automargin": true,
           "gridcolor": "#EBF0F8",
           "linecolor": "#EBF0F8",
           "ticks": "",
           "title": {
            "standoff": 15
           },
           "zerolinecolor": "#EBF0F8",
           "zerolinewidth": 2
          },
          "yaxis": {
           "automargin": true,
           "gridcolor": "#EBF0F8",
           "linecolor": "#EBF0F8",
           "ticks": "",
           "title": {
            "standoff": 15
           },
           "zerolinecolor": "#EBF0F8",
           "zerolinewidth": 2
          }
         }
        },
        "title": {
         "text": "Predicted vs Actual: Energy & Electricity Consumptions",
         "x": 0.5
        },
        "width": 1100,
        "xaxis": {
         "anchor": "y",
         "domain": [
          0,
          0.45
         ],
         "title": {
          "text": "Actual Use (Trillion Btu)"
         }
        },
        "xaxis2": {
         "anchor": "y2",
         "domain": [
          0.55,
          1
         ],
         "title": {
          "text": "Actual Use (Trillion Btu)"
         }
        },
        "yaxis": {
         "anchor": "x",
         "domain": [
          0,
          1
         ],
         "title": {
          "text": "Predicted Use (Trillion Btu)"
         }
        },
        "yaxis2": {
         "anchor": "x2",
         "domain": [
          0,
          1
         ]
        }
       }
      }
     },
     "metadata": {},
     "output_type": "display_data"
    }
   ],
   "source": [
    "# Plot Predicted vs Actual Values: add regression formulas and R-squared\n",
    "# Exclude Total Degree Days from predictors\n",
    "\n",
    "# --- Regression: Energy ---\n",
    "X_energy = df1_energy[[\"GDP_Real\", \"POP_US\"]]  # predictors\n",
    "X_energy = sm.add_constant(X_energy)  # add intercept\n",
    "y_energy = df1_energy[\"TotEnergy_2EndUse\"]\n",
    "\n",
    "model_energy = sm.OLS(y_energy, X_energy).fit()\n",
    "df1_energy[\"Pred_Energy\"] = model_energy.predict(X_energy)\n",
    "\n",
    "# --- Regression: Electricity ---\n",
    "X_elec = df1_energy[[\"GDP_Real\", \"POP_US\"]]\n",
    "X_elec = sm.add_constant(X_elec)\n",
    "y_elec = df1_energy[\"TotElectricity_2Used\"]\n",
    "\n",
    "model_elec = sm.OLS(y_elec, X_elec).fit()\n",
    "df1_energy[\"Pred_Electricity\"] = model_elec.predict(X_elec)\n",
    "\n",
    "# Extract formulas + R^2\n",
    "eqn_energy = (\n",
    "    f\"Energy = {model_energy.params[0]:.2f} + {model_energy.params[1]:.2f}·GDP + \"\n",
    "    f\"{model_energy.params[2]:.2f}·Pop\"\n",
    ")\n",
    "r2_energy = f\"R² = {model_energy.rsquared:.3f}\"\n",
    "\n",
    "eqn_elec = (\n",
    "    f\"Electricity = {model_elec.params[0]:.2f} + {model_elec.params[1]:.2f}·GDP + \"\n",
    "    f\"{model_elec.params[2]:.2f}·Pop\"\n",
    ")\n",
    "r2_elec = f\"R² = {model_elec.rsquared:.3f}\"\n",
    "\n",
    "# --- PLOTS ---\n",
    "from plotly.subplots import make_subplots\n",
    "import plotly.graph_objects as go\n",
    "\n",
    "fig = make_subplots(\n",
    "    rows=1, cols=2,\n",
    "    subplot_titles=(\"Total Energy Consumption\", \"Total Electricity Use\")\n",
    ")\n",
    "\n",
    "# Left: Energy\n",
    "fig.add_trace(go.Scatter(\n",
    "    x=y_energy, y=df1_energy[\"Pred_Energy\"],\n",
    "    mode=\"markers\", name=\"Energy\",\n",
    "    showlegend=False\n",
    "), row=1, col=1)\n",
    "\n",
    "fig.add_trace(go.Scatter(\n",
    "    x=[y_energy.min(), y_energy.max()],\n",
    "    y=[y_energy.min(), y_energy.max()],\n",
    "    mode=\"lines\", line=dict(color=\"red\", dash=\"dash\"),\n",
    "    showlegend=False\n",
    "), row=1, col=1)\n",
    "\n",
    "fig.add_annotation(\n",
    "    text=f\"{eqn_energy}<br>{r2_energy}\",\n",
    "    xref=\"x domain\", yref=\"y domain\",\n",
    "    x=0.05, y=0.95, showarrow=False,\n",
    "    align=\"left\", font=dict(size=10, family=\"Arial\", color=\"brown\", weight=\"bold\"),\n",
    "    row=1, col=1\n",
    ")\n",
    "\n",
    "# Right: Electricity\n",
    "fig.add_trace(go.Scatter(\n",
    "    x=y_elec, y=df1_energy[\"Pred_Electricity\"],\n",
    "    mode=\"markers\", name=\"Electricity\",\n",
    "    showlegend=False\n",
    "), row=1, col=2)\n",
    "\n",
    "fig.add_trace(go.Scatter(\n",
    "    x=[y_elec.min(), y_elec.max()],\n",
    "    y=[y_elec.min(), y_elec.max()],\n",
    "    mode=\"lines\", line=dict(color=\"red\", dash=\"dash\"),\n",
    "    showlegend=False\n",
    "), row=1, col=2)\n",
    "\n",
    "fig.add_annotation(\n",
    "    text=f\"{eqn_elec}<br>{r2_elec}\",\n",
    "    xref=\"x domain\", yref=\"y domain\",\n",
    "    x=0.05, y=0.95, showarrow=False,\n",
    "    align=\"left\", font=dict(size=10, family=\"Arial\", color=\"brown\", weight=\"bold\"),\n",
    "    row=1, col=2\n",
    ")\n",
    "\n",
    "# Layout\n",
    "fig.update_layout(\n",
    "    title=dict(text=\"Predicted vs Actual: Energy & Electricity Consumptions\", x=0.5),\n",
    "    template=\"plotly_white\",\n",
    "    width=1100, height=500,\n",
    "    xaxis1=dict(title=\"Actual Use (Trillion Btu)\"),\n",
    "    yaxis1=dict(title=\"Predicted Use (Trillion Btu)\"),\n",
    "    xaxis2=dict(title=\"Actual Use (Trillion Btu)\"),\n",
    "    # yaxis2=dict(title=\"Predicted Use (Trillion Btu)\")\n",
    "    # legend=dict(\n",
    "    #     orientation=\"h\",   # horizontal legend\n",
    "    #     yanchor=\"bottom\", \n",
    "    #     y=1,             # move above the plots\n",
    "    #     xanchor=\"center\", \n",
    "    #     x=0.5)\n",
    ")\n",
    "\n",
    "fig.show()"
   ]
  },
  {
   "cell_type": "markdown",
   "id": "fdc2e305",
   "metadata": {},
   "source": [
    "##### Forcasting energy/electricity use in 2025-2030\n",
    "- Use the regression model based on data of 1949-2024"
   ]
  },
  {
   "cell_type": "code",
   "execution_count": 19,
   "id": "893a9678",
   "metadata": {},
   "outputs": [],
   "source": [
    "# Predicting Total Energy Consumption and Total Electricity Use through 2025-2030\n",
    "# - According to EIA, real GDP will grow by 2.0% annually from 2024 to 2030.\n",
    "# - Since 2000, the U.S. population has grown by approximately 0.8% annually (U.S. Census Bureau).\n",
    "\n",
    "# Step 1. Extend GDP & Population with growth rates\n",
    "\n",
    "# Take last known year, GDP, and Population\n",
    "last_year = df1_energy[\"Year\"].max()\n",
    "last_gdp = df1_energy.loc[df1_energy[\"Year\"] == last_year, \"GDP_Real\"].values[0]\n",
    "last_pop = df1_energy.loc[df1_energy[\"Year\"] == last_year, \"POP_US\"].values[0]\n",
    "\n",
    "# Forecast years\n",
    "future_years = np.arange(2025, 2031)\n",
    "\n",
    "# Project GDP and Population\n",
    "# - Real GDP grows 2.0% per year after 2024\n",
    "# - Population grows 0.8% per year after 2024\n",
    "future_gdp = [last_gdp * ((1.02) ** (year - last_year)) for year in future_years]\n",
    "future_pop = [last_pop * ((1.008) ** (year - last_year)) for year in future_years]\n",
    "\n",
    "df_future = pd.DataFrame({\n",
    "    \"Year\": future_years,\n",
    "    \"GDP_Real\": future_gdp,\n",
    "    \"POP_US\": future_pop\n",
    "})"
   ]
  },
  {
   "cell_type": "code",
   "execution_count": 134,
   "id": "eaf4b7d7",
   "metadata": {},
   "outputs": [],
   "source": [
    "# Step 2. Fit Linear Regression Models (using historical data)\n",
    "from sklearn.linear_model import LinearRegression\n",
    "\n",
    "# Features and targets\n",
    "X = df1_energy[[\"GDP_Real\", \"POP_US\"]]\n",
    "y_energy = df1_energy[\"TotEnergy_2EndUse\"]\n",
    "y_elec = df1_energy[\"TotElectricity_2Used\"]\n",
    "\n",
    "# Fit models\n",
    "model_energy = LinearRegression().fit(X, y_energy)\n",
    "model_elec = LinearRegression().fit(X, y_elec)"
   ]
  },
  {
   "cell_type": "code",
   "execution_count": null,
   "id": "53efa8bc",
   "metadata": {},
   "outputs": [],
   "source": [
    "# Step 3. Predict for 2025–2030; IVs = GDP_Real, POP_US\n",
    "\n",
    "X_future = df_future[[\"GDP_Real\", \"POP_US\"]]\n",
    "df_future[\"Pred_Energy\"] = model_energy.predict(X_future)\n",
    "df_future[\"Pred_Electricity\"] = model_elec.predict(X_future)\n",
    "\n",
    "# Combine with historical data for plotting\n",
    "df_plot = pd.concat([df1_energy[[\"Year\",\"TotEnergy_2EndUse\",\"TotElectricity_2Used\"]], df_future], ignore_index=True)"
   ]
  },
  {
   "cell_type": "code",
   "execution_count": 140,
   "id": "9010ece3",
   "metadata": {},
   "outputs": [
    {
     "data": {
      "application/vnd.plotly.v1+json": {
       "config": {
        "plotlyServerURL": "https://plot.ly"
       },
       "data": [
        {
         "line": {
          "color": "blue"
         },
         "mode": "lines+markers",
         "name": "Actual Energy Use",
         "type": "scatter",
         "x": {
          "bdata": "nQeeB58HoAehB6IHowekB6UHpgenB6gHqQeqB6sHrAetB64HrwewB7EHsgezB7QHtQe2B7cHuAe5B7oHuwe8B70Hvge/B8AHwQfCB8MHxAfFB8YHxwfIB8kHygfLB8wHzQfOB88H0AfRB9IH0wfUB9UH1gfXB9gH2QfaB9sH3AfdB94H3wfgB+EH4gfjB+QH5QfmB+cH6Ac=",
          "dtype": "i2"
         },
         "y": {
          "bdata": "SOF6FJ7F20D0/dR4SSPeQB+F61FIGOBAJQaBlUvL30DpJjEIlDjgQOF6FK43fN9AexSuRxVH4UAOLbKdN+HhQLpJDALbzeFAzczMzOzE4UAK16NwTXbiQHnpJjGAJONAxSCwcshf40BEi2znCzTkQOF6FK6z4+RAL90kBpm35UAfhetRpIvmQB1aZDuLq+dAokW2891g6EBQjZdu/q7pQBBYObQgzepA9P3UeF1860Bg5dAiw+XrQJZDi2y3He1AXI/C9ewk7kB/arx05zTtQH9qvHTvH+xArBxaZMur7UCiRbbzeUTuQGZmZmb+3e5A+n5qvOA070C+nxovsbntQIGVQ4u4xuxAIbByaPFr60CkcD0K9yfrQC/dJAbVquxARrbz/cxs7EBqvHSTrIfsQMP1KFxDfO1ANV66SYzc7kAdWmQ7OzLvQFYOLbKt1+5AcT0K1/O57kCwcmiRQXPvQArXo3B50O9AZmZmZhpA8EACK4cW2YbwQARWDi0SFvFAnMQgsEoq8UB7FK5HdwrxQLbz/dTwSvFACtejcL2l8UCDwMqh1TDxQM/3U+PzaPFAWDm0yCKB8UDTTWIQsurxQLx0kxj4zvFA+n5qvKSx8UAbL90kiujxQDvfT40XdfFA5/up8bah8EAUrkfh/EDxQCcxCKxwK/FAvHSTGBbM8EApXI/CH2/xQMdLN4mNrvFAUrgehfWi8UBeukkM7qrxQCPb+X6Yz/FA8KfGS5OR8kAtsp3vp53yQA4tsp1dDPFAbef7qe8D8kBg5dAiQVvyQO58PzVoPfJAzczMzEJN8kA=",
          "dtype": "f8"
         }
        },
        {
         "line": {
          "color": "maroon",
          "dash": "dash"
         },
         "mode": "lines+markers",
         "name": "Forecast Energy Use",
         "type": "scatter",
         "x": {
          "bdata": "6QcAAOoHAADrBwAA7AcAAO0HAADuBwAA",
          "dtype": "i4"
         },
         "y": {
          "bdata": "MC/4yyt58UBmrFn6vnrxQIwjzJghe/FAYMWxD0t68UDceU+WMnjxQJbrxjHPdPFA",
          "dtype": "f8"
         }
        },
        {
         "line": {
          "color": "green"
         },
         "mode": "lines+markers",
         "name": "Actual Electricity Use",
         "type": "scatter",
         "x": {
          "bdata": "nQeeB58HoAehB6IHowekB6UHpgenB6gHqQeqB6sHrAetB64HrwewB7EHsgezB7QHtQe2B7cHuAe5B7oHuwe8B70Hvge/B8AHwQfCB8MHxAfFB8YHxwfIB8kHygfLB8wHzQfOB88H0AfRB9IH0wfUB9UH1gfXB9gH2QfaB9sH3AfdB94H3wfgB+EH4gfjB+QH5QfmB+cH6Ac=",
          "dtype": "i2"
         },
         "y": {
          "bdata": "oBov3SQji0AK16NwPROPQE5iEFi5m5FAgZVDi+z8kkAhsHJokR+VQHNoke38nJZAVg4tsp17mkBCYOXQoh+dQG8Sg8DKsp5ALbKd7ydXn0AnMQisXD6hQOkmMQhsV6JADAIrh5Y+o0CkcD0KV7qkQJhuEoPAMaZA+n5qvLTip0DFILByqGypQH9qvHTTl6tAK4cW2Q5NrUAEVg4tMgiwQIGVQ4vMgrFA/tR46YaOskAEVg4tEpazQKabxCCwQrVAuB6F63HUtkAnMQisnLy2QJzEILASSbdAmpmZmRm6uEArhxbZzve5QGZmZmYm5bpApHA9Cpeau0D2KFyPQuq7QNejcD3qnbxAppvEIPDOu0DfT42XDqu8QI2XbhIjd75AGy/dJGb5vkDD9ShcL5K/QAaBlUMbYMBAJzEIrCwuwUCgGi/ddKPBQJMYBFaeE8JAMQisHPpnwkC+nxovTWrCQOF6FK6nEcNAvp8aL12Ow0BvEoPAqhTEQClcj8KFqsRATmIQWGn2xECkcD0Kx8DFQPhT46VrEsZAhetRuO7MxkBeukkM8p7GQClcj8IVGMdADi2ynU9Ix0AAAAAAAKTHQM3MzMycZchAbef7qeF0yEBKDAIrVxbJQPp+arwk4shAuB6F6yH4x0BQjZduwgXJQM3MzMw8/chA9ihcjxKfyEBaZDvfn9LIQLx0kxiUFslA8KfGS9cMyUBQjZduwhLJQPhT46UL0MhA7FG4HsW3yUD2KFyP0mXJQNejcD1axshAqvHSTdJcyUCmm8QgwCvKQOXQItt50clARIts5/tmykA=",
          "dtype": "f8"
         }
        },
        {
         "line": {
          "color": "orange",
          "dash": "dash"
         },
         "mode": "lines+markers",
         "name": "Forecast Electricity Use",
         "type": "scatter",
         "x": {
          "bdata": "6QcAAOoHAADrBwAA7AcAAO0HAADuBwAA",
          "dtype": "i4"
         },
         "y": {
          "bdata": "+KOMgzAqy0BaEPxWiGrLQKL725Q1qstA3l+90zDpy0CMHQ18cifMQKb2FsfyZMxA",
          "dtype": "f8"
         }
        }
       ],
       "layout": {
        "height": 500,
        "legend": {
         "orientation": "h",
         "x": 0.5,
         "xanchor": "center",
         "y": 1.1
        },
        "template": {
         "data": {
          "bar": [
           {
            "error_x": {
             "color": "#2a3f5f"
            },
            "error_y": {
             "color": "#2a3f5f"
            },
            "marker": {
             "line": {
              "color": "white",
              "width": 0.5
             },
             "pattern": {
              "fillmode": "overlay",
              "size": 10,
              "solidity": 0.2
             }
            },
            "type": "bar"
           }
          ],
          "barpolar": [
           {
            "marker": {
             "line": {
              "color": "white",
              "width": 0.5
             },
             "pattern": {
              "fillmode": "overlay",
              "size": 10,
              "solidity": 0.2
             }
            },
            "type": "barpolar"
           }
          ],
          "carpet": [
           {
            "aaxis": {
             "endlinecolor": "#2a3f5f",
             "gridcolor": "#C8D4E3",
             "linecolor": "#C8D4E3",
             "minorgridcolor": "#C8D4E3",
             "startlinecolor": "#2a3f5f"
            },
            "baxis": {
             "endlinecolor": "#2a3f5f",
             "gridcolor": "#C8D4E3",
             "linecolor": "#C8D4E3",
             "minorgridcolor": "#C8D4E3",
             "startlinecolor": "#2a3f5f"
            },
            "type": "carpet"
           }
          ],
          "choropleth": [
           {
            "colorbar": {
             "outlinewidth": 0,
             "ticks": ""
            },
            "type": "choropleth"
           }
          ],
          "contour": [
           {
            "colorbar": {
             "outlinewidth": 0,
             "ticks": ""
            },
            "colorscale": [
             [
              0,
              "#0d0887"
             ],
             [
              0.1111111111111111,
              "#46039f"
             ],
             [
              0.2222222222222222,
              "#7201a8"
             ],
             [
              0.3333333333333333,
              "#9c179e"
             ],
             [
              0.4444444444444444,
              "#bd3786"
             ],
             [
              0.5555555555555556,
              "#d8576b"
             ],
             [
              0.6666666666666666,
              "#ed7953"
             ],
             [
              0.7777777777777778,
              "#fb9f3a"
             ],
             [
              0.8888888888888888,
              "#fdca26"
             ],
             [
              1,
              "#f0f921"
             ]
            ],
            "type": "contour"
           }
          ],
          "contourcarpet": [
           {
            "colorbar": {
             "outlinewidth": 0,
             "ticks": ""
            },
            "type": "contourcarpet"
           }
          ],
          "heatmap": [
           {
            "colorbar": {
             "outlinewidth": 0,
             "ticks": ""
            },
            "colorscale": [
             [
              0,
              "#0d0887"
             ],
             [
              0.1111111111111111,
              "#46039f"
             ],
             [
              0.2222222222222222,
              "#7201a8"
             ],
             [
              0.3333333333333333,
              "#9c179e"
             ],
             [
              0.4444444444444444,
              "#bd3786"
             ],
             [
              0.5555555555555556,
              "#d8576b"
             ],
             [
              0.6666666666666666,
              "#ed7953"
             ],
             [
              0.7777777777777778,
              "#fb9f3a"
             ],
             [
              0.8888888888888888,
              "#fdca26"
             ],
             [
              1,
              "#f0f921"
             ]
            ],
            "type": "heatmap"
           }
          ],
          "histogram": [
           {
            "marker": {
             "pattern": {
              "fillmode": "overlay",
              "size": 10,
              "solidity": 0.2
             }
            },
            "type": "histogram"
           }
          ],
          "histogram2d": [
           {
            "colorbar": {
             "outlinewidth": 0,
             "ticks": ""
            },
            "colorscale": [
             [
              0,
              "#0d0887"
             ],
             [
              0.1111111111111111,
              "#46039f"
             ],
             [
              0.2222222222222222,
              "#7201a8"
             ],
             [
              0.3333333333333333,
              "#9c179e"
             ],
             [
              0.4444444444444444,
              "#bd3786"
             ],
             [
              0.5555555555555556,
              "#d8576b"
             ],
             [
              0.6666666666666666,
              "#ed7953"
             ],
             [
              0.7777777777777778,
              "#fb9f3a"
             ],
             [
              0.8888888888888888,
              "#fdca26"
             ],
             [
              1,
              "#f0f921"
             ]
            ],
            "type": "histogram2d"
           }
          ],
          "histogram2dcontour": [
           {
            "colorbar": {
             "outlinewidth": 0,
             "ticks": ""
            },
            "colorscale": [
             [
              0,
              "#0d0887"
             ],
             [
              0.1111111111111111,
              "#46039f"
             ],
             [
              0.2222222222222222,
              "#7201a8"
             ],
             [
              0.3333333333333333,
              "#9c179e"
             ],
             [
              0.4444444444444444,
              "#bd3786"
             ],
             [
              0.5555555555555556,
              "#d8576b"
             ],
             [
              0.6666666666666666,
              "#ed7953"
             ],
             [
              0.7777777777777778,
              "#fb9f3a"
             ],
             [
              0.8888888888888888,
              "#fdca26"
             ],
             [
              1,
              "#f0f921"
             ]
            ],
            "type": "histogram2dcontour"
           }
          ],
          "mesh3d": [
           {
            "colorbar": {
             "outlinewidth": 0,
             "ticks": ""
            },
            "type": "mesh3d"
           }
          ],
          "parcoords": [
           {
            "line": {
             "colorbar": {
              "outlinewidth": 0,
              "ticks": ""
             }
            },
            "type": "parcoords"
           }
          ],
          "pie": [
           {
            "automargin": true,
            "type": "pie"
           }
          ],
          "scatter": [
           {
            "fillpattern": {
             "fillmode": "overlay",
             "size": 10,
             "solidity": 0.2
            },
            "type": "scatter"
           }
          ],
          "scatter3d": [
           {
            "line": {
             "colorbar": {
              "outlinewidth": 0,
              "ticks": ""
             }
            },
            "marker": {
             "colorbar": {
              "outlinewidth": 0,
              "ticks": ""
             }
            },
            "type": "scatter3d"
           }
          ],
          "scattercarpet": [
           {
            "marker": {
             "colorbar": {
              "outlinewidth": 0,
              "ticks": ""
             }
            },
            "type": "scattercarpet"
           }
          ],
          "scattergeo": [
           {
            "marker": {
             "colorbar": {
              "outlinewidth": 0,
              "ticks": ""
             }
            },
            "type": "scattergeo"
           }
          ],
          "scattergl": [
           {
            "marker": {
             "colorbar": {
              "outlinewidth": 0,
              "ticks": ""
             }
            },
            "type": "scattergl"
           }
          ],
          "scattermap": [
           {
            "marker": {
             "colorbar": {
              "outlinewidth": 0,
              "ticks": ""
             }
            },
            "type": "scattermap"
           }
          ],
          "scattermapbox": [
           {
            "marker": {
             "colorbar": {
              "outlinewidth": 0,
              "ticks": ""
             }
            },
            "type": "scattermapbox"
           }
          ],
          "scatterpolar": [
           {
            "marker": {
             "colorbar": {
              "outlinewidth": 0,
              "ticks": ""
             }
            },
            "type": "scatterpolar"
           }
          ],
          "scatterpolargl": [
           {
            "marker": {
             "colorbar": {
              "outlinewidth": 0,
              "ticks": ""
             }
            },
            "type": "scatterpolargl"
           }
          ],
          "scatterternary": [
           {
            "marker": {
             "colorbar": {
              "outlinewidth": 0,
              "ticks": ""
             }
            },
            "type": "scatterternary"
           }
          ],
          "surface": [
           {
            "colorbar": {
             "outlinewidth": 0,
             "ticks": ""
            },
            "colorscale": [
             [
              0,
              "#0d0887"
             ],
             [
              0.1111111111111111,
              "#46039f"
             ],
             [
              0.2222222222222222,
              "#7201a8"
             ],
             [
              0.3333333333333333,
              "#9c179e"
             ],
             [
              0.4444444444444444,
              "#bd3786"
             ],
             [
              0.5555555555555556,
              "#d8576b"
             ],
             [
              0.6666666666666666,
              "#ed7953"
             ],
             [
              0.7777777777777778,
              "#fb9f3a"
             ],
             [
              0.8888888888888888,
              "#fdca26"
             ],
             [
              1,
              "#f0f921"
             ]
            ],
            "type": "surface"
           }
          ],
          "table": [
           {
            "cells": {
             "fill": {
              "color": "#EBF0F8"
             },
             "line": {
              "color": "white"
             }
            },
            "header": {
             "fill": {
              "color": "#C8D4E3"
             },
             "line": {
              "color": "white"
             }
            },
            "type": "table"
           }
          ]
         },
         "layout": {
          "annotationdefaults": {
           "arrowcolor": "#2a3f5f",
           "arrowhead": 0,
           "arrowwidth": 1
          },
          "autotypenumbers": "strict",
          "coloraxis": {
           "colorbar": {
            "outlinewidth": 0,
            "ticks": ""
           }
          },
          "colorscale": {
           "diverging": [
            [
             0,
             "#8e0152"
            ],
            [
             0.1,
             "#c51b7d"
            ],
            [
             0.2,
             "#de77ae"
            ],
            [
             0.3,
             "#f1b6da"
            ],
            [
             0.4,
             "#fde0ef"
            ],
            [
             0.5,
             "#f7f7f7"
            ],
            [
             0.6,
             "#e6f5d0"
            ],
            [
             0.7,
             "#b8e186"
            ],
            [
             0.8,
             "#7fbc41"
            ],
            [
             0.9,
             "#4d9221"
            ],
            [
             1,
             "#276419"
            ]
           ],
           "sequential": [
            [
             0,
             "#0d0887"
            ],
            [
             0.1111111111111111,
             "#46039f"
            ],
            [
             0.2222222222222222,
             "#7201a8"
            ],
            [
             0.3333333333333333,
             "#9c179e"
            ],
            [
             0.4444444444444444,
             "#bd3786"
            ],
            [
             0.5555555555555556,
             "#d8576b"
            ],
            [
             0.6666666666666666,
             "#ed7953"
            ],
            [
             0.7777777777777778,
             "#fb9f3a"
            ],
            [
             0.8888888888888888,
             "#fdca26"
            ],
            [
             1,
             "#f0f921"
            ]
           ],
           "sequentialminus": [
            [
             0,
             "#0d0887"
            ],
            [
             0.1111111111111111,
             "#46039f"
            ],
            [
             0.2222222222222222,
             "#7201a8"
            ],
            [
             0.3333333333333333,
             "#9c179e"
            ],
            [
             0.4444444444444444,
             "#bd3786"
            ],
            [
             0.5555555555555556,
             "#d8576b"
            ],
            [
             0.6666666666666666,
             "#ed7953"
            ],
            [
             0.7777777777777778,
             "#fb9f3a"
            ],
            [
             0.8888888888888888,
             "#fdca26"
            ],
            [
             1,
             "#f0f921"
            ]
           ]
          },
          "colorway": [
           "#636efa",
           "#EF553B",
           "#00cc96",
           "#ab63fa",
           "#FFA15A",
           "#19d3f3",
           "#FF6692",
           "#B6E880",
           "#FF97FF",
           "#FECB52"
          ],
          "font": {
           "color": "#2a3f5f"
          },
          "geo": {
           "bgcolor": "white",
           "lakecolor": "white",
           "landcolor": "white",
           "showlakes": true,
           "showland": true,
           "subunitcolor": "#C8D4E3"
          },
          "hoverlabel": {
           "align": "left"
          },
          "hovermode": "closest",
          "mapbox": {
           "style": "light"
          },
          "paper_bgcolor": "white",
          "plot_bgcolor": "white",
          "polar": {
           "angularaxis": {
            "gridcolor": "#EBF0F8",
            "linecolor": "#EBF0F8",
            "ticks": ""
           },
           "bgcolor": "white",
           "radialaxis": {
            "gridcolor": "#EBF0F8",
            "linecolor": "#EBF0F8",
            "ticks": ""
           }
          },
          "scene": {
           "xaxis": {
            "backgroundcolor": "white",
            "gridcolor": "#DFE8F3",
            "gridwidth": 2,
            "linecolor": "#EBF0F8",
            "showbackground": true,
            "ticks": "",
            "zerolinecolor": "#EBF0F8"
           },
           "yaxis": {
            "backgroundcolor": "white",
            "gridcolor": "#DFE8F3",
            "gridwidth": 2,
            "linecolor": "#EBF0F8",
            "showbackground": true,
            "ticks": "",
            "zerolinecolor": "#EBF0F8"
           },
           "zaxis": {
            "backgroundcolor": "white",
            "gridcolor": "#DFE8F3",
            "gridwidth": 2,
            "linecolor": "#EBF0F8",
            "showbackground": true,
            "ticks": "",
            "zerolinecolor": "#EBF0F8"
           }
          },
          "shapedefaults": {
           "line": {
            "color": "#2a3f5f"
           }
          },
          "ternary": {
           "aaxis": {
            "gridcolor": "#DFE8F3",
            "linecolor": "#A2B1C6",
            "ticks": ""
           },
           "baxis": {
            "gridcolor": "#DFE8F3",
            "linecolor": "#A2B1C6",
            "ticks": ""
           },
           "bgcolor": "white",
           "caxis": {
            "gridcolor": "#DFE8F3",
            "linecolor": "#A2B1C6",
            "ticks": ""
           }
          },
          "title": {
           "x": 0.05
          },
          "xaxis": {
           "automargin": true,
           "gridcolor": "#EBF0F8",
           "linecolor": "#EBF0F8",
           "ticks": "",
           "title": {
            "standoff": 15
           },
           "zerolinecolor": "#EBF0F8",
           "zerolinewidth": 2
          },
          "yaxis": {
           "automargin": true,
           "gridcolor": "#EBF0F8",
           "linecolor": "#EBF0F8",
           "ticks": "",
           "title": {
            "standoff": 15
           },
           "zerolinecolor": "#EBF0F8",
           "zerolinewidth": 2
          }
         }
        },
        "title": {
         "text": "Predicted U.S. Energy & Electricity Use (2025–2030)",
         "x": 0.5
        },
        "width": 900,
        "xaxis": {
         "title": {
          "text": "Year"
         }
        },
        "yaxis": {
         "title": {
          "text": "Energy Use (Trillion Btu)"
         }
        }
       }
      }
     },
     "metadata": {},
     "output_type": "display_data"
    }
   ],
   "source": [
    "# Step 4. Plot actual vs forecast (2025–2030 shaded)\n",
    "\n",
    "fig = go.Figure()\n",
    "\n",
    "# Historical Energy\n",
    "fig.add_trace(go.Scatter(\n",
    "    x=df1_energy[\"Year\"], y=df1_energy[\"TotEnergy_2EndUse\"],\n",
    "    mode=\"lines+markers\", name=\"Actual Energy Use\", line=dict(color=\"blue\")\n",
    "))\n",
    "\n",
    "# Forecast Energy\n",
    "fig.add_trace(go.Scatter(\n",
    "    x=df_future[\"Year\"], y=df_future[\"Pred_Energy\"],\n",
    "    mode=\"lines+markers\", name=\"Forecast Energy Use\", line=dict(color=\"maroon\", dash=\"dash\")\n",
    "))\n",
    "\n",
    "# Historical Electricity\n",
    "fig.add_trace(go.Scatter(\n",
    "    x=df1_energy[\"Year\"], y=df1_energy[\"TotElectricity_2Used\"],\n",
    "    mode=\"lines+markers\", name=\"Actual Electricity Use\", line=dict(color=\"green\")\n",
    "))\n",
    "\n",
    "# Forecast Electricity\n",
    "fig.add_trace(go.Scatter(\n",
    "    x=df_future[\"Year\"], y=df_future[\"Pred_Electricity\"],\n",
    "    mode=\"lines+markers\", name=\"Forecast Electricity Use\", line=dict(color=\"orange\", dash=\"dash\")\n",
    "))\n",
    "\n",
    "# Layout\n",
    "fig.update_layout(\n",
    "    title=dict(\n",
    "        text=\"Predicted U.S. Energy & Electricity Use (2025–2030)\",\n",
    "        x=0.5\n",
    "    ),\n",
    "    template=\"plotly_white\",\n",
    "    xaxis_title=\"Year\",\n",
    "    yaxis_title=\"Energy Use (Trillion Btu)\",\n",
    "    width=900, height=500,\n",
    "    legend=dict(orientation=\"h\", x=0.5, xanchor=\"center\", y=1.1)\n",
    ")\n",
    "\n",
    "fig.show()\n"
   ]
  },
  {
   "cell_type": "code",
   "execution_count": 21,
   "id": "03a6be0b",
   "metadata": {},
   "outputs": [],
   "source": [
    "# Only one IV = POP_US\n",
    "# Step 2. Fit Linear Regression Models (using historical data)\n",
    "\n",
    "df_future2 = pd.DataFrame({\n",
    "    \"Year\": future_years,\n",
    "        \"POP_US\": future_pop\n",
    "})\n",
    "\n",
    "# Features and targets\n",
    "X = df1_energy[[\"POP_US\"]]\n",
    "y_energy = df1_energy[\"TotEnergy_2EndUse\"]\n",
    "y_elec = df1_energy[\"TotElectricity_2Used\"]\n",
    "\n",
    "# Fit models\n",
    "model_energy = LinearRegression().fit(X, y_energy)\n",
    "model_elec = LinearRegression().fit(X, y_elec)"
   ]
  },
  {
   "cell_type": "code",
   "execution_count": 22,
   "id": "7e6d1890",
   "metadata": {},
   "outputs": [],
   "source": [
    "# Step 3-2. Predict for 2025–2030; IVs = POP_US\n",
    "\n",
    "X_future2 = df_future2[[\"POP_US\"]]\n",
    "df_future2[\"Pred_Energy\"] = model_energy.predict(X_future2)\n",
    "df_future2[\"Pred_Electricity\"] = model_elec.predict(X_future2)\n",
    "\n",
    "# Combine with historical data for plotting\n",
    "df_plot = pd.concat([df1_energy[[\"Year\",\"TotEnergy_2EndUse\",\"TotElectricity_2Used\"]], df_future2], ignore_index=True)"
   ]
  },
  {
   "cell_type": "code",
   "execution_count": null,
   "id": "948b2a84",
   "metadata": {},
   "outputs": [
    {
     "data": {
      "application/vnd.plotly.v1+json": {
       "config": {
        "plotlyServerURL": "https://plot.ly"
       },
       "data": [
        {
         "line": {
          "color": "blue"
         },
         "mode": "lines+markers",
         "name": "Actual Energy Use",
         "type": "scatter",
         "x": {
          "bdata": "nQeeB58HoAehB6IHowekB6UHpgenB6gHqQeqB6sHrAetB64HrwewB7EHsgezB7QHtQe2B7cHuAe5B7oHuwe8B70Hvge/B8AHwQfCB8MHxAfFB8YHxwfIB8kHygfLB8wHzQfOB88H0AfRB9IH0wfUB9UH1gfXB9gH2QfaB9sH3AfdB94H3wfgB+EH4gfjB+QH5QfmB+cH6Ac=",
          "dtype": "i2"
         },
         "y": {
          "bdata": "SOF6FJ7F20D0/dR4SSPeQB+F61FIGOBAJQaBlUvL30DpJjEIlDjgQOF6FK43fN9AexSuRxVH4UAOLbKdN+HhQLpJDALbzeFAzczMzOzE4UAK16NwTXbiQHnpJjGAJONAxSCwcshf40BEi2znCzTkQOF6FK6z4+RAL90kBpm35UAfhetRpIvmQB1aZDuLq+dAokW2891g6EBQjZdu/q7pQBBYObQgzepA9P3UeF1860Bg5dAiw+XrQJZDi2y3He1AXI/C9ewk7kB/arx05zTtQH9qvHTvH+xArBxaZMur7UCiRbbzeUTuQGZmZmb+3e5A+n5qvOA070C+nxovsbntQIGVQ4u4xuxAIbByaPFr60CkcD0K9yfrQC/dJAbVquxARrbz/cxs7EBqvHSTrIfsQMP1KFxDfO1ANV66SYzc7kAdWmQ7OzLvQFYOLbKt1+5AcT0K1/O57kCwcmiRQXPvQArXo3B50O9AZmZmZhpA8EACK4cW2YbwQARWDi0SFvFAnMQgsEoq8UB7FK5HdwrxQLbz/dTwSvFACtejcL2l8UCDwMqh1TDxQM/3U+PzaPFAWDm0yCKB8UDTTWIQsurxQLx0kxj4zvFA+n5qvKSx8UAbL90kiujxQDvfT40XdfFA5/up8bah8EAUrkfh/EDxQCcxCKxwK/FAvHSTGBbM8EApXI/CH2/xQMdLN4mNrvFAUrgehfWi8UBeukkM7qrxQCPb+X6Yz/FA8KfGS5OR8kAtsp3vp53yQA4tsp1dDPFAbef7qe8D8kBg5dAiQVvyQO58PzVoPfJAzczMzEJN8kA=",
          "dtype": "f8"
         }
        },
        {
         "line": {
          "color": "maroon",
          "dash": "dash"
         },
         "mode": "lines+markers",
         "name": "Forecast Energy Use",
         "type": "scatter",
         "x": {
          "bdata": "6QcAAOoHAADrBwAA7AcAAO0HAADuBwAA",
          "dtype": "i4"
         },
         "y": {
          "bdata": "8tvCsOTl80Au0+5IJg30QOSMrEa4NPRA8hajTptc9ECItMoG0IT0QNKQbxZXrfRA",
          "dtype": "f8"
         }
        },
        {
         "line": {
          "color": "green"
         },
         "mode": "lines+markers",
         "name": "Actual Electricity Use",
         "type": "scatter",
         "x": {
          "bdata": "nQeeB58HoAehB6IHowekB6UHpgenB6gHqQeqB6sHrAetB64HrwewB7EHsgezB7QHtQe2B7cHuAe5B7oHuwe8B70Hvge/B8AHwQfCB8MHxAfFB8YHxwfIB8kHygfLB8wHzQfOB88H0AfRB9IH0wfUB9UH1gfXB9gH2QfaB9sH3AfdB94H3wfgB+EH4gfjB+QH5QfmB+cH6Ac=",
          "dtype": "i2"
         },
         "y": {
          "bdata": "oBov3SQji0AK16NwPROPQE5iEFi5m5FAgZVDi+z8kkAhsHJokR+VQHNoke38nJZAVg4tsp17mkBCYOXQoh+dQG8Sg8DKsp5ALbKd7ydXn0AnMQisXD6hQOkmMQhsV6JADAIrh5Y+o0CkcD0KV7qkQJhuEoPAMaZA+n5qvLTip0DFILByqGypQH9qvHTTl6tAK4cW2Q5NrUAEVg4tMgiwQIGVQ4vMgrFA/tR46YaOskAEVg4tEpazQKabxCCwQrVAuB6F63HUtkAnMQisnLy2QJzEILASSbdAmpmZmRm6uEArhxbZzve5QGZmZmYm5bpApHA9Cpeau0D2KFyPQuq7QNejcD3qnbxAppvEIPDOu0DfT42XDqu8QI2XbhIjd75AGy/dJGb5vkDD9ShcL5K/QAaBlUMbYMBAJzEIrCwuwUCgGi/ddKPBQJMYBFaeE8JAMQisHPpnwkC+nxovTWrCQOF6FK6nEcNAvp8aL12Ow0BvEoPAqhTEQClcj8KFqsRATmIQWGn2xECkcD0Kx8DFQPhT46VrEsZAhetRuO7MxkBeukkM8p7GQClcj8IVGMdADi2ynU9Ix0AAAAAAAKTHQM3MzMycZchAbef7qeF0yEBKDAIrVxbJQPp+arwk4shAuB6F6yH4x0BQjZduwgXJQM3MzMw8/chA9ihcjxKfyEBaZDvfn9LIQLx0kxiUFslA8KfGS9cMyUBQjZduwhLJQPhT46UL0MhA7FG4HsW3yUD2KFyP0mXJQNejcD1axshAqvHSTdJcyUCmm8QgwCvKQOXQItt50clARIts5/tmykA=",
          "dtype": "f8"
         }
        },
        {
         "line": {
          "color": "orange",
          "dash": "dash"
         },
         "mode": "lines+markers",
         "name": "Forecast Electricity Use",
         "type": "scatter",
         "x": {
          "bdata": "6QcAAOoHAADrBwAA7AcAAO0HAADuBwAA",
          "dtype": "i4"
         },
         "y": {
          "bdata": "tY4Kl/aLzUBBFLmuUvHNQPsfGVx+V85AFeJMSHu+zkAnN90fSybPQFGfwJLvjs9A",
          "dtype": "f8"
         }
        }
       ],
       "layout": {
        "height": 500,
        "legend": {
         "orientation": "h",
         "x": 0.5,
         "xanchor": "center",
         "y": 1.1
        },
        "template": {
         "data": {
          "bar": [
           {
            "error_x": {
             "color": "#2a3f5f"
            },
            "error_y": {
             "color": "#2a3f5f"
            },
            "marker": {
             "line": {
              "color": "white",
              "width": 0.5
             },
             "pattern": {
              "fillmode": "overlay",
              "size": 10,
              "solidity": 0.2
             }
            },
            "type": "bar"
           }
          ],
          "barpolar": [
           {
            "marker": {
             "line": {
              "color": "white",
              "width": 0.5
             },
             "pattern": {
              "fillmode": "overlay",
              "size": 10,
              "solidity": 0.2
             }
            },
            "type": "barpolar"
           }
          ],
          "carpet": [
           {
            "aaxis": {
             "endlinecolor": "#2a3f5f",
             "gridcolor": "#C8D4E3",
             "linecolor": "#C8D4E3",
             "minorgridcolor": "#C8D4E3",
             "startlinecolor": "#2a3f5f"
            },
            "baxis": {
             "endlinecolor": "#2a3f5f",
             "gridcolor": "#C8D4E3",
             "linecolor": "#C8D4E3",
             "minorgridcolor": "#C8D4E3",
             "startlinecolor": "#2a3f5f"
            },
            "type": "carpet"
           }
          ],
          "choropleth": [
           {
            "colorbar": {
             "outlinewidth": 0,
             "ticks": ""
            },
            "type": "choropleth"
           }
          ],
          "contour": [
           {
            "colorbar": {
             "outlinewidth": 0,
             "ticks": ""
            },
            "colorscale": [
             [
              0,
              "#0d0887"
             ],
             [
              0.1111111111111111,
              "#46039f"
             ],
             [
              0.2222222222222222,
              "#7201a8"
             ],
             [
              0.3333333333333333,
              "#9c179e"
             ],
             [
              0.4444444444444444,
              "#bd3786"
             ],
             [
              0.5555555555555556,
              "#d8576b"
             ],
             [
              0.6666666666666666,
              "#ed7953"
             ],
             [
              0.7777777777777778,
              "#fb9f3a"
             ],
             [
              0.8888888888888888,
              "#fdca26"
             ],
             [
              1,
              "#f0f921"
             ]
            ],
            "type": "contour"
           }
          ],
          "contourcarpet": [
           {
            "colorbar": {
             "outlinewidth": 0,
             "ticks": ""
            },
            "type": "contourcarpet"
           }
          ],
          "heatmap": [
           {
            "colorbar": {
             "outlinewidth": 0,
             "ticks": ""
            },
            "colorscale": [
             [
              0,
              "#0d0887"
             ],
             [
              0.1111111111111111,
              "#46039f"
             ],
             [
              0.2222222222222222,
              "#7201a8"
             ],
             [
              0.3333333333333333,
              "#9c179e"
             ],
             [
              0.4444444444444444,
              "#bd3786"
             ],
             [
              0.5555555555555556,
              "#d8576b"
             ],
             [
              0.6666666666666666,
              "#ed7953"
             ],
             [
              0.7777777777777778,
              "#fb9f3a"
             ],
             [
              0.8888888888888888,
              "#fdca26"
             ],
             [
              1,
              "#f0f921"
             ]
            ],
            "type": "heatmap"
           }
          ],
          "histogram": [
           {
            "marker": {
             "pattern": {
              "fillmode": "overlay",
              "size": 10,
              "solidity": 0.2
             }
            },
            "type": "histogram"
           }
          ],
          "histogram2d": [
           {
            "colorbar": {
             "outlinewidth": 0,
             "ticks": ""
            },
            "colorscale": [
             [
              0,
              "#0d0887"
             ],
             [
              0.1111111111111111,
              "#46039f"
             ],
             [
              0.2222222222222222,
              "#7201a8"
             ],
             [
              0.3333333333333333,
              "#9c179e"
             ],
             [
              0.4444444444444444,
              "#bd3786"
             ],
             [
              0.5555555555555556,
              "#d8576b"
             ],
             [
              0.6666666666666666,
              "#ed7953"
             ],
             [
              0.7777777777777778,
              "#fb9f3a"
             ],
             [
              0.8888888888888888,
              "#fdca26"
             ],
             [
              1,
              "#f0f921"
             ]
            ],
            "type": "histogram2d"
           }
          ],
          "histogram2dcontour": [
           {
            "colorbar": {
             "outlinewidth": 0,
             "ticks": ""
            },
            "colorscale": [
             [
              0,
              "#0d0887"
             ],
             [
              0.1111111111111111,
              "#46039f"
             ],
             [
              0.2222222222222222,
              "#7201a8"
             ],
             [
              0.3333333333333333,
              "#9c179e"
             ],
             [
              0.4444444444444444,
              "#bd3786"
             ],
             [
              0.5555555555555556,
              "#d8576b"
             ],
             [
              0.6666666666666666,
              "#ed7953"
             ],
             [
              0.7777777777777778,
              "#fb9f3a"
             ],
             [
              0.8888888888888888,
              "#fdca26"
             ],
             [
              1,
              "#f0f921"
             ]
            ],
            "type": "histogram2dcontour"
           }
          ],
          "mesh3d": [
           {
            "colorbar": {
             "outlinewidth": 0,
             "ticks": ""
            },
            "type": "mesh3d"
           }
          ],
          "parcoords": [
           {
            "line": {
             "colorbar": {
              "outlinewidth": 0,
              "ticks": ""
             }
            },
            "type": "parcoords"
           }
          ],
          "pie": [
           {
            "automargin": true,
            "type": "pie"
           }
          ],
          "scatter": [
           {
            "fillpattern": {
             "fillmode": "overlay",
             "size": 10,
             "solidity": 0.2
            },
            "type": "scatter"
           }
          ],
          "scatter3d": [
           {
            "line": {
             "colorbar": {
              "outlinewidth": 0,
              "ticks": ""
             }
            },
            "marker": {
             "colorbar": {
              "outlinewidth": 0,
              "ticks": ""
             }
            },
            "type": "scatter3d"
           }
          ],
          "scattercarpet": [
           {
            "marker": {
             "colorbar": {
              "outlinewidth": 0,
              "ticks": ""
             }
            },
            "type": "scattercarpet"
           }
          ],
          "scattergeo": [
           {
            "marker": {
             "colorbar": {
              "outlinewidth": 0,
              "ticks": ""
             }
            },
            "type": "scattergeo"
           }
          ],
          "scattergl": [
           {
            "marker": {
             "colorbar": {
              "outlinewidth": 0,
              "ticks": ""
             }
            },
            "type": "scattergl"
           }
          ],
          "scattermap": [
           {
            "marker": {
             "colorbar": {
              "outlinewidth": 0,
              "ticks": ""
             }
            },
            "type": "scattermap"
           }
          ],
          "scattermapbox": [
           {
            "marker": {
             "colorbar": {
              "outlinewidth": 0,
              "ticks": ""
             }
            },
            "type": "scattermapbox"
           }
          ],
          "scatterpolar": [
           {
            "marker": {
             "colorbar": {
              "outlinewidth": 0,
              "ticks": ""
             }
            },
            "type": "scatterpolar"
           }
          ],
          "scatterpolargl": [
           {
            "marker": {
             "colorbar": {
              "outlinewidth": 0,
              "ticks": ""
             }
            },
            "type": "scatterpolargl"
           }
          ],
          "scatterternary": [
           {
            "marker": {
             "colorbar": {
              "outlinewidth": 0,
              "ticks": ""
             }
            },
            "type": "scatterternary"
           }
          ],
          "surface": [
           {
            "colorbar": {
             "outlinewidth": 0,
             "ticks": ""
            },
            "colorscale": [
             [
              0,
              "#0d0887"
             ],
             [
              0.1111111111111111,
              "#46039f"
             ],
             [
              0.2222222222222222,
              "#7201a8"
             ],
             [
              0.3333333333333333,
              "#9c179e"
             ],
             [
              0.4444444444444444,
              "#bd3786"
             ],
             [
              0.5555555555555556,
              "#d8576b"
             ],
             [
              0.6666666666666666,
              "#ed7953"
             ],
             [
              0.7777777777777778,
              "#fb9f3a"
             ],
             [
              0.8888888888888888,
              "#fdca26"
             ],
             [
              1,
              "#f0f921"
             ]
            ],
            "type": "surface"
           }
          ],
          "table": [
           {
            "cells": {
             "fill": {
              "color": "#EBF0F8"
             },
             "line": {
              "color": "white"
             }
            },
            "header": {
             "fill": {
              "color": "#C8D4E3"
             },
             "line": {
              "color": "white"
             }
            },
            "type": "table"
           }
          ]
         },
         "layout": {
          "annotationdefaults": {
           "arrowcolor": "#2a3f5f",
           "arrowhead": 0,
           "arrowwidth": 1
          },
          "autotypenumbers": "strict",
          "coloraxis": {
           "colorbar": {
            "outlinewidth": 0,
            "ticks": ""
           }
          },
          "colorscale": {
           "diverging": [
            [
             0,
             "#8e0152"
            ],
            [
             0.1,
             "#c51b7d"
            ],
            [
             0.2,
             "#de77ae"
            ],
            [
             0.3,
             "#f1b6da"
            ],
            [
             0.4,
             "#fde0ef"
            ],
            [
             0.5,
             "#f7f7f7"
            ],
            [
             0.6,
             "#e6f5d0"
            ],
            [
             0.7,
             "#b8e186"
            ],
            [
             0.8,
             "#7fbc41"
            ],
            [
             0.9,
             "#4d9221"
            ],
            [
             1,
             "#276419"
            ]
           ],
           "sequential": [
            [
             0,
             "#0d0887"
            ],
            [
             0.1111111111111111,
             "#46039f"
            ],
            [
             0.2222222222222222,
             "#7201a8"
            ],
            [
             0.3333333333333333,
             "#9c179e"
            ],
            [
             0.4444444444444444,
             "#bd3786"
            ],
            [
             0.5555555555555556,
             "#d8576b"
            ],
            [
             0.6666666666666666,
             "#ed7953"
            ],
            [
             0.7777777777777778,
             "#fb9f3a"
            ],
            [
             0.8888888888888888,
             "#fdca26"
            ],
            [
             1,
             "#f0f921"
            ]
           ],
           "sequentialminus": [
            [
             0,
             "#0d0887"
            ],
            [
             0.1111111111111111,
             "#46039f"
            ],
            [
             0.2222222222222222,
             "#7201a8"
            ],
            [
             0.3333333333333333,
             "#9c179e"
            ],
            [
             0.4444444444444444,
             "#bd3786"
            ],
            [
             0.5555555555555556,
             "#d8576b"
            ],
            [
             0.6666666666666666,
             "#ed7953"
            ],
            [
             0.7777777777777778,
             "#fb9f3a"
            ],
            [
             0.8888888888888888,
             "#fdca26"
            ],
            [
             1,
             "#f0f921"
            ]
           ]
          },
          "colorway": [
           "#636efa",
           "#EF553B",
           "#00cc96",
           "#ab63fa",
           "#FFA15A",
           "#19d3f3",
           "#FF6692",
           "#B6E880",
           "#FF97FF",
           "#FECB52"
          ],
          "font": {
           "color": "#2a3f5f"
          },
          "geo": {
           "bgcolor": "white",
           "lakecolor": "white",
           "landcolor": "white",
           "showlakes": true,
           "showland": true,
           "subunitcolor": "#C8D4E3"
          },
          "hoverlabel": {
           "align": "left"
          },
          "hovermode": "closest",
          "mapbox": {
           "style": "light"
          },
          "paper_bgcolor": "white",
          "plot_bgcolor": "white",
          "polar": {
           "angularaxis": {
            "gridcolor": "#EBF0F8",
            "linecolor": "#EBF0F8",
            "ticks": ""
           },
           "bgcolor": "white",
           "radialaxis": {
            "gridcolor": "#EBF0F8",
            "linecolor": "#EBF0F8",
            "ticks": ""
           }
          },
          "scene": {
           "xaxis": {
            "backgroundcolor": "white",
            "gridcolor": "#DFE8F3",
            "gridwidth": 2,
            "linecolor": "#EBF0F8",
            "showbackground": true,
            "ticks": "",
            "zerolinecolor": "#EBF0F8"
           },
           "yaxis": {
            "backgroundcolor": "white",
            "gridcolor": "#DFE8F3",
            "gridwidth": 2,
            "linecolor": "#EBF0F8",
            "showbackground": true,
            "ticks": "",
            "zerolinecolor": "#EBF0F8"
           },
           "zaxis": {
            "backgroundcolor": "white",
            "gridcolor": "#DFE8F3",
            "gridwidth": 2,
            "linecolor": "#EBF0F8",
            "showbackground": true,
            "ticks": "",
            "zerolinecolor": "#EBF0F8"
           }
          },
          "shapedefaults": {
           "line": {
            "color": "#2a3f5f"
           }
          },
          "ternary": {
           "aaxis": {
            "gridcolor": "#DFE8F3",
            "linecolor": "#A2B1C6",
            "ticks": ""
           },
           "baxis": {
            "gridcolor": "#DFE8F3",
            "linecolor": "#A2B1C6",
            "ticks": ""
           },
           "bgcolor": "white",
           "caxis": {
            "gridcolor": "#DFE8F3",
            "linecolor": "#A2B1C6",
            "ticks": ""
           }
          },
          "title": {
           "x": 0.05
          },
          "xaxis": {
           "automargin": true,
           "gridcolor": "#EBF0F8",
           "linecolor": "#EBF0F8",
           "ticks": "",
           "title": {
            "standoff": 15
           },
           "zerolinecolor": "#EBF0F8",
           "zerolinewidth": 2
          },
          "yaxis": {
           "automargin": true,
           "gridcolor": "#EBF0F8",
           "linecolor": "#EBF0F8",
           "ticks": "",
           "title": {
            "standoff": 15
           },
           "zerolinecolor": "#EBF0F8",
           "zerolinewidth": 2
          }
         }
        },
        "title": {
         "text": "Predicted U.S. Energy & Electricity Use (2025–2030)",
         "x": 0.5
        },
        "width": 900,
        "xaxis": {
         "title": {
          "text": "Year"
         }
        },
        "yaxis": {
         "title": {
          "text": "Energy Use (Trillion Btu)"
         }
        }
       }
      }
     },
     "metadata": {},
     "output_type": "display_data"
    }
   ],
   "source": [
    "# Step 4-2. Plot actual vs forecast (2025–2030 shaded)\n",
    "# The following plot (IV = POP_US) shows higher energy/electricity use forecasts. This looks\n",
    "# more reasonable than the above plot (IV = GDP_Real and POP_US). \n",
    "\n",
    "fig = go.Figure()\n",
    "\n",
    "# Historical Energy\n",
    "fig.add_trace(go.Scatter(\n",
    "    x=df1_energy[\"Year\"], y=df1_energy[\"TotEnergy_2EndUse\"],\n",
    "    mode=\"lines+markers\", name=\"Actual Energy Use\", line=dict(color=\"blue\")\n",
    "))\n",
    "\n",
    "# Forecast Energy\n",
    "fig.add_trace(go.Scatter(\n",
    "    x=df_future2[\"Year\"], y=df_future2[\"Pred_Energy\"],\n",
    "    mode=\"lines+markers\", name=\"Forecast Energy Use\", line=dict(color=\"maroon\", dash=\"dash\")\n",
    "))\n",
    "\n",
    "# Historical Electricity\n",
    "fig.add_trace(go.Scatter(\n",
    "    x=df1_energy[\"Year\"], y=df1_energy[\"TotElectricity_2Used\"],\n",
    "    mode=\"lines+markers\", name=\"Actual Electricity Use\", line=dict(color=\"green\")\n",
    "))\n",
    "\n",
    "# Forecast Electricity\n",
    "fig.add_trace(go.Scatter(\n",
    "    x=df_future2[\"Year\"], y=df_future2[\"Pred_Electricity\"],\n",
    "    mode=\"lines+markers\", name=\"Forecast Electricity Use\", line=dict(color=\"orange\", dash=\"dash\")\n",
    "))\n",
    "\n",
    "# Layout\n",
    "fig.update_layout(\n",
    "    title=dict(\n",
    "        text=\"Predicted U.S. Energy & Electricity Use (2025–2030)\",\n",
    "        x=0.5\n",
    "    ),\n",
    "    template=\"plotly_white\",\n",
    "    xaxis_title=\"Year\",\n",
    "    yaxis_title=\"Energy Use (Trillion Btu)\",\n",
    "    width=900, height=500,\n",
    "    legend=dict(orientation=\"h\", x=0.5, xanchor=\"center\", y=1.1)\n",
    ")\n",
    "\n",
    "fig.show()\n"
   ]
  },
  {
   "cell_type": "markdown",
   "id": "55126f02",
   "metadata": {},
   "source": [
    "##### Forcasting energy/electricity use in 2015-2024\n",
    "- Use the regression model based on data of 1949-2014"
   ]
  },
  {
   "cell_type": "code",
   "execution_count": null,
   "id": "092fad42",
   "metadata": {},
   "outputs": [
    {
     "name": "stderr",
     "output_type": "stream",
     "text": [
      "C:\\Users\\lm\\AppData\\Local\\Temp\\ipykernel_19724\\984928815.py:17: SettingWithCopyWarning:\n",
      "\n",
      "\n",
      "A value is trying to be set on a copy of a slice from a DataFrame.\n",
      "Try using .loc[row_indexer,col_indexer] = value instead\n",
      "\n",
      "See the caveats in the documentation: https://pandas.pydata.org/pandas-docs/stable/user_guide/indexing.html#returning-a-view-versus-a-copy\n",
      "\n",
      "C:\\Users\\lm\\AppData\\Local\\Temp\\ipykernel_19724\\984928815.py:18: SettingWithCopyWarning:\n",
      "\n",
      "\n",
      "A value is trying to be set on a copy of a slice from a DataFrame.\n",
      "Try using .loc[row_indexer,col_indexer] = value instead\n",
      "\n",
      "See the caveats in the documentation: https://pandas.pydata.org/pandas-docs/stable/user_guide/indexing.html#returning-a-view-versus-a-copy\n",
      "\n"
     ]
    }
   ],
   "source": [
    "# Model 1: IV = Population\n",
    "\n",
    "# 1. Filter historical data to 1929–2014\n",
    "df_hist = df1_energy[(df1_energy[\"Year\"] >= 1929) & (df1_energy[\"Year\"] <= 2014)]\n",
    "df_future = df1_energy[(df1_energy[\"Year\"] >= 2015) & (df1_energy[\"Year\"] <= 2025)]\n",
    "\n",
    "\n",
    "# 2. Fit regression models (Population → Energy, Electricity)\n",
    "# Features and targets\n",
    "X = df_hist[[\"POP_US\"]]\n",
    "y_energy = df_hist[\"TotEnergy_2EndUse\"]\n",
    "y_elec = df_hist[\"TotElectricity_2Used\"]\n",
    "\n",
    "# Fit models\n",
    "model_energy = LinearRegression().fit(X, y_energy)\n",
    "model_elec = LinearRegression().fit(X, y_elec)\n",
    "\n",
    "# Predict for 2015–2025\n",
    "df_future[\"Pred_Energy\"] = model_energy.predict(df_future[[\"POP_US\"]])\n",
    "df_future[\"Pred_Electricity\"] = model_elec.predict(df_future[[\"POP_US\"]])"
   ]
  },
  {
   "cell_type": "code",
   "execution_count": 26,
   "id": "a7b5f576",
   "metadata": {},
   "outputs": [
    {
     "data": {
      "application/vnd.plotly.v1+json": {
       "config": {
        "plotlyServerURL": "https://plot.ly"
       },
       "data": [
        {
         "line": {
          "color": "blue"
         },
         "mode": "lines+markers",
         "name": "Actual Energy Use",
         "type": "scatter",
         "x": {
          "bdata": "nQeeB58HoAehB6IHowekB6UHpgenB6gHqQeqB6sHrAetB64HrwewB7EHsgezB7QHtQe2B7cHuAe5B7oHuwe8B70Hvge/B8AHwQfCB8MHxAfFB8YHxwfIB8kHygfLB8wHzQfOB88H0AfRB9IH0wfUB9UH1gfXB9gH2QfaB9sH3AfdB94H3wfgB+EH4gfjB+QH5QfmB+cH6Ac=",
          "dtype": "i2"
         },
         "y": {
          "bdata": "SOF6FJ7F20D0/dR4SSPeQB+F61FIGOBAJQaBlUvL30DpJjEIlDjgQOF6FK43fN9AexSuRxVH4UAOLbKdN+HhQLpJDALbzeFAzczMzOzE4UAK16NwTXbiQHnpJjGAJONAxSCwcshf40BEi2znCzTkQOF6FK6z4+RAL90kBpm35UAfhetRpIvmQB1aZDuLq+dAokW2891g6EBQjZdu/q7pQBBYObQgzepA9P3UeF1860Bg5dAiw+XrQJZDi2y3He1AXI/C9ewk7kB/arx05zTtQH9qvHTvH+xArBxaZMur7UCiRbbzeUTuQGZmZmb+3e5A+n5qvOA070C+nxovsbntQIGVQ4u4xuxAIbByaPFr60CkcD0K9yfrQC/dJAbVquxARrbz/cxs7EBqvHSTrIfsQMP1KFxDfO1ANV66SYzc7kAdWmQ7OzLvQFYOLbKt1+5AcT0K1/O57kCwcmiRQXPvQArXo3B50O9AZmZmZhpA8EACK4cW2YbwQARWDi0SFvFAnMQgsEoq8UB7FK5HdwrxQLbz/dTwSvFACtejcL2l8UCDwMqh1TDxQM/3U+PzaPFAWDm0yCKB8UDTTWIQsurxQLx0kxj4zvFA+n5qvKSx8UAbL90kiujxQDvfT40XdfFA5/up8bah8EAUrkfh/EDxQCcxCKxwK/FAvHSTGBbM8EApXI/CH2/xQMdLN4mNrvFAUrgehfWi8UBeukkM7qrxQCPb+X6Yz/FA8KfGS5OR8kAtsp3vp53yQA4tsp1dDPFAbef7qe8D8kBg5dAiQVvyQO58PzVoPfJAzczMzEJN8kA=",
          "dtype": "f8"
         }
        },
        {
         "line": {
          "color": "brown",
          "dash": "dash"
         },
         "mode": "lines+markers",
         "name": "Predicted Energy Use",
         "type": "scatter",
         "x": {
          "bdata": "nQeeB58HoAehB6IHowekB6UHpgenB6gHqQeqB6sHrAetB64HrwewB7EHsgezB7QHtQe2B7cHuAe5B7oHuwe8B70Hvge/B8AHwQfCB8MHxAfFB8YHxwfIB8kHygfLB8wHzQfOB88H0AfRB9IH0wfUB9UH1gfXB9gH2QfaB9sH3AfdB94H3wfgB+EH4gfjB+QH5QfmB+cH6Ac=",
          "dtype": "i2"
         },
         "y": {
          "bdata": "AAAAAAAA+H8AAAAAAAD4fwAAAAAAAPh/AAAAAAAA+H8AAAAAAAD4fwAAAAAAAPh/AAAAAAAA+H8AAAAAAAD4fwAAAAAAAPh/AAAAAAAA+H8AAAAAAAD4fwAAAAAAAPh/AAAAAAAA+H8AAAAAAAD4fwAAAAAAAPh/AAAAAAAA+H8AAAAAAAD4fwAAAAAAAPh/AAAAAAAA+H8AAAAAAAD4fwAAAAAAAPh/AAAAAAAA+H8AAAAAAAD4fwAAAAAAAPh/AAAAAAAA+H8AAAAAAAD4fwAAAAAAAPh/AAAAAAAA+H8AAAAAAAD4fwAAAAAAAPh/AAAAAAAA+H8AAAAAAAD4fwAAAAAAAPh/AAAAAAAA+H8AAAAAAAD4fwAAAAAAAPh/AAAAAAAA+H8AAAAAAAD4fwAAAAAAAPh/AAAAAAAA+H8AAAAAAAD4fwAAAAAAAPh/AAAAAAAA+H8AAAAAAAD4fwAAAAAAAPh/AAAAAAAA+H8AAAAAAAD4fwAAAAAAAPh/AAAAAAAA+H8AAAAAAAD4fwAAAAAAAPh/AAAAAAAA+H8AAAAAAAD4fwAAAAAAAPh/AAAAAAAA+H8AAAAAAAD4fwAAAAAAAPh/AAAAAAAA+H8AAAAAAAD4fwAAAAAAAPh/AAAAAAAA+H8AAAAAAAD4fwAAAAAAAPh/AAAAAAAA+H8AAAAAAAD4fwAAAAAAAPh/+E9A6bNy80BK4tYyzZfzQFLijKKsufNAyL2BXhjV80DyBpZASu3zQNy9f7ghJPRAlCsxWTIs9EBUmQbv10r0QGCZTtkBePRAJAdIZDyt9EA=",
          "dtype": "f8"
         }
        },
        {
         "line": {
          "color": "green"
         },
         "mode": "lines+markers",
         "name": "Actual Electricity Use",
         "type": "scatter",
         "x": {
          "bdata": "nQeeB58HoAehB6IHowekB6UHpgenB6gHqQeqB6sHrAetB64HrwewB7EHsgezB7QHtQe2B7cHuAe5B7oHuwe8B70Hvge/B8AHwQfCB8MHxAfFB8YHxwfIB8kHygfLB8wHzQfOB88H0AfRB9IH0wfUB9UH1gfXB9gH2QfaB9sH3AfdB94H3wfgB+EH4gfjB+QH5QfmB+cH6Ac=",
          "dtype": "i2"
         },
         "y": {
          "bdata": "oBov3SQji0AK16NwPROPQE5iEFi5m5FAgZVDi+z8kkAhsHJokR+VQHNoke38nJZAVg4tsp17mkBCYOXQoh+dQG8Sg8DKsp5ALbKd7ydXn0AnMQisXD6hQOkmMQhsV6JADAIrh5Y+o0CkcD0KV7qkQJhuEoPAMaZA+n5qvLTip0DFILByqGypQH9qvHTTl6tAK4cW2Q5NrUAEVg4tMgiwQIGVQ4vMgrFA/tR46YaOskAEVg4tEpazQKabxCCwQrVAuB6F63HUtkAnMQisnLy2QJzEILASSbdAmpmZmRm6uEArhxbZzve5QGZmZmYm5bpApHA9Cpeau0D2KFyPQuq7QNejcD3qnbxAppvEIPDOu0DfT42XDqu8QI2XbhIjd75AGy/dJGb5vkDD9ShcL5K/QAaBlUMbYMBAJzEIrCwuwUCgGi/ddKPBQJMYBFaeE8JAMQisHPpnwkC+nxovTWrCQOF6FK6nEcNAvp8aL12Ow0BvEoPAqhTEQClcj8KFqsRATmIQWGn2xECkcD0Kx8DFQPhT46VrEsZAhetRuO7MxkBeukkM8p7GQClcj8IVGMdADi2ynU9Ix0AAAAAAAKTHQM3MzMycZchAbef7qeF0yEBKDAIrVxbJQPp+arwk4shAuB6F6yH4x0BQjZduwgXJQM3MzMw8/chA9ihcjxKfyEBaZDvfn9LIQLx0kxiUFslA8KfGS9cMyUBQjZduwhLJQPhT46UL0MhA7FG4HsW3yUD2KFyP0mXJQNejcD1axshAqvHSTdJcyUCmm8QgwCvKQOXQItt50clARIts5/tmykA=",
          "dtype": "f8"
         }
        },
        {
         "line": {
          "color": "orange",
          "dash": "dash"
         },
         "mode": "lines+markers",
         "name": "Predicted Electricity Use",
         "type": "scatter",
         "x": {
          "bdata": "nQeeB58HoAehB6IHowekB6UHpgenB6gHqQeqB6sHrAetB64HrwewB7EHsgezB7QHtQe2B7cHuAe5B7oHuwe8B70Hvge/B8AHwQfCB8MHxAfFB8YHxwfIB8kHygfLB8wHzQfOB88H0AfRB9IH0wfUB9UH1gfXB9gH2QfaB9sH3AfdB94H3wfgB+EH4gfjB+QH5QfmB+cH6Ac=",
          "dtype": "i2"
         },
         "y": {
          "bdata": "AAAAAAAA+H8AAAAAAAD4fwAAAAAAAPh/AAAAAAAA+H8AAAAAAAD4fwAAAAAAAPh/AAAAAAAA+H8AAAAAAAD4fwAAAAAAAPh/AAAAAAAA+H8AAAAAAAD4fwAAAAAAAPh/AAAAAAAA+H8AAAAAAAD4fwAAAAAAAPh/AAAAAAAA+H8AAAAAAAD4fwAAAAAAAPh/AAAAAAAA+H8AAAAAAAD4fwAAAAAAAPh/AAAAAAAA+H8AAAAAAAD4fwAAAAAAAPh/AAAAAAAA+H8AAAAAAAD4fwAAAAAAAPh/AAAAAAAA+H8AAAAAAAD4fwAAAAAAAPh/AAAAAAAA+H8AAAAAAAD4fwAAAAAAAPh/AAAAAAAA+H8AAAAAAAD4fwAAAAAAAPh/AAAAAAAA+H8AAAAAAAD4fwAAAAAAAPh/AAAAAAAA+H8AAAAAAAD4fwAAAAAAAPh/AAAAAAAA+H8AAAAAAAD4fwAAAAAAAPh/AAAAAAAA+H8AAAAAAAD4fwAAAAAAAPh/AAAAAAAA+H8AAAAAAAD4fwAAAAAAAPh/AAAAAAAA+H8AAAAAAAD4fwAAAAAAAPh/AAAAAAAA+H8AAAAAAAD4fwAAAAAAAPh/AAAAAAAA+H8AAAAAAAD4fwAAAAAAAPh/AAAAAAAA+H8AAAAAAAD4fwAAAAAAAPh/AAAAAAAA+H8AAAAAAAD4fwAAAAAAAPh/hBOTY2Xfy0BglSFzfTzMQManSih9kcxAPNuoKEzWzEA8n6HOAhPNQCoGXs+gnM1A1Jxbsd2wzUDCPx8Mxf3NQEhYq/0Zb85Aegc10av0zkA=",
          "dtype": "f8"
         }
        }
       ],
       "layout": {
        "legend": {
         "orientation": "h",
         "x": 0.5,
         "xanchor": "center",
         "y": -0.2
        },
        "template": {
         "data": {
          "bar": [
           {
            "error_x": {
             "color": "#2a3f5f"
            },
            "error_y": {
             "color": "#2a3f5f"
            },
            "marker": {
             "line": {
              "color": "white",
              "width": 0.5
             },
             "pattern": {
              "fillmode": "overlay",
              "size": 10,
              "solidity": 0.2
             }
            },
            "type": "bar"
           }
          ],
          "barpolar": [
           {
            "marker": {
             "line": {
              "color": "white",
              "width": 0.5
             },
             "pattern": {
              "fillmode": "overlay",
              "size": 10,
              "solidity": 0.2
             }
            },
            "type": "barpolar"
           }
          ],
          "carpet": [
           {
            "aaxis": {
             "endlinecolor": "#2a3f5f",
             "gridcolor": "#C8D4E3",
             "linecolor": "#C8D4E3",
             "minorgridcolor": "#C8D4E3",
             "startlinecolor": "#2a3f5f"
            },
            "baxis": {
             "endlinecolor": "#2a3f5f",
             "gridcolor": "#C8D4E3",
             "linecolor": "#C8D4E3",
             "minorgridcolor": "#C8D4E3",
             "startlinecolor": "#2a3f5f"
            },
            "type": "carpet"
           }
          ],
          "choropleth": [
           {
            "colorbar": {
             "outlinewidth": 0,
             "ticks": ""
            },
            "type": "choropleth"
           }
          ],
          "contour": [
           {
            "colorbar": {
             "outlinewidth": 0,
             "ticks": ""
            },
            "colorscale": [
             [
              0,
              "#0d0887"
             ],
             [
              0.1111111111111111,
              "#46039f"
             ],
             [
              0.2222222222222222,
              "#7201a8"
             ],
             [
              0.3333333333333333,
              "#9c179e"
             ],
             [
              0.4444444444444444,
              "#bd3786"
             ],
             [
              0.5555555555555556,
              "#d8576b"
             ],
             [
              0.6666666666666666,
              "#ed7953"
             ],
             [
              0.7777777777777778,
              "#fb9f3a"
             ],
             [
              0.8888888888888888,
              "#fdca26"
             ],
             [
              1,
              "#f0f921"
             ]
            ],
            "type": "contour"
           }
          ],
          "contourcarpet": [
           {
            "colorbar": {
             "outlinewidth": 0,
             "ticks": ""
            },
            "type": "contourcarpet"
           }
          ],
          "heatmap": [
           {
            "colorbar": {
             "outlinewidth": 0,
             "ticks": ""
            },
            "colorscale": [
             [
              0,
              "#0d0887"
             ],
             [
              0.1111111111111111,
              "#46039f"
             ],
             [
              0.2222222222222222,
              "#7201a8"
             ],
             [
              0.3333333333333333,
              "#9c179e"
             ],
             [
              0.4444444444444444,
              "#bd3786"
             ],
             [
              0.5555555555555556,
              "#d8576b"
             ],
             [
              0.6666666666666666,
              "#ed7953"
             ],
             [
              0.7777777777777778,
              "#fb9f3a"
             ],
             [
              0.8888888888888888,
              "#fdca26"
             ],
             [
              1,
              "#f0f921"
             ]
            ],
            "type": "heatmap"
           }
          ],
          "histogram": [
           {
            "marker": {
             "pattern": {
              "fillmode": "overlay",
              "size": 10,
              "solidity": 0.2
             }
            },
            "type": "histogram"
           }
          ],
          "histogram2d": [
           {
            "colorbar": {
             "outlinewidth": 0,
             "ticks": ""
            },
            "colorscale": [
             [
              0,
              "#0d0887"
             ],
             [
              0.1111111111111111,
              "#46039f"
             ],
             [
              0.2222222222222222,
              "#7201a8"
             ],
             [
              0.3333333333333333,
              "#9c179e"
             ],
             [
              0.4444444444444444,
              "#bd3786"
             ],
             [
              0.5555555555555556,
              "#d8576b"
             ],
             [
              0.6666666666666666,
              "#ed7953"
             ],
             [
              0.7777777777777778,
              "#fb9f3a"
             ],
             [
              0.8888888888888888,
              "#fdca26"
             ],
             [
              1,
              "#f0f921"
             ]
            ],
            "type": "histogram2d"
           }
          ],
          "histogram2dcontour": [
           {
            "colorbar": {
             "outlinewidth": 0,
             "ticks": ""
            },
            "colorscale": [
             [
              0,
              "#0d0887"
             ],
             [
              0.1111111111111111,
              "#46039f"
             ],
             [
              0.2222222222222222,
              "#7201a8"
             ],
             [
              0.3333333333333333,
              "#9c179e"
             ],
             [
              0.4444444444444444,
              "#bd3786"
             ],
             [
              0.5555555555555556,
              "#d8576b"
             ],
             [
              0.6666666666666666,
              "#ed7953"
             ],
             [
              0.7777777777777778,
              "#fb9f3a"
             ],
             [
              0.8888888888888888,
              "#fdca26"
             ],
             [
              1,
              "#f0f921"
             ]
            ],
            "type": "histogram2dcontour"
           }
          ],
          "mesh3d": [
           {
            "colorbar": {
             "outlinewidth": 0,
             "ticks": ""
            },
            "type": "mesh3d"
           }
          ],
          "parcoords": [
           {
            "line": {
             "colorbar": {
              "outlinewidth": 0,
              "ticks": ""
             }
            },
            "type": "parcoords"
           }
          ],
          "pie": [
           {
            "automargin": true,
            "type": "pie"
           }
          ],
          "scatter": [
           {
            "fillpattern": {
             "fillmode": "overlay",
             "size": 10,
             "solidity": 0.2
            },
            "type": "scatter"
           }
          ],
          "scatter3d": [
           {
            "line": {
             "colorbar": {
              "outlinewidth": 0,
              "ticks": ""
             }
            },
            "marker": {
             "colorbar": {
              "outlinewidth": 0,
              "ticks": ""
             }
            },
            "type": "scatter3d"
           }
          ],
          "scattercarpet": [
           {
            "marker": {
             "colorbar": {
              "outlinewidth": 0,
              "ticks": ""
             }
            },
            "type": "scattercarpet"
           }
          ],
          "scattergeo": [
           {
            "marker": {
             "colorbar": {
              "outlinewidth": 0,
              "ticks": ""
             }
            },
            "type": "scattergeo"
           }
          ],
          "scattergl": [
           {
            "marker": {
             "colorbar": {
              "outlinewidth": 0,
              "ticks": ""
             }
            },
            "type": "scattergl"
           }
          ],
          "scattermap": [
           {
            "marker": {
             "colorbar": {
              "outlinewidth": 0,
              "ticks": ""
             }
            },
            "type": "scattermap"
           }
          ],
          "scattermapbox": [
           {
            "marker": {
             "colorbar": {
              "outlinewidth": 0,
              "ticks": ""
             }
            },
            "type": "scattermapbox"
           }
          ],
          "scatterpolar": [
           {
            "marker": {
             "colorbar": {
              "outlinewidth": 0,
              "ticks": ""
             }
            },
            "type": "scatterpolar"
           }
          ],
          "scatterpolargl": [
           {
            "marker": {
             "colorbar": {
              "outlinewidth": 0,
              "ticks": ""
             }
            },
            "type": "scatterpolargl"
           }
          ],
          "scatterternary": [
           {
            "marker": {
             "colorbar": {
              "outlinewidth": 0,
              "ticks": ""
             }
            },
            "type": "scatterternary"
           }
          ],
          "surface": [
           {
            "colorbar": {
             "outlinewidth": 0,
             "ticks": ""
            },
            "colorscale": [
             [
              0,
              "#0d0887"
             ],
             [
              0.1111111111111111,
              "#46039f"
             ],
             [
              0.2222222222222222,
              "#7201a8"
             ],
             [
              0.3333333333333333,
              "#9c179e"
             ],
             [
              0.4444444444444444,
              "#bd3786"
             ],
             [
              0.5555555555555556,
              "#d8576b"
             ],
             [
              0.6666666666666666,
              "#ed7953"
             ],
             [
              0.7777777777777778,
              "#fb9f3a"
             ],
             [
              0.8888888888888888,
              "#fdca26"
             ],
             [
              1,
              "#f0f921"
             ]
            ],
            "type": "surface"
           }
          ],
          "table": [
           {
            "cells": {
             "fill": {
              "color": "#EBF0F8"
             },
             "line": {
              "color": "white"
             }
            },
            "header": {
             "fill": {
              "color": "#C8D4E3"
             },
             "line": {
              "color": "white"
             }
            },
            "type": "table"
           }
          ]
         },
         "layout": {
          "annotationdefaults": {
           "arrowcolor": "#2a3f5f",
           "arrowhead": 0,
           "arrowwidth": 1
          },
          "autotypenumbers": "strict",
          "coloraxis": {
           "colorbar": {
            "outlinewidth": 0,
            "ticks": ""
           }
          },
          "colorscale": {
           "diverging": [
            [
             0,
             "#8e0152"
            ],
            [
             0.1,
             "#c51b7d"
            ],
            [
             0.2,
             "#de77ae"
            ],
            [
             0.3,
             "#f1b6da"
            ],
            [
             0.4,
             "#fde0ef"
            ],
            [
             0.5,
             "#f7f7f7"
            ],
            [
             0.6,
             "#e6f5d0"
            ],
            [
             0.7,
             "#b8e186"
            ],
            [
             0.8,
             "#7fbc41"
            ],
            [
             0.9,
             "#4d9221"
            ],
            [
             1,
             "#276419"
            ]
           ],
           "sequential": [
            [
             0,
             "#0d0887"
            ],
            [
             0.1111111111111111,
             "#46039f"
            ],
            [
             0.2222222222222222,
             "#7201a8"
            ],
            [
             0.3333333333333333,
             "#9c179e"
            ],
            [
             0.4444444444444444,
             "#bd3786"
            ],
            [
             0.5555555555555556,
             "#d8576b"
            ],
            [
             0.6666666666666666,
             "#ed7953"
            ],
            [
             0.7777777777777778,
             "#fb9f3a"
            ],
            [
             0.8888888888888888,
             "#fdca26"
            ],
            [
             1,
             "#f0f921"
            ]
           ],
           "sequentialminus": [
            [
             0,
             "#0d0887"
            ],
            [
             0.1111111111111111,
             "#46039f"
            ],
            [
             0.2222222222222222,
             "#7201a8"
            ],
            [
             0.3333333333333333,
             "#9c179e"
            ],
            [
             0.4444444444444444,
             "#bd3786"
            ],
            [
             0.5555555555555556,
             "#d8576b"
            ],
            [
             0.6666666666666666,
             "#ed7953"
            ],
            [
             0.7777777777777778,
             "#fb9f3a"
            ],
            [
             0.8888888888888888,
             "#fdca26"
            ],
            [
             1,
             "#f0f921"
            ]
           ]
          },
          "colorway": [
           "#636efa",
           "#EF553B",
           "#00cc96",
           "#ab63fa",
           "#FFA15A",
           "#19d3f3",
           "#FF6692",
           "#B6E880",
           "#FF97FF",
           "#FECB52"
          ],
          "font": {
           "color": "#2a3f5f"
          },
          "geo": {
           "bgcolor": "white",
           "lakecolor": "white",
           "landcolor": "white",
           "showlakes": true,
           "showland": true,
           "subunitcolor": "#C8D4E3"
          },
          "hoverlabel": {
           "align": "left"
          },
          "hovermode": "closest",
          "mapbox": {
           "style": "light"
          },
          "paper_bgcolor": "white",
          "plot_bgcolor": "white",
          "polar": {
           "angularaxis": {
            "gridcolor": "#EBF0F8",
            "linecolor": "#EBF0F8",
            "ticks": ""
           },
           "bgcolor": "white",
           "radialaxis": {
            "gridcolor": "#EBF0F8",
            "linecolor": "#EBF0F8",
            "ticks": ""
           }
          },
          "scene": {
           "xaxis": {
            "backgroundcolor": "white",
            "gridcolor": "#DFE8F3",
            "gridwidth": 2,
            "linecolor": "#EBF0F8",
            "showbackground": true,
            "ticks": "",
            "zerolinecolor": "#EBF0F8"
           },
           "yaxis": {
            "backgroundcolor": "white",
            "gridcolor": "#DFE8F3",
            "gridwidth": 2,
            "linecolor": "#EBF0F8",
            "showbackground": true,
            "ticks": "",
            "zerolinecolor": "#EBF0F8"
           },
           "zaxis": {
            "backgroundcolor": "white",
            "gridcolor": "#DFE8F3",
            "gridwidth": 2,
            "linecolor": "#EBF0F8",
            "showbackground": true,
            "ticks": "",
            "zerolinecolor": "#EBF0F8"
           }
          },
          "shapedefaults": {
           "line": {
            "color": "#2a3f5f"
           }
          },
          "ternary": {
           "aaxis": {
            "gridcolor": "#DFE8F3",
            "linecolor": "#A2B1C6",
            "ticks": ""
           },
           "baxis": {
            "gridcolor": "#DFE8F3",
            "linecolor": "#A2B1C6",
            "ticks": ""
           },
           "bgcolor": "white",
           "caxis": {
            "gridcolor": "#DFE8F3",
            "linecolor": "#A2B1C6",
            "ticks": ""
           }
          },
          "title": {
           "x": 0.05
          },
          "xaxis": {
           "automargin": true,
           "gridcolor": "#EBF0F8",
           "linecolor": "#EBF0F8",
           "ticks": "",
           "title": {
            "standoff": 15
           },
           "zerolinecolor": "#EBF0F8",
           "zerolinewidth": 2
          },
          "yaxis": {
           "automargin": true,
           "gridcolor": "#EBF0F8",
           "linecolor": "#EBF0F8",
           "ticks": "",
           "title": {
            "standoff": 15
           },
           "zerolinecolor": "#EBF0F8",
           "zerolinewidth": 2
          }
         }
        },
        "title": {
         "text": "Forecast of U.S. Energy & Electricity Use (2015–2025) based on Population",
         "x": 0.5
        },
        "xaxis": {
         "title": {
          "text": "Year"
         }
        },
        "yaxis": {
         "title": {
          "text": "Trillion Btu"
         }
        }
       }
      }
     },
     "metadata": {},
     "output_type": "display_data"
    }
   ],
   "source": [
    "# 3. Combine actual + forecast\n",
    "df_plot = pd.concat([\n",
    "    df_hist[[\"Year\",\"TotEnergy_2EndUse\",\"TotElectricity_2Used\"]],\n",
    "    df_future[[\"Year\",\"TotEnergy_2EndUse\",\"TotElectricity_2Used\",\"Pred_Energy\",\"Pred_Electricity\"]]\n",
    "], ignore_index=True)\n",
    "\n",
    "# 4. Plot actual vs predicted (2015–2025 forecasts)\n",
    "import plotly.graph_objects as go\n",
    "\n",
    "fig = go.Figure()\n",
    "\n",
    "# Energy Actual\n",
    "fig.add_trace(go.Scatter(\n",
    "    x=df_plot[\"Year\"], y=df_plot[\"TotEnergy_2EndUse\"],\n",
    "    mode=\"lines+markers\", name=\"Actual Energy Use\", line=dict(color=\"blue\")\n",
    "))\n",
    "\n",
    "# Energy Predicted\n",
    "fig.add_trace(go.Scatter(\n",
    "    x=df_plot[\"Year\"], y=df_plot[\"Pred_Energy\"],\n",
    "    mode=\"lines+markers\", name=\"Predicted Energy Use\", line=dict(color=\"brown\", dash=\"dash\")\n",
    "))\n",
    "\n",
    "# Electricity Actual\n",
    "fig.add_trace(go.Scatter(\n",
    "    x=df_plot[\"Year\"], y=df_plot[\"TotElectricity_2Used\"],\n",
    "    mode=\"lines+markers\", name=\"Actual Electricity Use\", line=dict(color=\"green\")\n",
    "))\n",
    "\n",
    "# Electricity Predicted\n",
    "fig.add_trace(go.Scatter(\n",
    "    x=df_plot[\"Year\"], y=df_plot[\"Pred_Electricity\"],\n",
    "    mode=\"lines+markers\", name=\"Predicted Electricity Use\", line=dict(color=\"orange\", dash=\"dash\")\n",
    "))\n",
    "\n",
    "# Layout\n",
    "fig.update_layout(\n",
    "    title=dict(text=\"Forecast of U.S. Energy & Electricity Use (2015–2025) based on Population\", x=0.5),\n",
    "    template=\"plotly_white\",\n",
    "    xaxis_title=\"Year\",\n",
    "    yaxis_title=\"Trillion Btu\",\n",
    "    legend=dict(orientation=\"h\", x=0.5, xanchor=\"center\", y=-0.2)\n",
    ")\n",
    "\n",
    "fig.show()"
   ]
  },
  {
   "cell_type": "code",
   "execution_count": 28,
   "id": "87cc7e68",
   "metadata": {},
   "outputs": [
    {
     "name": "stderr",
     "output_type": "stream",
     "text": [
      "C:\\Users\\lm\\AppData\\Local\\Temp\\ipykernel_19724\\3700569770.py:19: SettingWithCopyWarning:\n",
      "\n",
      "\n",
      "A value is trying to be set on a copy of a slice from a DataFrame.\n",
      "Try using .loc[row_indexer,col_indexer] = value instead\n",
      "\n",
      "See the caveats in the documentation: https://pandas.pydata.org/pandas-docs/stable/user_guide/indexing.html#returning-a-view-versus-a-copy\n",
      "\n",
      "C:\\Users\\lm\\AppData\\Local\\Temp\\ipykernel_19724\\3700569770.py:20: SettingWithCopyWarning:\n",
      "\n",
      "\n",
      "A value is trying to be set on a copy of a slice from a DataFrame.\n",
      "Try using .loc[row_indexer,col_indexer] = value instead\n",
      "\n",
      "See the caveats in the documentation: https://pandas.pydata.org/pandas-docs/stable/user_guide/indexing.html#returning-a-view-versus-a-copy\n",
      "\n"
     ]
    }
   ],
   "source": [
    "# Model 2: IV = GDP_Real\n",
    "\n",
    "# 1. Filter historical data to 1929–2014\n",
    "df_hist = df1_energy[(df1_energy[\"Year\"] >= 1929) & (df1_energy[\"Year\"] <= 2014)]\n",
    "df_future = df1_energy[(df1_energy[\"Year\"] >= 2015) & (df1_energy[\"Year\"] <= 2025)]\n",
    "\n",
    "\n",
    "# 2. Fit regression models (GDP_Real → Energy, Electricity)\n",
    "# Features and targets\n",
    "X = df_hist[[\"GDP_Real\"]]\n",
    "y_energy = df_hist[\"TotEnergy_2EndUse\"]\n",
    "y_elec = df_hist[\"TotElectricity_2Used\"]\n",
    "\n",
    "# Fit models\n",
    "model_energy = LinearRegression().fit(X, y_energy)\n",
    "model_elec = LinearRegression().fit(X, y_elec)\n",
    "\n",
    "# Predict for 2015–2025\n",
    "df_future[\"Pred_Energy\"] = model_energy.predict(df_future[[\"GDP_Real\"]])\n",
    "df_future[\"Pred_Electricity\"] = model_elec.predict(df_future[[\"GDP_Real\"]])"
   ]
  },
  {
   "cell_type": "code",
   "execution_count": 29,
   "id": "3c60a4b8",
   "metadata": {},
   "outputs": [
    {
     "data": {
      "application/vnd.plotly.v1+json": {
       "config": {
        "plotlyServerURL": "https://plot.ly"
       },
       "data": [
        {
         "line": {
          "color": "blue"
         },
         "mode": "lines+markers",
         "name": "Actual Energy Use",
         "type": "scatter",
         "x": {
          "bdata": "nQeeB58HoAehB6IHowekB6UHpgenB6gHqQeqB6sHrAetB64HrwewB7EHsgezB7QHtQe2B7cHuAe5B7oHuwe8B70Hvge/B8AHwQfCB8MHxAfFB8YHxwfIB8kHygfLB8wHzQfOB88H0AfRB9IH0wfUB9UH1gfXB9gH2QfaB9sH3AfdB94H3wfgB+EH4gfjB+QH5QfmB+cH6Ac=",
          "dtype": "i2"
         },
         "y": {
          "bdata": "SOF6FJ7F20D0/dR4SSPeQB+F61FIGOBAJQaBlUvL30DpJjEIlDjgQOF6FK43fN9AexSuRxVH4UAOLbKdN+HhQLpJDALbzeFAzczMzOzE4UAK16NwTXbiQHnpJjGAJONAxSCwcshf40BEi2znCzTkQOF6FK6z4+RAL90kBpm35UAfhetRpIvmQB1aZDuLq+dAokW2891g6EBQjZdu/q7pQBBYObQgzepA9P3UeF1860Bg5dAiw+XrQJZDi2y3He1AXI/C9ewk7kB/arx05zTtQH9qvHTvH+xArBxaZMur7UCiRbbzeUTuQGZmZmb+3e5A+n5qvOA070C+nxovsbntQIGVQ4u4xuxAIbByaPFr60CkcD0K9yfrQC/dJAbVquxARrbz/cxs7EBqvHSTrIfsQMP1KFxDfO1ANV66SYzc7kAdWmQ7OzLvQFYOLbKt1+5AcT0K1/O57kCwcmiRQXPvQArXo3B50O9AZmZmZhpA8EACK4cW2YbwQARWDi0SFvFAnMQgsEoq8UB7FK5HdwrxQLbz/dTwSvFACtejcL2l8UCDwMqh1TDxQM/3U+PzaPFAWDm0yCKB8UDTTWIQsurxQLx0kxj4zvFA+n5qvKSx8UAbL90kiujxQDvfT40XdfFA5/up8bah8EAUrkfh/EDxQCcxCKxwK/FAvHSTGBbM8EApXI/CH2/xQMdLN4mNrvFAUrgehfWi8UBeukkM7qrxQCPb+X6Yz/FA8KfGS5OR8kAtsp3vp53yQA4tsp1dDPFAbef7qe8D8kBg5dAiQVvyQO58PzVoPfJAzczMzEJN8kA=",
          "dtype": "f8"
         }
        },
        {
         "line": {
          "color": "brown",
          "dash": "dash"
         },
         "mode": "lines+markers",
         "name": "Predicted Energy Use",
         "type": "scatter",
         "x": {
          "bdata": "nQeeB58HoAehB6IHowekB6UHpgenB6gHqQeqB6sHrAetB64HrwewB7EHsgezB7QHtQe2B7cHuAe5B7oHuwe8B70Hvge/B8AHwQfCB8MHxAfFB8YHxwfIB8kHygfLB8wHzQfOB88H0AfRB9IH0wfUB9UH1gfXB9gH2QfaB9sH3AfdB94H3wfgB+EH4gfjB+QH5QfmB+cH6Ac=",
          "dtype": "i2"
         },
         "y": {
          "bdata": "AAAAAAAA+H8AAAAAAAD4fwAAAAAAAPh/AAAAAAAA+H8AAAAAAAD4fwAAAAAAAPh/AAAAAAAA+H8AAAAAAAD4fwAAAAAAAPh/AAAAAAAA+H8AAAAAAAD4fwAAAAAAAPh/AAAAAAAA+H8AAAAAAAD4fwAAAAAAAPh/AAAAAAAA+H8AAAAAAAD4fwAAAAAAAPh/AAAAAAAA+H8AAAAAAAD4fwAAAAAAAPh/AAAAAAAA+H8AAAAAAAD4fwAAAAAAAPh/AAAAAAAA+H8AAAAAAAD4fwAAAAAAAPh/AAAAAAAA+H8AAAAAAAD4fwAAAAAAAPh/AAAAAAAA+H8AAAAAAAD4fwAAAAAAAPh/AAAAAAAA+H8AAAAAAAD4fwAAAAAAAPh/AAAAAAAA+H8AAAAAAAD4fwAAAAAAAPh/AAAAAAAA+H8AAAAAAAD4fwAAAAAAAPh/AAAAAAAA+H8AAAAAAAD4fwAAAAAAAPh/AAAAAAAA+H8AAAAAAAD4fwAAAAAAAPh/AAAAAAAA+H8AAAAAAAD4fwAAAAAAAPh/AAAAAAAA+H8AAAAAAAD4fwAAAAAAAPh/AAAAAAAA+H8AAAAAAAD4fwAAAAAAAPh/AAAAAAAA+H8AAAAAAAD4fwAAAAAAAPh/AAAAAAAA+H8AAAAAAAD4fwAAAAAAAPh/AAAAAAAA+H8AAAAAAAD4fwAAAAAAAPh/JBJV42vk80BeX190UBj0QKQLETirX/RAmBvj6eu39EBkLu6pEgf1QMj/rtwZw/RAtnMM/kB99UAgWgt+Ks/1QEzUnI2vL/ZAssXnKp2P9kA=",
          "dtype": "f8"
         }
        },
        {
         "line": {
          "color": "green"
         },
         "mode": "lines+markers",
         "name": "Actual Electricity Use",
         "type": "scatter",
         "x": {
          "bdata": "nQeeB58HoAehB6IHowekB6UHpgenB6gHqQeqB6sHrAetB64HrwewB7EHsgezB7QHtQe2B7cHuAe5B7oHuwe8B70Hvge/B8AHwQfCB8MHxAfFB8YHxwfIB8kHygfLB8wHzQfOB88H0AfRB9IH0wfUB9UH1gfXB9gH2QfaB9sH3AfdB94H3wfgB+EH4gfjB+QH5QfmB+cH6Ac=",
          "dtype": "i2"
         },
         "y": {
          "bdata": "oBov3SQji0AK16NwPROPQE5iEFi5m5FAgZVDi+z8kkAhsHJokR+VQHNoke38nJZAVg4tsp17mkBCYOXQoh+dQG8Sg8DKsp5ALbKd7ydXn0AnMQisXD6hQOkmMQhsV6JADAIrh5Y+o0CkcD0KV7qkQJhuEoPAMaZA+n5qvLTip0DFILByqGypQH9qvHTTl6tAK4cW2Q5NrUAEVg4tMgiwQIGVQ4vMgrFA/tR46YaOskAEVg4tEpazQKabxCCwQrVAuB6F63HUtkAnMQisnLy2QJzEILASSbdAmpmZmRm6uEArhxbZzve5QGZmZmYm5bpApHA9Cpeau0D2KFyPQuq7QNejcD3qnbxAppvEIPDOu0DfT42XDqu8QI2XbhIjd75AGy/dJGb5vkDD9ShcL5K/QAaBlUMbYMBAJzEIrCwuwUCgGi/ddKPBQJMYBFaeE8JAMQisHPpnwkC+nxovTWrCQOF6FK6nEcNAvp8aL12Ow0BvEoPAqhTEQClcj8KFqsRATmIQWGn2xECkcD0Kx8DFQPhT46VrEsZAhetRuO7MxkBeukkM8p7GQClcj8IVGMdADi2ynU9Ix0AAAAAAAKTHQM3MzMycZchAbef7qeF0yEBKDAIrVxbJQPp+arwk4shAuB6F6yH4x0BQjZduwgXJQM3MzMw8/chA9ihcjxKfyEBaZDvfn9LIQLx0kxiUFslA8KfGS9cMyUBQjZduwhLJQPhT46UL0MhA7FG4HsW3yUD2KFyP0mXJQNejcD1axshAqvHSTdJcyUCmm8QgwCvKQOXQItt50clARIts5/tmykA=",
          "dtype": "f8"
         }
        },
        {
         "line": {
          "color": "orange",
          "dash": "dash"
         },
         "mode": "lines+markers",
         "name": "Predicted Electricity Use",
         "type": "scatter",
         "x": {
          "bdata": "nQeeB58HoAehB6IHowekB6UHpgenB6gHqQeqB6sHrAetB64HrwewB7EHsgezB7QHtQe2B7cHuAe5B7oHuwe8B70Hvge/B8AHwQfCB8MHxAfFB8YHxwfIB8kHygfLB8wHzQfOB88H0AfRB9IH0wfUB9UH1gfXB9gH2QfaB9sH3AfdB94H3wfgB+EH4gfjB+QH5QfmB+cH6Ac=",
          "dtype": "i2"
         },
         "y": {
          "bdata": "AAAAAAAA+H8AAAAAAAD4fwAAAAAAAPh/AAAAAAAA+H8AAAAAAAD4fwAAAAAAAPh/AAAAAAAA+H8AAAAAAAD4fwAAAAAAAPh/AAAAAAAA+H8AAAAAAAD4fwAAAAAAAPh/AAAAAAAA+H8AAAAAAAD4fwAAAAAAAPh/AAAAAAAA+H8AAAAAAAD4fwAAAAAAAPh/AAAAAAAA+H8AAAAAAAD4fwAAAAAAAPh/AAAAAAAA+H8AAAAAAAD4fwAAAAAAAPh/AAAAAAAA+H8AAAAAAAD4fwAAAAAAAPh/AAAAAAAA+H8AAAAAAAD4fwAAAAAAAPh/AAAAAAAA+H8AAAAAAAD4fwAAAAAAAPh/AAAAAAAA+H8AAAAAAAD4fwAAAAAAAPh/AAAAAAAA+H8AAAAAAAD4fwAAAAAAAPh/AAAAAAAA+H8AAAAAAAD4fwAAAAAAAPh/AAAAAAAA+H8AAAAAAAD4fwAAAAAAAPh/AAAAAAAA+H8AAAAAAAD4fwAAAAAAAPh/AAAAAAAA+H8AAAAAAAD4fwAAAAAAAPh/AAAAAAAA+H8AAAAAAAD4fwAAAAAAAPh/AAAAAAAA+H8AAAAAAAD4fwAAAAAAAPh/AAAAAAAA+H8AAAAAAAD4fwAAAAAAAPh/AAAAAAAA+H8AAAAAAAD4fwAAAAAAAPh/AAAAAAAA+H8AAAAAAAD4fwAAAAAAAPh/VEPmuxiRzUA3N62zXxjOQJXVToxi0s5A97v7eXK4z0DEZUdJZEPQQDXt1SqX1c9A6jytpG7d0ECSg6HjMkjRQEL3t2IBxtFACkKFewpD0kA=",
          "dtype": "f8"
         }
        }
       ],
       "layout": {
        "legend": {
         "orientation": "h",
         "x": 0.5,
         "xanchor": "center",
         "y": -0.2
        },
        "template": {
         "data": {
          "bar": [
           {
            "error_x": {
             "color": "#2a3f5f"
            },
            "error_y": {
             "color": "#2a3f5f"
            },
            "marker": {
             "line": {
              "color": "white",
              "width": 0.5
             },
             "pattern": {
              "fillmode": "overlay",
              "size": 10,
              "solidity": 0.2
             }
            },
            "type": "bar"
           }
          ],
          "barpolar": [
           {
            "marker": {
             "line": {
              "color": "white",
              "width": 0.5
             },
             "pattern": {
              "fillmode": "overlay",
              "size": 10,
              "solidity": 0.2
             }
            },
            "type": "barpolar"
           }
          ],
          "carpet": [
           {
            "aaxis": {
             "endlinecolor": "#2a3f5f",
             "gridcolor": "#C8D4E3",
             "linecolor": "#C8D4E3",
             "minorgridcolor": "#C8D4E3",
             "startlinecolor": "#2a3f5f"
            },
            "baxis": {
             "endlinecolor": "#2a3f5f",
             "gridcolor": "#C8D4E3",
             "linecolor": "#C8D4E3",
             "minorgridcolor": "#C8D4E3",
             "startlinecolor": "#2a3f5f"
            },
            "type": "carpet"
           }
          ],
          "choropleth": [
           {
            "colorbar": {
             "outlinewidth": 0,
             "ticks": ""
            },
            "type": "choropleth"
           }
          ],
          "contour": [
           {
            "colorbar": {
             "outlinewidth": 0,
             "ticks": ""
            },
            "colorscale": [
             [
              0,
              "#0d0887"
             ],
             [
              0.1111111111111111,
              "#46039f"
             ],
             [
              0.2222222222222222,
              "#7201a8"
             ],
             [
              0.3333333333333333,
              "#9c179e"
             ],
             [
              0.4444444444444444,
              "#bd3786"
             ],
             [
              0.5555555555555556,
              "#d8576b"
             ],
             [
              0.6666666666666666,
              "#ed7953"
             ],
             [
              0.7777777777777778,
              "#fb9f3a"
             ],
             [
              0.8888888888888888,
              "#fdca26"
             ],
             [
              1,
              "#f0f921"
             ]
            ],
            "type": "contour"
           }
          ],
          "contourcarpet": [
           {
            "colorbar": {
             "outlinewidth": 0,
             "ticks": ""
            },
            "type": "contourcarpet"
           }
          ],
          "heatmap": [
           {
            "colorbar": {
             "outlinewidth": 0,
             "ticks": ""
            },
            "colorscale": [
             [
              0,
              "#0d0887"
             ],
             [
              0.1111111111111111,
              "#46039f"
             ],
             [
              0.2222222222222222,
              "#7201a8"
             ],
             [
              0.3333333333333333,
              "#9c179e"
             ],
             [
              0.4444444444444444,
              "#bd3786"
             ],
             [
              0.5555555555555556,
              "#d8576b"
             ],
             [
              0.6666666666666666,
              "#ed7953"
             ],
             [
              0.7777777777777778,
              "#fb9f3a"
             ],
             [
              0.8888888888888888,
              "#fdca26"
             ],
             [
              1,
              "#f0f921"
             ]
            ],
            "type": "heatmap"
           }
          ],
          "histogram": [
           {
            "marker": {
             "pattern": {
              "fillmode": "overlay",
              "size": 10,
              "solidity": 0.2
             }
            },
            "type": "histogram"
           }
          ],
          "histogram2d": [
           {
            "colorbar": {
             "outlinewidth": 0,
             "ticks": ""
            },
            "colorscale": [
             [
              0,
              "#0d0887"
             ],
             [
              0.1111111111111111,
              "#46039f"
             ],
             [
              0.2222222222222222,
              "#7201a8"
             ],
             [
              0.3333333333333333,
              "#9c179e"
             ],
             [
              0.4444444444444444,
              "#bd3786"
             ],
             [
              0.5555555555555556,
              "#d8576b"
             ],
             [
              0.6666666666666666,
              "#ed7953"
             ],
             [
              0.7777777777777778,
              "#fb9f3a"
             ],
             [
              0.8888888888888888,
              "#fdca26"
             ],
             [
              1,
              "#f0f921"
             ]
            ],
            "type": "histogram2d"
           }
          ],
          "histogram2dcontour": [
           {
            "colorbar": {
             "outlinewidth": 0,
             "ticks": ""
            },
            "colorscale": [
             [
              0,
              "#0d0887"
             ],
             [
              0.1111111111111111,
              "#46039f"
             ],
             [
              0.2222222222222222,
              "#7201a8"
             ],
             [
              0.3333333333333333,
              "#9c179e"
             ],
             [
              0.4444444444444444,
              "#bd3786"
             ],
             [
              0.5555555555555556,
              "#d8576b"
             ],
             [
              0.6666666666666666,
              "#ed7953"
             ],
             [
              0.7777777777777778,
              "#fb9f3a"
             ],
             [
              0.8888888888888888,
              "#fdca26"
             ],
             [
              1,
              "#f0f921"
             ]
            ],
            "type": "histogram2dcontour"
           }
          ],
          "mesh3d": [
           {
            "colorbar": {
             "outlinewidth": 0,
             "ticks": ""
            },
            "type": "mesh3d"
           }
          ],
          "parcoords": [
           {
            "line": {
             "colorbar": {
              "outlinewidth": 0,
              "ticks": ""
             }
            },
            "type": "parcoords"
           }
          ],
          "pie": [
           {
            "automargin": true,
            "type": "pie"
           }
          ],
          "scatter": [
           {
            "fillpattern": {
             "fillmode": "overlay",
             "size": 10,
             "solidity": 0.2
            },
            "type": "scatter"
           }
          ],
          "scatter3d": [
           {
            "line": {
             "colorbar": {
              "outlinewidth": 0,
              "ticks": ""
             }
            },
            "marker": {
             "colorbar": {
              "outlinewidth": 0,
              "ticks": ""
             }
            },
            "type": "scatter3d"
           }
          ],
          "scattercarpet": [
           {
            "marker": {
             "colorbar": {
              "outlinewidth": 0,
              "ticks": ""
             }
            },
            "type": "scattercarpet"
           }
          ],
          "scattergeo": [
           {
            "marker": {
             "colorbar": {
              "outlinewidth": 0,
              "ticks": ""
             }
            },
            "type": "scattergeo"
           }
          ],
          "scattergl": [
           {
            "marker": {
             "colorbar": {
              "outlinewidth": 0,
              "ticks": ""
             }
            },
            "type": "scattergl"
           }
          ],
          "scattermap": [
           {
            "marker": {
             "colorbar": {
              "outlinewidth": 0,
              "ticks": ""
             }
            },
            "type": "scattermap"
           }
          ],
          "scattermapbox": [
           {
            "marker": {
             "colorbar": {
              "outlinewidth": 0,
              "ticks": ""
             }
            },
            "type": "scattermapbox"
           }
          ],
          "scatterpolar": [
           {
            "marker": {
             "colorbar": {
              "outlinewidth": 0,
              "ticks": ""
             }
            },
            "type": "scatterpolar"
           }
          ],
          "scatterpolargl": [
           {
            "marker": {
             "colorbar": {
              "outlinewidth": 0,
              "ticks": ""
             }
            },
            "type": "scatterpolargl"
           }
          ],
          "scatterternary": [
           {
            "marker": {
             "colorbar": {
              "outlinewidth": 0,
              "ticks": ""
             }
            },
            "type": "scatterternary"
           }
          ],
          "surface": [
           {
            "colorbar": {
             "outlinewidth": 0,
             "ticks": ""
            },
            "colorscale": [
             [
              0,
              "#0d0887"
             ],
             [
              0.1111111111111111,
              "#46039f"
             ],
             [
              0.2222222222222222,
              "#7201a8"
             ],
             [
              0.3333333333333333,
              "#9c179e"
             ],
             [
              0.4444444444444444,
              "#bd3786"
             ],
             [
              0.5555555555555556,
              "#d8576b"
             ],
             [
              0.6666666666666666,
              "#ed7953"
             ],
             [
              0.7777777777777778,
              "#fb9f3a"
             ],
             [
              0.8888888888888888,
              "#fdca26"
             ],
             [
              1,
              "#f0f921"
             ]
            ],
            "type": "surface"
           }
          ],
          "table": [
           {
            "cells": {
             "fill": {
              "color": "#EBF0F8"
             },
             "line": {
              "color": "white"
             }
            },
            "header": {
             "fill": {
              "color": "#C8D4E3"
             },
             "line": {
              "color": "white"
             }
            },
            "type": "table"
           }
          ]
         },
         "layout": {
          "annotationdefaults": {
           "arrowcolor": "#2a3f5f",
           "arrowhead": 0,
           "arrowwidth": 1
          },
          "autotypenumbers": "strict",
          "coloraxis": {
           "colorbar": {
            "outlinewidth": 0,
            "ticks": ""
           }
          },
          "colorscale": {
           "diverging": [
            [
             0,
             "#8e0152"
            ],
            [
             0.1,
             "#c51b7d"
            ],
            [
             0.2,
             "#de77ae"
            ],
            [
             0.3,
             "#f1b6da"
            ],
            [
             0.4,
             "#fde0ef"
            ],
            [
             0.5,
             "#f7f7f7"
            ],
            [
             0.6,
             "#e6f5d0"
            ],
            [
             0.7,
             "#b8e186"
            ],
            [
             0.8,
             "#7fbc41"
            ],
            [
             0.9,
             "#4d9221"
            ],
            [
             1,
             "#276419"
            ]
           ],
           "sequential": [
            [
             0,
             "#0d0887"
            ],
            [
             0.1111111111111111,
             "#46039f"
            ],
            [
             0.2222222222222222,
             "#7201a8"
            ],
            [
             0.3333333333333333,
             "#9c179e"
            ],
            [
             0.4444444444444444,
             "#bd3786"
            ],
            [
             0.5555555555555556,
             "#d8576b"
            ],
            [
             0.6666666666666666,
             "#ed7953"
            ],
            [
             0.7777777777777778,
             "#fb9f3a"
            ],
            [
             0.8888888888888888,
             "#fdca26"
            ],
            [
             1,
             "#f0f921"
            ]
           ],
           "sequentialminus": [
            [
             0,
             "#0d0887"
            ],
            [
             0.1111111111111111,
             "#46039f"
            ],
            [
             0.2222222222222222,
             "#7201a8"
            ],
            [
             0.3333333333333333,
             "#9c179e"
            ],
            [
             0.4444444444444444,
             "#bd3786"
            ],
            [
             0.5555555555555556,
             "#d8576b"
            ],
            [
             0.6666666666666666,
             "#ed7953"
            ],
            [
             0.7777777777777778,
             "#fb9f3a"
            ],
            [
             0.8888888888888888,
             "#fdca26"
            ],
            [
             1,
             "#f0f921"
            ]
           ]
          },
          "colorway": [
           "#636efa",
           "#EF553B",
           "#00cc96",
           "#ab63fa",
           "#FFA15A",
           "#19d3f3",
           "#FF6692",
           "#B6E880",
           "#FF97FF",
           "#FECB52"
          ],
          "font": {
           "color": "#2a3f5f"
          },
          "geo": {
           "bgcolor": "white",
           "lakecolor": "white",
           "landcolor": "white",
           "showlakes": true,
           "showland": true,
           "subunitcolor": "#C8D4E3"
          },
          "hoverlabel": {
           "align": "left"
          },
          "hovermode": "closest",
          "mapbox": {
           "style": "light"
          },
          "paper_bgcolor": "white",
          "plot_bgcolor": "white",
          "polar": {
           "angularaxis": {
            "gridcolor": "#EBF0F8",
            "linecolor": "#EBF0F8",
            "ticks": ""
           },
           "bgcolor": "white",
           "radialaxis": {
            "gridcolor": "#EBF0F8",
            "linecolor": "#EBF0F8",
            "ticks": ""
           }
          },
          "scene": {
           "xaxis": {
            "backgroundcolor": "white",
            "gridcolor": "#DFE8F3",
            "gridwidth": 2,
            "linecolor": "#EBF0F8",
            "showbackground": true,
            "ticks": "",
            "zerolinecolor": "#EBF0F8"
           },
           "yaxis": {
            "backgroundcolor": "white",
            "gridcolor": "#DFE8F3",
            "gridwidth": 2,
            "linecolor": "#EBF0F8",
            "showbackground": true,
            "ticks": "",
            "zerolinecolor": "#EBF0F8"
           },
           "zaxis": {
            "backgroundcolor": "white",
            "gridcolor": "#DFE8F3",
            "gridwidth": 2,
            "linecolor": "#EBF0F8",
            "showbackground": true,
            "ticks": "",
            "zerolinecolor": "#EBF0F8"
           }
          },
          "shapedefaults": {
           "line": {
            "color": "#2a3f5f"
           }
          },
          "ternary": {
           "aaxis": {
            "gridcolor": "#DFE8F3",
            "linecolor": "#A2B1C6",
            "ticks": ""
           },
           "baxis": {
            "gridcolor": "#DFE8F3",
            "linecolor": "#A2B1C6",
            "ticks": ""
           },
           "bgcolor": "white",
           "caxis": {
            "gridcolor": "#DFE8F3",
            "linecolor": "#A2B1C6",
            "ticks": ""
           }
          },
          "title": {
           "x": 0.05
          },
          "xaxis": {
           "automargin": true,
           "gridcolor": "#EBF0F8",
           "linecolor": "#EBF0F8",
           "ticks": "",
           "title": {
            "standoff": 15
           },
           "zerolinecolor": "#EBF0F8",
           "zerolinewidth": 2
          },
          "yaxis": {
           "automargin": true,
           "gridcolor": "#EBF0F8",
           "linecolor": "#EBF0F8",
           "ticks": "",
           "title": {
            "standoff": 15
           },
           "zerolinecolor": "#EBF0F8",
           "zerolinewidth": 2
          }
         }
        },
        "title": {
         "text": "Forecast of U.S. Energy & Electricity Use (2015–2025) based on Population",
         "x": 0.5
        },
        "xaxis": {
         "title": {
          "text": "Year"
         }
        },
        "yaxis": {
         "title": {
          "text": "Trillion Btu"
         }
        }
       }
      }
     },
     "metadata": {},
     "output_type": "display_data"
    }
   ],
   "source": [
    "# 3. Combine actual + forecast\n",
    "df_plot = pd.concat([\n",
    "    df_hist[[\"Year\",\"TotEnergy_2EndUse\",\"TotElectricity_2Used\"]],\n",
    "    df_future[[\"Year\",\"TotEnergy_2EndUse\",\"TotElectricity_2Used\",\"Pred_Energy\",\"Pred_Electricity\"]]\n",
    "], ignore_index=True)\n",
    "\n",
    "# 4. Plot actual vs predicted (2015–2025 forecasts)\n",
    "import plotly.graph_objects as go\n",
    "\n",
    "fig = go.Figure()\n",
    "\n",
    "# Energy Actual\n",
    "fig.add_trace(go.Scatter(\n",
    "    x=df_plot[\"Year\"], y=df_plot[\"TotEnergy_2EndUse\"],\n",
    "    mode=\"lines+markers\", name=\"Actual Energy Use\", line=dict(color=\"blue\")\n",
    "))\n",
    "\n",
    "# Energy Predicted\n",
    "fig.add_trace(go.Scatter(\n",
    "    x=df_plot[\"Year\"], y=df_plot[\"Pred_Energy\"],\n",
    "    mode=\"lines+markers\", name=\"Predicted Energy Use\", line=dict(color=\"brown\", dash=\"dash\")\n",
    "))\n",
    "\n",
    "# Electricity Actual\n",
    "fig.add_trace(go.Scatter(\n",
    "    x=df_plot[\"Year\"], y=df_plot[\"TotElectricity_2Used\"],\n",
    "    mode=\"lines+markers\", name=\"Actual Electricity Use\", line=dict(color=\"green\")\n",
    "))\n",
    "\n",
    "# Electricity Predicted\n",
    "fig.add_trace(go.Scatter(\n",
    "    x=df_plot[\"Year\"], y=df_plot[\"Pred_Electricity\"],\n",
    "    mode=\"lines+markers\", name=\"Predicted Electricity Use\", line=dict(color=\"orange\", dash=\"dash\")\n",
    "))\n",
    "\n",
    "# Layout\n",
    "fig.update_layout(\n",
    "    title=dict(text=\"Forecast of U.S. Energy & Electricity Use (2015–2025) based on Population\", x=0.5),\n",
    "    template=\"plotly_white\",\n",
    "    xaxis_title=\"Year\",\n",
    "    yaxis_title=\"Trillion Btu\",\n",
    "    legend=dict(orientation=\"h\", x=0.5, xanchor=\"center\", y=-0.2)\n",
    ")\n",
    "\n",
    "fig.show()"
   ]
  },
  {
   "cell_type": "code",
   "execution_count": 30,
   "id": "a77af8c9",
   "metadata": {},
   "outputs": [
    {
     "name": "stderr",
     "output_type": "stream",
     "text": [
      "C:\\Users\\lm\\AppData\\Local\\Temp\\ipykernel_19724\\3366890157.py:19: SettingWithCopyWarning:\n",
      "\n",
      "\n",
      "A value is trying to be set on a copy of a slice from a DataFrame.\n",
      "Try using .loc[row_indexer,col_indexer] = value instead\n",
      "\n",
      "See the caveats in the documentation: https://pandas.pydata.org/pandas-docs/stable/user_guide/indexing.html#returning-a-view-versus-a-copy\n",
      "\n",
      "C:\\Users\\lm\\AppData\\Local\\Temp\\ipykernel_19724\\3366890157.py:20: SettingWithCopyWarning:\n",
      "\n",
      "\n",
      "A value is trying to be set on a copy of a slice from a DataFrame.\n",
      "Try using .loc[row_indexer,col_indexer] = value instead\n",
      "\n",
      "See the caveats in the documentation: https://pandas.pydata.org/pandas-docs/stable/user_guide/indexing.html#returning-a-view-versus-a-copy\n",
      "\n"
     ]
    }
   ],
   "source": [
    "# Model 3: IV = GDP_Real + Population\n",
    "\n",
    "# 1. Filter historical data to 1929–2014\n",
    "df_hist = df1_energy[(df1_energy[\"Year\"] >= 1929) & (df1_energy[\"Year\"] <= 2014)]\n",
    "df_future = df1_energy[(df1_energy[\"Year\"] >= 2015) & (df1_energy[\"Year\"] <= 2025)]\n",
    "\n",
    "\n",
    "# 2. Fit regression models (GDP_Real → Energy, Electricity)\n",
    "# Features and targets\n",
    "X = df_hist[[\"GDP_Real\", \"POP_US\"]]\n",
    "y_energy = df_hist[\"TotEnergy_2EndUse\"]\n",
    "y_elec = df_hist[\"TotElectricity_2Used\"]\n",
    "\n",
    "# Fit models\n",
    "model_energy = LinearRegression().fit(X, y_energy)\n",
    "model_elec = LinearRegression().fit(X, y_elec)\n",
    "\n",
    "# Predict for 2015–2025\n",
    "df_future[\"Pred_Energy\"] = model_energy.predict(df_future[[\"GDP_Real\",\"POP_US\"]])\n",
    "df_future[\"Pred_Electricity\"] = model_elec.predict(df_future[[\"GDP_Real\",\"POP_US\"]])"
   ]
  },
  {
   "cell_type": "code",
   "execution_count": 31,
   "id": "ce87bdd4",
   "metadata": {},
   "outputs": [
    {
     "data": {
      "application/vnd.plotly.v1+json": {
       "config": {
        "plotlyServerURL": "https://plot.ly"
       },
       "data": [
        {
         "line": {
          "color": "blue"
         },
         "mode": "lines+markers",
         "name": "Actual Energy Use",
         "type": "scatter",
         "x": {
          "bdata": "nQeeB58HoAehB6IHowekB6UHpgenB6gHqQeqB6sHrAetB64HrwewB7EHsgezB7QHtQe2B7cHuAe5B7oHuwe8B70Hvge/B8AHwQfCB8MHxAfFB8YHxwfIB8kHygfLB8wHzQfOB88H0AfRB9IH0wfUB9UH1gfXB9gH2QfaB9sH3AfdB94H3wfgB+EH4gfjB+QH5QfmB+cH6Ac=",
          "dtype": "i2"
         },
         "y": {
          "bdata": "SOF6FJ7F20D0/dR4SSPeQB+F61FIGOBAJQaBlUvL30DpJjEIlDjgQOF6FK43fN9AexSuRxVH4UAOLbKdN+HhQLpJDALbzeFAzczMzOzE4UAK16NwTXbiQHnpJjGAJONAxSCwcshf40BEi2znCzTkQOF6FK6z4+RAL90kBpm35UAfhetRpIvmQB1aZDuLq+dAokW2891g6EBQjZdu/q7pQBBYObQgzepA9P3UeF1860Bg5dAiw+XrQJZDi2y3He1AXI/C9ewk7kB/arx05zTtQH9qvHTvH+xArBxaZMur7UCiRbbzeUTuQGZmZmb+3e5A+n5qvOA070C+nxovsbntQIGVQ4u4xuxAIbByaPFr60CkcD0K9yfrQC/dJAbVquxARrbz/cxs7EBqvHSTrIfsQMP1KFxDfO1ANV66SYzc7kAdWmQ7OzLvQFYOLbKt1+5AcT0K1/O57kCwcmiRQXPvQArXo3B50O9AZmZmZhpA8EACK4cW2YbwQARWDi0SFvFAnMQgsEoq8UB7FK5HdwrxQLbz/dTwSvFACtejcL2l8UCDwMqh1TDxQM/3U+PzaPFAWDm0yCKB8UDTTWIQsurxQLx0kxj4zvFA+n5qvKSx8UAbL90kiujxQDvfT40XdfFA5/up8bah8EAUrkfh/EDxQCcxCKxwK/FAvHSTGBbM8EApXI/CH2/xQMdLN4mNrvFAUrgehfWi8UBeukkM7qrxQCPb+X6Yz/FA8KfGS5OR8kAtsp3vp53yQA4tsp1dDPFAbef7qe8D8kBg5dAiQVvyQO58PzVoPfJAzczMzEJN8kA=",
          "dtype": "f8"
         }
        },
        {
         "line": {
          "color": "brown",
          "dash": "dash"
         },
         "mode": "lines+markers",
         "name": "Predicted Energy Use",
         "type": "scatter",
         "x": {
          "bdata": "nQeeB58HoAehB6IHowekB6UHpgenB6gHqQeqB6sHrAetB64HrwewB7EHsgezB7QHtQe2B7cHuAe5B7oHuwe8B70Hvge/B8AHwQfCB8MHxAfFB8YHxwfIB8kHygfLB8wHzQfOB88H0AfRB9IH0wfUB9UH1gfXB9gH2QfaB9sH3AfdB94H3wfgB+EH4gfjB+QH5QfmB+cH6Ac=",
          "dtype": "i2"
         },
         "y": {
          "bdata": "AAAAAAAA+H8AAAAAAAD4fwAAAAAAAPh/AAAAAAAA+H8AAAAAAAD4fwAAAAAAAPh/AAAAAAAA+H8AAAAAAAD4fwAAAAAAAPh/AAAAAAAA+H8AAAAAAAD4fwAAAAAAAPh/AAAAAAAA+H8AAAAAAAD4fwAAAAAAAPh/AAAAAAAA+H8AAAAAAAD4fwAAAAAAAPh/AAAAAAAA+H8AAAAAAAD4fwAAAAAAAPh/AAAAAAAA+H8AAAAAAAD4fwAAAAAAAPh/AAAAAAAA+H8AAAAAAAD4fwAAAAAAAPh/AAAAAAAA+H8AAAAAAAD4fwAAAAAAAPh/AAAAAAAA+H8AAAAAAAD4fwAAAAAAAPh/AAAAAAAA+H8AAAAAAAD4fwAAAAAAAPh/AAAAAAAA+H8AAAAAAAD4fwAAAAAAAPh/AAAAAAAA+H8AAAAAAAD4fwAAAAAAAPh/AAAAAAAA+H8AAAAAAAD4fwAAAAAAAPh/AAAAAAAA+H8AAAAAAAD4fwAAAAAAAPh/AAAAAAAA+H8AAAAAAAD4fwAAAAAAAPh/AAAAAAAA+H8AAAAAAAD4fwAAAAAAAPh/AAAAAAAA+H8AAAAAAAD4fwAAAAAAAPh/AAAAAAAA+H8AAAAAAAD4fwAAAAAAAPh/AAAAAAAA+H8AAAAAAAD4fwAAAAAAAPh/AAAAAAAA+H8AAAAAAAD4fwAAAAAAAPh/ZMc7eOEe8kBABMd7vSfyQCbf+BykCPJAFFopnqC98UCc7wYtWHnxQJZRGqjwcvJAbF6FNQVX8UCO1Hl3hB7xQLKd3a3L8vBAkBtnI2jc8EA=",
          "dtype": "f8"
         }
        },
        {
         "line": {
          "color": "green"
         },
         "mode": "lines+markers",
         "name": "Actual Electricity Use",
         "type": "scatter",
         "x": {
          "bdata": "nQeeB58HoAehB6IHowekB6UHpgenB6gHqQeqB6sHrAetB64HrwewB7EHsgezB7QHtQe2B7cHuAe5B7oHuwe8B70Hvge/B8AHwQfCB8MHxAfFB8YHxwfIB8kHygfLB8wHzQfOB88H0AfRB9IH0wfUB9UH1gfXB9gH2QfaB9sH3AfdB94H3wfgB+EH4gfjB+QH5QfmB+cH6Ac=",
          "dtype": "i2"
         },
         "y": {
          "bdata": "oBov3SQji0AK16NwPROPQE5iEFi5m5FAgZVDi+z8kkAhsHJokR+VQHNoke38nJZAVg4tsp17mkBCYOXQoh+dQG8Sg8DKsp5ALbKd7ydXn0AnMQisXD6hQOkmMQhsV6JADAIrh5Y+o0CkcD0KV7qkQJhuEoPAMaZA+n5qvLTip0DFILByqGypQH9qvHTTl6tAK4cW2Q5NrUAEVg4tMgiwQIGVQ4vMgrFA/tR46YaOskAEVg4tEpazQKabxCCwQrVAuB6F63HUtkAnMQisnLy2QJzEILASSbdAmpmZmRm6uEArhxbZzve5QGZmZmYm5bpApHA9Cpeau0D2KFyPQuq7QNejcD3qnbxAppvEIPDOu0DfT42XDqu8QI2XbhIjd75AGy/dJGb5vkDD9ShcL5K/QAaBlUMbYMBAJzEIrCwuwUCgGi/ddKPBQJMYBFaeE8JAMQisHPpnwkC+nxovTWrCQOF6FK6nEcNAvp8aL12Ow0BvEoPAqhTEQClcj8KFqsRATmIQWGn2xECkcD0Kx8DFQPhT46VrEsZAhetRuO7MxkBeukkM8p7GQClcj8IVGMdADi2ynU9Ix0AAAAAAAKTHQM3MzMycZchAbef7qeF0yEBKDAIrVxbJQPp+arwk4shAuB6F6yH4x0BQjZduwgXJQM3MzMw8/chA9ihcjxKfyEBaZDvfn9LIQLx0kxiUFslA8KfGS9cMyUBQjZduwhLJQPhT46UL0MhA7FG4HsW3yUD2KFyP0mXJQNejcD1axshAqvHSTdJcyUCmm8QgwCvKQOXQItt50clARIts5/tmykA=",
          "dtype": "f8"
         }
        },
        {
         "line": {
          "color": "orange",
          "dash": "dash"
         },
         "mode": "lines+markers",
         "name": "Predicted Electricity Use",
         "type": "scatter",
         "x": {
          "bdata": "nQeeB58HoAehB6IHowekB6UHpgenB6gHqQeqB6sHrAetB64HrwewB7EHsgezB7QHtQe2B7cHuAe5B7oHuwe8B70Hvge/B8AHwQfCB8MHxAfFB8YHxwfIB8kHygfLB8wHzQfOB88H0AfRB9IH0wfUB9UH1gfXB9gH2QfaB9sH3AfdB94H3wfgB+EH4gfjB+QH5QfmB+cH6Ac=",
          "dtype": "i2"
         },
         "y": {
          "bdata": "AAAAAAAA+H8AAAAAAAD4fwAAAAAAAPh/AAAAAAAA+H8AAAAAAAD4fwAAAAAAAPh/AAAAAAAA+H8AAAAAAAD4fwAAAAAAAPh/AAAAAAAA+H8AAAAAAAD4fwAAAAAAAPh/AAAAAAAA+H8AAAAAAAD4fwAAAAAAAPh/AAAAAAAA+H8AAAAAAAD4fwAAAAAAAPh/AAAAAAAA+H8AAAAAAAD4fwAAAAAAAPh/AAAAAAAA+H8AAAAAAAD4fwAAAAAAAPh/AAAAAAAA+H8AAAAAAAD4fwAAAAAAAPh/AAAAAAAA+H8AAAAAAAD4fwAAAAAAAPh/AAAAAAAA+H8AAAAAAAD4fwAAAAAAAPh/AAAAAAAA+H8AAAAAAAD4fwAAAAAAAPh/AAAAAAAA+H8AAAAAAAD4fwAAAAAAAPh/AAAAAAAA+H8AAAAAAAD4fwAAAAAAAPh/AAAAAAAA+H8AAAAAAAD4fwAAAAAAAPh/AAAAAAAA+H8AAAAAAAD4fwAAAAAAAPh/AAAAAAAA+H8AAAAAAAD4fwAAAAAAAPh/AAAAAAAA+H8AAAAAAAD4fwAAAAAAAPh/AAAAAAAA+H8AAAAAAAD4fwAAAAAAAPh/AAAAAAAA+H8AAAAAAAD4fwAAAAAAAPh/AAAAAAAA+H8AAAAAAAD4fwAAAAAAAPh/AAAAAAAA+H8AAAAAAAD4fwAAAAAAAPh/EDzWtMiHy0A+NzrvmN3LQFrDMGrYIcxAbMBenD5MzEDo6A+bHXHMQD4RbZ3xLM1AgJFGJOf1zEDonk6BVizNQGj5zuPAhs1AZmFu3dP4zUA=",
          "dtype": "f8"
         }
        }
       ],
       "layout": {
        "legend": {
         "orientation": "h",
         "x": 0.5,
         "xanchor": "center",
         "y": -0.2
        },
        "template": {
         "data": {
          "bar": [
           {
            "error_x": {
             "color": "#2a3f5f"
            },
            "error_y": {
             "color": "#2a3f5f"
            },
            "marker": {
             "line": {
              "color": "white",
              "width": 0.5
             },
             "pattern": {
              "fillmode": "overlay",
              "size": 10,
              "solidity": 0.2
             }
            },
            "type": "bar"
           }
          ],
          "barpolar": [
           {
            "marker": {
             "line": {
              "color": "white",
              "width": 0.5
             },
             "pattern": {
              "fillmode": "overlay",
              "size": 10,
              "solidity": 0.2
             }
            },
            "type": "barpolar"
           }
          ],
          "carpet": [
           {
            "aaxis": {
             "endlinecolor": "#2a3f5f",
             "gridcolor": "#C8D4E3",
             "linecolor": "#C8D4E3",
             "minorgridcolor": "#C8D4E3",
             "startlinecolor": "#2a3f5f"
            },
            "baxis": {
             "endlinecolor": "#2a3f5f",
             "gridcolor": "#C8D4E3",
             "linecolor": "#C8D4E3",
             "minorgridcolor": "#C8D4E3",
             "startlinecolor": "#2a3f5f"
            },
            "type": "carpet"
           }
          ],
          "choropleth": [
           {
            "colorbar": {
             "outlinewidth": 0,
             "ticks": ""
            },
            "type": "choropleth"
           }
          ],
          "contour": [
           {
            "colorbar": {
             "outlinewidth": 0,
             "ticks": ""
            },
            "colorscale": [
             [
              0,
              "#0d0887"
             ],
             [
              0.1111111111111111,
              "#46039f"
             ],
             [
              0.2222222222222222,
              "#7201a8"
             ],
             [
              0.3333333333333333,
              "#9c179e"
             ],
             [
              0.4444444444444444,
              "#bd3786"
             ],
             [
              0.5555555555555556,
              "#d8576b"
             ],
             [
              0.6666666666666666,
              "#ed7953"
             ],
             [
              0.7777777777777778,
              "#fb9f3a"
             ],
             [
              0.8888888888888888,
              "#fdca26"
             ],
             [
              1,
              "#f0f921"
             ]
            ],
            "type": "contour"
           }
          ],
          "contourcarpet": [
           {
            "colorbar": {
             "outlinewidth": 0,
             "ticks": ""
            },
            "type": "contourcarpet"
           }
          ],
          "heatmap": [
           {
            "colorbar": {
             "outlinewidth": 0,
             "ticks": ""
            },
            "colorscale": [
             [
              0,
              "#0d0887"
             ],
             [
              0.1111111111111111,
              "#46039f"
             ],
             [
              0.2222222222222222,
              "#7201a8"
             ],
             [
              0.3333333333333333,
              "#9c179e"
             ],
             [
              0.4444444444444444,
              "#bd3786"
             ],
             [
              0.5555555555555556,
              "#d8576b"
             ],
             [
              0.6666666666666666,
              "#ed7953"
             ],
             [
              0.7777777777777778,
              "#fb9f3a"
             ],
             [
              0.8888888888888888,
              "#fdca26"
             ],
             [
              1,
              "#f0f921"
             ]
            ],
            "type": "heatmap"
           }
          ],
          "histogram": [
           {
            "marker": {
             "pattern": {
              "fillmode": "overlay",
              "size": 10,
              "solidity": 0.2
             }
            },
            "type": "histogram"
           }
          ],
          "histogram2d": [
           {
            "colorbar": {
             "outlinewidth": 0,
             "ticks": ""
            },
            "colorscale": [
             [
              0,
              "#0d0887"
             ],
             [
              0.1111111111111111,
              "#46039f"
             ],
             [
              0.2222222222222222,
              "#7201a8"
             ],
             [
              0.3333333333333333,
              "#9c179e"
             ],
             [
              0.4444444444444444,
              "#bd3786"
             ],
             [
              0.5555555555555556,
              "#d8576b"
             ],
             [
              0.6666666666666666,
              "#ed7953"
             ],
             [
              0.7777777777777778,
              "#fb9f3a"
             ],
             [
              0.8888888888888888,
              "#fdca26"
             ],
             [
              1,
              "#f0f921"
             ]
            ],
            "type": "histogram2d"
           }
          ],
          "histogram2dcontour": [
           {
            "colorbar": {
             "outlinewidth": 0,
             "ticks": ""
            },
            "colorscale": [
             [
              0,
              "#0d0887"
             ],
             [
              0.1111111111111111,
              "#46039f"
             ],
             [
              0.2222222222222222,
              "#7201a8"
             ],
             [
              0.3333333333333333,
              "#9c179e"
             ],
             [
              0.4444444444444444,
              "#bd3786"
             ],
             [
              0.5555555555555556,
              "#d8576b"
             ],
             [
              0.6666666666666666,
              "#ed7953"
             ],
             [
              0.7777777777777778,
              "#fb9f3a"
             ],
             [
              0.8888888888888888,
              "#fdca26"
             ],
             [
              1,
              "#f0f921"
             ]
            ],
            "type": "histogram2dcontour"
           }
          ],
          "mesh3d": [
           {
            "colorbar": {
             "outlinewidth": 0,
             "ticks": ""
            },
            "type": "mesh3d"
           }
          ],
          "parcoords": [
           {
            "line": {
             "colorbar": {
              "outlinewidth": 0,
              "ticks": ""
             }
            },
            "type": "parcoords"
           }
          ],
          "pie": [
           {
            "automargin": true,
            "type": "pie"
           }
          ],
          "scatter": [
           {
            "fillpattern": {
             "fillmode": "overlay",
             "size": 10,
             "solidity": 0.2
            },
            "type": "scatter"
           }
          ],
          "scatter3d": [
           {
            "line": {
             "colorbar": {
              "outlinewidth": 0,
              "ticks": ""
             }
            },
            "marker": {
             "colorbar": {
              "outlinewidth": 0,
              "ticks": ""
             }
            },
            "type": "scatter3d"
           }
          ],
          "scattercarpet": [
           {
            "marker": {
             "colorbar": {
              "outlinewidth": 0,
              "ticks": ""
             }
            },
            "type": "scattercarpet"
           }
          ],
          "scattergeo": [
           {
            "marker": {
             "colorbar": {
              "outlinewidth": 0,
              "ticks": ""
             }
            },
            "type": "scattergeo"
           }
          ],
          "scattergl": [
           {
            "marker": {
             "colorbar": {
              "outlinewidth": 0,
              "ticks": ""
             }
            },
            "type": "scattergl"
           }
          ],
          "scattermap": [
           {
            "marker": {
             "colorbar": {
              "outlinewidth": 0,
              "ticks": ""
             }
            },
            "type": "scattermap"
           }
          ],
          "scattermapbox": [
           {
            "marker": {
             "colorbar": {
              "outlinewidth": 0,
              "ticks": ""
             }
            },
            "type": "scattermapbox"
           }
          ],
          "scatterpolar": [
           {
            "marker": {
             "colorbar": {
              "outlinewidth": 0,
              "ticks": ""
             }
            },
            "type": "scatterpolar"
           }
          ],
          "scatterpolargl": [
           {
            "marker": {
             "colorbar": {
              "outlinewidth": 0,
              "ticks": ""
             }
            },
            "type": "scatterpolargl"
           }
          ],
          "scatterternary": [
           {
            "marker": {
             "colorbar": {
              "outlinewidth": 0,
              "ticks": ""
             }
            },
            "type": "scatterternary"
           }
          ],
          "surface": [
           {
            "colorbar": {
             "outlinewidth": 0,
             "ticks": ""
            },
            "colorscale": [
             [
              0,
              "#0d0887"
             ],
             [
              0.1111111111111111,
              "#46039f"
             ],
             [
              0.2222222222222222,
              "#7201a8"
             ],
             [
              0.3333333333333333,
              "#9c179e"
             ],
             [
              0.4444444444444444,
              "#bd3786"
             ],
             [
              0.5555555555555556,
              "#d8576b"
             ],
             [
              0.6666666666666666,
              "#ed7953"
             ],
             [
              0.7777777777777778,
              "#fb9f3a"
             ],
             [
              0.8888888888888888,
              "#fdca26"
             ],
             [
              1,
              "#f0f921"
             ]
            ],
            "type": "surface"
           }
          ],
          "table": [
           {
            "cells": {
             "fill": {
              "color": "#EBF0F8"
             },
             "line": {
              "color": "white"
             }
            },
            "header": {
             "fill": {
              "color": "#C8D4E3"
             },
             "line": {
              "color": "white"
             }
            },
            "type": "table"
           }
          ]
         },
         "layout": {
          "annotationdefaults": {
           "arrowcolor": "#2a3f5f",
           "arrowhead": 0,
           "arrowwidth": 1
          },
          "autotypenumbers": "strict",
          "coloraxis": {
           "colorbar": {
            "outlinewidth": 0,
            "ticks": ""
           }
          },
          "colorscale": {
           "diverging": [
            [
             0,
             "#8e0152"
            ],
            [
             0.1,
             "#c51b7d"
            ],
            [
             0.2,
             "#de77ae"
            ],
            [
             0.3,
             "#f1b6da"
            ],
            [
             0.4,
             "#fde0ef"
            ],
            [
             0.5,
             "#f7f7f7"
            ],
            [
             0.6,
             "#e6f5d0"
            ],
            [
             0.7,
             "#b8e186"
            ],
            [
             0.8,
             "#7fbc41"
            ],
            [
             0.9,
             "#4d9221"
            ],
            [
             1,
             "#276419"
            ]
           ],
           "sequential": [
            [
             0,
             "#0d0887"
            ],
            [
             0.1111111111111111,
             "#46039f"
            ],
            [
             0.2222222222222222,
             "#7201a8"
            ],
            [
             0.3333333333333333,
             "#9c179e"
            ],
            [
             0.4444444444444444,
             "#bd3786"
            ],
            [
             0.5555555555555556,
             "#d8576b"
            ],
            [
             0.6666666666666666,
             "#ed7953"
            ],
            [
             0.7777777777777778,
             "#fb9f3a"
            ],
            [
             0.8888888888888888,
             "#fdca26"
            ],
            [
             1,
             "#f0f921"
            ]
           ],
           "sequentialminus": [
            [
             0,
             "#0d0887"
            ],
            [
             0.1111111111111111,
             "#46039f"
            ],
            [
             0.2222222222222222,
             "#7201a8"
            ],
            [
             0.3333333333333333,
             "#9c179e"
            ],
            [
             0.4444444444444444,
             "#bd3786"
            ],
            [
             0.5555555555555556,
             "#d8576b"
            ],
            [
             0.6666666666666666,
             "#ed7953"
            ],
            [
             0.7777777777777778,
             "#fb9f3a"
            ],
            [
             0.8888888888888888,
             "#fdca26"
            ],
            [
             1,
             "#f0f921"
            ]
           ]
          },
          "colorway": [
           "#636efa",
           "#EF553B",
           "#00cc96",
           "#ab63fa",
           "#FFA15A",
           "#19d3f3",
           "#FF6692",
           "#B6E880",
           "#FF97FF",
           "#FECB52"
          ],
          "font": {
           "color": "#2a3f5f"
          },
          "geo": {
           "bgcolor": "white",
           "lakecolor": "white",
           "landcolor": "white",
           "showlakes": true,
           "showland": true,
           "subunitcolor": "#C8D4E3"
          },
          "hoverlabel": {
           "align": "left"
          },
          "hovermode": "closest",
          "mapbox": {
           "style": "light"
          },
          "paper_bgcolor": "white",
          "plot_bgcolor": "white",
          "polar": {
           "angularaxis": {
            "gridcolor": "#EBF0F8",
            "linecolor": "#EBF0F8",
            "ticks": ""
           },
           "bgcolor": "white",
           "radialaxis": {
            "gridcolor": "#EBF0F8",
            "linecolor": "#EBF0F8",
            "ticks": ""
           }
          },
          "scene": {
           "xaxis": {
            "backgroundcolor": "white",
            "gridcolor": "#DFE8F3",
            "gridwidth": 2,
            "linecolor": "#EBF0F8",
            "showbackground": true,
            "ticks": "",
            "zerolinecolor": "#EBF0F8"
           },
           "yaxis": {
            "backgroundcolor": "white",
            "gridcolor": "#DFE8F3",
            "gridwidth": 2,
            "linecolor": "#EBF0F8",
            "showbackground": true,
            "ticks": "",
            "zerolinecolor": "#EBF0F8"
           },
           "zaxis": {
            "backgroundcolor": "white",
            "gridcolor": "#DFE8F3",
            "gridwidth": 2,
            "linecolor": "#EBF0F8",
            "showbackground": true,
            "ticks": "",
            "zerolinecolor": "#EBF0F8"
           }
          },
          "shapedefaults": {
           "line": {
            "color": "#2a3f5f"
           }
          },
          "ternary": {
           "aaxis": {
            "gridcolor": "#DFE8F3",
            "linecolor": "#A2B1C6",
            "ticks": ""
           },
           "baxis": {
            "gridcolor": "#DFE8F3",
            "linecolor": "#A2B1C6",
            "ticks": ""
           },
           "bgcolor": "white",
           "caxis": {
            "gridcolor": "#DFE8F3",
            "linecolor": "#A2B1C6",
            "ticks": ""
           }
          },
          "title": {
           "x": 0.05
          },
          "xaxis": {
           "automargin": true,
           "gridcolor": "#EBF0F8",
           "linecolor": "#EBF0F8",
           "ticks": "",
           "title": {
            "standoff": 15
           },
           "zerolinecolor": "#EBF0F8",
           "zerolinewidth": 2
          },
          "yaxis": {
           "automargin": true,
           "gridcolor": "#EBF0F8",
           "linecolor": "#EBF0F8",
           "ticks": "",
           "title": {
            "standoff": 15
           },
           "zerolinecolor": "#EBF0F8",
           "zerolinewidth": 2
          }
         }
        },
        "title": {
         "text": "Forecast of U.S. Energy & Electricity Use (2015–2025) based on Population",
         "x": 0.5
        },
        "xaxis": {
         "title": {
          "text": "Year"
         }
        },
        "yaxis": {
         "title": {
          "text": "Trillion Btu"
         }
        }
       }
      }
     },
     "metadata": {},
     "output_type": "display_data"
    }
   ],
   "source": [
    "# 3. Combine actual + forecast\n",
    "df_plot = pd.concat([\n",
    "    df_hist[[\"Year\",\"TotEnergy_2EndUse\",\"TotElectricity_2Used\"]],\n",
    "    df_future[[\"Year\",\"TotEnergy_2EndUse\",\"TotElectricity_2Used\",\"Pred_Energy\",\"Pred_Electricity\"]]\n",
    "], ignore_index=True)\n",
    "\n",
    "# 4. Plot actual vs predicted (2015–2025 forecasts)\n",
    "import plotly.graph_objects as go\n",
    "\n",
    "fig = go.Figure()\n",
    "\n",
    "# Energy Actual\n",
    "fig.add_trace(go.Scatter(\n",
    "    x=df_plot[\"Year\"], y=df_plot[\"TotEnergy_2EndUse\"],\n",
    "    mode=\"lines+markers\", name=\"Actual Energy Use\", line=dict(color=\"blue\")\n",
    "))\n",
    "\n",
    "# Energy Predicted\n",
    "fig.add_trace(go.Scatter(\n",
    "    x=df_plot[\"Year\"], y=df_plot[\"Pred_Energy\"],\n",
    "    mode=\"lines+markers\", name=\"Predicted Energy Use\", line=dict(color=\"brown\", dash=\"dash\")\n",
    "))\n",
    "\n",
    "# Electricity Actual\n",
    "fig.add_trace(go.Scatter(\n",
    "    x=df_plot[\"Year\"], y=df_plot[\"TotElectricity_2Used\"],\n",
    "    mode=\"lines+markers\", name=\"Actual Electricity Use\", line=dict(color=\"green\")\n",
    "))\n",
    "\n",
    "# Electricity Predicted\n",
    "fig.add_trace(go.Scatter(\n",
    "    x=df_plot[\"Year\"], y=df_plot[\"Pred_Electricity\"],\n",
    "    mode=\"lines+markers\", name=\"Predicted Electricity Use\", line=dict(color=\"orange\", dash=\"dash\")\n",
    "))\n",
    "\n",
    "# Layout\n",
    "fig.update_layout(\n",
    "    title=dict(text=\"Forecast of U.S. Energy & Electricity Use (2015–2025) based on Population\", x=0.5),\n",
    "    template=\"plotly_white\",\n",
    "    xaxis_title=\"Year\",\n",
    "    yaxis_title=\"Trillion Btu\",\n",
    "    legend=dict(orientation=\"h\", x=0.5, xanchor=\"center\", y=-0.2)\n",
    ")\n",
    "\n",
    "fig.show()"
   ]
  }
 ],
 "metadata": {
  "kernelspec": {
   "display_name": "Python 3",
   "language": "python",
   "name": "python3"
  },
  "language_info": {
   "codemirror_mode": {
    "name": "ipython",
    "version": 3
   },
   "file_extension": ".py",
   "mimetype": "text/x-python",
   "name": "python",
   "nbconvert_exporter": "python",
   "pygments_lexer": "ipython3",
   "version": "3.11.5"
  }
 },
 "nbformat": 4,
 "nbformat_minor": 5
}
